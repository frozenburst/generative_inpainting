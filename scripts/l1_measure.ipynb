{
 "cells": [
  {
   "cell_type": "code",
   "execution_count": null,
   "metadata": {},
   "outputs": [],
   "source": [
    "from pathlib import Path\n",
    "from pandas import Series, DataFrame\n",
    "from tqdm import tqdm\n",
    "\n",
    "import imageio\n",
    "import plotly as plp\n",
    "import plotly.graph_objs as plgo\n",
    "import numpy as np\n",
    "import matplotlib.pyplot as plt\n",
    "import os.path as op\n",
    "import cv2\n",
    "import os\n",
    "import math\n",
    "import torch\n",
    "import torchaudio\n",
    "import tensorflow as tf"
   ]
  },
  {
   "cell_type": "code",
   "execution_count": 22,
   "metadata": {},
   "outputs": [],
   "source": [
    "proj_pth = '/work/r08922a13/generative_inpainting'\n",
    "data_pth = op.join(proj_pth, 'examples/esc50/mag_origin_npy')\n",
    "os.chdir(proj_pth)"
   ]
  },
  {
   "cell_type": "code",
   "execution_count": null,
   "metadata": {},
   "outputs": [],
   "source": [
    "spec = np.ones([256, 256])\n",
    "plt.figure()\n",
    "plt.imshow(spec, 'gray')"
   ]
  },
  {
   "cell_type": "code",
   "execution_count": null,
   "metadata": {},
   "outputs": [],
   "source": [
    "for i, filename in enumerate(sorted(Path(data_pth).glob('*.npy'))):\n",
    "    print(i, filename)\n",
    "    \n",
    "    spec = np.load(filename)\n",
    "    print(spec.shape)\n",
    "    h, w, _ = spec.shape\n",
    "    spec = spec.reshape((h, w))\n",
    "    print(spec.shape)\n",
    "    plt.figure()\n",
    "    plt.imshow(spec, 'gray')\n",
    "    break"
   ]
  },
  {
   "cell_type": "code",
   "execution_count": null,
   "metadata": {},
   "outputs": [],
   "source": [
    "def l1_loss(x, y):\n",
    "    error = abs(x - y)\n",
    "    print(sum(error))\n",
    "    print(sum(sum(error)))\n",
    "    return sum(sum(error))"
   ]
  },
  {
   "cell_type": "code",
   "execution_count": null,
   "metadata": {},
   "outputs": [],
   "source": [
    "def psnr(target, ref):\n",
    "    diff = ref - target\n",
    "    diff = diff.flatten('C')\n",
    "    rmse = math.sqrt(np.mean(diff ** 2.))\n",
    "    return 20 * math.log10(1.0 / rmse)"
   ]
  },
  {
   "cell_type": "code",
   "execution_count": null,
   "metadata": {},
   "outputs": [],
   "source": [
    "def create_mask(length, mask_type='square'):\n",
    "    # For sorted.\n",
    "    if length < 10:\n",
    "        output_pth = op.join(proj_pth, f'examples/esc50/mask_256/mask_{mask_type}_00{length}')\n",
    "    elif length < 100:\n",
    "        output_pth = op.join(proj_pth, f'examples/esc50/mask_256/mask_{mask_type}_0{length}')\n",
    "    else:\n",
    "        output_pth = op.join(proj_pth, f'examples/esc50/mask_256/mask_{mask_type}_{length}')\n",
    "    \n",
    "    if op.isfile(output_pth):\n",
    "        return output_pth\n",
    "    \n",
    "    h, w = spec.shape\n",
    "    mid_point = h // 2, w // 2\n",
    "    # print(mid_point, length)\n",
    "    \n",
    "    mask = np.zeros((h, w, 3), np.uint8)\n",
    "    if mask_type == 'square':\n",
    "        t = mid_point[0] - (length // 2) + 1\n",
    "        b = mid_point[0] + (length // 2)\n",
    "        l = mid_point[1] - (length // 2) + 1\n",
    "        r = mid_point[1] + (length // 2)\n",
    "        # print(t, b, l, r)\n",
    "        mask = cv2.rectangle(mask, (l, t), (r, b), (255, 255, 255), -1)\n",
    "    elif mask_type == 'time':\n",
    "        area = length * length\n",
    "        if area < h * 1:\n",
    "            constant = 11\n",
    "            height = area // constant\n",
    "            t = mid_point[0] - (height // 2) + 1\n",
    "            b = mid_point[0] + (height // 2)\n",
    "            l = mid_point[1] - (constant // 2) + 1\n",
    "            r = mid_point[1] + (constant // 2)\n",
    "        else:\n",
    "            width = area // h\n",
    "            t = 0 + 1\n",
    "            b = h\n",
    "            l = mid_point[1] - (width // 2) + 1\n",
    "            r = mid_point[1] + (width // 2)\n",
    "        # print(t, b, l, r)\n",
    "        mask = cv2.rectangle(mask, (l, t), (r, b), (255, 255, 255), -1)\n",
    "\n",
    "    mask = cv2.cvtColor(mask, cv2.COLOR_BGR2GRAY)\n",
    "\n",
    "    # print(gray[110][:])\n",
    "\n",
    "    plt.figure()\n",
    "    plt.imshow(mask, 'gray')\n",
    "    # print(mask[0])\n",
    "\n",
    "    # This way is for showing the visualized results then convert to 1-channel.\n",
    "    mask = mask[:, :, np.newaxis]\n",
    "    # print(square_mask.shape)\n",
    "\n",
    "    np.save(output_pth, mask)\n",
    "    return output_pth + '.npy'"
   ]
  },
  {
   "cell_type": "code",
   "execution_count": null,
   "metadata": {},
   "outputs": [],
   "source": [
    "def create_mask_base_on_time(length, mask_type='square'):\n",
    "    # For sorted.\n",
    "    if length < 10:\n",
    "        output_pth = op.join(proj_pth, f'examples/esc50/mask_256/mask_{mask_type}_00{length}')\n",
    "    elif length < 100:\n",
    "        output_pth = op.join(proj_pth, f'examples/esc50/mask_256/mask_{mask_type}_0{length}')\n",
    "    else:\n",
    "        output_pth = op.join(proj_pth, f'examples/esc50/mask_256/mask_{mask_type}_{length}')\n",
    "    \n",
    "    if op.isfile(output_pth):\n",
    "        return output_pth\n",
    "    \n",
    "    h, w = spec.shape\n",
    "    mid_point = h // 2, w // 2\n",
    "    # print(mid_point, length)\n",
    "    \n",
    "    mask = np.zeros((h, w, 3), np.uint8)\n",
    "    if mask_type == 'square':\n",
    "        area = h * length\n",
    "        side = math.floor(math.sqrt(area))\n",
    "        t = mid_point[0] - (side // 2) + 1\n",
    "        b = mid_point[0] + (side // 2)\n",
    "        l = mid_point[1] - (side // 2) + 1\n",
    "        r = mid_point[1] + (side // 2)\n",
    "        # print(t, b, l, r)\n",
    "        mask = cv2.rectangle(mask, (l, t), (r, b), (255, 255, 255), -1)\n",
    "    elif mask_type == 'time':\n",
    "        width = length\n",
    "        t = 0 + 1\n",
    "        b = h\n",
    "        l = mid_point[1] - (width // 2) + 1\n",
    "        r = mid_point[1] + (width // 2)\n",
    "        # print(t, b, l, r)\n",
    "        mask = cv2.rectangle(mask, (l, t), (r, b), (255, 255, 255), -1)\n",
    "\n",
    "    mask = cv2.cvtColor(mask, cv2.COLOR_BGR2GRAY)\n",
    "\n",
    "    # print(gray[110][:])\n",
    "\n",
    "    plt.figure()\n",
    "    plt.imshow(mask, 'gray')\n",
    "    # print(mask[0])\n",
    "\n",
    "    # This way is for showing the visualized results then convert to 1-channel.\n",
    "    mask = mask[:, :, np.newaxis]\n",
    "    # print(square_mask.shape)\n",
    "\n",
    "    np.save(output_pth, mask)\n",
    "    return output_pth + '.npy'"
   ]
  },
  {
   "cell_type": "code",
   "execution_count": null,
   "metadata": {
    "scrolled": true
   },
   "outputs": [],
   "source": [
    "output_pth = op.join(proj_pth, 'examples/esc50/mag_origin_npy/loss_test_output')\n",
    "loss_pth = op.join(output_pth, 'l1_loss')\n",
    "checkpoint = op.join(proj_pth, 'logs/full_model_esc50_origin_npy_test')\n",
    "square_l1_loss = []\n",
    "# Set 10 as progress unix for mask length. From 10 -> 400.\n",
    "for i in range(64):\n",
    "    image = filename\n",
    "    \n",
    "    mask_type = 'square'\n",
    "    mask_length = (i + 1) * 4\n",
    "    mask = create_mask_base_on_time(mask_length, mask_type)\n",
    "    \n",
    "    #print(op.basename(filename))\n",
    "    #output_filename = op.basename(filename).split('.')[0] + f'_{mask_type}_{i}' + '.' + op.basename(filename).split('.')[1]\n",
    "    #output = op.join(output_pth, output_filename)\n",
    "    #print(output)\n",
    "    '''\n",
    "    cmd = f'python /work/r08922a13/generative_inpainting/test.py --image {image} --mask {mask} --output {output} --checkpoint {checkpoint}'\n",
    "    print(cmd)\n",
    "    os.system(cmd)\n",
    "    \n",
    "    inpaint_spec = np.load(output)\n",
    "    h, w, _ = inpaint_spec.shape\n",
    "    inpaint_spec = inpaint_spec.reshape((h, w))\n",
    "\n",
    "    square_l1_loss.append(l1_loss(spec, inpaint_spec))\n",
    "    #break\n",
    "    \n",
    "loss_filename = op.join(loss_pth, f'l1_loss_{mask_type}.txt')\n",
    "with open(loss_filename, 'w') as f:\n",
    "    for index in square_l1_loss:\n",
    "        f.write(str(index)+'\\n')\n",
    "    '''"
   ]
  },
  {
   "cell_type": "code",
   "execution_count": null,
   "metadata": {},
   "outputs": [],
   "source": [
    "output = '/work/r08922a13/generative_inpainting/examples/esc50/mag_origin_npy/loss_test_output/1-80841-A-13_spec_square_22.npy'\n",
    "inpaint_spec = np.load(output)\n",
    "h, w, _ = inpaint_spec.shape\n",
    "inpaint_spec = inpaint_spec.reshape((h, w))"
   ]
  },
  {
   "cell_type": "code",
   "execution_count": null,
   "metadata": {},
   "outputs": [],
   "source": [
    "loss = psnr(spec, inpaint_spec)\n",
    "print(loss)"
   ]
  },
  {
   "cell_type": "code",
   "execution_count": null,
   "metadata": {},
   "outputs": [],
   "source": [
    "mask_type = 'square'\n",
    "loss_filename = op.join(output_pth, f'l1_loss_{mask_type}.txt')\n",
    "with open(loss_filename, 'r') as f:\n",
    "    sq_loss_list = f.read().splitlines()\n",
    "print(sq_loss_list)\n",
    "square_l1 = [float(i) for i in sq_loss_list]\n",
    "\n",
    "mask_type = 'time'\n",
    "loss_filename = op.join(output_pth, f'l1_loss_{mask_type}.txt')\n",
    "with open(loss_filename, 'r') as f:\n",
    "    time_loss_list = f.read().splitlines()\n",
    "print(time_loss_list)\n",
    "time_l1 = [float(i) for i in time_loss_list]"
   ]
  },
  {
   "cell_type": "code",
   "execution_count": 23,
   "metadata": {},
   "outputs": [
    {
     "name": "stdout",
     "output_type": "stream",
     "text": [
      "/work/r08922a13/generative_inpainting/examples/esc50/mag_seg15_256/loss_test_pretrain_audioset/loss/1-46353-A-49_2_l1_loss_square.txt\n",
      "1-46353-A-49 l1 square\n",
      "/work/r08922a13/generative_inpainting/examples/esc50/mag_seg15_256/loss_test_pretrain_audioset/loss/1-46353-A-49_2_l1_loss_time.txt\n",
      "1-46353-A-49 l1 time\n",
      "/work/r08922a13/generative_inpainting/examples/esc50/mag_seg15_256/loss_test_pretrain_audioset/loss/4-181628-A-17_3_l1_loss_square.txt\n",
      "4-181628-A-17 l1 square\n",
      "/work/r08922a13/generative_inpainting/examples/esc50/mag_seg15_256/loss_test_pretrain_audioset/loss/4-181628-A-17_3_l1_loss_time.txt\n",
      "4-181628-A-17 l1 time\n",
      "/work/r08922a13/generative_inpainting/examples/esc50/mag_seg15_256/loss_test_pretrain_audioset/loss/4-185575-C-20_2_l1_loss_square.txt\n",
      "4-185575-C-20 l1 square\n",
      "/work/r08922a13/generative_inpainting/examples/esc50/mag_seg15_256/loss_test_pretrain_audioset/loss/4-185575-C-20_2_l1_loss_time.txt\n",
      "4-185575-C-20 l1 time\n",
      "/work/r08922a13/generative_inpainting/examples/esc50/mag_seg15_256/loss_test_pretrain_audioset/loss/4-90014-B-42_3_l1_loss_square.txt\n",
      "4-90014-B-42 l1 square\n",
      "/work/r08922a13/generative_inpainting/examples/esc50/mag_seg15_256/loss_test_pretrain_audioset/loss/4-90014-B-42_3_l1_loss_time.txt\n",
      "4-90014-B-42 l1 time\n"
     ]
    }
   ],
   "source": [
    "loss_pth = '/work/r08922a13/generative_inpainting/examples/esc50/mag_seg15_256/loss_test_pretrain_audioset/loss'\n",
    "loss_trace_list = []\n",
    "for filename in sorted(Path(loss_pth).glob('*.txt')):\n",
    "    print(filename)\n",
    "    sound_name = op.basename(filename).split('.')[0].split('_')[0]\n",
    "    loss_type = op.basename(filename).split('.')[0].split('_')[2]\n",
    "    mask_type = op.basename(filename).split('.')[0].split('_')[-1]\n",
    "    print(sound_name, loss_type, mask_type)\n",
    "    with open(filename, 'r') as f:\n",
    "        loss_list = f.read().splitlines()\n",
    "        loss_list_float = [float(i) for i in loss_list]\n",
    "        loss_trace_list.append([loss_list_float, sound_name, loss_type, mask_type])"
   ]
  },
  {
   "cell_type": "code",
   "execution_count": null,
   "metadata": {},
   "outputs": [],
   "source": [
    "loss_pth = '/work/r08922a13/generative_inpainting/examples/esc50/mag_seg15_256/loss_test_time_mask_within_v2/loss'\n",
    "within_loss_trace_list = []\n",
    "for filename in sorted(Path(loss_pth).glob('*.txt')):\n",
    "    print(filename)\n",
    "    sound_name = op.basename(filename).split('.')[0].split('_')[0]\n",
    "    loss_type = op.basename(filename).split('.')[0].split('_')[2]\n",
    "    mask_type = op.basename(filename).split('.')[0].split('_')[-1]\n",
    "    print(sound_name, loss_type, mask_type)\n",
    "    with open(filename, 'r') as f:\n",
    "        loss_list = f.read().splitlines()\n",
    "        loss_list_float = [float(i) for i in loss_list]\n",
    "        within_loss_trace_list.append([loss_list_float, sound_name, loss_type, mask_type])"
   ]
  },
  {
   "cell_type": "code",
   "execution_count": null,
   "metadata": {},
   "outputs": [],
   "source": [
    "loss_pth = '/work/r08922a13/generative_inpainting/examples/esc50/mag_seg15_256/loss_test_time_mask_only/loss'\n",
    "only_loss_trace_list = []\n",
    "for filename in sorted(Path(loss_pth).glob('*.txt')):\n",
    "    print(filename)\n",
    "    sound_name = op.basename(filename).split('.')[0].split('_')[0]\n",
    "    loss_type = op.basename(filename).split('.')[0].split('_')[2]\n",
    "    mask_type = op.basename(filename).split('.')[0].split('_')[-1]\n",
    "    print(sound_name, loss_type, mask_type)\n",
    "    with open(filename, 'r') as f:\n",
    "        loss_list = f.read().splitlines()\n",
    "        loss_list_float = [float(i) for i in loss_list]\n",
    "        only_loss_trace_list.append([loss_list_float, sound_name, loss_type, mask_type])"
   ]
  },
  {
   "cell_type": "code",
   "execution_count": null,
   "metadata": {},
   "outputs": [],
   "source": [
    "loss_pth = '/work/r08922a13/generative_inpainting/examples/esc50/mag_seg15_256/loss_test_time_wider/loss'\n",
    "wider_loss_trace_list = []\n",
    "for filename in sorted(Path(loss_pth).glob('*.txt')):\n",
    "    print(filename)\n",
    "    sound_name = op.basename(filename).split('.')[0].split('_')[0]\n",
    "    loss_type = op.basename(filename).split('.')[0].split('_')[2]\n",
    "    mask_type = op.basename(filename).split('.')[0].split('_')[-1]\n",
    "    print(sound_name, loss_type, mask_type)\n",
    "    with open(filename, 'r') as f:\n",
    "        loss_list = f.read().splitlines()\n",
    "        loss_list_float = [float(i) for i in loss_list]\n",
    "        wider_loss_trace_list.append([loss_list_float, sound_name, loss_type, mask_type])"
   ]
  },
  {
   "cell_type": "code",
   "execution_count": null,
   "metadata": {},
   "outputs": [],
   "source": [
    "loss_pth = '/work/r08922a13/generative_inpainting/examples/esc50/mag_seg15_256/loss_test_time_wider_l115/loss'\n",
    "wider_l115_loss_trace_list = []\n",
    "for filename in sorted(Path(loss_pth).glob('*.txt')):\n",
    "    print(filename)\n",
    "    sound_name = op.basename(filename).split('.')[0].split('_')[0]\n",
    "    loss_type = op.basename(filename).split('.')[0].split('_')[2]\n",
    "    mask_type = op.basename(filename).split('.')[0].split('_')[-1]\n",
    "    print(sound_name, loss_type, mask_type)\n",
    "    with open(filename, 'r') as f:\n",
    "        loss_list = f.read().splitlines()\n",
    "        loss_list_float = [float(i) for i in loss_list]\n",
    "        wider_l115_loss_trace_list.append([loss_list_float, sound_name, loss_type, mask_type])"
   ]
  },
  {
   "cell_type": "code",
   "execution_count": null,
   "metadata": {},
   "outputs": [],
   "source": [
    "err_pth = '/work/r08922a13/generative_inpainting/examples/esc50/mag_seg15_256/loss_test_output/audio/loss'\n",
    "err_trace_list = []\n",
    "for filename in sorted(Path(err_pth).glob('*.txt')):\n",
    "    print(filename)\n",
    "    sound_name = op.basename(filename).split('.')[0].split('_')[0]\n",
    "    mask_type = op.basename(filename).split('.')[0].split('_')[-2]\n",
    "    error_type = op.basename(filename).split('.')[0].split('_')[-1]\n",
    "    print(sound_name, error_type, mask_type)\n",
    "    with open(filename, 'r') as f:\n",
    "        err_list = f.read().splitlines()\n",
    "        err_list_float = [float(i) for i in err_list]\n",
    "        err_trace_list.append([err_list_float, sound_name, error_type, mask_type])"
   ]
  },
  {
   "cell_type": "code",
   "execution_count": null,
   "metadata": {},
   "outputs": [],
   "source": [
    "area_list = []\n",
    "for i in range(64):\n",
    "    length = (i+1) * 4\n",
    "    area_list.append(length)\n",
    "print(area_list)\n",
    "area_list = np.array(area_list)"
   ]
  },
  {
   "cell_type": "code",
   "execution_count": null,
   "metadata": {},
   "outputs": [],
   "source": [
    "square_l1_np = np.array(square_l1)\n",
    "square_l1_around = np.around(square_l1_np, decimals=1)\n",
    "print(square_l1_around)\n",
    "square_l1_1f = [\"{:0.1f}\".format(v) for v in square_l1_around]\n",
    "print(square_l1_1f)\n",
    "\n",
    "time_l1_np = np.array(time_l1)\n",
    "time_l1_around = np.around(time_l1_np, decimals=1)\n",
    "print(time_l1_around)\n",
    "time_l1_1f = [\"{:0.1f}\".format(v) for v in time_l1_around]\n",
    "print(time_l1_1f)"
   ]
  },
  {
   "cell_type": "code",
   "execution_count": null,
   "metadata": {},
   "outputs": [],
   "source": [
    "# Compare between time & square\n",
    "# loss_trace_list = err_trace_list # Enable if testing the error on waveform\n",
    "set_num = 2\n",
    "trace01, name01, loss01, mask01 = loss_trace_list[set_num * 2]\n",
    "trace02, name02, loss02, mask02 = loss_trace_list[set_num * 2 + 1]\n",
    "if loss01 == 'mean': loss01 = 'mean L1'\n",
    "print(trace01, name01, loss01, mask01)\n",
    "print(trace02, name02, loss02, mask02)\n",
    "trace_1 = plgo.Scatter(x=area_list, y=trace01, mode='markers', name=mask01)\n",
    "trace_2 = plgo.Scatter(x=area_list, y=trace02, mode='markers', name=mask02)\n",
    "data = [trace_1, trace_2]\n",
    "layout = plgo.Layout(\n",
    "    xaxis={'title':f'length ({name01})', 'titlefont':{'size':15}},\n",
    "    yaxis={'title':f'loss ({loss01})', 'titlefont':{'size':15}})\n",
    "fig = plgo.Figure(data=data, layout=layout)\n",
    "plp.offline.iplot(fig, filename=loss01)"
   ]
  },
  {
   "cell_type": "code",
   "execution_count": 24,
   "metadata": {},
   "outputs": [
    {
     "name": "stdout",
     "output_type": "stream",
     "text": [
      "[32.96755361557007, 71.78622913360596, 97.02457332611084, 125.76364660263062, 171.9505853652954, 229.320631980896, 283.2178144454956, 316.22097730636597, 352.7515592575073, 398.8796706199646, 438.4269452095032, 473.5025358200073, 515.1484899520874, 561.5686545372009, 599.0086140632629, 625.0436959266663, 666.4740061759949, 708.1622982025146, 752.6306681632996, 780.8769869804382, 823.161458492279, 854.591404914856, 902.9407353401184, 928.6565337181091, 971.2803392410278, 1013.494390964508, 1089.3139414787292, 1129.7076029777527, 1184.7722826004028, 1209.9026350975037, 1272.5931458473206, 1300.4186506271362, 1329.7318739891052, 1387.6848492622375, 1470.249882698059, 1506.7257871627808, 1540.0930032730103, 1603.2265677452087, 1700.5833892822266, 1754.6904754638672, 1764.8558297157288, 1842.7491002082825, 1885.0699372291565, 1950.745602607727, 1948.0082292556763, 2045.1938834190369, 2033.3942193984985, 2099.990580558777, 2175.1927437782288, 2149.4149718284607, 2211.2493691444397, 2268.4639225006104, 2516.7353506088257, 2507.979569911957, 2537.0913581848145, 2620.048857688904, 3037.2083859443665, 2984.519127845764, 2908.2657861709595, 3578.298375606537, 7209.702259063721, 7352.507396697998, 7483.130750656128, 8292.295099258423] 4-90014-B-42 l1 time\n",
      "[32.904067516326904, 64.90594530105591, 120.23749732971191, 162.18184089660645, 205.61229991912842, 248.79372119903564, 296.9593572616577, 334.9767551422119, 369.95190382003784, 411.13079500198364, 446.80751514434814, 488.5761613845825, 529.0690155029297, 567.6623177528381, 619.942681312561, 652.3046159744263, 686.1951060295105, 746.3553647994995, 781.0262441635132, 830.8481435775757, 883.8982973098755, 918.6253890991211, 973.548505783081, 1019.8832864761353, 1082.6987390518188, 1136.8659572601318, 1230.2051725387573, 1298.0971632003784, 1344.940426826477, 1389.3559126853943, 1425.3924837112427, 1465.8047127723694, 1496.341534614563, 1555.021671295166, 1607.5231528282166, 1664.0238146781921, 1697.9793491363525, 1735.479742050171, 1794.2802019119263, 1869.8718791007996, 1897.5101962089539, 1981.5985198020935, 2026.4848923683167, 2099.595036506653, 2205.746618747711, 2266.878233909607, 2332.732216835022, 2416.169620037079, 2467.046627998352, 2591.3297629356384, 2732.8279190063477, 2916.556736469269, 3011.6523036956787, 3203.710650920868, 3400.7104139328003, 3485.7349581718445, 3649.433491230011, 3814.4200854301453, 4026.7774953842163, 4132.645942687988, 4046.6472272872925, 4173.730701446533, 4403.880835533142, 5089.5149030685425] 4-90014-B-42 l1 time\n"
     ]
    },
    {
     "data": {
      "application/vnd.plotly.v1+json": {
       "config": {
        "linkText": "Export to plot.ly",
        "plotlyServerURL": "https://plot.ly",
        "showLink": false
       },
       "data": [
        {
         "mode": "markers",
         "name": "audioset",
         "type": "scatter",
         "x": [
          4,
          8,
          12,
          16,
          20,
          24,
          28,
          32,
          36,
          40,
          44,
          48,
          52,
          56,
          60,
          64,
          68,
          72,
          76,
          80,
          84,
          88,
          92,
          96,
          100,
          104,
          108,
          112,
          116,
          120,
          124,
          128,
          132,
          136,
          140,
          144,
          148,
          152,
          156,
          160,
          164,
          168,
          172,
          176,
          180,
          184,
          188,
          192,
          196,
          200,
          204,
          208,
          212,
          216,
          220,
          224,
          228,
          232,
          236,
          240,
          244,
          248,
          252,
          256
         ],
         "y": [
          32.96755361557007,
          71.78622913360596,
          97.02457332611084,
          125.76364660263062,
          171.9505853652954,
          229.320631980896,
          283.2178144454956,
          316.22097730636597,
          352.7515592575073,
          398.8796706199646,
          438.4269452095032,
          473.5025358200073,
          515.1484899520874,
          561.5686545372009,
          599.0086140632629,
          625.0436959266663,
          666.4740061759949,
          708.1622982025146,
          752.6306681632996,
          780.8769869804382,
          823.161458492279,
          854.591404914856,
          902.9407353401184,
          928.6565337181091,
          971.2803392410278,
          1013.494390964508,
          1089.3139414787292,
          1129.7076029777527,
          1184.7722826004028,
          1209.9026350975037,
          1272.5931458473206,
          1300.4186506271362,
          1329.7318739891052,
          1387.6848492622375,
          1470.249882698059,
          1506.7257871627808,
          1540.0930032730103,
          1603.2265677452087,
          1700.5833892822266,
          1754.6904754638672,
          1764.8558297157288,
          1842.7491002082825,
          1885.0699372291565,
          1950.745602607727,
          1948.0082292556763,
          2045.1938834190369,
          2033.3942193984985,
          2099.990580558777,
          2175.1927437782288,
          2149.4149718284607,
          2211.2493691444397,
          2268.4639225006104,
          2516.7353506088257,
          2507.979569911957,
          2537.0913581848145,
          2620.048857688904,
          3037.2083859443665,
          2984.519127845764,
          2908.2657861709595,
          3578.298375606537,
          7209.702259063721,
          7352.507396697998,
          7483.130750656128,
          8292.295099258423
         ]
        },
        {
         "mode": "markers",
         "name": "only",
         "type": "scatter",
         "x": [
          4,
          8,
          12,
          16,
          20,
          24,
          28,
          32,
          36,
          40,
          44,
          48,
          52,
          56,
          60,
          64,
          68,
          72,
          76,
          80,
          84,
          88,
          92,
          96,
          100,
          104,
          108,
          112,
          116,
          120,
          124,
          128,
          132,
          136,
          140,
          144,
          148,
          152,
          156,
          160,
          164,
          168,
          172,
          176,
          180,
          184,
          188,
          192,
          196,
          200,
          204,
          208,
          212,
          216,
          220,
          224,
          228,
          232,
          236,
          240,
          244,
          248,
          252,
          256
         ],
         "y": [
          32.904067516326904,
          64.90594530105591,
          120.23749732971191,
          162.18184089660645,
          205.61229991912842,
          248.79372119903564,
          296.9593572616577,
          334.9767551422119,
          369.95190382003784,
          411.13079500198364,
          446.80751514434814,
          488.5761613845825,
          529.0690155029297,
          567.6623177528381,
          619.942681312561,
          652.3046159744263,
          686.1951060295105,
          746.3553647994995,
          781.0262441635132,
          830.8481435775757,
          883.8982973098755,
          918.6253890991211,
          973.548505783081,
          1019.8832864761353,
          1082.6987390518188,
          1136.8659572601318,
          1230.2051725387573,
          1298.0971632003784,
          1344.940426826477,
          1389.3559126853943,
          1425.3924837112427,
          1465.8047127723694,
          1496.341534614563,
          1555.021671295166,
          1607.5231528282166,
          1664.0238146781921,
          1697.9793491363525,
          1735.479742050171,
          1794.2802019119263,
          1869.8718791007996,
          1897.5101962089539,
          1981.5985198020935,
          2026.4848923683167,
          2099.595036506653,
          2205.746618747711,
          2266.878233909607,
          2332.732216835022,
          2416.169620037079,
          2467.046627998352,
          2591.3297629356384,
          2732.8279190063477,
          2916.556736469269,
          3011.6523036956787,
          3203.710650920868,
          3400.7104139328003,
          3485.7349581718445,
          3649.433491230011,
          3814.4200854301453,
          4026.7774953842163,
          4132.645942687988,
          4046.6472272872925,
          4173.730701446533,
          4403.880835533142,
          5089.5149030685425
         ]
        }
       ],
       "layout": {
        "template": {
         "data": {
          "bar": [
           {
            "error_x": {
             "color": "#2a3f5f"
            },
            "error_y": {
             "color": "#2a3f5f"
            },
            "marker": {
             "line": {
              "color": "#E5ECF6",
              "width": 0.5
             }
            },
            "type": "bar"
           }
          ],
          "barpolar": [
           {
            "marker": {
             "line": {
              "color": "#E5ECF6",
              "width": 0.5
             }
            },
            "type": "barpolar"
           }
          ],
          "carpet": [
           {
            "aaxis": {
             "endlinecolor": "#2a3f5f",
             "gridcolor": "white",
             "linecolor": "white",
             "minorgridcolor": "white",
             "startlinecolor": "#2a3f5f"
            },
            "baxis": {
             "endlinecolor": "#2a3f5f",
             "gridcolor": "white",
             "linecolor": "white",
             "minorgridcolor": "white",
             "startlinecolor": "#2a3f5f"
            },
            "type": "carpet"
           }
          ],
          "choropleth": [
           {
            "colorbar": {
             "outlinewidth": 0,
             "ticks": ""
            },
            "type": "choropleth"
           }
          ],
          "contour": [
           {
            "colorbar": {
             "outlinewidth": 0,
             "ticks": ""
            },
            "colorscale": [
             [
              0,
              "#0d0887"
             ],
             [
              0.1111111111111111,
              "#46039f"
             ],
             [
              0.2222222222222222,
              "#7201a8"
             ],
             [
              0.3333333333333333,
              "#9c179e"
             ],
             [
              0.4444444444444444,
              "#bd3786"
             ],
             [
              0.5555555555555556,
              "#d8576b"
             ],
             [
              0.6666666666666666,
              "#ed7953"
             ],
             [
              0.7777777777777778,
              "#fb9f3a"
             ],
             [
              0.8888888888888888,
              "#fdca26"
             ],
             [
              1,
              "#f0f921"
             ]
            ],
            "type": "contour"
           }
          ],
          "contourcarpet": [
           {
            "colorbar": {
             "outlinewidth": 0,
             "ticks": ""
            },
            "type": "contourcarpet"
           }
          ],
          "heatmap": [
           {
            "colorbar": {
             "outlinewidth": 0,
             "ticks": ""
            },
            "colorscale": [
             [
              0,
              "#0d0887"
             ],
             [
              0.1111111111111111,
              "#46039f"
             ],
             [
              0.2222222222222222,
              "#7201a8"
             ],
             [
              0.3333333333333333,
              "#9c179e"
             ],
             [
              0.4444444444444444,
              "#bd3786"
             ],
             [
              0.5555555555555556,
              "#d8576b"
             ],
             [
              0.6666666666666666,
              "#ed7953"
             ],
             [
              0.7777777777777778,
              "#fb9f3a"
             ],
             [
              0.8888888888888888,
              "#fdca26"
             ],
             [
              1,
              "#f0f921"
             ]
            ],
            "type": "heatmap"
           }
          ],
          "heatmapgl": [
           {
            "colorbar": {
             "outlinewidth": 0,
             "ticks": ""
            },
            "colorscale": [
             [
              0,
              "#0d0887"
             ],
             [
              0.1111111111111111,
              "#46039f"
             ],
             [
              0.2222222222222222,
              "#7201a8"
             ],
             [
              0.3333333333333333,
              "#9c179e"
             ],
             [
              0.4444444444444444,
              "#bd3786"
             ],
             [
              0.5555555555555556,
              "#d8576b"
             ],
             [
              0.6666666666666666,
              "#ed7953"
             ],
             [
              0.7777777777777778,
              "#fb9f3a"
             ],
             [
              0.8888888888888888,
              "#fdca26"
             ],
             [
              1,
              "#f0f921"
             ]
            ],
            "type": "heatmapgl"
           }
          ],
          "histogram": [
           {
            "marker": {
             "colorbar": {
              "outlinewidth": 0,
              "ticks": ""
             }
            },
            "type": "histogram"
           }
          ],
          "histogram2d": [
           {
            "colorbar": {
             "outlinewidth": 0,
             "ticks": ""
            },
            "colorscale": [
             [
              0,
              "#0d0887"
             ],
             [
              0.1111111111111111,
              "#46039f"
             ],
             [
              0.2222222222222222,
              "#7201a8"
             ],
             [
              0.3333333333333333,
              "#9c179e"
             ],
             [
              0.4444444444444444,
              "#bd3786"
             ],
             [
              0.5555555555555556,
              "#d8576b"
             ],
             [
              0.6666666666666666,
              "#ed7953"
             ],
             [
              0.7777777777777778,
              "#fb9f3a"
             ],
             [
              0.8888888888888888,
              "#fdca26"
             ],
             [
              1,
              "#f0f921"
             ]
            ],
            "type": "histogram2d"
           }
          ],
          "histogram2dcontour": [
           {
            "colorbar": {
             "outlinewidth": 0,
             "ticks": ""
            },
            "colorscale": [
             [
              0,
              "#0d0887"
             ],
             [
              0.1111111111111111,
              "#46039f"
             ],
             [
              0.2222222222222222,
              "#7201a8"
             ],
             [
              0.3333333333333333,
              "#9c179e"
             ],
             [
              0.4444444444444444,
              "#bd3786"
             ],
             [
              0.5555555555555556,
              "#d8576b"
             ],
             [
              0.6666666666666666,
              "#ed7953"
             ],
             [
              0.7777777777777778,
              "#fb9f3a"
             ],
             [
              0.8888888888888888,
              "#fdca26"
             ],
             [
              1,
              "#f0f921"
             ]
            ],
            "type": "histogram2dcontour"
           }
          ],
          "mesh3d": [
           {
            "colorbar": {
             "outlinewidth": 0,
             "ticks": ""
            },
            "type": "mesh3d"
           }
          ],
          "parcoords": [
           {
            "line": {
             "colorbar": {
              "outlinewidth": 0,
              "ticks": ""
             }
            },
            "type": "parcoords"
           }
          ],
          "pie": [
           {
            "automargin": true,
            "type": "pie"
           }
          ],
          "scatter": [
           {
            "marker": {
             "colorbar": {
              "outlinewidth": 0,
              "ticks": ""
             }
            },
            "type": "scatter"
           }
          ],
          "scatter3d": [
           {
            "line": {
             "colorbar": {
              "outlinewidth": 0,
              "ticks": ""
             }
            },
            "marker": {
             "colorbar": {
              "outlinewidth": 0,
              "ticks": ""
             }
            },
            "type": "scatter3d"
           }
          ],
          "scattercarpet": [
           {
            "marker": {
             "colorbar": {
              "outlinewidth": 0,
              "ticks": ""
             }
            },
            "type": "scattercarpet"
           }
          ],
          "scattergeo": [
           {
            "marker": {
             "colorbar": {
              "outlinewidth": 0,
              "ticks": ""
             }
            },
            "type": "scattergeo"
           }
          ],
          "scattergl": [
           {
            "marker": {
             "colorbar": {
              "outlinewidth": 0,
              "ticks": ""
             }
            },
            "type": "scattergl"
           }
          ],
          "scattermapbox": [
           {
            "marker": {
             "colorbar": {
              "outlinewidth": 0,
              "ticks": ""
             }
            },
            "type": "scattermapbox"
           }
          ],
          "scatterpolar": [
           {
            "marker": {
             "colorbar": {
              "outlinewidth": 0,
              "ticks": ""
             }
            },
            "type": "scatterpolar"
           }
          ],
          "scatterpolargl": [
           {
            "marker": {
             "colorbar": {
              "outlinewidth": 0,
              "ticks": ""
             }
            },
            "type": "scatterpolargl"
           }
          ],
          "scatterternary": [
           {
            "marker": {
             "colorbar": {
              "outlinewidth": 0,
              "ticks": ""
             }
            },
            "type": "scatterternary"
           }
          ],
          "surface": [
           {
            "colorbar": {
             "outlinewidth": 0,
             "ticks": ""
            },
            "colorscale": [
             [
              0,
              "#0d0887"
             ],
             [
              0.1111111111111111,
              "#46039f"
             ],
             [
              0.2222222222222222,
              "#7201a8"
             ],
             [
              0.3333333333333333,
              "#9c179e"
             ],
             [
              0.4444444444444444,
              "#bd3786"
             ],
             [
              0.5555555555555556,
              "#d8576b"
             ],
             [
              0.6666666666666666,
              "#ed7953"
             ],
             [
              0.7777777777777778,
              "#fb9f3a"
             ],
             [
              0.8888888888888888,
              "#fdca26"
             ],
             [
              1,
              "#f0f921"
             ]
            ],
            "type": "surface"
           }
          ],
          "table": [
           {
            "cells": {
             "fill": {
              "color": "#EBF0F8"
             },
             "line": {
              "color": "white"
             }
            },
            "header": {
             "fill": {
              "color": "#C8D4E3"
             },
             "line": {
              "color": "white"
             }
            },
            "type": "table"
           }
          ]
         },
         "layout": {
          "annotationdefaults": {
           "arrowcolor": "#2a3f5f",
           "arrowhead": 0,
           "arrowwidth": 1
          },
          "coloraxis": {
           "colorbar": {
            "outlinewidth": 0,
            "ticks": ""
           }
          },
          "colorscale": {
           "diverging": [
            [
             0,
             "#8e0152"
            ],
            [
             0.1,
             "#c51b7d"
            ],
            [
             0.2,
             "#de77ae"
            ],
            [
             0.3,
             "#f1b6da"
            ],
            [
             0.4,
             "#fde0ef"
            ],
            [
             0.5,
             "#f7f7f7"
            ],
            [
             0.6,
             "#e6f5d0"
            ],
            [
             0.7,
             "#b8e186"
            ],
            [
             0.8,
             "#7fbc41"
            ],
            [
             0.9,
             "#4d9221"
            ],
            [
             1,
             "#276419"
            ]
           ],
           "sequential": [
            [
             0,
             "#0d0887"
            ],
            [
             0.1111111111111111,
             "#46039f"
            ],
            [
             0.2222222222222222,
             "#7201a8"
            ],
            [
             0.3333333333333333,
             "#9c179e"
            ],
            [
             0.4444444444444444,
             "#bd3786"
            ],
            [
             0.5555555555555556,
             "#d8576b"
            ],
            [
             0.6666666666666666,
             "#ed7953"
            ],
            [
             0.7777777777777778,
             "#fb9f3a"
            ],
            [
             0.8888888888888888,
             "#fdca26"
            ],
            [
             1,
             "#f0f921"
            ]
           ],
           "sequentialminus": [
            [
             0,
             "#0d0887"
            ],
            [
             0.1111111111111111,
             "#46039f"
            ],
            [
             0.2222222222222222,
             "#7201a8"
            ],
            [
             0.3333333333333333,
             "#9c179e"
            ],
            [
             0.4444444444444444,
             "#bd3786"
            ],
            [
             0.5555555555555556,
             "#d8576b"
            ],
            [
             0.6666666666666666,
             "#ed7953"
            ],
            [
             0.7777777777777778,
             "#fb9f3a"
            ],
            [
             0.8888888888888888,
             "#fdca26"
            ],
            [
             1,
             "#f0f921"
            ]
           ]
          },
          "colorway": [
           "#636efa",
           "#EF553B",
           "#00cc96",
           "#ab63fa",
           "#FFA15A",
           "#19d3f3",
           "#FF6692",
           "#B6E880",
           "#FF97FF",
           "#FECB52"
          ],
          "font": {
           "color": "#2a3f5f"
          },
          "geo": {
           "bgcolor": "white",
           "lakecolor": "white",
           "landcolor": "#E5ECF6",
           "showlakes": true,
           "showland": true,
           "subunitcolor": "white"
          },
          "hoverlabel": {
           "align": "left"
          },
          "hovermode": "closest",
          "mapbox": {
           "style": "light"
          },
          "paper_bgcolor": "white",
          "plot_bgcolor": "#E5ECF6",
          "polar": {
           "angularaxis": {
            "gridcolor": "white",
            "linecolor": "white",
            "ticks": ""
           },
           "bgcolor": "#E5ECF6",
           "radialaxis": {
            "gridcolor": "white",
            "linecolor": "white",
            "ticks": ""
           }
          },
          "scene": {
           "xaxis": {
            "backgroundcolor": "#E5ECF6",
            "gridcolor": "white",
            "gridwidth": 2,
            "linecolor": "white",
            "showbackground": true,
            "ticks": "",
            "zerolinecolor": "white"
           },
           "yaxis": {
            "backgroundcolor": "#E5ECF6",
            "gridcolor": "white",
            "gridwidth": 2,
            "linecolor": "white",
            "showbackground": true,
            "ticks": "",
            "zerolinecolor": "white"
           },
           "zaxis": {
            "backgroundcolor": "#E5ECF6",
            "gridcolor": "white",
            "gridwidth": 2,
            "linecolor": "white",
            "showbackground": true,
            "ticks": "",
            "zerolinecolor": "white"
           }
          },
          "shapedefaults": {
           "line": {
            "color": "#2a3f5f"
           }
          },
          "ternary": {
           "aaxis": {
            "gridcolor": "white",
            "linecolor": "white",
            "ticks": ""
           },
           "baxis": {
            "gridcolor": "white",
            "linecolor": "white",
            "ticks": ""
           },
           "bgcolor": "#E5ECF6",
           "caxis": {
            "gridcolor": "white",
            "linecolor": "white",
            "ticks": ""
           }
          },
          "title": {
           "x": 0.05
          },
          "xaxis": {
           "automargin": true,
           "gridcolor": "white",
           "linecolor": "white",
           "ticks": "",
           "title": {
            "standoff": 15
           },
           "zerolinecolor": "white",
           "zerolinewidth": 2
          },
          "yaxis": {
           "automargin": true,
           "gridcolor": "white",
           "linecolor": "white",
           "ticks": "",
           "title": {
            "standoff": 15
           },
           "zerolinecolor": "white",
           "zerolinewidth": 2
          }
         }
        },
        "xaxis": {
         "title": {
          "font": {
           "size": 15
          },
          "text": "length (4-90014-B-42)"
         }
        },
        "yaxis": {
         "title": {
          "font": {
           "size": 15
          },
          "text": "loss (l1)"
         }
        }
       }
      },
      "text/html": [
       "<div>                            <div id=\"aaedc52e-d113-44ff-8970-b28fc4ec9f81\" class=\"plotly-graph-div\" style=\"height:525px; width:100%;\"></div>            <script type=\"text/javascript\">                require([\"plotly\"], function(Plotly) {                    window.PLOTLYENV=window.PLOTLYENV || {};                                    if (document.getElementById(\"aaedc52e-d113-44ff-8970-b28fc4ec9f81\")) {                    Plotly.newPlot(                        \"aaedc52e-d113-44ff-8970-b28fc4ec9f81\",                        [{\"mode\": \"markers\", \"name\": \"audioset\", \"type\": \"scatter\", \"x\": [4, 8, 12, 16, 20, 24, 28, 32, 36, 40, 44, 48, 52, 56, 60, 64, 68, 72, 76, 80, 84, 88, 92, 96, 100, 104, 108, 112, 116, 120, 124, 128, 132, 136, 140, 144, 148, 152, 156, 160, 164, 168, 172, 176, 180, 184, 188, 192, 196, 200, 204, 208, 212, 216, 220, 224, 228, 232, 236, 240, 244, 248, 252, 256], \"y\": [32.96755361557007, 71.78622913360596, 97.02457332611084, 125.76364660263062, 171.9505853652954, 229.320631980896, 283.2178144454956, 316.22097730636597, 352.7515592575073, 398.8796706199646, 438.4269452095032, 473.5025358200073, 515.1484899520874, 561.5686545372009, 599.0086140632629, 625.0436959266663, 666.4740061759949, 708.1622982025146, 752.6306681632996, 780.8769869804382, 823.161458492279, 854.591404914856, 902.9407353401184, 928.6565337181091, 971.2803392410278, 1013.494390964508, 1089.3139414787292, 1129.7076029777527, 1184.7722826004028, 1209.9026350975037, 1272.5931458473206, 1300.4186506271362, 1329.7318739891052, 1387.6848492622375, 1470.249882698059, 1506.7257871627808, 1540.0930032730103, 1603.2265677452087, 1700.5833892822266, 1754.6904754638672, 1764.8558297157288, 1842.7491002082825, 1885.0699372291565, 1950.745602607727, 1948.0082292556763, 2045.1938834190369, 2033.3942193984985, 2099.990580558777, 2175.1927437782288, 2149.4149718284607, 2211.2493691444397, 2268.4639225006104, 2516.7353506088257, 2507.979569911957, 2537.0913581848145, 2620.048857688904, 3037.2083859443665, 2984.519127845764, 2908.2657861709595, 3578.298375606537, 7209.702259063721, 7352.507396697998, 7483.130750656128, 8292.295099258423]}, {\"mode\": \"markers\", \"name\": \"only\", \"type\": \"scatter\", \"x\": [4, 8, 12, 16, 20, 24, 28, 32, 36, 40, 44, 48, 52, 56, 60, 64, 68, 72, 76, 80, 84, 88, 92, 96, 100, 104, 108, 112, 116, 120, 124, 128, 132, 136, 140, 144, 148, 152, 156, 160, 164, 168, 172, 176, 180, 184, 188, 192, 196, 200, 204, 208, 212, 216, 220, 224, 228, 232, 236, 240, 244, 248, 252, 256], \"y\": [32.904067516326904, 64.90594530105591, 120.23749732971191, 162.18184089660645, 205.61229991912842, 248.79372119903564, 296.9593572616577, 334.9767551422119, 369.95190382003784, 411.13079500198364, 446.80751514434814, 488.5761613845825, 529.0690155029297, 567.6623177528381, 619.942681312561, 652.3046159744263, 686.1951060295105, 746.3553647994995, 781.0262441635132, 830.8481435775757, 883.8982973098755, 918.6253890991211, 973.548505783081, 1019.8832864761353, 1082.6987390518188, 1136.8659572601318, 1230.2051725387573, 1298.0971632003784, 1344.940426826477, 1389.3559126853943, 1425.3924837112427, 1465.8047127723694, 1496.341534614563, 1555.021671295166, 1607.5231528282166, 1664.0238146781921, 1697.9793491363525, 1735.479742050171, 1794.2802019119263, 1869.8718791007996, 1897.5101962089539, 1981.5985198020935, 2026.4848923683167, 2099.595036506653, 2205.746618747711, 2266.878233909607, 2332.732216835022, 2416.169620037079, 2467.046627998352, 2591.3297629356384, 2732.8279190063477, 2916.556736469269, 3011.6523036956787, 3203.710650920868, 3400.7104139328003, 3485.7349581718445, 3649.433491230011, 3814.4200854301453, 4026.7774953842163, 4132.645942687988, 4046.6472272872925, 4173.730701446533, 4403.880835533142, 5089.5149030685425]}],                        {\"template\": {\"data\": {\"bar\": [{\"error_x\": {\"color\": \"#2a3f5f\"}, \"error_y\": {\"color\": \"#2a3f5f\"}, \"marker\": {\"line\": {\"color\": \"#E5ECF6\", \"width\": 0.5}}, \"type\": \"bar\"}], \"barpolar\": [{\"marker\": {\"line\": {\"color\": \"#E5ECF6\", \"width\": 0.5}}, \"type\": \"barpolar\"}], \"carpet\": [{\"aaxis\": {\"endlinecolor\": \"#2a3f5f\", \"gridcolor\": \"white\", \"linecolor\": \"white\", \"minorgridcolor\": \"white\", \"startlinecolor\": \"#2a3f5f\"}, \"baxis\": {\"endlinecolor\": \"#2a3f5f\", \"gridcolor\": \"white\", \"linecolor\": \"white\", \"minorgridcolor\": \"white\", \"startlinecolor\": \"#2a3f5f\"}, \"type\": \"carpet\"}], \"choropleth\": [{\"colorbar\": {\"outlinewidth\": 0, \"ticks\": \"\"}, \"type\": \"choropleth\"}], \"contour\": [{\"colorbar\": {\"outlinewidth\": 0, \"ticks\": \"\"}, \"colorscale\": [[0.0, \"#0d0887\"], [0.1111111111111111, \"#46039f\"], [0.2222222222222222, \"#7201a8\"], [0.3333333333333333, \"#9c179e\"], [0.4444444444444444, \"#bd3786\"], [0.5555555555555556, \"#d8576b\"], [0.6666666666666666, \"#ed7953\"], [0.7777777777777778, \"#fb9f3a\"], [0.8888888888888888, \"#fdca26\"], [1.0, \"#f0f921\"]], \"type\": \"contour\"}], \"contourcarpet\": [{\"colorbar\": {\"outlinewidth\": 0, \"ticks\": \"\"}, \"type\": \"contourcarpet\"}], \"heatmap\": [{\"colorbar\": {\"outlinewidth\": 0, \"ticks\": \"\"}, \"colorscale\": [[0.0, \"#0d0887\"], [0.1111111111111111, \"#46039f\"], [0.2222222222222222, \"#7201a8\"], [0.3333333333333333, \"#9c179e\"], [0.4444444444444444, \"#bd3786\"], [0.5555555555555556, \"#d8576b\"], [0.6666666666666666, \"#ed7953\"], [0.7777777777777778, \"#fb9f3a\"], [0.8888888888888888, \"#fdca26\"], [1.0, \"#f0f921\"]], \"type\": \"heatmap\"}], \"heatmapgl\": [{\"colorbar\": {\"outlinewidth\": 0, \"ticks\": \"\"}, \"colorscale\": [[0.0, \"#0d0887\"], [0.1111111111111111, \"#46039f\"], [0.2222222222222222, \"#7201a8\"], [0.3333333333333333, \"#9c179e\"], [0.4444444444444444, \"#bd3786\"], [0.5555555555555556, \"#d8576b\"], [0.6666666666666666, \"#ed7953\"], [0.7777777777777778, \"#fb9f3a\"], [0.8888888888888888, \"#fdca26\"], [1.0, \"#f0f921\"]], \"type\": \"heatmapgl\"}], \"histogram\": [{\"marker\": {\"colorbar\": {\"outlinewidth\": 0, \"ticks\": \"\"}}, \"type\": \"histogram\"}], \"histogram2d\": [{\"colorbar\": {\"outlinewidth\": 0, \"ticks\": \"\"}, \"colorscale\": [[0.0, \"#0d0887\"], [0.1111111111111111, \"#46039f\"], [0.2222222222222222, \"#7201a8\"], [0.3333333333333333, \"#9c179e\"], [0.4444444444444444, \"#bd3786\"], [0.5555555555555556, \"#d8576b\"], [0.6666666666666666, \"#ed7953\"], [0.7777777777777778, \"#fb9f3a\"], [0.8888888888888888, \"#fdca26\"], [1.0, \"#f0f921\"]], \"type\": \"histogram2d\"}], \"histogram2dcontour\": [{\"colorbar\": {\"outlinewidth\": 0, \"ticks\": \"\"}, \"colorscale\": [[0.0, \"#0d0887\"], [0.1111111111111111, \"#46039f\"], [0.2222222222222222, \"#7201a8\"], [0.3333333333333333, \"#9c179e\"], [0.4444444444444444, \"#bd3786\"], [0.5555555555555556, \"#d8576b\"], [0.6666666666666666, \"#ed7953\"], [0.7777777777777778, \"#fb9f3a\"], [0.8888888888888888, \"#fdca26\"], [1.0, \"#f0f921\"]], \"type\": \"histogram2dcontour\"}], \"mesh3d\": [{\"colorbar\": {\"outlinewidth\": 0, \"ticks\": \"\"}, \"type\": \"mesh3d\"}], \"parcoords\": [{\"line\": {\"colorbar\": {\"outlinewidth\": 0, \"ticks\": \"\"}}, \"type\": \"parcoords\"}], \"pie\": [{\"automargin\": true, \"type\": \"pie\"}], \"scatter\": [{\"marker\": {\"colorbar\": {\"outlinewidth\": 0, \"ticks\": \"\"}}, \"type\": \"scatter\"}], \"scatter3d\": [{\"line\": {\"colorbar\": {\"outlinewidth\": 0, \"ticks\": \"\"}}, \"marker\": {\"colorbar\": {\"outlinewidth\": 0, \"ticks\": \"\"}}, \"type\": \"scatter3d\"}], \"scattercarpet\": [{\"marker\": {\"colorbar\": {\"outlinewidth\": 0, \"ticks\": \"\"}}, \"type\": \"scattercarpet\"}], \"scattergeo\": [{\"marker\": {\"colorbar\": {\"outlinewidth\": 0, \"ticks\": \"\"}}, \"type\": \"scattergeo\"}], \"scattergl\": [{\"marker\": {\"colorbar\": {\"outlinewidth\": 0, \"ticks\": \"\"}}, \"type\": \"scattergl\"}], \"scattermapbox\": [{\"marker\": {\"colorbar\": {\"outlinewidth\": 0, \"ticks\": \"\"}}, \"type\": \"scattermapbox\"}], \"scatterpolar\": [{\"marker\": {\"colorbar\": {\"outlinewidth\": 0, \"ticks\": \"\"}}, \"type\": \"scatterpolar\"}], \"scatterpolargl\": [{\"marker\": {\"colorbar\": {\"outlinewidth\": 0, \"ticks\": \"\"}}, \"type\": \"scatterpolargl\"}], \"scatterternary\": [{\"marker\": {\"colorbar\": {\"outlinewidth\": 0, \"ticks\": \"\"}}, \"type\": \"scatterternary\"}], \"surface\": [{\"colorbar\": {\"outlinewidth\": 0, \"ticks\": \"\"}, \"colorscale\": [[0.0, \"#0d0887\"], [0.1111111111111111, \"#46039f\"], [0.2222222222222222, \"#7201a8\"], [0.3333333333333333, \"#9c179e\"], [0.4444444444444444, \"#bd3786\"], [0.5555555555555556, \"#d8576b\"], [0.6666666666666666, \"#ed7953\"], [0.7777777777777778, \"#fb9f3a\"], [0.8888888888888888, \"#fdca26\"], [1.0, \"#f0f921\"]], \"type\": \"surface\"}], \"table\": [{\"cells\": {\"fill\": {\"color\": \"#EBF0F8\"}, \"line\": {\"color\": \"white\"}}, \"header\": {\"fill\": {\"color\": \"#C8D4E3\"}, \"line\": {\"color\": \"white\"}}, \"type\": \"table\"}]}, \"layout\": {\"annotationdefaults\": {\"arrowcolor\": \"#2a3f5f\", \"arrowhead\": 0, \"arrowwidth\": 1}, \"coloraxis\": {\"colorbar\": {\"outlinewidth\": 0, \"ticks\": \"\"}}, \"colorscale\": {\"diverging\": [[0, \"#8e0152\"], [0.1, \"#c51b7d\"], [0.2, \"#de77ae\"], [0.3, \"#f1b6da\"], [0.4, \"#fde0ef\"], [0.5, \"#f7f7f7\"], [0.6, \"#e6f5d0\"], [0.7, \"#b8e186\"], [0.8, \"#7fbc41\"], [0.9, \"#4d9221\"], [1, \"#276419\"]], \"sequential\": [[0.0, \"#0d0887\"], [0.1111111111111111, \"#46039f\"], [0.2222222222222222, \"#7201a8\"], [0.3333333333333333, \"#9c179e\"], [0.4444444444444444, \"#bd3786\"], [0.5555555555555556, \"#d8576b\"], [0.6666666666666666, \"#ed7953\"], [0.7777777777777778, \"#fb9f3a\"], [0.8888888888888888, \"#fdca26\"], [1.0, \"#f0f921\"]], \"sequentialminus\": [[0.0, \"#0d0887\"], [0.1111111111111111, \"#46039f\"], [0.2222222222222222, \"#7201a8\"], [0.3333333333333333, \"#9c179e\"], [0.4444444444444444, \"#bd3786\"], [0.5555555555555556, \"#d8576b\"], [0.6666666666666666, \"#ed7953\"], [0.7777777777777778, \"#fb9f3a\"], [0.8888888888888888, \"#fdca26\"], [1.0, \"#f0f921\"]]}, \"colorway\": [\"#636efa\", \"#EF553B\", \"#00cc96\", \"#ab63fa\", \"#FFA15A\", \"#19d3f3\", \"#FF6692\", \"#B6E880\", \"#FF97FF\", \"#FECB52\"], \"font\": {\"color\": \"#2a3f5f\"}, \"geo\": {\"bgcolor\": \"white\", \"lakecolor\": \"white\", \"landcolor\": \"#E5ECF6\", \"showlakes\": true, \"showland\": true, \"subunitcolor\": \"white\"}, \"hoverlabel\": {\"align\": \"left\"}, \"hovermode\": \"closest\", \"mapbox\": {\"style\": \"light\"}, \"paper_bgcolor\": \"white\", \"plot_bgcolor\": \"#E5ECF6\", \"polar\": {\"angularaxis\": {\"gridcolor\": \"white\", \"linecolor\": \"white\", \"ticks\": \"\"}, \"bgcolor\": \"#E5ECF6\", \"radialaxis\": {\"gridcolor\": \"white\", \"linecolor\": \"white\", \"ticks\": \"\"}}, \"scene\": {\"xaxis\": {\"backgroundcolor\": \"#E5ECF6\", \"gridcolor\": \"white\", \"gridwidth\": 2, \"linecolor\": \"white\", \"showbackground\": true, \"ticks\": \"\", \"zerolinecolor\": \"white\"}, \"yaxis\": {\"backgroundcolor\": \"#E5ECF6\", \"gridcolor\": \"white\", \"gridwidth\": 2, \"linecolor\": \"white\", \"showbackground\": true, \"ticks\": \"\", \"zerolinecolor\": \"white\"}, \"zaxis\": {\"backgroundcolor\": \"#E5ECF6\", \"gridcolor\": \"white\", \"gridwidth\": 2, \"linecolor\": \"white\", \"showbackground\": true, \"ticks\": \"\", \"zerolinecolor\": \"white\"}}, \"shapedefaults\": {\"line\": {\"color\": \"#2a3f5f\"}}, \"ternary\": {\"aaxis\": {\"gridcolor\": \"white\", \"linecolor\": \"white\", \"ticks\": \"\"}, \"baxis\": {\"gridcolor\": \"white\", \"linecolor\": \"white\", \"ticks\": \"\"}, \"bgcolor\": \"#E5ECF6\", \"caxis\": {\"gridcolor\": \"white\", \"linecolor\": \"white\", \"ticks\": \"\"}}, \"title\": {\"x\": 0.05}, \"xaxis\": {\"automargin\": true, \"gridcolor\": \"white\", \"linecolor\": \"white\", \"ticks\": \"\", \"title\": {\"standoff\": 15}, \"zerolinecolor\": \"white\", \"zerolinewidth\": 2}, \"yaxis\": {\"automargin\": true, \"gridcolor\": \"white\", \"linecolor\": \"white\", \"ticks\": \"\", \"title\": {\"standoff\": 15}, \"zerolinecolor\": \"white\", \"zerolinewidth\": 2}}}, \"xaxis\": {\"title\": {\"font\": {\"size\": 15}, \"text\": \"length (4-90014-B-42)\"}}, \"yaxis\": {\"title\": {\"font\": {\"size\": 15}, \"text\": \"loss (l1)\"}}},                        {\"responsive\": true}                    ).then(function(){\n",
       "                            \n",
       "var gd = document.getElementById('aaedc52e-d113-44ff-8970-b28fc4ec9f81');\n",
       "var x = new MutationObserver(function (mutations, observer) {{\n",
       "        var display = window.getComputedStyle(gd).display;\n",
       "        if (!display || display === 'none') {{\n",
       "            console.log([gd, 'removed!']);\n",
       "            Plotly.purge(gd);\n",
       "            observer.disconnect();\n",
       "        }}\n",
       "}});\n",
       "\n",
       "// Listen for the removal of the full notebook cells\n",
       "var notebookContainer = gd.closest('#notebook-container');\n",
       "if (notebookContainer) {{\n",
       "    x.observe(notebookContainer, {childList: true});\n",
       "}}\n",
       "\n",
       "// Listen for the clearing of the current output cell\n",
       "var outputEl = gd.closest('.output');\n",
       "if (outputEl) {{\n",
       "    x.observe(outputEl, {childList: true});\n",
       "}}\n",
       "\n",
       "                        })                };                });            </script>        </div>"
      ]
     },
     "metadata": {},
     "output_type": "display_data"
    }
   ],
   "source": [
    "# Compare two kinds of\n",
    "set_num = 3\n",
    "constant = 1 # time = 1, square = 0\n",
    "trace01, name01, loss01, mask01 = loss_trace_list[set_num * 2 + constant]\n",
    "trace02, name02, loss02, mask02 = only_loss_trace_list[set_num * 6 + constant]\n",
    "if loss01 == 'mean': loss01 = 'mean L1'\n",
    "print(trace01, name01, loss01, mask01)\n",
    "print(trace02, name02, loss02, mask02)\n",
    "trace_1 = plgo.Scatter(x=area_list, y=trace01, mode='markers', name='audioset')\n",
    "trace_2 = plgo.Scatter(x=area_list, y=trace02, mode='markers', name='only')\n",
    "data = [trace_1, trace_2]\n",
    "layout = plgo.Layout(\n",
    "    xaxis={'title':f'length ({name01})', 'titlefont':{'size':15}},\n",
    "    yaxis={'title':f'loss ({loss01})', 'titlefont':{'size':15}})\n",
    "fig = plgo.Figure(data=data, layout=layout)\n",
    "plp.offline.iplot(fig, filename=loss01)"
   ]
  },
  {
   "cell_type": "code",
   "execution_count": null,
   "metadata": {
    "scrolled": false
   },
   "outputs": [],
   "source": [
    "# Compare to five kinds of models\n",
    "set_num = 10\n",
    "constant = 1 # time = 1, square = 0\n",
    "trace01, name01, loss01, mask01 = loss_trace_list[set_num * 2 + constant]\n",
    "trace02, name02, loss02, mask02 = within_loss_trace_list[set_num * 2 + constant]\n",
    "trace03, name03, loss03, mask03 = only_loss_trace_list[set_num * 2 + constant]\n",
    "trace04, name04, loss04, mask04 = wider_loss_trace_list[set_num * 2 + constant]\n",
    "trace05, name05, loss05, mask05 = wider_l115_loss_trace_list[set_num * 2 + constant]\n",
    "if loss01 == 'mean': loss01 = 'mean L1'\n",
    "print(trace01, name01, loss01, mask01)\n",
    "print(trace02, name02, loss02, mask02)\n",
    "print(trace03, name03, loss03, mask03)\n",
    "print(trace04, name04, loss04, mask04)\n",
    "print(trace05, name05, loss05, mask05)\n",
    "trace_1 = plgo.Scatter(x=area_list, y=trace01, mode='markers', name='rect')\n",
    "trace_2 = plgo.Scatter(x=area_list, y=trace02, mode='markers', name='within')\n",
    "trace_3 = plgo.Scatter(x=area_list, y=trace03, mode='markers', name='time')\n",
    "trace_4 = plgo.Scatter(x=area_list, y=trace04, mode='markers', name='wider')\n",
    "trace_5 = plgo.Scatter(x=area_list, y=trace05, mode='markers', name='widerl1up')\n",
    "data = [trace_1, trace_2, trace_3, trace_4, trace_5]\n",
    "layout = plgo.Layout(\n",
    "    xaxis={'title':f'length ({name01})', 'titlefont':{'size':15}},\n",
    "    yaxis={'title':f'loss ({loss01})', 'titlefont':{'size':15}})\n",
    "fig = plgo.Figure(data=data, layout=layout)\n",
    "plp.offline.iplot(fig, filename=loss01)"
   ]
  },
  {
   "cell_type": "code",
   "execution_count": null,
   "metadata": {},
   "outputs": [],
   "source": [
    "loss_trace_list = err_trace_list # Enable if testing the error on waveform\n",
    "set_num = 10\n",
    "trace01, name01, loss01, mask01 = loss_trace_list[set_num * 2]\n",
    "trace02, name02, loss02, mask02 = loss_trace_list[set_num * 2 + 1]\n",
    "if loss01 == 'mean': loss01 = 'mean L1'\n",
    "print(trace01, name01, loss01, mask01)\n",
    "print(trace02, name02, loss02, mask02)\n",
    "trace_1 = plgo.Scatter(x=area_list, y=trace01, mode='markers', name=mask01)\n",
    "trace_2 = plgo.Scatter(x=area_list, y=trace02, mode='markers', name=mask02)\n",
    "data = [trace_1, trace_2]\n",
    "layout = plgo.Layout(\n",
    "    xaxis={'title':f'length ({name01})', 'titlefont':{'size':15}},\n",
    "    yaxis={'title':f'loss ({loss01})', 'titlefont':{'size':15}})\n",
    "fig = plgo.Figure(data=data, layout=layout)\n",
    "plp.offline.iplot(fig, filename=loss01)"
   ]
  },
  {
   "cell_type": "code",
   "execution_count": null,
   "metadata": {},
   "outputs": [],
   "source": [
    "trace_0 = plgo.Scatter(x=area_list, y=square_l1_1f, mode='markers', name='square mask')\n",
    "trace_1 = plgo.Scatter(x=area_list, y=time_l1_1f, mode='markers', name='time mask')\n",
    "data = [trace_0, trace_1]\n",
    "layout = plgo.Layout(\n",
    "    xaxis={'title':'length', 'titlefont':{'size':20}},\n",
    "    yaxis={'title':'loss (l1)', 'titlefont':{'size':20}})\n",
    "fig = plgo.Figure(data=data, layout=layout)\n",
    "plp.offline.iplot(fig, filename='loss')"
   ]
  },
  {
   "cell_type": "code",
   "execution_count": null,
   "metadata": {},
   "outputs": [],
   "source": [
    "data = np.stack((area_list, time_l1_1f))\n",
    "print(data, data.shape)\n",
    "\n",
    "plt.figure()\n",
    "plt.ylabel('l1loss')\n",
    "plt.xlabel('length')\n",
    "plt.plot(area_list, time_l1_1f, 'k', linestyle='dashed', marker='o')"
   ]
  },
  {
   "cell_type": "code",
   "execution_count": null,
   "metadata": {},
   "outputs": [],
   "source": [
    "data_pth = op.join(proj_pth, 'examples/esc50/mag_seg15_256/')\n",
    "png_pth = op.join(proj_pth, 'examples/esc50/mag_seg15_256/loss_test_time_mask_only/audio/png')\n",
    "shape = ['square', 'time']\n",
    "for filename in sorted(Path(data_pth).glob('*.npy')):\n",
    "    #print(filename)\n",
    "    file = op.basename(filename).split('.')[0]\n",
    "    for anyshape in shape:\n",
    "        #print(file, anyshape)\n",
    "        file_shape = file + '_' + anyshape\n",
    "        print(file_shape)\n",
    "        with imageio.get_writer(op.join(png_pth, f'{file_shape}.gif'), mode='I', duration=0.2) as writer:\n",
    "            for png in tqdm(sorted(Path(png_pth).glob(f'{file_shape}*.png'))):\n",
    "                # print(png)\n",
    "                image = imageio.imread(png)\n",
    "                #plt.figure()\n",
    "                #plt.imshow(image, 'gray')\n",
    "                writer.append_data(image)\n",
    "'''\n",
    "mask_pth = op.join(proj_pth, 'examples/esc50/mag_seg15_256/loss_test_output/png')\n",
    "with imageio.get_writer(op.join(mask_pth, '../mask_square.gif'), mode='I', duration=0.2) as writer:\n",
    "    for png in sorted(Path(mask_pth).glob('mask_square*')):\n",
    "        print(png)\n",
    "        image = imageio.imread(png)\n",
    "        #plt.figure()\n",
    "        #plt.imshow(image, 'gray')\n",
    "        writer.append_data(image)\n",
    "'''"
   ]
  },
  {
   "cell_type": "code",
   "execution_count": 27,
   "metadata": {},
   "outputs": [
    {
     "name": "stderr",
     "output_type": "stream",
     "text": [
      "100%|██████████| 64/64 [00:01<00:00, 51.47it/s]\n",
      "100%|██████████| 64/64 [00:01<00:00, 62.22it/s]\n",
      "100%|██████████| 64/64 [00:00<00:00, 69.32it/s]\n",
      "100%|██████████| 64/64 [00:00<00:00, 72.83it/s]\n",
      "100%|██████████| 64/64 [00:00<00:00, 72.90it/s] \n",
      "100%|██████████| 64/64 [00:00<00:00, 72.03it/s]\n",
      "100%|██████████| 64/64 [00:00<00:00, 76.71it/s]\n",
      "100%|██████████| 64/64 [00:00<00:00, 90.65it/s] \n"
     ]
    },
    {
     "name": "stdout",
     "output_type": "stream",
     "text": [
      "0 /work/r08922a13/generative_inpainting/examples/audioset/mag_seg15/loss_pretrain_esc50/snipped10357_3_square_000.npy\n",
      "1 /work/r08922a13/generative_inpainting/examples/audioset/mag_seg15/loss_pretrain_esc50/snipped10357_3_square_001.npy\n",
      "2 /work/r08922a13/generative_inpainting/examples/audioset/mag_seg15/loss_pretrain_esc50/snipped10357_3_square_002.npy\n",
      "3 /work/r08922a13/generative_inpainting/examples/audioset/mag_seg15/loss_pretrain_esc50/snipped10357_3_square_003.npy\n",
      "4 /work/r08922a13/generative_inpainting/examples/audioset/mag_seg15/loss_pretrain_esc50/snipped10357_3_square_004.npy\n",
      "5 /work/r08922a13/generative_inpainting/examples/audioset/mag_seg15/loss_pretrain_esc50/snipped10357_3_square_005.npy\n",
      "6 /work/r08922a13/generative_inpainting/examples/audioset/mag_seg15/loss_pretrain_esc50/snipped10357_3_square_006.npy\n",
      "7 /work/r08922a13/generative_inpainting/examples/audioset/mag_seg15/loss_pretrain_esc50/snipped10357_3_square_007.npy\n",
      "8 /work/r08922a13/generative_inpainting/examples/audioset/mag_seg15/loss_pretrain_esc50/snipped10357_3_square_008.npy\n",
      "9 /work/r08922a13/generative_inpainting/examples/audioset/mag_seg15/loss_pretrain_esc50/snipped10357_3_square_009.npy\n",
      "10 /work/r08922a13/generative_inpainting/examples/audioset/mag_seg15/loss_pretrain_esc50/snipped10357_3_square_010.npy\n",
      "11 /work/r08922a13/generative_inpainting/examples/audioset/mag_seg15/loss_pretrain_esc50/snipped10357_3_square_011.npy\n",
      "12 /work/r08922a13/generative_inpainting/examples/audioset/mag_seg15/loss_pretrain_esc50/snipped10357_3_square_012.npy\n",
      "13 /work/r08922a13/generative_inpainting/examples/audioset/mag_seg15/loss_pretrain_esc50/snipped10357_3_square_013.npy\n",
      "14 /work/r08922a13/generative_inpainting/examples/audioset/mag_seg15/loss_pretrain_esc50/snipped10357_3_square_014.npy\n",
      "15 /work/r08922a13/generative_inpainting/examples/audioset/mag_seg15/loss_pretrain_esc50/snipped10357_3_square_015.npy\n",
      "16 /work/r08922a13/generative_inpainting/examples/audioset/mag_seg15/loss_pretrain_esc50/snipped10357_3_square_016.npy\n",
      "17 /work/r08922a13/generative_inpainting/examples/audioset/mag_seg15/loss_pretrain_esc50/snipped10357_3_square_017.npy\n",
      "18 /work/r08922a13/generative_inpainting/examples/audioset/mag_seg15/loss_pretrain_esc50/snipped10357_3_square_018.npy\n",
      "19 /work/r08922a13/generative_inpainting/examples/audioset/mag_seg15/loss_pretrain_esc50/snipped10357_3_square_019.npy\n",
      "20 /work/r08922a13/generative_inpainting/examples/audioset/mag_seg15/loss_pretrain_esc50/snipped10357_3_square_020.npy\n",
      "21 /work/r08922a13/generative_inpainting/examples/audioset/mag_seg15/loss_pretrain_esc50/snipped10357_3_square_021.npy\n",
      "22 /work/r08922a13/generative_inpainting/examples/audioset/mag_seg15/loss_pretrain_esc50/snipped10357_3_square_022.npy\n",
      "23 /work/r08922a13/generative_inpainting/examples/audioset/mag_seg15/loss_pretrain_esc50/snipped10357_3_square_023.npy\n",
      "24 /work/r08922a13/generative_inpainting/examples/audioset/mag_seg15/loss_pretrain_esc50/snipped10357_3_square_024.npy\n",
      "25 /work/r08922a13/generative_inpainting/examples/audioset/mag_seg15/loss_pretrain_esc50/snipped10357_3_square_025.npy\n",
      "26 /work/r08922a13/generative_inpainting/examples/audioset/mag_seg15/loss_pretrain_esc50/snipped10357_3_square_026.npy\n",
      "27 /work/r08922a13/generative_inpainting/examples/audioset/mag_seg15/loss_pretrain_esc50/snipped10357_3_square_027.npy\n",
      "28 /work/r08922a13/generative_inpainting/examples/audioset/mag_seg15/loss_pretrain_esc50/snipped10357_3_square_028.npy\n",
      "29 /work/r08922a13/generative_inpainting/examples/audioset/mag_seg15/loss_pretrain_esc50/snipped10357_3_square_029.npy\n",
      "30 /work/r08922a13/generative_inpainting/examples/audioset/mag_seg15/loss_pretrain_esc50/snipped10357_3_square_030.npy\n",
      "31 /work/r08922a13/generative_inpainting/examples/audioset/mag_seg15/loss_pretrain_esc50/snipped10357_3_square_031.npy\n",
      "32 /work/r08922a13/generative_inpainting/examples/audioset/mag_seg15/loss_pretrain_esc50/snipped10357_3_square_032.npy\n",
      "33 /work/r08922a13/generative_inpainting/examples/audioset/mag_seg15/loss_pretrain_esc50/snipped10357_3_square_033.npy\n",
      "34 /work/r08922a13/generative_inpainting/examples/audioset/mag_seg15/loss_pretrain_esc50/snipped10357_3_square_034.npy\n",
      "35 /work/r08922a13/generative_inpainting/examples/audioset/mag_seg15/loss_pretrain_esc50/snipped10357_3_square_035.npy\n",
      "36 /work/r08922a13/generative_inpainting/examples/audioset/mag_seg15/loss_pretrain_esc50/snipped10357_3_square_036.npy\n",
      "37 /work/r08922a13/generative_inpainting/examples/audioset/mag_seg15/loss_pretrain_esc50/snipped10357_3_square_037.npy\n",
      "38 /work/r08922a13/generative_inpainting/examples/audioset/mag_seg15/loss_pretrain_esc50/snipped10357_3_square_038.npy\n",
      "39 /work/r08922a13/generative_inpainting/examples/audioset/mag_seg15/loss_pretrain_esc50/snipped10357_3_square_039.npy\n",
      "40 /work/r08922a13/generative_inpainting/examples/audioset/mag_seg15/loss_pretrain_esc50/snipped10357_3_square_040.npy\n",
      "41 /work/r08922a13/generative_inpainting/examples/audioset/mag_seg15/loss_pretrain_esc50/snipped10357_3_square_041.npy\n",
      "42 /work/r08922a13/generative_inpainting/examples/audioset/mag_seg15/loss_pretrain_esc50/snipped10357_3_square_042.npy\n",
      "43 /work/r08922a13/generative_inpainting/examples/audioset/mag_seg15/loss_pretrain_esc50/snipped10357_3_square_043.npy\n",
      "44 /work/r08922a13/generative_inpainting/examples/audioset/mag_seg15/loss_pretrain_esc50/snipped10357_3_square_044.npy\n",
      "45 /work/r08922a13/generative_inpainting/examples/audioset/mag_seg15/loss_pretrain_esc50/snipped10357_3_square_045.npy\n",
      "46 /work/r08922a13/generative_inpainting/examples/audioset/mag_seg15/loss_pretrain_esc50/snipped10357_3_square_046.npy\n",
      "47 /work/r08922a13/generative_inpainting/examples/audioset/mag_seg15/loss_pretrain_esc50/snipped10357_3_square_047.npy\n",
      "48 /work/r08922a13/generative_inpainting/examples/audioset/mag_seg15/loss_pretrain_esc50/snipped10357_3_square_048.npy\n",
      "49 /work/r08922a13/generative_inpainting/examples/audioset/mag_seg15/loss_pretrain_esc50/snipped10357_3_square_049.npy\n",
      "50 /work/r08922a13/generative_inpainting/examples/audioset/mag_seg15/loss_pretrain_esc50/snipped10357_3_square_050.npy\n",
      "51 /work/r08922a13/generative_inpainting/examples/audioset/mag_seg15/loss_pretrain_esc50/snipped10357_3_square_051.npy\n",
      "52 /work/r08922a13/generative_inpainting/examples/audioset/mag_seg15/loss_pretrain_esc50/snipped10357_3_square_052.npy\n",
      "53 /work/r08922a13/generative_inpainting/examples/audioset/mag_seg15/loss_pretrain_esc50/snipped10357_3_square_053.npy\n",
      "54 /work/r08922a13/generative_inpainting/examples/audioset/mag_seg15/loss_pretrain_esc50/snipped10357_3_square_054.npy\n",
      "55 /work/r08922a13/generative_inpainting/examples/audioset/mag_seg15/loss_pretrain_esc50/snipped10357_3_square_055.npy\n",
      "56 /work/r08922a13/generative_inpainting/examples/audioset/mag_seg15/loss_pretrain_esc50/snipped10357_3_square_056.npy\n",
      "57 /work/r08922a13/generative_inpainting/examples/audioset/mag_seg15/loss_pretrain_esc50/snipped10357_3_square_057.npy\n",
      "58 /work/r08922a13/generative_inpainting/examples/audioset/mag_seg15/loss_pretrain_esc50/snipped10357_3_square_058.npy\n",
      "59 /work/r08922a13/generative_inpainting/examples/audioset/mag_seg15/loss_pretrain_esc50/snipped10357_3_square_059.npy\n",
      "60 /work/r08922a13/generative_inpainting/examples/audioset/mag_seg15/loss_pretrain_esc50/snipped10357_3_square_060.npy\n",
      "61 /work/r08922a13/generative_inpainting/examples/audioset/mag_seg15/loss_pretrain_esc50/snipped10357_3_square_061.npy\n",
      "62 /work/r08922a13/generative_inpainting/examples/audioset/mag_seg15/loss_pretrain_esc50/snipped10357_3_square_062.npy\n",
      "63 /work/r08922a13/generative_inpainting/examples/audioset/mag_seg15/loss_pretrain_esc50/snipped10357_3_square_063.npy\n",
      "64 /work/r08922a13/generative_inpainting/examples/audioset/mag_seg15/loss_pretrain_esc50/snipped10357_3_time_000.npy\n",
      "65 /work/r08922a13/generative_inpainting/examples/audioset/mag_seg15/loss_pretrain_esc50/snipped10357_3_time_001.npy\n",
      "66 /work/r08922a13/generative_inpainting/examples/audioset/mag_seg15/loss_pretrain_esc50/snipped10357_3_time_002.npy\n",
      "67 /work/r08922a13/generative_inpainting/examples/audioset/mag_seg15/loss_pretrain_esc50/snipped10357_3_time_003.npy\n",
      "68 /work/r08922a13/generative_inpainting/examples/audioset/mag_seg15/loss_pretrain_esc50/snipped10357_3_time_004.npy\n",
      "69 /work/r08922a13/generative_inpainting/examples/audioset/mag_seg15/loss_pretrain_esc50/snipped10357_3_time_005.npy\n",
      "70 /work/r08922a13/generative_inpainting/examples/audioset/mag_seg15/loss_pretrain_esc50/snipped10357_3_time_006.npy\n",
      "71 /work/r08922a13/generative_inpainting/examples/audioset/mag_seg15/loss_pretrain_esc50/snipped10357_3_time_007.npy\n",
      "72 /work/r08922a13/generative_inpainting/examples/audioset/mag_seg15/loss_pretrain_esc50/snipped10357_3_time_008.npy\n",
      "73 /work/r08922a13/generative_inpainting/examples/audioset/mag_seg15/loss_pretrain_esc50/snipped10357_3_time_009.npy\n",
      "74 /work/r08922a13/generative_inpainting/examples/audioset/mag_seg15/loss_pretrain_esc50/snipped10357_3_time_010.npy\n",
      "75 /work/r08922a13/generative_inpainting/examples/audioset/mag_seg15/loss_pretrain_esc50/snipped10357_3_time_011.npy\n",
      "76 /work/r08922a13/generative_inpainting/examples/audioset/mag_seg15/loss_pretrain_esc50/snipped10357_3_time_012.npy\n",
      "77 /work/r08922a13/generative_inpainting/examples/audioset/mag_seg15/loss_pretrain_esc50/snipped10357_3_time_013.npy\n"
     ]
    },
    {
     "name": "stdout",
     "output_type": "stream",
     "text": [
      "78 /work/r08922a13/generative_inpainting/examples/audioset/mag_seg15/loss_pretrain_esc50/snipped10357_3_time_014.npy\n",
      "79 /work/r08922a13/generative_inpainting/examples/audioset/mag_seg15/loss_pretrain_esc50/snipped10357_3_time_015.npy\n",
      "80 /work/r08922a13/generative_inpainting/examples/audioset/mag_seg15/loss_pretrain_esc50/snipped10357_3_time_016.npy\n",
      "81 /work/r08922a13/generative_inpainting/examples/audioset/mag_seg15/loss_pretrain_esc50/snipped10357_3_time_017.npy\n",
      "82 /work/r08922a13/generative_inpainting/examples/audioset/mag_seg15/loss_pretrain_esc50/snipped10357_3_time_018.npy\n",
      "83 /work/r08922a13/generative_inpainting/examples/audioset/mag_seg15/loss_pretrain_esc50/snipped10357_3_time_019.npy\n",
      "84 /work/r08922a13/generative_inpainting/examples/audioset/mag_seg15/loss_pretrain_esc50/snipped10357_3_time_020.npy\n",
      "85 /work/r08922a13/generative_inpainting/examples/audioset/mag_seg15/loss_pretrain_esc50/snipped10357_3_time_021.npy\n",
      "86 /work/r08922a13/generative_inpainting/examples/audioset/mag_seg15/loss_pretrain_esc50/snipped10357_3_time_022.npy\n",
      "87 /work/r08922a13/generative_inpainting/examples/audioset/mag_seg15/loss_pretrain_esc50/snipped10357_3_time_023.npy\n",
      "88 /work/r08922a13/generative_inpainting/examples/audioset/mag_seg15/loss_pretrain_esc50/snipped10357_3_time_024.npy\n",
      "89 /work/r08922a13/generative_inpainting/examples/audioset/mag_seg15/loss_pretrain_esc50/snipped10357_3_time_025.npy\n",
      "90 /work/r08922a13/generative_inpainting/examples/audioset/mag_seg15/loss_pretrain_esc50/snipped10357_3_time_026.npy\n",
      "91 /work/r08922a13/generative_inpainting/examples/audioset/mag_seg15/loss_pretrain_esc50/snipped10357_3_time_027.npy\n",
      "92 /work/r08922a13/generative_inpainting/examples/audioset/mag_seg15/loss_pretrain_esc50/snipped10357_3_time_028.npy\n",
      "93 /work/r08922a13/generative_inpainting/examples/audioset/mag_seg15/loss_pretrain_esc50/snipped10357_3_time_029.npy\n",
      "94 /work/r08922a13/generative_inpainting/examples/audioset/mag_seg15/loss_pretrain_esc50/snipped10357_3_time_030.npy\n",
      "95 /work/r08922a13/generative_inpainting/examples/audioset/mag_seg15/loss_pretrain_esc50/snipped10357_3_time_031.npy\n",
      "96 /work/r08922a13/generative_inpainting/examples/audioset/mag_seg15/loss_pretrain_esc50/snipped10357_3_time_032.npy\n",
      "97 /work/r08922a13/generative_inpainting/examples/audioset/mag_seg15/loss_pretrain_esc50/snipped10357_3_time_033.npy\n",
      "98 /work/r08922a13/generative_inpainting/examples/audioset/mag_seg15/loss_pretrain_esc50/snipped10357_3_time_034.npy\n",
      "99 /work/r08922a13/generative_inpainting/examples/audioset/mag_seg15/loss_pretrain_esc50/snipped10357_3_time_035.npy\n",
      "100 /work/r08922a13/generative_inpainting/examples/audioset/mag_seg15/loss_pretrain_esc50/snipped10357_3_time_036.npy\n",
      "101 /work/r08922a13/generative_inpainting/examples/audioset/mag_seg15/loss_pretrain_esc50/snipped10357_3_time_037.npy\n",
      "102 /work/r08922a13/generative_inpainting/examples/audioset/mag_seg15/loss_pretrain_esc50/snipped10357_3_time_038.npy\n",
      "103 /work/r08922a13/generative_inpainting/examples/audioset/mag_seg15/loss_pretrain_esc50/snipped10357_3_time_039.npy\n",
      "104 /work/r08922a13/generative_inpainting/examples/audioset/mag_seg15/loss_pretrain_esc50/snipped10357_3_time_040.npy\n",
      "105 /work/r08922a13/generative_inpainting/examples/audioset/mag_seg15/loss_pretrain_esc50/snipped10357_3_time_041.npy\n",
      "106 /work/r08922a13/generative_inpainting/examples/audioset/mag_seg15/loss_pretrain_esc50/snipped10357_3_time_042.npy\n",
      "107 /work/r08922a13/generative_inpainting/examples/audioset/mag_seg15/loss_pretrain_esc50/snipped10357_3_time_043.npy\n",
      "108 /work/r08922a13/generative_inpainting/examples/audioset/mag_seg15/loss_pretrain_esc50/snipped10357_3_time_044.npy\n",
      "109 /work/r08922a13/generative_inpainting/examples/audioset/mag_seg15/loss_pretrain_esc50/snipped10357_3_time_045.npy\n",
      "110 /work/r08922a13/generative_inpainting/examples/audioset/mag_seg15/loss_pretrain_esc50/snipped10357_3_time_046.npy\n",
      "111 /work/r08922a13/generative_inpainting/examples/audioset/mag_seg15/loss_pretrain_esc50/snipped10357_3_time_047.npy\n",
      "112 /work/r08922a13/generative_inpainting/examples/audioset/mag_seg15/loss_pretrain_esc50/snipped10357_3_time_048.npy\n",
      "113 /work/r08922a13/generative_inpainting/examples/audioset/mag_seg15/loss_pretrain_esc50/snipped10357_3_time_049.npy\n",
      "114 /work/r08922a13/generative_inpainting/examples/audioset/mag_seg15/loss_pretrain_esc50/snipped10357_3_time_050.npy\n",
      "115 /work/r08922a13/generative_inpainting/examples/audioset/mag_seg15/loss_pretrain_esc50/snipped10357_3_time_051.npy\n",
      "116 /work/r08922a13/generative_inpainting/examples/audioset/mag_seg15/loss_pretrain_esc50/snipped10357_3_time_052.npy\n",
      "117 /work/r08922a13/generative_inpainting/examples/audioset/mag_seg15/loss_pretrain_esc50/snipped10357_3_time_053.npy\n",
      "118 /work/r08922a13/generative_inpainting/examples/audioset/mag_seg15/loss_pretrain_esc50/snipped10357_3_time_054.npy\n",
      "119 /work/r08922a13/generative_inpainting/examples/audioset/mag_seg15/loss_pretrain_esc50/snipped10357_3_time_055.npy\n",
      "120 /work/r08922a13/generative_inpainting/examples/audioset/mag_seg15/loss_pretrain_esc50/snipped10357_3_time_056.npy\n",
      "121 /work/r08922a13/generative_inpainting/examples/audioset/mag_seg15/loss_pretrain_esc50/snipped10357_3_time_057.npy\n",
      "122 /work/r08922a13/generative_inpainting/examples/audioset/mag_seg15/loss_pretrain_esc50/snipped10357_3_time_058.npy\n",
      "123 /work/r08922a13/generative_inpainting/examples/audioset/mag_seg15/loss_pretrain_esc50/snipped10357_3_time_059.npy\n",
      "124 /work/r08922a13/generative_inpainting/examples/audioset/mag_seg15/loss_pretrain_esc50/snipped10357_3_time_060.npy\n",
      "125 /work/r08922a13/generative_inpainting/examples/audioset/mag_seg15/loss_pretrain_esc50/snipped10357_3_time_061.npy\n",
      "126 /work/r08922a13/generative_inpainting/examples/audioset/mag_seg15/loss_pretrain_esc50/snipped10357_3_time_062.npy\n",
      "127 /work/r08922a13/generative_inpainting/examples/audioset/mag_seg15/loss_pretrain_esc50/snipped10357_3_time_063.npy\n",
      "128 /work/r08922a13/generative_inpainting/examples/audioset/mag_seg15/loss_pretrain_esc50/snipped3292_2_square_000.npy\n",
      "129 /work/r08922a13/generative_inpainting/examples/audioset/mag_seg15/loss_pretrain_esc50/snipped3292_2_square_001.npy\n",
      "130 /work/r08922a13/generative_inpainting/examples/audioset/mag_seg15/loss_pretrain_esc50/snipped3292_2_square_002.npy\n",
      "131 /work/r08922a13/generative_inpainting/examples/audioset/mag_seg15/loss_pretrain_esc50/snipped3292_2_square_003.npy\n",
      "132 /work/r08922a13/generative_inpainting/examples/audioset/mag_seg15/loss_pretrain_esc50/snipped3292_2_square_004.npy\n",
      "133 /work/r08922a13/generative_inpainting/examples/audioset/mag_seg15/loss_pretrain_esc50/snipped3292_2_square_005.npy\n",
      "134 /work/r08922a13/generative_inpainting/examples/audioset/mag_seg15/loss_pretrain_esc50/snipped3292_2_square_006.npy\n",
      "135 /work/r08922a13/generative_inpainting/examples/audioset/mag_seg15/loss_pretrain_esc50/snipped3292_2_square_007.npy\n",
      "136 /work/r08922a13/generative_inpainting/examples/audioset/mag_seg15/loss_pretrain_esc50/snipped3292_2_square_008.npy\n",
      "137 /work/r08922a13/generative_inpainting/examples/audioset/mag_seg15/loss_pretrain_esc50/snipped3292_2_square_009.npy\n",
      "138 /work/r08922a13/generative_inpainting/examples/audioset/mag_seg15/loss_pretrain_esc50/snipped3292_2_square_010.npy\n",
      "139 /work/r08922a13/generative_inpainting/examples/audioset/mag_seg15/loss_pretrain_esc50/snipped3292_2_square_011.npy\n",
      "140 /work/r08922a13/generative_inpainting/examples/audioset/mag_seg15/loss_pretrain_esc50/snipped3292_2_square_012.npy\n",
      "141 /work/r08922a13/generative_inpainting/examples/audioset/mag_seg15/loss_pretrain_esc50/snipped3292_2_square_013.npy\n",
      "142 /work/r08922a13/generative_inpainting/examples/audioset/mag_seg15/loss_pretrain_esc50/snipped3292_2_square_014.npy\n",
      "143 /work/r08922a13/generative_inpainting/examples/audioset/mag_seg15/loss_pretrain_esc50/snipped3292_2_square_015.npy\n",
      "144 /work/r08922a13/generative_inpainting/examples/audioset/mag_seg15/loss_pretrain_esc50/snipped3292_2_square_016.npy\n",
      "145 /work/r08922a13/generative_inpainting/examples/audioset/mag_seg15/loss_pretrain_esc50/snipped3292_2_square_017.npy\n",
      "146 /work/r08922a13/generative_inpainting/examples/audioset/mag_seg15/loss_pretrain_esc50/snipped3292_2_square_018.npy\n",
      "147 /work/r08922a13/generative_inpainting/examples/audioset/mag_seg15/loss_pretrain_esc50/snipped3292_2_square_019.npy\n",
      "148 /work/r08922a13/generative_inpainting/examples/audioset/mag_seg15/loss_pretrain_esc50/snipped3292_2_square_020.npy\n",
      "149 /work/r08922a13/generative_inpainting/examples/audioset/mag_seg15/loss_pretrain_esc50/snipped3292_2_square_021.npy\n",
      "150 /work/r08922a13/generative_inpainting/examples/audioset/mag_seg15/loss_pretrain_esc50/snipped3292_2_square_022.npy\n",
      "151 /work/r08922a13/generative_inpainting/examples/audioset/mag_seg15/loss_pretrain_esc50/snipped3292_2_square_023.npy\n",
      "152 /work/r08922a13/generative_inpainting/examples/audioset/mag_seg15/loss_pretrain_esc50/snipped3292_2_square_024.npy\n",
      "153 /work/r08922a13/generative_inpainting/examples/audioset/mag_seg15/loss_pretrain_esc50/snipped3292_2_square_025.npy\n",
      "154 /work/r08922a13/generative_inpainting/examples/audioset/mag_seg15/loss_pretrain_esc50/snipped3292_2_square_026.npy\n",
      "155 /work/r08922a13/generative_inpainting/examples/audioset/mag_seg15/loss_pretrain_esc50/snipped3292_2_square_027.npy\n",
      "156 /work/r08922a13/generative_inpainting/examples/audioset/mag_seg15/loss_pretrain_esc50/snipped3292_2_square_028.npy\n",
      "157 /work/r08922a13/generative_inpainting/examples/audioset/mag_seg15/loss_pretrain_esc50/snipped3292_2_square_029.npy\n",
      "158 /work/r08922a13/generative_inpainting/examples/audioset/mag_seg15/loss_pretrain_esc50/snipped3292_2_square_030.npy\n",
      "159 /work/r08922a13/generative_inpainting/examples/audioset/mag_seg15/loss_pretrain_esc50/snipped3292_2_square_031.npy\n",
      "160 /work/r08922a13/generative_inpainting/examples/audioset/mag_seg15/loss_pretrain_esc50/snipped3292_2_square_032.npy\n",
      "161 /work/r08922a13/generative_inpainting/examples/audioset/mag_seg15/loss_pretrain_esc50/snipped3292_2_square_033.npy\n",
      "162 /work/r08922a13/generative_inpainting/examples/audioset/mag_seg15/loss_pretrain_esc50/snipped3292_2_square_034.npy\n",
      "163 /work/r08922a13/generative_inpainting/examples/audioset/mag_seg15/loss_pretrain_esc50/snipped3292_2_square_035.npy\n",
      "164 /work/r08922a13/generative_inpainting/examples/audioset/mag_seg15/loss_pretrain_esc50/snipped3292_2_square_036.npy\n"
     ]
    },
    {
     "name": "stdout",
     "output_type": "stream",
     "text": [
      "165 /work/r08922a13/generative_inpainting/examples/audioset/mag_seg15/loss_pretrain_esc50/snipped3292_2_square_037.npy\n",
      "166 /work/r08922a13/generative_inpainting/examples/audioset/mag_seg15/loss_pretrain_esc50/snipped3292_2_square_038.npy\n",
      "167 /work/r08922a13/generative_inpainting/examples/audioset/mag_seg15/loss_pretrain_esc50/snipped3292_2_square_039.npy\n",
      "168 /work/r08922a13/generative_inpainting/examples/audioset/mag_seg15/loss_pretrain_esc50/snipped3292_2_square_040.npy\n",
      "169 /work/r08922a13/generative_inpainting/examples/audioset/mag_seg15/loss_pretrain_esc50/snipped3292_2_square_041.npy\n",
      "170 /work/r08922a13/generative_inpainting/examples/audioset/mag_seg15/loss_pretrain_esc50/snipped3292_2_square_042.npy\n",
      "171 /work/r08922a13/generative_inpainting/examples/audioset/mag_seg15/loss_pretrain_esc50/snipped3292_2_square_043.npy\n",
      "172 /work/r08922a13/generative_inpainting/examples/audioset/mag_seg15/loss_pretrain_esc50/snipped3292_2_square_044.npy\n",
      "173 /work/r08922a13/generative_inpainting/examples/audioset/mag_seg15/loss_pretrain_esc50/snipped3292_2_square_045.npy\n",
      "174 /work/r08922a13/generative_inpainting/examples/audioset/mag_seg15/loss_pretrain_esc50/snipped3292_2_square_046.npy\n",
      "175 /work/r08922a13/generative_inpainting/examples/audioset/mag_seg15/loss_pretrain_esc50/snipped3292_2_square_047.npy\n",
      "176 /work/r08922a13/generative_inpainting/examples/audioset/mag_seg15/loss_pretrain_esc50/snipped3292_2_square_048.npy\n",
      "177 /work/r08922a13/generative_inpainting/examples/audioset/mag_seg15/loss_pretrain_esc50/snipped3292_2_square_049.npy\n",
      "178 /work/r08922a13/generative_inpainting/examples/audioset/mag_seg15/loss_pretrain_esc50/snipped3292_2_square_050.npy\n",
      "179 /work/r08922a13/generative_inpainting/examples/audioset/mag_seg15/loss_pretrain_esc50/snipped3292_2_square_051.npy\n",
      "180 /work/r08922a13/generative_inpainting/examples/audioset/mag_seg15/loss_pretrain_esc50/snipped3292_2_square_052.npy\n",
      "181 /work/r08922a13/generative_inpainting/examples/audioset/mag_seg15/loss_pretrain_esc50/snipped3292_2_square_053.npy\n",
      "182 /work/r08922a13/generative_inpainting/examples/audioset/mag_seg15/loss_pretrain_esc50/snipped3292_2_square_054.npy\n",
      "183 /work/r08922a13/generative_inpainting/examples/audioset/mag_seg15/loss_pretrain_esc50/snipped3292_2_square_055.npy\n",
      "184 /work/r08922a13/generative_inpainting/examples/audioset/mag_seg15/loss_pretrain_esc50/snipped3292_2_square_056.npy\n",
      "185 /work/r08922a13/generative_inpainting/examples/audioset/mag_seg15/loss_pretrain_esc50/snipped3292_2_square_057.npy\n",
      "186 /work/r08922a13/generative_inpainting/examples/audioset/mag_seg15/loss_pretrain_esc50/snipped3292_2_square_058.npy\n",
      "187 /work/r08922a13/generative_inpainting/examples/audioset/mag_seg15/loss_pretrain_esc50/snipped3292_2_square_059.npy\n",
      "188 /work/r08922a13/generative_inpainting/examples/audioset/mag_seg15/loss_pretrain_esc50/snipped3292_2_square_060.npy\n",
      "189 /work/r08922a13/generative_inpainting/examples/audioset/mag_seg15/loss_pretrain_esc50/snipped3292_2_square_061.npy\n",
      "190 /work/r08922a13/generative_inpainting/examples/audioset/mag_seg15/loss_pretrain_esc50/snipped3292_2_square_062.npy\n",
      "191 /work/r08922a13/generative_inpainting/examples/audioset/mag_seg15/loss_pretrain_esc50/snipped3292_2_square_063.npy\n",
      "192 /work/r08922a13/generative_inpainting/examples/audioset/mag_seg15/loss_pretrain_esc50/snipped3292_2_time_000.npy\n",
      "193 /work/r08922a13/generative_inpainting/examples/audioset/mag_seg15/loss_pretrain_esc50/snipped3292_2_time_001.npy\n",
      "194 /work/r08922a13/generative_inpainting/examples/audioset/mag_seg15/loss_pretrain_esc50/snipped3292_2_time_002.npy\n",
      "195 /work/r08922a13/generative_inpainting/examples/audioset/mag_seg15/loss_pretrain_esc50/snipped3292_2_time_003.npy\n",
      "196 /work/r08922a13/generative_inpainting/examples/audioset/mag_seg15/loss_pretrain_esc50/snipped3292_2_time_004.npy\n",
      "197 /work/r08922a13/generative_inpainting/examples/audioset/mag_seg15/loss_pretrain_esc50/snipped3292_2_time_005.npy\n",
      "198 /work/r08922a13/generative_inpainting/examples/audioset/mag_seg15/loss_pretrain_esc50/snipped3292_2_time_006.npy\n",
      "199 /work/r08922a13/generative_inpainting/examples/audioset/mag_seg15/loss_pretrain_esc50/snipped3292_2_time_007.npy\n",
      "200 /work/r08922a13/generative_inpainting/examples/audioset/mag_seg15/loss_pretrain_esc50/snipped3292_2_time_008.npy\n",
      "201 /work/r08922a13/generative_inpainting/examples/audioset/mag_seg15/loss_pretrain_esc50/snipped3292_2_time_009.npy\n",
      "202 /work/r08922a13/generative_inpainting/examples/audioset/mag_seg15/loss_pretrain_esc50/snipped3292_2_time_010.npy\n",
      "203 /work/r08922a13/generative_inpainting/examples/audioset/mag_seg15/loss_pretrain_esc50/snipped3292_2_time_011.npy\n",
      "204 /work/r08922a13/generative_inpainting/examples/audioset/mag_seg15/loss_pretrain_esc50/snipped3292_2_time_012.npy\n",
      "205 /work/r08922a13/generative_inpainting/examples/audioset/mag_seg15/loss_pretrain_esc50/snipped3292_2_time_013.npy\n",
      "206 /work/r08922a13/generative_inpainting/examples/audioset/mag_seg15/loss_pretrain_esc50/snipped3292_2_time_014.npy\n",
      "207 /work/r08922a13/generative_inpainting/examples/audioset/mag_seg15/loss_pretrain_esc50/snipped3292_2_time_015.npy\n",
      "208 /work/r08922a13/generative_inpainting/examples/audioset/mag_seg15/loss_pretrain_esc50/snipped3292_2_time_016.npy\n",
      "209 /work/r08922a13/generative_inpainting/examples/audioset/mag_seg15/loss_pretrain_esc50/snipped3292_2_time_017.npy\n",
      "210 /work/r08922a13/generative_inpainting/examples/audioset/mag_seg15/loss_pretrain_esc50/snipped3292_2_time_018.npy\n",
      "211 /work/r08922a13/generative_inpainting/examples/audioset/mag_seg15/loss_pretrain_esc50/snipped3292_2_time_019.npy\n",
      "212 /work/r08922a13/generative_inpainting/examples/audioset/mag_seg15/loss_pretrain_esc50/snipped3292_2_time_020.npy\n",
      "213 /work/r08922a13/generative_inpainting/examples/audioset/mag_seg15/loss_pretrain_esc50/snipped3292_2_time_021.npy\n",
      "214 /work/r08922a13/generative_inpainting/examples/audioset/mag_seg15/loss_pretrain_esc50/snipped3292_2_time_022.npy\n",
      "215 /work/r08922a13/generative_inpainting/examples/audioset/mag_seg15/loss_pretrain_esc50/snipped3292_2_time_023.npy\n",
      "216 /work/r08922a13/generative_inpainting/examples/audioset/mag_seg15/loss_pretrain_esc50/snipped3292_2_time_024.npy\n",
      "217 /work/r08922a13/generative_inpainting/examples/audioset/mag_seg15/loss_pretrain_esc50/snipped3292_2_time_025.npy\n",
      "218 /work/r08922a13/generative_inpainting/examples/audioset/mag_seg15/loss_pretrain_esc50/snipped3292_2_time_026.npy\n",
      "219 /work/r08922a13/generative_inpainting/examples/audioset/mag_seg15/loss_pretrain_esc50/snipped3292_2_time_027.npy\n",
      "220 /work/r08922a13/generative_inpainting/examples/audioset/mag_seg15/loss_pretrain_esc50/snipped3292_2_time_028.npy\n",
      "221 /work/r08922a13/generative_inpainting/examples/audioset/mag_seg15/loss_pretrain_esc50/snipped3292_2_time_029.npy\n",
      "222 /work/r08922a13/generative_inpainting/examples/audioset/mag_seg15/loss_pretrain_esc50/snipped3292_2_time_030.npy\n",
      "223 /work/r08922a13/generative_inpainting/examples/audioset/mag_seg15/loss_pretrain_esc50/snipped3292_2_time_031.npy\n",
      "224 /work/r08922a13/generative_inpainting/examples/audioset/mag_seg15/loss_pretrain_esc50/snipped3292_2_time_032.npy\n",
      "225 /work/r08922a13/generative_inpainting/examples/audioset/mag_seg15/loss_pretrain_esc50/snipped3292_2_time_033.npy\n",
      "226 /work/r08922a13/generative_inpainting/examples/audioset/mag_seg15/loss_pretrain_esc50/snipped3292_2_time_034.npy\n",
      "227 /work/r08922a13/generative_inpainting/examples/audioset/mag_seg15/loss_pretrain_esc50/snipped3292_2_time_035.npy\n",
      "228 /work/r08922a13/generative_inpainting/examples/audioset/mag_seg15/loss_pretrain_esc50/snipped3292_2_time_036.npy\n",
      "229 /work/r08922a13/generative_inpainting/examples/audioset/mag_seg15/loss_pretrain_esc50/snipped3292_2_time_037.npy\n",
      "230 /work/r08922a13/generative_inpainting/examples/audioset/mag_seg15/loss_pretrain_esc50/snipped3292_2_time_038.npy\n",
      "231 /work/r08922a13/generative_inpainting/examples/audioset/mag_seg15/loss_pretrain_esc50/snipped3292_2_time_039.npy\n",
      "232 /work/r08922a13/generative_inpainting/examples/audioset/mag_seg15/loss_pretrain_esc50/snipped3292_2_time_040.npy\n",
      "233 /work/r08922a13/generative_inpainting/examples/audioset/mag_seg15/loss_pretrain_esc50/snipped3292_2_time_041.npy\n",
      "234 /work/r08922a13/generative_inpainting/examples/audioset/mag_seg15/loss_pretrain_esc50/snipped3292_2_time_042.npy\n",
      "235 /work/r08922a13/generative_inpainting/examples/audioset/mag_seg15/loss_pretrain_esc50/snipped3292_2_time_043.npy\n",
      "236 /work/r08922a13/generative_inpainting/examples/audioset/mag_seg15/loss_pretrain_esc50/snipped3292_2_time_044.npy\n",
      "237 /work/r08922a13/generative_inpainting/examples/audioset/mag_seg15/loss_pretrain_esc50/snipped3292_2_time_045.npy\n"
     ]
    },
    {
     "name": "stdout",
     "output_type": "stream",
     "text": [
      "238 /work/r08922a13/generative_inpainting/examples/audioset/mag_seg15/loss_pretrain_esc50/snipped3292_2_time_046.npy\n",
      "239 /work/r08922a13/generative_inpainting/examples/audioset/mag_seg15/loss_pretrain_esc50/snipped3292_2_time_047.npy\n",
      "240 /work/r08922a13/generative_inpainting/examples/audioset/mag_seg15/loss_pretrain_esc50/snipped3292_2_time_048.npy\n",
      "241 /work/r08922a13/generative_inpainting/examples/audioset/mag_seg15/loss_pretrain_esc50/snipped3292_2_time_049.npy\n",
      "242 /work/r08922a13/generative_inpainting/examples/audioset/mag_seg15/loss_pretrain_esc50/snipped3292_2_time_050.npy\n",
      "243 /work/r08922a13/generative_inpainting/examples/audioset/mag_seg15/loss_pretrain_esc50/snipped3292_2_time_051.npy\n",
      "244 /work/r08922a13/generative_inpainting/examples/audioset/mag_seg15/loss_pretrain_esc50/snipped3292_2_time_052.npy\n",
      "245 /work/r08922a13/generative_inpainting/examples/audioset/mag_seg15/loss_pretrain_esc50/snipped3292_2_time_053.npy\n",
      "246 /work/r08922a13/generative_inpainting/examples/audioset/mag_seg15/loss_pretrain_esc50/snipped3292_2_time_054.npy\n",
      "247 /work/r08922a13/generative_inpainting/examples/audioset/mag_seg15/loss_pretrain_esc50/snipped3292_2_time_055.npy\n",
      "248 /work/r08922a13/generative_inpainting/examples/audioset/mag_seg15/loss_pretrain_esc50/snipped3292_2_time_056.npy\n",
      "249 /work/r08922a13/generative_inpainting/examples/audioset/mag_seg15/loss_pretrain_esc50/snipped3292_2_time_057.npy\n",
      "250 /work/r08922a13/generative_inpainting/examples/audioset/mag_seg15/loss_pretrain_esc50/snipped3292_2_time_058.npy\n",
      "251 /work/r08922a13/generative_inpainting/examples/audioset/mag_seg15/loss_pretrain_esc50/snipped3292_2_time_059.npy\n",
      "252 /work/r08922a13/generative_inpainting/examples/audioset/mag_seg15/loss_pretrain_esc50/snipped3292_2_time_060.npy\n",
      "253 /work/r08922a13/generative_inpainting/examples/audioset/mag_seg15/loss_pretrain_esc50/snipped3292_2_time_061.npy\n",
      "254 /work/r08922a13/generative_inpainting/examples/audioset/mag_seg15/loss_pretrain_esc50/snipped3292_2_time_062.npy\n",
      "255 /work/r08922a13/generative_inpainting/examples/audioset/mag_seg15/loss_pretrain_esc50/snipped3292_2_time_063.npy\n",
      "256 /work/r08922a13/generative_inpainting/examples/audioset/mag_seg15/loss_pretrain_esc50/snipped6158_4_square_000.npy\n",
      "257 /work/r08922a13/generative_inpainting/examples/audioset/mag_seg15/loss_pretrain_esc50/snipped6158_4_square_001.npy\n",
      "258 /work/r08922a13/generative_inpainting/examples/audioset/mag_seg15/loss_pretrain_esc50/snipped6158_4_square_002.npy\n",
      "259 /work/r08922a13/generative_inpainting/examples/audioset/mag_seg15/loss_pretrain_esc50/snipped6158_4_square_003.npy\n",
      "260 /work/r08922a13/generative_inpainting/examples/audioset/mag_seg15/loss_pretrain_esc50/snipped6158_4_square_004.npy\n",
      "261 /work/r08922a13/generative_inpainting/examples/audioset/mag_seg15/loss_pretrain_esc50/snipped6158_4_square_005.npy\n",
      "262 /work/r08922a13/generative_inpainting/examples/audioset/mag_seg15/loss_pretrain_esc50/snipped6158_4_square_006.npy\n",
      "263 /work/r08922a13/generative_inpainting/examples/audioset/mag_seg15/loss_pretrain_esc50/snipped6158_4_square_007.npy\n",
      "264 /work/r08922a13/generative_inpainting/examples/audioset/mag_seg15/loss_pretrain_esc50/snipped6158_4_square_008.npy\n",
      "265 /work/r08922a13/generative_inpainting/examples/audioset/mag_seg15/loss_pretrain_esc50/snipped6158_4_square_009.npy\n",
      "266 /work/r08922a13/generative_inpainting/examples/audioset/mag_seg15/loss_pretrain_esc50/snipped6158_4_square_010.npy\n",
      "267 /work/r08922a13/generative_inpainting/examples/audioset/mag_seg15/loss_pretrain_esc50/snipped6158_4_square_011.npy\n",
      "268 /work/r08922a13/generative_inpainting/examples/audioset/mag_seg15/loss_pretrain_esc50/snipped6158_4_square_012.npy\n",
      "269 /work/r08922a13/generative_inpainting/examples/audioset/mag_seg15/loss_pretrain_esc50/snipped6158_4_square_013.npy\n",
      "270 /work/r08922a13/generative_inpainting/examples/audioset/mag_seg15/loss_pretrain_esc50/snipped6158_4_square_014.npy\n",
      "271 /work/r08922a13/generative_inpainting/examples/audioset/mag_seg15/loss_pretrain_esc50/snipped6158_4_square_015.npy\n",
      "272 /work/r08922a13/generative_inpainting/examples/audioset/mag_seg15/loss_pretrain_esc50/snipped6158_4_square_016.npy\n",
      "273 /work/r08922a13/generative_inpainting/examples/audioset/mag_seg15/loss_pretrain_esc50/snipped6158_4_square_017.npy\n",
      "274 /work/r08922a13/generative_inpainting/examples/audioset/mag_seg15/loss_pretrain_esc50/snipped6158_4_square_018.npy\n",
      "275 /work/r08922a13/generative_inpainting/examples/audioset/mag_seg15/loss_pretrain_esc50/snipped6158_4_square_019.npy\n",
      "276 /work/r08922a13/generative_inpainting/examples/audioset/mag_seg15/loss_pretrain_esc50/snipped6158_4_square_020.npy\n",
      "277 /work/r08922a13/generative_inpainting/examples/audioset/mag_seg15/loss_pretrain_esc50/snipped6158_4_square_021.npy\n",
      "278 /work/r08922a13/generative_inpainting/examples/audioset/mag_seg15/loss_pretrain_esc50/snipped6158_4_square_022.npy\n",
      "279 /work/r08922a13/generative_inpainting/examples/audioset/mag_seg15/loss_pretrain_esc50/snipped6158_4_square_023.npy\n",
      "280 /work/r08922a13/generative_inpainting/examples/audioset/mag_seg15/loss_pretrain_esc50/snipped6158_4_square_024.npy\n",
      "281 /work/r08922a13/generative_inpainting/examples/audioset/mag_seg15/loss_pretrain_esc50/snipped6158_4_square_025.npy\n",
      "282 /work/r08922a13/generative_inpainting/examples/audioset/mag_seg15/loss_pretrain_esc50/snipped6158_4_square_026.npy\n",
      "283 /work/r08922a13/generative_inpainting/examples/audioset/mag_seg15/loss_pretrain_esc50/snipped6158_4_square_027.npy\n",
      "284 /work/r08922a13/generative_inpainting/examples/audioset/mag_seg15/loss_pretrain_esc50/snipped6158_4_square_028.npy\n",
      "285 /work/r08922a13/generative_inpainting/examples/audioset/mag_seg15/loss_pretrain_esc50/snipped6158_4_square_029.npy\n",
      "286 /work/r08922a13/generative_inpainting/examples/audioset/mag_seg15/loss_pretrain_esc50/snipped6158_4_square_030.npy\n",
      "287 /work/r08922a13/generative_inpainting/examples/audioset/mag_seg15/loss_pretrain_esc50/snipped6158_4_square_031.npy\n",
      "288 /work/r08922a13/generative_inpainting/examples/audioset/mag_seg15/loss_pretrain_esc50/snipped6158_4_square_032.npy\n",
      "289 /work/r08922a13/generative_inpainting/examples/audioset/mag_seg15/loss_pretrain_esc50/snipped6158_4_square_033.npy\n",
      "290 /work/r08922a13/generative_inpainting/examples/audioset/mag_seg15/loss_pretrain_esc50/snipped6158_4_square_034.npy\n",
      "291 /work/r08922a13/generative_inpainting/examples/audioset/mag_seg15/loss_pretrain_esc50/snipped6158_4_square_035.npy\n",
      "292 /work/r08922a13/generative_inpainting/examples/audioset/mag_seg15/loss_pretrain_esc50/snipped6158_4_square_036.npy\n",
      "293 /work/r08922a13/generative_inpainting/examples/audioset/mag_seg15/loss_pretrain_esc50/snipped6158_4_square_037.npy\n",
      "294 /work/r08922a13/generative_inpainting/examples/audioset/mag_seg15/loss_pretrain_esc50/snipped6158_4_square_038.npy\n",
      "295 /work/r08922a13/generative_inpainting/examples/audioset/mag_seg15/loss_pretrain_esc50/snipped6158_4_square_039.npy\n",
      "296 /work/r08922a13/generative_inpainting/examples/audioset/mag_seg15/loss_pretrain_esc50/snipped6158_4_square_040.npy\n",
      "297 /work/r08922a13/generative_inpainting/examples/audioset/mag_seg15/loss_pretrain_esc50/snipped6158_4_square_041.npy\n",
      "298 /work/r08922a13/generative_inpainting/examples/audioset/mag_seg15/loss_pretrain_esc50/snipped6158_4_square_042.npy\n",
      "299 /work/r08922a13/generative_inpainting/examples/audioset/mag_seg15/loss_pretrain_esc50/snipped6158_4_square_043.npy\n",
      "300 /work/r08922a13/generative_inpainting/examples/audioset/mag_seg15/loss_pretrain_esc50/snipped6158_4_square_044.npy\n",
      "301 /work/r08922a13/generative_inpainting/examples/audioset/mag_seg15/loss_pretrain_esc50/snipped6158_4_square_045.npy\n",
      "302 /work/r08922a13/generative_inpainting/examples/audioset/mag_seg15/loss_pretrain_esc50/snipped6158_4_square_046.npy\n",
      "303 /work/r08922a13/generative_inpainting/examples/audioset/mag_seg15/loss_pretrain_esc50/snipped6158_4_square_047.npy\n",
      "304 /work/r08922a13/generative_inpainting/examples/audioset/mag_seg15/loss_pretrain_esc50/snipped6158_4_square_048.npy\n",
      "305 /work/r08922a13/generative_inpainting/examples/audioset/mag_seg15/loss_pretrain_esc50/snipped6158_4_square_049.npy\n",
      "306 /work/r08922a13/generative_inpainting/examples/audioset/mag_seg15/loss_pretrain_esc50/snipped6158_4_square_050.npy\n",
      "307 /work/r08922a13/generative_inpainting/examples/audioset/mag_seg15/loss_pretrain_esc50/snipped6158_4_square_051.npy\n",
      "308 /work/r08922a13/generative_inpainting/examples/audioset/mag_seg15/loss_pretrain_esc50/snipped6158_4_square_052.npy\n",
      "309 /work/r08922a13/generative_inpainting/examples/audioset/mag_seg15/loss_pretrain_esc50/snipped6158_4_square_053.npy\n",
      "310 /work/r08922a13/generative_inpainting/examples/audioset/mag_seg15/loss_pretrain_esc50/snipped6158_4_square_054.npy\n",
      "311 /work/r08922a13/generative_inpainting/examples/audioset/mag_seg15/loss_pretrain_esc50/snipped6158_4_square_055.npy\n",
      "312 /work/r08922a13/generative_inpainting/examples/audioset/mag_seg15/loss_pretrain_esc50/snipped6158_4_square_056.npy\n",
      "313 /work/r08922a13/generative_inpainting/examples/audioset/mag_seg15/loss_pretrain_esc50/snipped6158_4_square_057.npy\n",
      "314 /work/r08922a13/generative_inpainting/examples/audioset/mag_seg15/loss_pretrain_esc50/snipped6158_4_square_058.npy\n"
     ]
    },
    {
     "name": "stdout",
     "output_type": "stream",
     "text": [
      "315 /work/r08922a13/generative_inpainting/examples/audioset/mag_seg15/loss_pretrain_esc50/snipped6158_4_square_059.npy\n",
      "316 /work/r08922a13/generative_inpainting/examples/audioset/mag_seg15/loss_pretrain_esc50/snipped6158_4_square_060.npy\n",
      "317 /work/r08922a13/generative_inpainting/examples/audioset/mag_seg15/loss_pretrain_esc50/snipped6158_4_square_061.npy\n",
      "318 /work/r08922a13/generative_inpainting/examples/audioset/mag_seg15/loss_pretrain_esc50/snipped6158_4_square_062.npy\n",
      "319 /work/r08922a13/generative_inpainting/examples/audioset/mag_seg15/loss_pretrain_esc50/snipped6158_4_square_063.npy\n",
      "320 /work/r08922a13/generative_inpainting/examples/audioset/mag_seg15/loss_pretrain_esc50/snipped6158_4_time_000.npy\n",
      "321 /work/r08922a13/generative_inpainting/examples/audioset/mag_seg15/loss_pretrain_esc50/snipped6158_4_time_001.npy\n",
      "322 /work/r08922a13/generative_inpainting/examples/audioset/mag_seg15/loss_pretrain_esc50/snipped6158_4_time_002.npy\n",
      "323 /work/r08922a13/generative_inpainting/examples/audioset/mag_seg15/loss_pretrain_esc50/snipped6158_4_time_003.npy\n",
      "324 /work/r08922a13/generative_inpainting/examples/audioset/mag_seg15/loss_pretrain_esc50/snipped6158_4_time_004.npy\n",
      "325 /work/r08922a13/generative_inpainting/examples/audioset/mag_seg15/loss_pretrain_esc50/snipped6158_4_time_005.npy\n",
      "326 /work/r08922a13/generative_inpainting/examples/audioset/mag_seg15/loss_pretrain_esc50/snipped6158_4_time_006.npy\n",
      "327 /work/r08922a13/generative_inpainting/examples/audioset/mag_seg15/loss_pretrain_esc50/snipped6158_4_time_007.npy\n",
      "328 /work/r08922a13/generative_inpainting/examples/audioset/mag_seg15/loss_pretrain_esc50/snipped6158_4_time_008.npy\n",
      "329 /work/r08922a13/generative_inpainting/examples/audioset/mag_seg15/loss_pretrain_esc50/snipped6158_4_time_009.npy\n",
      "330 /work/r08922a13/generative_inpainting/examples/audioset/mag_seg15/loss_pretrain_esc50/snipped6158_4_time_010.npy\n",
      "331 /work/r08922a13/generative_inpainting/examples/audioset/mag_seg15/loss_pretrain_esc50/snipped6158_4_time_011.npy\n",
      "332 /work/r08922a13/generative_inpainting/examples/audioset/mag_seg15/loss_pretrain_esc50/snipped6158_4_time_012.npy\n",
      "333 /work/r08922a13/generative_inpainting/examples/audioset/mag_seg15/loss_pretrain_esc50/snipped6158_4_time_013.npy\n",
      "334 /work/r08922a13/generative_inpainting/examples/audioset/mag_seg15/loss_pretrain_esc50/snipped6158_4_time_014.npy\n",
      "335 /work/r08922a13/generative_inpainting/examples/audioset/mag_seg15/loss_pretrain_esc50/snipped6158_4_time_015.npy\n",
      "336 /work/r08922a13/generative_inpainting/examples/audioset/mag_seg15/loss_pretrain_esc50/snipped6158_4_time_016.npy\n",
      "337 /work/r08922a13/generative_inpainting/examples/audioset/mag_seg15/loss_pretrain_esc50/snipped6158_4_time_017.npy\n",
      "338 /work/r08922a13/generative_inpainting/examples/audioset/mag_seg15/loss_pretrain_esc50/snipped6158_4_time_018.npy\n",
      "339 /work/r08922a13/generative_inpainting/examples/audioset/mag_seg15/loss_pretrain_esc50/snipped6158_4_time_019.npy\n",
      "340 /work/r08922a13/generative_inpainting/examples/audioset/mag_seg15/loss_pretrain_esc50/snipped6158_4_time_020.npy\n",
      "341 /work/r08922a13/generative_inpainting/examples/audioset/mag_seg15/loss_pretrain_esc50/snipped6158_4_time_021.npy\n",
      "342 /work/r08922a13/generative_inpainting/examples/audioset/mag_seg15/loss_pretrain_esc50/snipped6158_4_time_022.npy\n",
      "343 /work/r08922a13/generative_inpainting/examples/audioset/mag_seg15/loss_pretrain_esc50/snipped6158_4_time_023.npy\n",
      "344 /work/r08922a13/generative_inpainting/examples/audioset/mag_seg15/loss_pretrain_esc50/snipped6158_4_time_024.npy\n",
      "345 /work/r08922a13/generative_inpainting/examples/audioset/mag_seg15/loss_pretrain_esc50/snipped6158_4_time_025.npy\n",
      "346 /work/r08922a13/generative_inpainting/examples/audioset/mag_seg15/loss_pretrain_esc50/snipped6158_4_time_026.npy\n",
      "347 /work/r08922a13/generative_inpainting/examples/audioset/mag_seg15/loss_pretrain_esc50/snipped6158_4_time_027.npy\n",
      "348 /work/r08922a13/generative_inpainting/examples/audioset/mag_seg15/loss_pretrain_esc50/snipped6158_4_time_028.npy\n",
      "349 /work/r08922a13/generative_inpainting/examples/audioset/mag_seg15/loss_pretrain_esc50/snipped6158_4_time_029.npy\n",
      "350 /work/r08922a13/generative_inpainting/examples/audioset/mag_seg15/loss_pretrain_esc50/snipped6158_4_time_030.npy\n",
      "351 /work/r08922a13/generative_inpainting/examples/audioset/mag_seg15/loss_pretrain_esc50/snipped6158_4_time_031.npy\n",
      "352 /work/r08922a13/generative_inpainting/examples/audioset/mag_seg15/loss_pretrain_esc50/snipped6158_4_time_032.npy\n",
      "353 /work/r08922a13/generative_inpainting/examples/audioset/mag_seg15/loss_pretrain_esc50/snipped6158_4_time_033.npy\n",
      "354 /work/r08922a13/generative_inpainting/examples/audioset/mag_seg15/loss_pretrain_esc50/snipped6158_4_time_034.npy\n",
      "355 /work/r08922a13/generative_inpainting/examples/audioset/mag_seg15/loss_pretrain_esc50/snipped6158_4_time_035.npy\n",
      "356 /work/r08922a13/generative_inpainting/examples/audioset/mag_seg15/loss_pretrain_esc50/snipped6158_4_time_036.npy\n",
      "357 /work/r08922a13/generative_inpainting/examples/audioset/mag_seg15/loss_pretrain_esc50/snipped6158_4_time_037.npy\n",
      "358 /work/r08922a13/generative_inpainting/examples/audioset/mag_seg15/loss_pretrain_esc50/snipped6158_4_time_038.npy\n",
      "359 /work/r08922a13/generative_inpainting/examples/audioset/mag_seg15/loss_pretrain_esc50/snipped6158_4_time_039.npy\n",
      "360 /work/r08922a13/generative_inpainting/examples/audioset/mag_seg15/loss_pretrain_esc50/snipped6158_4_time_040.npy\n",
      "361 /work/r08922a13/generative_inpainting/examples/audioset/mag_seg15/loss_pretrain_esc50/snipped6158_4_time_041.npy\n",
      "362 /work/r08922a13/generative_inpainting/examples/audioset/mag_seg15/loss_pretrain_esc50/snipped6158_4_time_042.npy\n",
      "363 /work/r08922a13/generative_inpainting/examples/audioset/mag_seg15/loss_pretrain_esc50/snipped6158_4_time_043.npy\n",
      "364 /work/r08922a13/generative_inpainting/examples/audioset/mag_seg15/loss_pretrain_esc50/snipped6158_4_time_044.npy\n",
      "365 /work/r08922a13/generative_inpainting/examples/audioset/mag_seg15/loss_pretrain_esc50/snipped6158_4_time_045.npy\n",
      "366 /work/r08922a13/generative_inpainting/examples/audioset/mag_seg15/loss_pretrain_esc50/snipped6158_4_time_046.npy\n",
      "367 /work/r08922a13/generative_inpainting/examples/audioset/mag_seg15/loss_pretrain_esc50/snipped6158_4_time_047.npy\n",
      "368 /work/r08922a13/generative_inpainting/examples/audioset/mag_seg15/loss_pretrain_esc50/snipped6158_4_time_048.npy\n",
      "369 /work/r08922a13/generative_inpainting/examples/audioset/mag_seg15/loss_pretrain_esc50/snipped6158_4_time_049.npy\n",
      "370 /work/r08922a13/generative_inpainting/examples/audioset/mag_seg15/loss_pretrain_esc50/snipped6158_4_time_050.npy\n",
      "371 /work/r08922a13/generative_inpainting/examples/audioset/mag_seg15/loss_pretrain_esc50/snipped6158_4_time_051.npy\n",
      "372 /work/r08922a13/generative_inpainting/examples/audioset/mag_seg15/loss_pretrain_esc50/snipped6158_4_time_052.npy\n",
      "373 /work/r08922a13/generative_inpainting/examples/audioset/mag_seg15/loss_pretrain_esc50/snipped6158_4_time_053.npy\n",
      "374 /work/r08922a13/generative_inpainting/examples/audioset/mag_seg15/loss_pretrain_esc50/snipped6158_4_time_054.npy\n",
      "375 /work/r08922a13/generative_inpainting/examples/audioset/mag_seg15/loss_pretrain_esc50/snipped6158_4_time_055.npy\n",
      "376 /work/r08922a13/generative_inpainting/examples/audioset/mag_seg15/loss_pretrain_esc50/snipped6158_4_time_056.npy\n",
      "377 /work/r08922a13/generative_inpainting/examples/audioset/mag_seg15/loss_pretrain_esc50/snipped6158_4_time_057.npy\n",
      "378 /work/r08922a13/generative_inpainting/examples/audioset/mag_seg15/loss_pretrain_esc50/snipped6158_4_time_058.npy\n",
      "379 /work/r08922a13/generative_inpainting/examples/audioset/mag_seg15/loss_pretrain_esc50/snipped6158_4_time_059.npy\n",
      "380 /work/r08922a13/generative_inpainting/examples/audioset/mag_seg15/loss_pretrain_esc50/snipped6158_4_time_060.npy\n",
      "381 /work/r08922a13/generative_inpainting/examples/audioset/mag_seg15/loss_pretrain_esc50/snipped6158_4_time_061.npy\n",
      "382 /work/r08922a13/generative_inpainting/examples/audioset/mag_seg15/loss_pretrain_esc50/snipped6158_4_time_062.npy\n",
      "383 /work/r08922a13/generative_inpainting/examples/audioset/mag_seg15/loss_pretrain_esc50/snipped6158_4_time_063.npy\n",
      "384 /work/r08922a13/generative_inpainting/examples/audioset/mag_seg15/loss_pretrain_esc50/snipped7266_2_square_000.npy\n",
      "385 /work/r08922a13/generative_inpainting/examples/audioset/mag_seg15/loss_pretrain_esc50/snipped7266_2_square_001.npy\n",
      "386 /work/r08922a13/generative_inpainting/examples/audioset/mag_seg15/loss_pretrain_esc50/snipped7266_2_square_002.npy\n",
      "387 /work/r08922a13/generative_inpainting/examples/audioset/mag_seg15/loss_pretrain_esc50/snipped7266_2_square_003.npy\n",
      "388 /work/r08922a13/generative_inpainting/examples/audioset/mag_seg15/loss_pretrain_esc50/snipped7266_2_square_004.npy\n",
      "389 /work/r08922a13/generative_inpainting/examples/audioset/mag_seg15/loss_pretrain_esc50/snipped7266_2_square_005.npy\n",
      "390 /work/r08922a13/generative_inpainting/examples/audioset/mag_seg15/loss_pretrain_esc50/snipped7266_2_square_006.npy\n",
      "391 /work/r08922a13/generative_inpainting/examples/audioset/mag_seg15/loss_pretrain_esc50/snipped7266_2_square_007.npy\n",
      "392 /work/r08922a13/generative_inpainting/examples/audioset/mag_seg15/loss_pretrain_esc50/snipped7266_2_square_008.npy\n",
      "393 /work/r08922a13/generative_inpainting/examples/audioset/mag_seg15/loss_pretrain_esc50/snipped7266_2_square_009.npy\n"
     ]
    },
    {
     "name": "stdout",
     "output_type": "stream",
     "text": [
      "394 /work/r08922a13/generative_inpainting/examples/audioset/mag_seg15/loss_pretrain_esc50/snipped7266_2_square_010.npy\n",
      "395 /work/r08922a13/generative_inpainting/examples/audioset/mag_seg15/loss_pretrain_esc50/snipped7266_2_square_011.npy\n",
      "396 /work/r08922a13/generative_inpainting/examples/audioset/mag_seg15/loss_pretrain_esc50/snipped7266_2_square_012.npy\n",
      "397 /work/r08922a13/generative_inpainting/examples/audioset/mag_seg15/loss_pretrain_esc50/snipped7266_2_square_013.npy\n",
      "398 /work/r08922a13/generative_inpainting/examples/audioset/mag_seg15/loss_pretrain_esc50/snipped7266_2_square_014.npy\n",
      "399 /work/r08922a13/generative_inpainting/examples/audioset/mag_seg15/loss_pretrain_esc50/snipped7266_2_square_015.npy\n",
      "400 /work/r08922a13/generative_inpainting/examples/audioset/mag_seg15/loss_pretrain_esc50/snipped7266_2_square_016.npy\n",
      "401 /work/r08922a13/generative_inpainting/examples/audioset/mag_seg15/loss_pretrain_esc50/snipped7266_2_square_017.npy\n",
      "402 /work/r08922a13/generative_inpainting/examples/audioset/mag_seg15/loss_pretrain_esc50/snipped7266_2_square_018.npy\n",
      "403 /work/r08922a13/generative_inpainting/examples/audioset/mag_seg15/loss_pretrain_esc50/snipped7266_2_square_019.npy\n",
      "404 /work/r08922a13/generative_inpainting/examples/audioset/mag_seg15/loss_pretrain_esc50/snipped7266_2_square_020.npy\n",
      "405 /work/r08922a13/generative_inpainting/examples/audioset/mag_seg15/loss_pretrain_esc50/snipped7266_2_square_021.npy\n",
      "406 /work/r08922a13/generative_inpainting/examples/audioset/mag_seg15/loss_pretrain_esc50/snipped7266_2_square_022.npy\n",
      "407 /work/r08922a13/generative_inpainting/examples/audioset/mag_seg15/loss_pretrain_esc50/snipped7266_2_square_023.npy\n",
      "408 /work/r08922a13/generative_inpainting/examples/audioset/mag_seg15/loss_pretrain_esc50/snipped7266_2_square_024.npy\n",
      "409 /work/r08922a13/generative_inpainting/examples/audioset/mag_seg15/loss_pretrain_esc50/snipped7266_2_square_025.npy\n",
      "410 /work/r08922a13/generative_inpainting/examples/audioset/mag_seg15/loss_pretrain_esc50/snipped7266_2_square_026.npy\n",
      "411 /work/r08922a13/generative_inpainting/examples/audioset/mag_seg15/loss_pretrain_esc50/snipped7266_2_square_027.npy\n",
      "412 /work/r08922a13/generative_inpainting/examples/audioset/mag_seg15/loss_pretrain_esc50/snipped7266_2_square_028.npy\n",
      "413 /work/r08922a13/generative_inpainting/examples/audioset/mag_seg15/loss_pretrain_esc50/snipped7266_2_square_029.npy\n",
      "414 /work/r08922a13/generative_inpainting/examples/audioset/mag_seg15/loss_pretrain_esc50/snipped7266_2_square_030.npy\n",
      "415 /work/r08922a13/generative_inpainting/examples/audioset/mag_seg15/loss_pretrain_esc50/snipped7266_2_square_031.npy\n",
      "416 /work/r08922a13/generative_inpainting/examples/audioset/mag_seg15/loss_pretrain_esc50/snipped7266_2_square_032.npy\n",
      "417 /work/r08922a13/generative_inpainting/examples/audioset/mag_seg15/loss_pretrain_esc50/snipped7266_2_square_033.npy\n",
      "418 /work/r08922a13/generative_inpainting/examples/audioset/mag_seg15/loss_pretrain_esc50/snipped7266_2_square_034.npy\n",
      "419 /work/r08922a13/generative_inpainting/examples/audioset/mag_seg15/loss_pretrain_esc50/snipped7266_2_square_035.npy\n",
      "420 /work/r08922a13/generative_inpainting/examples/audioset/mag_seg15/loss_pretrain_esc50/snipped7266_2_square_036.npy\n",
      "421 /work/r08922a13/generative_inpainting/examples/audioset/mag_seg15/loss_pretrain_esc50/snipped7266_2_square_037.npy\n",
      "422 /work/r08922a13/generative_inpainting/examples/audioset/mag_seg15/loss_pretrain_esc50/snipped7266_2_square_038.npy\n",
      "423 /work/r08922a13/generative_inpainting/examples/audioset/mag_seg15/loss_pretrain_esc50/snipped7266_2_square_039.npy\n",
      "424 /work/r08922a13/generative_inpainting/examples/audioset/mag_seg15/loss_pretrain_esc50/snipped7266_2_square_040.npy\n",
      "425 /work/r08922a13/generative_inpainting/examples/audioset/mag_seg15/loss_pretrain_esc50/snipped7266_2_square_041.npy\n",
      "426 /work/r08922a13/generative_inpainting/examples/audioset/mag_seg15/loss_pretrain_esc50/snipped7266_2_square_042.npy\n",
      "427 /work/r08922a13/generative_inpainting/examples/audioset/mag_seg15/loss_pretrain_esc50/snipped7266_2_square_043.npy\n",
      "428 /work/r08922a13/generative_inpainting/examples/audioset/mag_seg15/loss_pretrain_esc50/snipped7266_2_square_044.npy\n",
      "429 /work/r08922a13/generative_inpainting/examples/audioset/mag_seg15/loss_pretrain_esc50/snipped7266_2_square_045.npy\n",
      "430 /work/r08922a13/generative_inpainting/examples/audioset/mag_seg15/loss_pretrain_esc50/snipped7266_2_square_046.npy\n",
      "431 /work/r08922a13/generative_inpainting/examples/audioset/mag_seg15/loss_pretrain_esc50/snipped7266_2_square_047.npy\n",
      "432 /work/r08922a13/generative_inpainting/examples/audioset/mag_seg15/loss_pretrain_esc50/snipped7266_2_square_048.npy\n",
      "433 /work/r08922a13/generative_inpainting/examples/audioset/mag_seg15/loss_pretrain_esc50/snipped7266_2_square_049.npy\n",
      "434 /work/r08922a13/generative_inpainting/examples/audioset/mag_seg15/loss_pretrain_esc50/snipped7266_2_square_050.npy\n",
      "435 /work/r08922a13/generative_inpainting/examples/audioset/mag_seg15/loss_pretrain_esc50/snipped7266_2_square_051.npy\n",
      "436 /work/r08922a13/generative_inpainting/examples/audioset/mag_seg15/loss_pretrain_esc50/snipped7266_2_square_052.npy\n",
      "437 /work/r08922a13/generative_inpainting/examples/audioset/mag_seg15/loss_pretrain_esc50/snipped7266_2_square_053.npy\n",
      "438 /work/r08922a13/generative_inpainting/examples/audioset/mag_seg15/loss_pretrain_esc50/snipped7266_2_square_054.npy\n",
      "439 /work/r08922a13/generative_inpainting/examples/audioset/mag_seg15/loss_pretrain_esc50/snipped7266_2_square_055.npy\n",
      "440 /work/r08922a13/generative_inpainting/examples/audioset/mag_seg15/loss_pretrain_esc50/snipped7266_2_square_056.npy\n",
      "441 /work/r08922a13/generative_inpainting/examples/audioset/mag_seg15/loss_pretrain_esc50/snipped7266_2_square_057.npy\n",
      "442 /work/r08922a13/generative_inpainting/examples/audioset/mag_seg15/loss_pretrain_esc50/snipped7266_2_square_058.npy\n",
      "443 /work/r08922a13/generative_inpainting/examples/audioset/mag_seg15/loss_pretrain_esc50/snipped7266_2_square_059.npy\n",
      "444 /work/r08922a13/generative_inpainting/examples/audioset/mag_seg15/loss_pretrain_esc50/snipped7266_2_square_060.npy\n",
      "445 /work/r08922a13/generative_inpainting/examples/audioset/mag_seg15/loss_pretrain_esc50/snipped7266_2_square_061.npy\n",
      "446 /work/r08922a13/generative_inpainting/examples/audioset/mag_seg15/loss_pretrain_esc50/snipped7266_2_square_062.npy\n",
      "447 /work/r08922a13/generative_inpainting/examples/audioset/mag_seg15/loss_pretrain_esc50/snipped7266_2_square_063.npy\n",
      "448 /work/r08922a13/generative_inpainting/examples/audioset/mag_seg15/loss_pretrain_esc50/snipped7266_2_time_000.npy\n",
      "449 /work/r08922a13/generative_inpainting/examples/audioset/mag_seg15/loss_pretrain_esc50/snipped7266_2_time_001.npy\n",
      "450 /work/r08922a13/generative_inpainting/examples/audioset/mag_seg15/loss_pretrain_esc50/snipped7266_2_time_002.npy\n",
      "451 /work/r08922a13/generative_inpainting/examples/audioset/mag_seg15/loss_pretrain_esc50/snipped7266_2_time_003.npy\n",
      "452 /work/r08922a13/generative_inpainting/examples/audioset/mag_seg15/loss_pretrain_esc50/snipped7266_2_time_004.npy\n",
      "453 /work/r08922a13/generative_inpainting/examples/audioset/mag_seg15/loss_pretrain_esc50/snipped7266_2_time_005.npy\n",
      "454 /work/r08922a13/generative_inpainting/examples/audioset/mag_seg15/loss_pretrain_esc50/snipped7266_2_time_006.npy\n",
      "455 /work/r08922a13/generative_inpainting/examples/audioset/mag_seg15/loss_pretrain_esc50/snipped7266_2_time_007.npy\n",
      "456 /work/r08922a13/generative_inpainting/examples/audioset/mag_seg15/loss_pretrain_esc50/snipped7266_2_time_008.npy\n",
      "457 /work/r08922a13/generative_inpainting/examples/audioset/mag_seg15/loss_pretrain_esc50/snipped7266_2_time_009.npy\n",
      "458 /work/r08922a13/generative_inpainting/examples/audioset/mag_seg15/loss_pretrain_esc50/snipped7266_2_time_010.npy\n",
      "459 /work/r08922a13/generative_inpainting/examples/audioset/mag_seg15/loss_pretrain_esc50/snipped7266_2_time_011.npy\n",
      "460 /work/r08922a13/generative_inpainting/examples/audioset/mag_seg15/loss_pretrain_esc50/snipped7266_2_time_012.npy\n",
      "461 /work/r08922a13/generative_inpainting/examples/audioset/mag_seg15/loss_pretrain_esc50/snipped7266_2_time_013.npy\n",
      "462 /work/r08922a13/generative_inpainting/examples/audioset/mag_seg15/loss_pretrain_esc50/snipped7266_2_time_014.npy\n",
      "463 /work/r08922a13/generative_inpainting/examples/audioset/mag_seg15/loss_pretrain_esc50/snipped7266_2_time_015.npy\n",
      "464 /work/r08922a13/generative_inpainting/examples/audioset/mag_seg15/loss_pretrain_esc50/snipped7266_2_time_016.npy\n",
      "465 /work/r08922a13/generative_inpainting/examples/audioset/mag_seg15/loss_pretrain_esc50/snipped7266_2_time_017.npy\n",
      "466 /work/r08922a13/generative_inpainting/examples/audioset/mag_seg15/loss_pretrain_esc50/snipped7266_2_time_018.npy\n",
      "467 /work/r08922a13/generative_inpainting/examples/audioset/mag_seg15/loss_pretrain_esc50/snipped7266_2_time_019.npy\n",
      "468 /work/r08922a13/generative_inpainting/examples/audioset/mag_seg15/loss_pretrain_esc50/snipped7266_2_time_020.npy\n",
      "469 /work/r08922a13/generative_inpainting/examples/audioset/mag_seg15/loss_pretrain_esc50/snipped7266_2_time_021.npy\n",
      "470 /work/r08922a13/generative_inpainting/examples/audioset/mag_seg15/loss_pretrain_esc50/snipped7266_2_time_022.npy\n",
      "471 /work/r08922a13/generative_inpainting/examples/audioset/mag_seg15/loss_pretrain_esc50/snipped7266_2_time_023.npy\n",
      "472 /work/r08922a13/generative_inpainting/examples/audioset/mag_seg15/loss_pretrain_esc50/snipped7266_2_time_024.npy\n",
      "473 /work/r08922a13/generative_inpainting/examples/audioset/mag_seg15/loss_pretrain_esc50/snipped7266_2_time_025.npy\n",
      "474 /work/r08922a13/generative_inpainting/examples/audioset/mag_seg15/loss_pretrain_esc50/snipped7266_2_time_026.npy\n",
      "475 /work/r08922a13/generative_inpainting/examples/audioset/mag_seg15/loss_pretrain_esc50/snipped7266_2_time_027.npy\n"
     ]
    },
    {
     "name": "stdout",
     "output_type": "stream",
     "text": [
      "476 /work/r08922a13/generative_inpainting/examples/audioset/mag_seg15/loss_pretrain_esc50/snipped7266_2_time_028.npy\n",
      "477 /work/r08922a13/generative_inpainting/examples/audioset/mag_seg15/loss_pretrain_esc50/snipped7266_2_time_029.npy\n",
      "478 /work/r08922a13/generative_inpainting/examples/audioset/mag_seg15/loss_pretrain_esc50/snipped7266_2_time_030.npy\n",
      "479 /work/r08922a13/generative_inpainting/examples/audioset/mag_seg15/loss_pretrain_esc50/snipped7266_2_time_031.npy\n",
      "480 /work/r08922a13/generative_inpainting/examples/audioset/mag_seg15/loss_pretrain_esc50/snipped7266_2_time_032.npy\n",
      "481 /work/r08922a13/generative_inpainting/examples/audioset/mag_seg15/loss_pretrain_esc50/snipped7266_2_time_033.npy\n",
      "482 /work/r08922a13/generative_inpainting/examples/audioset/mag_seg15/loss_pretrain_esc50/snipped7266_2_time_034.npy\n",
      "483 /work/r08922a13/generative_inpainting/examples/audioset/mag_seg15/loss_pretrain_esc50/snipped7266_2_time_035.npy\n",
      "484 /work/r08922a13/generative_inpainting/examples/audioset/mag_seg15/loss_pretrain_esc50/snipped7266_2_time_036.npy\n",
      "485 /work/r08922a13/generative_inpainting/examples/audioset/mag_seg15/loss_pretrain_esc50/snipped7266_2_time_037.npy\n",
      "486 /work/r08922a13/generative_inpainting/examples/audioset/mag_seg15/loss_pretrain_esc50/snipped7266_2_time_038.npy\n",
      "487 /work/r08922a13/generative_inpainting/examples/audioset/mag_seg15/loss_pretrain_esc50/snipped7266_2_time_039.npy\n",
      "488 /work/r08922a13/generative_inpainting/examples/audioset/mag_seg15/loss_pretrain_esc50/snipped7266_2_time_040.npy\n",
      "489 /work/r08922a13/generative_inpainting/examples/audioset/mag_seg15/loss_pretrain_esc50/snipped7266_2_time_041.npy\n",
      "490 /work/r08922a13/generative_inpainting/examples/audioset/mag_seg15/loss_pretrain_esc50/snipped7266_2_time_042.npy\n",
      "491 /work/r08922a13/generative_inpainting/examples/audioset/mag_seg15/loss_pretrain_esc50/snipped7266_2_time_043.npy\n",
      "492 /work/r08922a13/generative_inpainting/examples/audioset/mag_seg15/loss_pretrain_esc50/snipped7266_2_time_044.npy\n",
      "493 /work/r08922a13/generative_inpainting/examples/audioset/mag_seg15/loss_pretrain_esc50/snipped7266_2_time_045.npy\n",
      "494 /work/r08922a13/generative_inpainting/examples/audioset/mag_seg15/loss_pretrain_esc50/snipped7266_2_time_046.npy\n",
      "495 /work/r08922a13/generative_inpainting/examples/audioset/mag_seg15/loss_pretrain_esc50/snipped7266_2_time_047.npy\n",
      "496 /work/r08922a13/generative_inpainting/examples/audioset/mag_seg15/loss_pretrain_esc50/snipped7266_2_time_048.npy\n",
      "497 /work/r08922a13/generative_inpainting/examples/audioset/mag_seg15/loss_pretrain_esc50/snipped7266_2_time_049.npy\n",
      "498 /work/r08922a13/generative_inpainting/examples/audioset/mag_seg15/loss_pretrain_esc50/snipped7266_2_time_050.npy\n",
      "499 /work/r08922a13/generative_inpainting/examples/audioset/mag_seg15/loss_pretrain_esc50/snipped7266_2_time_051.npy\n",
      "500 /work/r08922a13/generative_inpainting/examples/audioset/mag_seg15/loss_pretrain_esc50/snipped7266_2_time_052.npy\n",
      "501 /work/r08922a13/generative_inpainting/examples/audioset/mag_seg15/loss_pretrain_esc50/snipped7266_2_time_053.npy\n",
      "502 /work/r08922a13/generative_inpainting/examples/audioset/mag_seg15/loss_pretrain_esc50/snipped7266_2_time_054.npy\n",
      "503 /work/r08922a13/generative_inpainting/examples/audioset/mag_seg15/loss_pretrain_esc50/snipped7266_2_time_055.npy\n",
      "504 /work/r08922a13/generative_inpainting/examples/audioset/mag_seg15/loss_pretrain_esc50/snipped7266_2_time_056.npy\n",
      "505 /work/r08922a13/generative_inpainting/examples/audioset/mag_seg15/loss_pretrain_esc50/snipped7266_2_time_057.npy\n",
      "506 /work/r08922a13/generative_inpainting/examples/audioset/mag_seg15/loss_pretrain_esc50/snipped7266_2_time_058.npy\n",
      "507 /work/r08922a13/generative_inpainting/examples/audioset/mag_seg15/loss_pretrain_esc50/snipped7266_2_time_059.npy\n",
      "508 /work/r08922a13/generative_inpainting/examples/audioset/mag_seg15/loss_pretrain_esc50/snipped7266_2_time_060.npy\n",
      "509 /work/r08922a13/generative_inpainting/examples/audioset/mag_seg15/loss_pretrain_esc50/snipped7266_2_time_061.npy\n",
      "510 /work/r08922a13/generative_inpainting/examples/audioset/mag_seg15/loss_pretrain_esc50/snipped7266_2_time_062.npy\n"
     ]
    },
    {
     "name": "stderr",
     "output_type": "stream",
     "text": [
      " 20%|██        | 13/64 [00:00<00:00, 128.32it/s]"
     ]
    },
    {
     "name": "stdout",
     "output_type": "stream",
     "text": [
      "511 /work/r08922a13/generative_inpainting/examples/audioset/mag_seg15/loss_pretrain_esc50/snipped7266_2_time_063.npy\n",
      "snipped10357_3_square\n"
     ]
    },
    {
     "name": "stderr",
     "output_type": "stream",
     "text": [
      "100%|██████████| 64/64 [00:00<00:00, 129.40it/s]\n",
      " 20%|██        | 13/64 [00:00<00:00, 128.00it/s]"
     ]
    },
    {
     "name": "stdout",
     "output_type": "stream",
     "text": [
      "snipped10357_3_time\n"
     ]
    },
    {
     "name": "stderr",
     "output_type": "stream",
     "text": [
      "100%|██████████| 64/64 [00:00<00:00, 127.69it/s]\n",
      " 28%|██▊       | 18/64 [00:00<00:00, 174.00it/s]"
     ]
    },
    {
     "name": "stdout",
     "output_type": "stream",
     "text": [
      "snipped3292_2_square\n"
     ]
    },
    {
     "name": "stderr",
     "output_type": "stream",
     "text": [
      "100%|██████████| 64/64 [00:00<00:00, 154.20it/s]\n",
      " 28%|██▊       | 18/64 [00:00<00:00, 173.57it/s]"
     ]
    },
    {
     "name": "stdout",
     "output_type": "stream",
     "text": [
      "snipped3292_2_time\n"
     ]
    },
    {
     "name": "stderr",
     "output_type": "stream",
     "text": [
      "100%|██████████| 64/64 [00:00<00:00, 163.71it/s]\n",
      " 22%|██▏       | 14/64 [00:00<00:00, 132.43it/s]"
     ]
    },
    {
     "name": "stdout",
     "output_type": "stream",
     "text": [
      "snipped6158_4_square\n"
     ]
    },
    {
     "name": "stderr",
     "output_type": "stream",
     "text": [
      "100%|██████████| 64/64 [00:00<00:00, 131.04it/s]\n",
      " 22%|██▏       | 14/64 [00:00<00:00, 130.32it/s]"
     ]
    },
    {
     "name": "stdout",
     "output_type": "stream",
     "text": [
      "snipped6158_4_time\n"
     ]
    },
    {
     "name": "stderr",
     "output_type": "stream",
     "text": [
      "100%|██████████| 64/64 [00:00<00:00, 127.13it/s]\n",
      " 22%|██▏       | 14/64 [00:00<00:00, 132.80it/s]"
     ]
    },
    {
     "name": "stdout",
     "output_type": "stream",
     "text": [
      "snipped7266_2_square\n"
     ]
    },
    {
     "name": "stderr",
     "output_type": "stream",
     "text": [
      "100%|██████████| 64/64 [00:00<00:00, 130.19it/s]\n",
      " 22%|██▏       | 14/64 [00:00<00:00, 132.83it/s]"
     ]
    },
    {
     "name": "stdout",
     "output_type": "stream",
     "text": [
      "snipped7266_2_time\n"
     ]
    },
    {
     "name": "stderr",
     "output_type": "stream",
     "text": [
      "100%|██████████| 64/64 [00:00<00:00, 131.84it/s]\n"
     ]
    }
   ],
   "source": [
    "# diff -> png -> gif\n",
    "data_pth = op.join(proj_pth, 'examples/audioset/mag_seg15')\n",
    "output_pth = op.join(proj_pth, 'examples/audioset/mag_seg15/loss_pretrain_esc50')\n",
    "diff_pth = op.join(output_pth, 'diff_output')\n",
    "if op.isdir(diff_pth) is False:\n",
    "    os.mkdir(diff_pth)\n",
    "shape = ['square', 'time']\n",
    "for filename in sorted(Path(data_pth).glob('*.npy')):\n",
    "    origin = np.load(filename)\n",
    "    file = op.basename(filename).split('.')[0]\n",
    "    for anyshape in shape:\n",
    "        file_shape = file + '_' + anyshape\n",
    "        for output in tqdm(sorted(Path(output_pth).glob(f'{file_shape}*.npy'))):\n",
    "            #print(output)\n",
    "            inpainted = np.load(output)\n",
    "            diff = abs(inpainted - origin)\n",
    "            diff_output = op.join(diff_pth, op.basename(output))\n",
    "            #print(diff_output)\n",
    "            np.save(diff_output, diff)\n",
    "\n",
    "png_pth = op.join(diff_pth, 'png')\n",
    "if op.isdir(png_pth) is False:\n",
    "    os.mkdir(png_pth)\n",
    "for i, filename in enumerate(sorted(Path(output_pth).glob('*.npy'))):\n",
    "    print(i, filename)\n",
    "    \n",
    "    spec = np.load(filename)\n",
    "    h, w, _ = spec.shape\n",
    "    spec = spec.reshape((h, w))\n",
    "    \n",
    "    png_filename = op.basename(filename).split('.')[0] + '.png'\n",
    "    png_filename = op.join(png_pth, png_filename)\n",
    "    \n",
    "    # First save the spec to png with force try.\n",
    "    plt.imsave(png_filename, spec, cmap='gray')\n",
    "\n",
    "\n",
    "for filename in sorted(Path(data_pth).glob('*.npy')):\n",
    "    #print(filename)\n",
    "    file = op.basename(filename).split('.')[0]\n",
    "    for anyshape in shape:\n",
    "        #print(file, anyshape)\n",
    "        file_shape = file + '_' + anyshape\n",
    "        print(file_shape)\n",
    "        with imageio.get_writer(op.join(png_pth, f'{file_shape}.gif'), mode='I', duration=0.2) as writer:\n",
    "            for png in tqdm(sorted(Path(png_pth).glob(f'{file_shape}*.png'))):\n",
    "                # print(png)\n",
    "                image = imageio.imread(png)\n",
    "                #plt.figure()\n",
    "                #plt.imshow(image, 'gray')\n",
    "                writer.append_data(image)"
   ]
  },
  {
   "cell_type": "code",
   "execution_count": null,
   "metadata": {},
   "outputs": [],
   "source": [
    "# diff -> png -> gif\n",
    "data_pth = op.join(proj_pth, 'examples/esc50/mag_seg15_256/')\n",
    "output_pth = op.join(proj_pth, 'examples/esc50/mag_seg15_256/loss_test_time_wider_l115')\n",
    "png_pth = op.join(output_pth, 'png')\n",
    "shape = ['square', 'time']\n",
    "if op.isdir(png_pth) is False:\n",
    "    os.mkdir(png_pth)\n",
    "for i, filename in tqdm(enumerate(sorted(Path(output_pth).glob('*.npy')))):\n",
    "    # print(i, filename)\n",
    "    \n",
    "    spec = np.load(filename)\n",
    "    h, w, _ = spec.shape\n",
    "    spec = spec.reshape((h, w))\n",
    "    \n",
    "    png_filename = op.basename(filename).split('.')[0] + '.png'\n",
    "    png_filename = op.join(png_pth, png_filename)\n",
    "    \n",
    "    # First save the spec to png with force try.\n",
    "    plt.imsave(png_filename, spec, cmap='gray')\n",
    "\n",
    "\n",
    "for filename in sorted(Path(data_pth).glob('*.npy')):\n",
    "    #print(filename)\n",
    "    file = op.basename(filename).split('.')[0]\n",
    "    for anyshape in shape:\n",
    "        #print(file, anyshape)\n",
    "        file_shape = file + '_' + anyshape\n",
    "        # print(file_shape)\n",
    "        with imageio.get_writer(op.join(png_pth, f'{file_shape}.gif'), mode='I', duration=0.2) as writer:\n",
    "            for png in tqdm(sorted(Path(png_pth).glob(f'{file_shape}*.png'))):\n",
    "                # print(png)\n",
    "                image = imageio.imread(png)\n",
    "                #plt.figure()\n",
    "                #plt.imshow(image, 'gray')\n",
    "                writer.append_data(image)"
   ]
  },
  {
   "cell_type": "code",
   "execution_count": null,
   "metadata": {
    "scrolled": true
   },
   "outputs": [],
   "source": [
    "data_pth = op.join(proj_pth, 'examples/esc50/mag_seg15_256/')\n",
    "wav_pth = op.join(proj_pth, 'examples/esc50/mag_seg15_256/loss_test_time_mask_only/audio')\n",
    "output_pth = op.join(wav_pth, 'loss')\n",
    "if op.isdir(output_pth) is False:\n",
    "    os.mkdir(output_pth)\n",
    "png_pth = op.join(wav_pth, 'png')\n",
    "if op.isdir(png_pth) is False:\n",
    "    os.mkdir(png_pth)\n",
    "shape = ['square', 'time']\n",
    "for filename in sorted(Path(data_pth).glob('*_res.wav')):\n",
    "    #print(filename)\n",
    "    origin_waveform, sr = torchaudio.load(filename, normalization=True)\n",
    "    #print(\"Min: {}\\nMax: {}\\nMean: {}\".format(origin_waveform.min(), origin_waveform.max(), origin_waveform.mean()))\n",
    "    #plt.figure()\n",
    "    #plt.plot(origin_waveform[0])\n",
    "    file = op.basename(filename).split('.')[0].split('_origin')[0]\n",
    "    for anyshape in shape:\n",
    "        #print(file, anyshape)\n",
    "        file_shape = file + '_' + anyshape\n",
    "        #print(file_shape)\n",
    "        error_list = []\n",
    "        for output in tqdm(sorted(Path(wav_pth).glob(f'{file_shape}*.wav'))):\n",
    "            #print(output)\n",
    "            inpainted_waveform, sr = torchaudio.load(output, normalization=True)\n",
    "            #print(\"Min: {}\\nMax: {}\\nMean: {}\".format(inpainted_waveform.min(), inpainted_waveform.max(), inpainted_waveform.mean()))\n",
    "            #plt.figure()\n",
    "            #plt.plot(inpainted_waveform[0])\n",
    "            #print(inpainted_waveform.shape, _, l)\n",
    "            diff = torch.mean(abs(inpainted_waveform - origin_waveform))\n",
    "            # err = ((origin_waveform-inpainted_waveform).abs() / origin_waveform.abs()).median()\n",
    "            err_value = diff.item()\n",
    "            error_list.append(err_value)\n",
    "            # print(diff, err)\n",
    "            \n",
    "            wave_pack = np.concatenate((origin_waveform, inpainted_waveform), axis=0)\n",
    "            # print(wave_pack.shape)\n",
    "            \n",
    "            plt.figure()\n",
    "            plt.ylim(-0.5, 0.5)\n",
    "            plt.plot(wave_pack[0], 'b', wave_pack[1], 'r')\n",
    "            png_name = op.basename(output).split('.')[0] + '.png'\n",
    "            png_name = op.join(png_pth, png_name)\n",
    "            plt.savefig(png_name)\n",
    "        error_filename = op.join(output_pth, f'{file_shape}_mean-l1.txt')\n",
    "        with open(error_filename, 'w') as f:\n",
    "            for index in error_list:\n",
    "                f.write(str(index)+'\\n')"
   ]
  },
  {
   "cell_type": "code",
   "execution_count": null,
   "metadata": {
    "scrolled": true
   },
   "outputs": [],
   "source": [
    "print(origin_waveform, inpainted_waveform)\n",
    "print(abs(origin_waveform - inpainted_waveform))\n",
    "print(torch.mean(abs(origin_waveform - inpainted_waveform)))"
   ]
  },
  {
   "cell_type": "code",
   "execution_count": null,
   "metadata": {},
   "outputs": [],
   "source": []
  },
  {
   "cell_type": "code",
   "execution_count": null,
   "metadata": {},
   "outputs": [],
   "source": [
    "test_waveform = torch.tensor([[1., -1., .5, .5, .2, .1, 1.]])\n",
    "test2_waveform = torch.tensor([[1.5, -1.5, 1.5, .5, .2, .1, 1.]])\n",
    "print(test_waveform.shape, test2_waveform.shape)\n",
    "print((test_waveform - test2_waveform).abs())\n",
    "print(test_waveform.abs())\n",
    "print((test_waveform - test2_waveform).abs() / test_waveform.abs())\n",
    "print(((test_waveform - test2_waveform).abs() / test_waveform.abs()).median())\n",
    "print(test_waveform.median())"
   ]
  },
  {
   "cell_type": "code",
   "execution_count": null,
   "metadata": {},
   "outputs": [],
   "source": [
    "test_waveform = torch.tensor([[1., -1., .5, .5, .2, .1, 1.]])\n",
    "test2_waveform = torch.tensor([[1.5, -1.5, 1.5, .5, .2, .1, 1.]])\n",
    "print(test_waveform.shape, test2_waveform.shape)\n",
    "print(abs(test_waveform - test2_waveform))\n",
    "print(torch.mean(abs(test_waveform - test2_waveform)))"
   ]
  },
  {
   "cell_type": "code",
   "execution_count": null,
   "metadata": {},
   "outputs": [],
   "source": [
    "'''\n",
    "if op.isdir(output_pth) is False:\n",
    "    os.mkdir(output_pth)\n",
    "error_filename = op.join(output_pth, f'{file_shape}_mean-l1.txt')\n",
    "with open(error_filename, 'w') as f:\n",
    "    for index in error_list:\n",
    "        f.write(str(index)+'\\n')\n",
    "'''"
   ]
  }
 ],
 "metadata": {
  "kernelspec": {
   "display_name": "Python 3",
   "language": "python",
   "name": "python3"
  },
  "language_info": {
   "codemirror_mode": {
    "name": "ipython",
    "version": 3
   },
   "file_extension": ".py",
   "mimetype": "text/x-python",
   "name": "python",
   "nbconvert_exporter": "python",
   "pygments_lexer": "ipython3",
   "version": "3.6.10"
  }
 },
 "nbformat": 4,
 "nbformat_minor": 2
}
