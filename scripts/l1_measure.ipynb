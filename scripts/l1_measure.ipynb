{
 "cells": [
  {
   "cell_type": "code",
   "execution_count": 24,
   "metadata": {},
   "outputs": [],
   "source": [
    "from pathlib import Path\n",
    "from pandas import Series, DataFrame\n",
    "from tqdm import tqdm\n",
    "\n",
    "import imageio\n",
    "import plotly as plp\n",
    "import plotly.graph_objs as plgo\n",
    "import plotly.express as px\n",
    "import numpy as np\n",
    "import matplotlib.pyplot as plt\n",
    "import os.path as op\n",
    "import cv2\n",
    "import os\n",
    "import math\n",
    "import torch\n",
    "import torchaudio\n",
    "import tensorflow as tf"
   ]
  },
  {
   "cell_type": "code",
   "execution_count": 2,
   "metadata": {},
   "outputs": [],
   "source": [
    "proj_pth = '/work/r08922a13/generative_inpainting'\n",
    "data_pth = op.join(proj_pth, 'examples/esc50/mag_origin_npy')\n",
    "os.chdir(proj_pth)"
   ]
  },
  {
   "cell_type": "code",
   "execution_count": null,
   "metadata": {},
   "outputs": [],
   "source": [
    "spec = np.ones([256, 256])\n",
    "plt.figure()\n",
    "plt.imshow(spec, 'gray')"
   ]
  },
  {
   "cell_type": "code",
   "execution_count": null,
   "metadata": {},
   "outputs": [],
   "source": [
    "for i, filename in enumerate(sorted(Path(data_pth).glob('*.npy'))):\n",
    "    print(i, filename)\n",
    "    \n",
    "    spec = np.load(filename)\n",
    "    print(spec.shape)\n",
    "    h, w, _ = spec.shape\n",
    "    spec = spec.reshape((h, w))\n",
    "    print(spec.shape)\n",
    "    plt.figure()\n",
    "    plt.imshow(spec, 'gray')\n",
    "    break"
   ]
  },
  {
   "cell_type": "code",
   "execution_count": null,
   "metadata": {},
   "outputs": [],
   "source": [
    "def l1_loss(x, y):\n",
    "    error = abs(x - y)\n",
    "    print(sum(error))\n",
    "    print(sum(sum(error)))\n",
    "    return sum(sum(error))"
   ]
  },
  {
   "cell_type": "code",
   "execution_count": null,
   "metadata": {},
   "outputs": [],
   "source": [
    "def psnr(target, ref):\n",
    "    diff = ref - target\n",
    "    diff = diff.flatten('C')\n",
    "    rmse = math.sqrt(np.mean(diff ** 2.))\n",
    "    return 20 * math.log10(1.0 / rmse)"
   ]
  },
  {
   "cell_type": "code",
   "execution_count": null,
   "metadata": {},
   "outputs": [],
   "source": [
    "def create_mask(length, mask_type='square'):\n",
    "    # For sorted.\n",
    "    if length < 10:\n",
    "        output_pth = op.join(proj_pth, f'examples/esc50/mask_256/mask_{mask_type}_00{length}')\n",
    "    elif length < 100:\n",
    "        output_pth = op.join(proj_pth, f'examples/esc50/mask_256/mask_{mask_type}_0{length}')\n",
    "    else:\n",
    "        output_pth = op.join(proj_pth, f'examples/esc50/mask_256/mask_{mask_type}_{length}')\n",
    "    \n",
    "    if op.isfile(output_pth):\n",
    "        return output_pth\n",
    "    \n",
    "    h, w = spec.shape\n",
    "    mid_point = h // 2, w // 2\n",
    "    # print(mid_point, length)\n",
    "    \n",
    "    mask = np.zeros((h, w, 3), np.uint8)\n",
    "    if mask_type == 'square':\n",
    "        t = mid_point[0] - (length // 2) + 1\n",
    "        b = mid_point[0] + (length // 2)\n",
    "        l = mid_point[1] - (length // 2) + 1\n",
    "        r = mid_point[1] + (length // 2)\n",
    "        # print(t, b, l, r)\n",
    "        mask = cv2.rectangle(mask, (l, t), (r, b), (255, 255, 255), -1)\n",
    "    elif mask_type == 'time':\n",
    "        area = length * length\n",
    "        if area < h * 1:\n",
    "            constant = 11\n",
    "            height = area // constant\n",
    "            t = mid_point[0] - (height // 2) + 1\n",
    "            b = mid_point[0] + (height // 2)\n",
    "            l = mid_point[1] - (constant // 2) + 1\n",
    "            r = mid_point[1] + (constant // 2)\n",
    "        else:\n",
    "            width = area // h\n",
    "            t = 0 + 1\n",
    "            b = h\n",
    "            l = mid_point[1] - (width // 2) + 1\n",
    "            r = mid_point[1] + (width // 2)\n",
    "        # print(t, b, l, r)\n",
    "        mask = cv2.rectangle(mask, (l, t), (r, b), (255, 255, 255), -1)\n",
    "\n",
    "    mask = cv2.cvtColor(mask, cv2.COLOR_BGR2GRAY)\n",
    "\n",
    "    # print(gray[110][:])\n",
    "\n",
    "    plt.figure()\n",
    "    plt.imshow(mask, 'gray')\n",
    "    # print(mask[0])\n",
    "\n",
    "    # This way is for showing the visualized results then convert to 1-channel.\n",
    "    mask = mask[:, :, np.newaxis]\n",
    "    # print(square_mask.shape)\n",
    "\n",
    "    np.save(output_pth, mask)\n",
    "    return output_pth + '.npy'"
   ]
  },
  {
   "cell_type": "code",
   "execution_count": null,
   "metadata": {},
   "outputs": [],
   "source": [
    "def create_mask_base_on_time(length, mask_type='square'):\n",
    "    # For sorted.\n",
    "    if length < 10:\n",
    "        output_pth = op.join(proj_pth, f'examples/esc50/mask_256/mask_{mask_type}_00{length}')\n",
    "    elif length < 100:\n",
    "        output_pth = op.join(proj_pth, f'examples/esc50/mask_256/mask_{mask_type}_0{length}')\n",
    "    else:\n",
    "        output_pth = op.join(proj_pth, f'examples/esc50/mask_256/mask_{mask_type}_{length}')\n",
    "    \n",
    "    if op.isfile(output_pth):\n",
    "        return output_pth\n",
    "    \n",
    "    h, w = spec.shape\n",
    "    mid_point = h // 2, w // 2\n",
    "    # print(mid_point, length)\n",
    "    \n",
    "    mask = np.zeros((h, w, 3), np.uint8)\n",
    "    if mask_type == 'square':\n",
    "        area = h * length\n",
    "        side = math.floor(math.sqrt(area))\n",
    "        t = mid_point[0] - (side // 2) + 1\n",
    "        b = mid_point[0] + (side // 2)\n",
    "        l = mid_point[1] - (side // 2) + 1\n",
    "        r = mid_point[1] + (side // 2)\n",
    "        # print(t, b, l, r)\n",
    "        mask = cv2.rectangle(mask, (l, t), (r, b), (255, 255, 255), -1)\n",
    "    elif mask_type == 'time':\n",
    "        width = length\n",
    "        t = 0 + 1\n",
    "        b = h\n",
    "        l = mid_point[1] - (width // 2) + 1\n",
    "        r = mid_point[1] + (width // 2)\n",
    "        # print(t, b, l, r)\n",
    "        mask = cv2.rectangle(mask, (l, t), (r, b), (255, 255, 255), -1)\n",
    "\n",
    "    mask = cv2.cvtColor(mask, cv2.COLOR_BGR2GRAY)\n",
    "\n",
    "    # print(gray[110][:])\n",
    "\n",
    "    plt.figure()\n",
    "    plt.imshow(mask, 'gray')\n",
    "    # print(mask[0])\n",
    "\n",
    "    # This way is for showing the visualized results then convert to 1-channel.\n",
    "    mask = mask[:, :, np.newaxis]\n",
    "    # print(square_mask.shape)\n",
    "\n",
    "    np.save(output_pth, mask)\n",
    "    return output_pth + '.npy'"
   ]
  },
  {
   "cell_type": "code",
   "execution_count": null,
   "metadata": {
    "scrolled": true
   },
   "outputs": [],
   "source": [
    "output_pth = op.join(proj_pth, 'examples/esc50/mag_origin_npy/loss_test_output')\n",
    "loss_pth = op.join(output_pth, 'l1_loss')\n",
    "checkpoint = op.join(proj_pth, 'logs/full_model_esc50_origin_npy_test')\n",
    "square_l1_loss = []\n",
    "# Set 10 as progress unix for mask length. From 10 -> 400.\n",
    "for i in range(64):\n",
    "    image = filename\n",
    "    \n",
    "    mask_type = 'square'\n",
    "    mask_length = (i + 1) * 4\n",
    "    mask = create_mask_base_on_time(mask_length, mask_type)\n",
    "    \n",
    "    #print(op.basename(filename))\n",
    "    #output_filename = op.basename(filename).split('.')[0] + f'_{mask_type}_{i}' + '.' + op.basename(filename).split('.')[1]\n",
    "    #output = op.join(output_pth, output_filename)\n",
    "    #print(output)\n",
    "    '''\n",
    "    cmd = f'python /work/r08922a13/generative_inpainting/test.py --image {image} --mask {mask} --output {output} --checkpoint {checkpoint}'\n",
    "    print(cmd)\n",
    "    os.system(cmd)\n",
    "    \n",
    "    inpaint_spec = np.load(output)\n",
    "    h, w, _ = inpaint_spec.shape\n",
    "    inpaint_spec = inpaint_spec.reshape((h, w))\n",
    "\n",
    "    square_l1_loss.append(l1_loss(spec, inpaint_spec))\n",
    "    #break\n",
    "    \n",
    "loss_filename = op.join(loss_pth, f'l1_loss_{mask_type}.txt')\n",
    "with open(loss_filename, 'w') as f:\n",
    "    for index in square_l1_loss:\n",
    "        f.write(str(index)+'\\n')\n",
    "    '''"
   ]
  },
  {
   "cell_type": "code",
   "execution_count": null,
   "metadata": {},
   "outputs": [],
   "source": [
    "output = '/work/r08922a13/generative_inpainting/examples/esc50/mag_origin_npy/loss_test_output/1-80841-A-13_spec_square_22.npy'\n",
    "inpaint_spec = np.load(output)\n",
    "h, w, _ = inpaint_spec.shape\n",
    "inpaint_spec = inpaint_spec.reshape((h, w))"
   ]
  },
  {
   "cell_type": "code",
   "execution_count": null,
   "metadata": {},
   "outputs": [],
   "source": [
    "loss = psnr(spec, inpaint_spec)\n",
    "print(loss)"
   ]
  },
  {
   "cell_type": "code",
   "execution_count": null,
   "metadata": {},
   "outputs": [],
   "source": [
    "mask_type = 'square'\n",
    "loss_filename = op.join(output_pth, f'l1_loss_{mask_type}.txt')\n",
    "with open(loss_filename, 'r') as f:\n",
    "    sq_loss_list = f.read().splitlines()\n",
    "print(sq_loss_list)\n",
    "square_l1 = [float(i) for i in sq_loss_list]\n",
    "\n",
    "mask_type = 'time'\n",
    "loss_filename = op.join(output_pth, f'l1_loss_{mask_type}.txt')\n",
    "with open(loss_filename, 'r') as f:\n",
    "    time_loss_list = f.read().splitlines()\n",
    "print(time_loss_list)\n",
    "time_l1 = [float(i) for i in time_loss_list]"
   ]
  },
  {
   "cell_type": "code",
   "execution_count": 23,
   "metadata": {},
   "outputs": [
    {
     "name": "stdout",
     "output_type": "stream",
     "text": [
      "/work/r08922a13/generative_inpainting/examples/esc50/mag_seg15_256/loss_test_pretrain_audioset/loss/1-46353-A-49_2_l1_loss_square.txt\n",
      "1-46353-A-49 l1 square\n",
      "/work/r08922a13/generative_inpainting/examples/esc50/mag_seg15_256/loss_test_pretrain_audioset/loss/1-46353-A-49_2_l1_loss_time.txt\n",
      "1-46353-A-49 l1 time\n",
      "/work/r08922a13/generative_inpainting/examples/esc50/mag_seg15_256/loss_test_pretrain_audioset/loss/4-181628-A-17_3_l1_loss_square.txt\n",
      "4-181628-A-17 l1 square\n",
      "/work/r08922a13/generative_inpainting/examples/esc50/mag_seg15_256/loss_test_pretrain_audioset/loss/4-181628-A-17_3_l1_loss_time.txt\n",
      "4-181628-A-17 l1 time\n",
      "/work/r08922a13/generative_inpainting/examples/esc50/mag_seg15_256/loss_test_pretrain_audioset/loss/4-185575-C-20_2_l1_loss_square.txt\n",
      "4-185575-C-20 l1 square\n",
      "/work/r08922a13/generative_inpainting/examples/esc50/mag_seg15_256/loss_test_pretrain_audioset/loss/4-185575-C-20_2_l1_loss_time.txt\n",
      "4-185575-C-20 l1 time\n",
      "/work/r08922a13/generative_inpainting/examples/esc50/mag_seg15_256/loss_test_pretrain_audioset/loss/4-90014-B-42_3_l1_loss_square.txt\n",
      "4-90014-B-42 l1 square\n",
      "/work/r08922a13/generative_inpainting/examples/esc50/mag_seg15_256/loss_test_pretrain_audioset/loss/4-90014-B-42_3_l1_loss_time.txt\n",
      "4-90014-B-42 l1 time\n"
     ]
    }
   ],
   "source": [
    "loss_pth = '/work/r08922a13/generative_inpainting/examples/esc50/mag_seg15_256/loss_test_pretrain_audioset/loss'\n",
    "loss_trace_list = []\n",
    "for filename in sorted(Path(loss_pth).glob('*.txt')):\n",
    "    print(filename)\n",
    "    sound_name = op.basename(filename).split('.')[0].split('_')[0]\n",
    "    loss_type = op.basename(filename).split('.')[0].split('_')[2]\n",
    "    mask_type = op.basename(filename).split('.')[0].split('_')[-1]\n",
    "    print(sound_name, loss_type, mask_type)\n",
    "    with open(filename, 'r') as f:\n",
    "        loss_list = f.read().splitlines()\n",
    "        loss_list_float = [float(i) for i in loss_list]\n",
    "        loss_trace_list.append([loss_list_float, sound_name, loss_type, mask_type])"
   ]
  },
  {
   "cell_type": "code",
   "execution_count": null,
   "metadata": {},
   "outputs": [],
   "source": [
    "loss_pth = '/work/r08922a13/generative_inpainting/examples/esc50/mag_seg15_256/loss_test_time_mask_within_v2/loss'\n",
    "within_loss_trace_list = []\n",
    "for filename in sorted(Path(loss_pth).glob('*.txt')):\n",
    "    print(filename)\n",
    "    sound_name = op.basename(filename).split('.')[0].split('_')[0]\n",
    "    loss_type = op.basename(filename).split('.')[0].split('_')[2]\n",
    "    mask_type = op.basename(filename).split('.')[0].split('_')[-1]\n",
    "    print(sound_name, loss_type, mask_type)\n",
    "    with open(filename, 'r') as f:\n",
    "        loss_list = f.read().splitlines()\n",
    "        loss_list_float = [float(i) for i in loss_list]\n",
    "        within_loss_trace_list.append([loss_list_float, sound_name, loss_type, mask_type])"
   ]
  },
  {
   "cell_type": "code",
   "execution_count": null,
   "metadata": {},
   "outputs": [],
   "source": [
    "loss_pth = '/work/r08922a13/generative_inpainting/examples/esc50/mag_seg15_256/loss_test_time_mask_only/loss'\n",
    "only_loss_trace_list = []\n",
    "for filename in sorted(Path(loss_pth).glob('*.txt')):\n",
    "    print(filename)\n",
    "    sound_name = op.basename(filename).split('.')[0].split('_')[0]\n",
    "    loss_type = op.basename(filename).split('.')[0].split('_')[2]\n",
    "    mask_type = op.basename(filename).split('.')[0].split('_')[-1]\n",
    "    print(sound_name, loss_type, mask_type)\n",
    "    with open(filename, 'r') as f:\n",
    "        loss_list = f.read().splitlines()\n",
    "        loss_list_float = [float(i) for i in loss_list]\n",
    "        only_loss_trace_list.append([loss_list_float, sound_name, loss_type, mask_type])"
   ]
  },
  {
   "cell_type": "code",
   "execution_count": null,
   "metadata": {},
   "outputs": [],
   "source": [
    "loss_pth = '/work/r08922a13/generative_inpainting/examples/esc50/mag_seg15_256/loss_test_time_wider/loss'\n",
    "wider_loss_trace_list = []\n",
    "for filename in sorted(Path(loss_pth).glob('*.txt')):\n",
    "    print(filename)\n",
    "    sound_name = op.basename(filename).split('.')[0].split('_')[0]\n",
    "    loss_type = op.basename(filename).split('.')[0].split('_')[2]\n",
    "    mask_type = op.basename(filename).split('.')[0].split('_')[-1]\n",
    "    print(sound_name, loss_type, mask_type)\n",
    "    with open(filename, 'r') as f:\n",
    "        loss_list = f.read().splitlines()\n",
    "        loss_list_float = [float(i) for i in loss_list]\n",
    "        wider_loss_trace_list.append([loss_list_float, sound_name, loss_type, mask_type])"
   ]
  },
  {
   "cell_type": "code",
   "execution_count": null,
   "metadata": {},
   "outputs": [],
   "source": [
    "loss_pth = '/work/r08922a13/generative_inpainting/examples/esc50/mag_seg15_256/loss_test_time_wider_l115/loss'\n",
    "wider_l115_loss_trace_list = []\n",
    "for filename in sorted(Path(loss_pth).glob('*.txt')):\n",
    "    print(filename)\n",
    "    sound_name = op.basename(filename).split('.')[0].split('_')[0]\n",
    "    loss_type = op.basename(filename).split('.')[0].split('_')[2]\n",
    "    mask_type = op.basename(filename).split('.')[0].split('_')[-1]\n",
    "    print(sound_name, loss_type, mask_type)\n",
    "    with open(filename, 'r') as f:\n",
    "        loss_list = f.read().splitlines()\n",
    "        loss_list_float = [float(i) for i in loss_list]\n",
    "        wider_l115_loss_trace_list.append([loss_list_float, sound_name, loss_type, mask_type])"
   ]
  },
  {
   "cell_type": "code",
   "execution_count": null,
   "metadata": {},
   "outputs": [],
   "source": [
    "err_pth = '/work/r08922a13/generative_inpainting/examples/esc50/mag_seg15_256/loss_test_output/audio/loss'\n",
    "err_trace_list = []\n",
    "for filename in sorted(Path(err_pth).glob('*.txt')):\n",
    "    print(filename)\n",
    "    sound_name = op.basename(filename).split('.')[0].split('_')[0]\n",
    "    mask_type = op.basename(filename).split('.')[0].split('_')[-2]\n",
    "    error_type = op.basename(filename).split('.')[0].split('_')[-1]\n",
    "    print(sound_name, error_type, mask_type)\n",
    "    with open(filename, 'r') as f:\n",
    "        err_list = f.read().splitlines()\n",
    "        err_list_float = [float(i) for i in err_list]\n",
    "        err_trace_list.append([err_list_float, sound_name, error_type, mask_type])"
   ]
  },
  {
   "cell_type": "code",
   "execution_count": null,
   "metadata": {},
   "outputs": [],
   "source": [
    "area_list = []\n",
    "for i in range(64):\n",
    "    length = (i+1) * 4\n",
    "    area_list.append(length)\n",
    "print(area_list)\n",
    "area_list = np.array(area_list)"
   ]
  },
  {
   "cell_type": "code",
   "execution_count": null,
   "metadata": {},
   "outputs": [],
   "source": [
    "square_l1_np = np.array(square_l1)\n",
    "square_l1_around = np.around(square_l1_np, decimals=1)\n",
    "print(square_l1_around)\n",
    "square_l1_1f = [\"{:0.1f}\".format(v) for v in square_l1_around]\n",
    "print(square_l1_1f)\n",
    "\n",
    "time_l1_np = np.array(time_l1)\n",
    "time_l1_around = np.around(time_l1_np, decimals=1)\n",
    "print(time_l1_around)\n",
    "time_l1_1f = [\"{:0.1f}\".format(v) for v in time_l1_around]\n",
    "print(time_l1_1f)"
   ]
  },
  {
   "cell_type": "code",
   "execution_count": null,
   "metadata": {},
   "outputs": [],
   "source": [
    "# Compare between time & square\n",
    "# loss_trace_list = err_trace_list # Enable if testing the error on waveform\n",
    "set_num = 2\n",
    "trace01, name01, loss01, mask01 = loss_trace_list[set_num * 2]\n",
    "trace02, name02, loss02, mask02 = loss_trace_list[set_num * 2 + 1]\n",
    "if loss01 == 'mean': loss01 = 'mean L1'\n",
    "print(trace01, name01, loss01, mask01)\n",
    "print(trace02, name02, loss02, mask02)\n",
    "trace_1 = plgo.Scatter(x=area_list, y=trace01, mode='markers', name=mask01)\n",
    "trace_2 = plgo.Scatter(x=area_list, y=trace02, mode='markers', name=mask02)\n",
    "data = [trace_1, trace_2]\n",
    "layout = plgo.Layout(\n",
    "    xaxis={'title':f'length ({name01})', 'titlefont':{'size':15}},\n",
    "    yaxis={'title':f'loss ({loss01})', 'titlefont':{'size':15}})\n",
    "fig = plgo.Figure(data=data, layout=layout)\n",
    "plp.offline.iplot(fig, filename=loss01)"
   ]
  },
  {
   "cell_type": "code",
   "execution_count": 24,
   "metadata": {},
   "outputs": [
    {
     "name": "stdout",
     "output_type": "stream",
     "text": [
      "[32.96755361557007, 71.78622913360596, 97.02457332611084, 125.76364660263062, 171.9505853652954, 229.320631980896, 283.2178144454956, 316.22097730636597, 352.7515592575073, 398.8796706199646, 438.4269452095032, 473.5025358200073, 515.1484899520874, 561.5686545372009, 599.0086140632629, 625.0436959266663, 666.4740061759949, 708.1622982025146, 752.6306681632996, 780.8769869804382, 823.161458492279, 854.591404914856, 902.9407353401184, 928.6565337181091, 971.2803392410278, 1013.494390964508, 1089.3139414787292, 1129.7076029777527, 1184.7722826004028, 1209.9026350975037, 1272.5931458473206, 1300.4186506271362, 1329.7318739891052, 1387.6848492622375, 1470.249882698059, 1506.7257871627808, 1540.0930032730103, 1603.2265677452087, 1700.5833892822266, 1754.6904754638672, 1764.8558297157288, 1842.7491002082825, 1885.0699372291565, 1950.745602607727, 1948.0082292556763, 2045.1938834190369, 2033.3942193984985, 2099.990580558777, 2175.1927437782288, 2149.4149718284607, 2211.2493691444397, 2268.4639225006104, 2516.7353506088257, 2507.979569911957, 2537.0913581848145, 2620.048857688904, 3037.2083859443665, 2984.519127845764, 2908.2657861709595, 3578.298375606537, 7209.702259063721, 7352.507396697998, 7483.130750656128, 8292.295099258423] 4-90014-B-42 l1 time\n",
      "[32.904067516326904, 64.90594530105591, 120.23749732971191, 162.18184089660645, 205.61229991912842, 248.79372119903564, 296.9593572616577, 334.9767551422119, 369.95190382003784, 411.13079500198364, 446.80751514434814, 488.5761613845825, 529.0690155029297, 567.6623177528381, 619.942681312561, 652.3046159744263, 686.1951060295105, 746.3553647994995, 781.0262441635132, 830.8481435775757, 883.8982973098755, 918.6253890991211, 973.548505783081, 1019.8832864761353, 1082.6987390518188, 1136.8659572601318, 1230.2051725387573, 1298.0971632003784, 1344.940426826477, 1389.3559126853943, 1425.3924837112427, 1465.8047127723694, 1496.341534614563, 1555.021671295166, 1607.5231528282166, 1664.0238146781921, 1697.9793491363525, 1735.479742050171, 1794.2802019119263, 1869.8718791007996, 1897.5101962089539, 1981.5985198020935, 2026.4848923683167, 2099.595036506653, 2205.746618747711, 2266.878233909607, 2332.732216835022, 2416.169620037079, 2467.046627998352, 2591.3297629356384, 2732.8279190063477, 2916.556736469269, 3011.6523036956787, 3203.710650920868, 3400.7104139328003, 3485.7349581718445, 3649.433491230011, 3814.4200854301453, 4026.7774953842163, 4132.645942687988, 4046.6472272872925, 4173.730701446533, 4403.880835533142, 5089.5149030685425] 4-90014-B-42 l1 time\n"
     ]
    },
    {
     "data": {
      "application/vnd.plotly.v1+json": {
       "config": {
        "linkText": "Export to plot.ly",
        "plotlyServerURL": "https://plot.ly",
        "showLink": false
       },
       "data": [
        {
         "mode": "markers",
         "name": "audioset",
         "type": "scatter",
         "x": [
          4,
          8,
          12,
          16,
          20,
          24,
          28,
          32,
          36,
          40,
          44,
          48,
          52,
          56,
          60,
          64,
          68,
          72,
          76,
          80,
          84,
          88,
          92,
          96,
          100,
          104,
          108,
          112,
          116,
          120,
          124,
          128,
          132,
          136,
          140,
          144,
          148,
          152,
          156,
          160,
          164,
          168,
          172,
          176,
          180,
          184,
          188,
          192,
          196,
          200,
          204,
          208,
          212,
          216,
          220,
          224,
          228,
          232,
          236,
          240,
          244,
          248,
          252,
          256
         ],
         "y": [
          32.96755361557007,
          71.78622913360596,
          97.02457332611084,
          125.76364660263062,
          171.9505853652954,
          229.320631980896,
          283.2178144454956,
          316.22097730636597,
          352.7515592575073,
          398.8796706199646,
          438.4269452095032,
          473.5025358200073,
          515.1484899520874,
          561.5686545372009,
          599.0086140632629,
          625.0436959266663,
          666.4740061759949,
          708.1622982025146,
          752.6306681632996,
          780.8769869804382,
          823.161458492279,
          854.591404914856,
          902.9407353401184,
          928.6565337181091,
          971.2803392410278,
          1013.494390964508,
          1089.3139414787292,
          1129.7076029777527,
          1184.7722826004028,
          1209.9026350975037,
          1272.5931458473206,
          1300.4186506271362,
          1329.7318739891052,
          1387.6848492622375,
          1470.249882698059,
          1506.7257871627808,
          1540.0930032730103,
          1603.2265677452087,
          1700.5833892822266,
          1754.6904754638672,
          1764.8558297157288,
          1842.7491002082825,
          1885.0699372291565,
          1950.745602607727,
          1948.0082292556763,
          2045.1938834190369,
          2033.3942193984985,
          2099.990580558777,
          2175.1927437782288,
          2149.4149718284607,
          2211.2493691444397,
          2268.4639225006104,
          2516.7353506088257,
          2507.979569911957,
          2537.0913581848145,
          2620.048857688904,
          3037.2083859443665,
          2984.519127845764,
          2908.2657861709595,
          3578.298375606537,
          7209.702259063721,
          7352.507396697998,
          7483.130750656128,
          8292.295099258423
         ]
        },
        {
         "mode": "markers",
         "name": "only",
         "type": "scatter",
         "x": [
          4,
          8,
          12,
          16,
          20,
          24,
          28,
          32,
          36,
          40,
          44,
          48,
          52,
          56,
          60,
          64,
          68,
          72,
          76,
          80,
          84,
          88,
          92,
          96,
          100,
          104,
          108,
          112,
          116,
          120,
          124,
          128,
          132,
          136,
          140,
          144,
          148,
          152,
          156,
          160,
          164,
          168,
          172,
          176,
          180,
          184,
          188,
          192,
          196,
          200,
          204,
          208,
          212,
          216,
          220,
          224,
          228,
          232,
          236,
          240,
          244,
          248,
          252,
          256
         ],
         "y": [
          32.904067516326904,
          64.90594530105591,
          120.23749732971191,
          162.18184089660645,
          205.61229991912842,
          248.79372119903564,
          296.9593572616577,
          334.9767551422119,
          369.95190382003784,
          411.13079500198364,
          446.80751514434814,
          488.5761613845825,
          529.0690155029297,
          567.6623177528381,
          619.942681312561,
          652.3046159744263,
          686.1951060295105,
          746.3553647994995,
          781.0262441635132,
          830.8481435775757,
          883.8982973098755,
          918.6253890991211,
          973.548505783081,
          1019.8832864761353,
          1082.6987390518188,
          1136.8659572601318,
          1230.2051725387573,
          1298.0971632003784,
          1344.940426826477,
          1389.3559126853943,
          1425.3924837112427,
          1465.8047127723694,
          1496.341534614563,
          1555.021671295166,
          1607.5231528282166,
          1664.0238146781921,
          1697.9793491363525,
          1735.479742050171,
          1794.2802019119263,
          1869.8718791007996,
          1897.5101962089539,
          1981.5985198020935,
          2026.4848923683167,
          2099.595036506653,
          2205.746618747711,
          2266.878233909607,
          2332.732216835022,
          2416.169620037079,
          2467.046627998352,
          2591.3297629356384,
          2732.8279190063477,
          2916.556736469269,
          3011.6523036956787,
          3203.710650920868,
          3400.7104139328003,
          3485.7349581718445,
          3649.433491230011,
          3814.4200854301453,
          4026.7774953842163,
          4132.645942687988,
          4046.6472272872925,
          4173.730701446533,
          4403.880835533142,
          5089.5149030685425
         ]
        }
       ],
       "layout": {
        "template": {
         "data": {
          "bar": [
           {
            "error_x": {
             "color": "#2a3f5f"
            },
            "error_y": {
             "color": "#2a3f5f"
            },
            "marker": {
             "line": {
              "color": "#E5ECF6",
              "width": 0.5
             }
            },
            "type": "bar"
           }
          ],
          "barpolar": [
           {
            "marker": {
             "line": {
              "color": "#E5ECF6",
              "width": 0.5
             }
            },
            "type": "barpolar"
           }
          ],
          "carpet": [
           {
            "aaxis": {
             "endlinecolor": "#2a3f5f",
             "gridcolor": "white",
             "linecolor": "white",
             "minorgridcolor": "white",
             "startlinecolor": "#2a3f5f"
            },
            "baxis": {
             "endlinecolor": "#2a3f5f",
             "gridcolor": "white",
             "linecolor": "white",
             "minorgridcolor": "white",
             "startlinecolor": "#2a3f5f"
            },
            "type": "carpet"
           }
          ],
          "choropleth": [
           {
            "colorbar": {
             "outlinewidth": 0,
             "ticks": ""
            },
            "type": "choropleth"
           }
          ],
          "contour": [
           {
            "colorbar": {
             "outlinewidth": 0,
             "ticks": ""
            },
            "colorscale": [
             [
              0,
              "#0d0887"
             ],
             [
              0.1111111111111111,
              "#46039f"
             ],
             [
              0.2222222222222222,
              "#7201a8"
             ],
             [
              0.3333333333333333,
              "#9c179e"
             ],
             [
              0.4444444444444444,
              "#bd3786"
             ],
             [
              0.5555555555555556,
              "#d8576b"
             ],
             [
              0.6666666666666666,
              "#ed7953"
             ],
             [
              0.7777777777777778,
              "#fb9f3a"
             ],
             [
              0.8888888888888888,
              "#fdca26"
             ],
             [
              1,
              "#f0f921"
             ]
            ],
            "type": "contour"
           }
          ],
          "contourcarpet": [
           {
            "colorbar": {
             "outlinewidth": 0,
             "ticks": ""
            },
            "type": "contourcarpet"
           }
          ],
          "heatmap": [
           {
            "colorbar": {
             "outlinewidth": 0,
             "ticks": ""
            },
            "colorscale": [
             [
              0,
              "#0d0887"
             ],
             [
              0.1111111111111111,
              "#46039f"
             ],
             [
              0.2222222222222222,
              "#7201a8"
             ],
             [
              0.3333333333333333,
              "#9c179e"
             ],
             [
              0.4444444444444444,
              "#bd3786"
             ],
             [
              0.5555555555555556,
              "#d8576b"
             ],
             [
              0.6666666666666666,
              "#ed7953"
             ],
             [
              0.7777777777777778,
              "#fb9f3a"
             ],
             [
              0.8888888888888888,
              "#fdca26"
             ],
             [
              1,
              "#f0f921"
             ]
            ],
            "type": "heatmap"
           }
          ],
          "heatmapgl": [
           {
            "colorbar": {
             "outlinewidth": 0,
             "ticks": ""
            },
            "colorscale": [
             [
              0,
              "#0d0887"
             ],
             [
              0.1111111111111111,
              "#46039f"
             ],
             [
              0.2222222222222222,
              "#7201a8"
             ],
             [
              0.3333333333333333,
              "#9c179e"
             ],
             [
              0.4444444444444444,
              "#bd3786"
             ],
             [
              0.5555555555555556,
              "#d8576b"
             ],
             [
              0.6666666666666666,
              "#ed7953"
             ],
             [
              0.7777777777777778,
              "#fb9f3a"
             ],
             [
              0.8888888888888888,
              "#fdca26"
             ],
             [
              1,
              "#f0f921"
             ]
            ],
            "type": "heatmapgl"
           }
          ],
          "histogram": [
           {
            "marker": {
             "colorbar": {
              "outlinewidth": 0,
              "ticks": ""
             }
            },
            "type": "histogram"
           }
          ],
          "histogram2d": [
           {
            "colorbar": {
             "outlinewidth": 0,
             "ticks": ""
            },
            "colorscale": [
             [
              0,
              "#0d0887"
             ],
             [
              0.1111111111111111,
              "#46039f"
             ],
             [
              0.2222222222222222,
              "#7201a8"
             ],
             [
              0.3333333333333333,
              "#9c179e"
             ],
             [
              0.4444444444444444,
              "#bd3786"
             ],
             [
              0.5555555555555556,
              "#d8576b"
             ],
             [
              0.6666666666666666,
              "#ed7953"
             ],
             [
              0.7777777777777778,
              "#fb9f3a"
             ],
             [
              0.8888888888888888,
              "#fdca26"
             ],
             [
              1,
              "#f0f921"
             ]
            ],
            "type": "histogram2d"
           }
          ],
          "histogram2dcontour": [
           {
            "colorbar": {
             "outlinewidth": 0,
             "ticks": ""
            },
            "colorscale": [
             [
              0,
              "#0d0887"
             ],
             [
              0.1111111111111111,
              "#46039f"
             ],
             [
              0.2222222222222222,
              "#7201a8"
             ],
             [
              0.3333333333333333,
              "#9c179e"
             ],
             [
              0.4444444444444444,
              "#bd3786"
             ],
             [
              0.5555555555555556,
              "#d8576b"
             ],
             [
              0.6666666666666666,
              "#ed7953"
             ],
             [
              0.7777777777777778,
              "#fb9f3a"
             ],
             [
              0.8888888888888888,
              "#fdca26"
             ],
             [
              1,
              "#f0f921"
             ]
            ],
            "type": "histogram2dcontour"
           }
          ],
          "mesh3d": [
           {
            "colorbar": {
             "outlinewidth": 0,
             "ticks": ""
            },
            "type": "mesh3d"
           }
          ],
          "parcoords": [
           {
            "line": {
             "colorbar": {
              "outlinewidth": 0,
              "ticks": ""
             }
            },
            "type": "parcoords"
           }
          ],
          "pie": [
           {
            "automargin": true,
            "type": "pie"
           }
          ],
          "scatter": [
           {
            "marker": {
             "colorbar": {
              "outlinewidth": 0,
              "ticks": ""
             }
            },
            "type": "scatter"
           }
          ],
          "scatter3d": [
           {
            "line": {
             "colorbar": {
              "outlinewidth": 0,
              "ticks": ""
             }
            },
            "marker": {
             "colorbar": {
              "outlinewidth": 0,
              "ticks": ""
             }
            },
            "type": "scatter3d"
           }
          ],
          "scattercarpet": [
           {
            "marker": {
             "colorbar": {
              "outlinewidth": 0,
              "ticks": ""
             }
            },
            "type": "scattercarpet"
           }
          ],
          "scattergeo": [
           {
            "marker": {
             "colorbar": {
              "outlinewidth": 0,
              "ticks": ""
             }
            },
            "type": "scattergeo"
           }
          ],
          "scattergl": [
           {
            "marker": {
             "colorbar": {
              "outlinewidth": 0,
              "ticks": ""
             }
            },
            "type": "scattergl"
           }
          ],
          "scattermapbox": [
           {
            "marker": {
             "colorbar": {
              "outlinewidth": 0,
              "ticks": ""
             }
            },
            "type": "scattermapbox"
           }
          ],
          "scatterpolar": [
           {
            "marker": {
             "colorbar": {
              "outlinewidth": 0,
              "ticks": ""
             }
            },
            "type": "scatterpolar"
           }
          ],
          "scatterpolargl": [
           {
            "marker": {
             "colorbar": {
              "outlinewidth": 0,
              "ticks": ""
             }
            },
            "type": "scatterpolargl"
           }
          ],
          "scatterternary": [
           {
            "marker": {
             "colorbar": {
              "outlinewidth": 0,
              "ticks": ""
             }
            },
            "type": "scatterternary"
           }
          ],
          "surface": [
           {
            "colorbar": {
             "outlinewidth": 0,
             "ticks": ""
            },
            "colorscale": [
             [
              0,
              "#0d0887"
             ],
             [
              0.1111111111111111,
              "#46039f"
             ],
             [
              0.2222222222222222,
              "#7201a8"
             ],
             [
              0.3333333333333333,
              "#9c179e"
             ],
             [
              0.4444444444444444,
              "#bd3786"
             ],
             [
              0.5555555555555556,
              "#d8576b"
             ],
             [
              0.6666666666666666,
              "#ed7953"
             ],
             [
              0.7777777777777778,
              "#fb9f3a"
             ],
             [
              0.8888888888888888,
              "#fdca26"
             ],
             [
              1,
              "#f0f921"
             ]
            ],
            "type": "surface"
           }
          ],
          "table": [
           {
            "cells": {
             "fill": {
              "color": "#EBF0F8"
             },
             "line": {
              "color": "white"
             }
            },
            "header": {
             "fill": {
              "color": "#C8D4E3"
             },
             "line": {
              "color": "white"
             }
            },
            "type": "table"
           }
          ]
         },
         "layout": {
          "annotationdefaults": {
           "arrowcolor": "#2a3f5f",
           "arrowhead": 0,
           "arrowwidth": 1
          },
          "coloraxis": {
           "colorbar": {
            "outlinewidth": 0,
            "ticks": ""
           }
          },
          "colorscale": {
           "diverging": [
            [
             0,
             "#8e0152"
            ],
            [
             0.1,
             "#c51b7d"
            ],
            [
             0.2,
             "#de77ae"
            ],
            [
             0.3,
             "#f1b6da"
            ],
            [
             0.4,
             "#fde0ef"
            ],
            [
             0.5,
             "#f7f7f7"
            ],
            [
             0.6,
             "#e6f5d0"
            ],
            [
             0.7,
             "#b8e186"
            ],
            [
             0.8,
             "#7fbc41"
            ],
            [
             0.9,
             "#4d9221"
            ],
            [
             1,
             "#276419"
            ]
           ],
           "sequential": [
            [
             0,
             "#0d0887"
            ],
            [
             0.1111111111111111,
             "#46039f"
            ],
            [
             0.2222222222222222,
             "#7201a8"
            ],
            [
             0.3333333333333333,
             "#9c179e"
            ],
            [
             0.4444444444444444,
             "#bd3786"
            ],
            [
             0.5555555555555556,
             "#d8576b"
            ],
            [
             0.6666666666666666,
             "#ed7953"
            ],
            [
             0.7777777777777778,
             "#fb9f3a"
            ],
            [
             0.8888888888888888,
             "#fdca26"
            ],
            [
             1,
             "#f0f921"
            ]
           ],
           "sequentialminus": [
            [
             0,
             "#0d0887"
            ],
            [
             0.1111111111111111,
             "#46039f"
            ],
            [
             0.2222222222222222,
             "#7201a8"
            ],
            [
             0.3333333333333333,
             "#9c179e"
            ],
            [
             0.4444444444444444,
             "#bd3786"
            ],
            [
             0.5555555555555556,
             "#d8576b"
            ],
            [
             0.6666666666666666,
             "#ed7953"
            ],
            [
             0.7777777777777778,
             "#fb9f3a"
            ],
            [
             0.8888888888888888,
             "#fdca26"
            ],
            [
             1,
             "#f0f921"
            ]
           ]
          },
          "colorway": [
           "#636efa",
           "#EF553B",
           "#00cc96",
           "#ab63fa",
           "#FFA15A",
           "#19d3f3",
           "#FF6692",
           "#B6E880",
           "#FF97FF",
           "#FECB52"
          ],
          "font": {
           "color": "#2a3f5f"
          },
          "geo": {
           "bgcolor": "white",
           "lakecolor": "white",
           "landcolor": "#E5ECF6",
           "showlakes": true,
           "showland": true,
           "subunitcolor": "white"
          },
          "hoverlabel": {
           "align": "left"
          },
          "hovermode": "closest",
          "mapbox": {
           "style": "light"
          },
          "paper_bgcolor": "white",
          "plot_bgcolor": "#E5ECF6",
          "polar": {
           "angularaxis": {
            "gridcolor": "white",
            "linecolor": "white",
            "ticks": ""
           },
           "bgcolor": "#E5ECF6",
           "radialaxis": {
            "gridcolor": "white",
            "linecolor": "white",
            "ticks": ""
           }
          },
          "scene": {
           "xaxis": {
            "backgroundcolor": "#E5ECF6",
            "gridcolor": "white",
            "gridwidth": 2,
            "linecolor": "white",
            "showbackground": true,
            "ticks": "",
            "zerolinecolor": "white"
           },
           "yaxis": {
            "backgroundcolor": "#E5ECF6",
            "gridcolor": "white",
            "gridwidth": 2,
            "linecolor": "white",
            "showbackground": true,
            "ticks": "",
            "zerolinecolor": "white"
           },
           "zaxis": {
            "backgroundcolor": "#E5ECF6",
            "gridcolor": "white",
            "gridwidth": 2,
            "linecolor": "white",
            "showbackground": true,
            "ticks": "",
            "zerolinecolor": "white"
           }
          },
          "shapedefaults": {
           "line": {
            "color": "#2a3f5f"
           }
          },
          "ternary": {
           "aaxis": {
            "gridcolor": "white",
            "linecolor": "white",
            "ticks": ""
           },
           "baxis": {
            "gridcolor": "white",
            "linecolor": "white",
            "ticks": ""
           },
           "bgcolor": "#E5ECF6",
           "caxis": {
            "gridcolor": "white",
            "linecolor": "white",
            "ticks": ""
           }
          },
          "title": {
           "x": 0.05
          },
          "xaxis": {
           "automargin": true,
           "gridcolor": "white",
           "linecolor": "white",
           "ticks": "",
           "title": {
            "standoff": 15
           },
           "zerolinecolor": "white",
           "zerolinewidth": 2
          },
          "yaxis": {
           "automargin": true,
           "gridcolor": "white",
           "linecolor": "white",
           "ticks": "",
           "title": {
            "standoff": 15
           },
           "zerolinecolor": "white",
           "zerolinewidth": 2
          }
         }
        },
        "xaxis": {
         "title": {
          "font": {
           "size": 15
          },
          "text": "length (4-90014-B-42)"
         }
        },
        "yaxis": {
         "title": {
          "font": {
           "size": 15
          },
          "text": "loss (l1)"
         }
        }
       }
      },
      "text/html": [
       "<div>                            <div id=\"aaedc52e-d113-44ff-8970-b28fc4ec9f81\" class=\"plotly-graph-div\" style=\"height:525px; width:100%;\"></div>            <script type=\"text/javascript\">                require([\"plotly\"], function(Plotly) {                    window.PLOTLYENV=window.PLOTLYENV || {};                                    if (document.getElementById(\"aaedc52e-d113-44ff-8970-b28fc4ec9f81\")) {                    Plotly.newPlot(                        \"aaedc52e-d113-44ff-8970-b28fc4ec9f81\",                        [{\"mode\": \"markers\", \"name\": \"audioset\", \"type\": \"scatter\", \"x\": [4, 8, 12, 16, 20, 24, 28, 32, 36, 40, 44, 48, 52, 56, 60, 64, 68, 72, 76, 80, 84, 88, 92, 96, 100, 104, 108, 112, 116, 120, 124, 128, 132, 136, 140, 144, 148, 152, 156, 160, 164, 168, 172, 176, 180, 184, 188, 192, 196, 200, 204, 208, 212, 216, 220, 224, 228, 232, 236, 240, 244, 248, 252, 256], \"y\": [32.96755361557007, 71.78622913360596, 97.02457332611084, 125.76364660263062, 171.9505853652954, 229.320631980896, 283.2178144454956, 316.22097730636597, 352.7515592575073, 398.8796706199646, 438.4269452095032, 473.5025358200073, 515.1484899520874, 561.5686545372009, 599.0086140632629, 625.0436959266663, 666.4740061759949, 708.1622982025146, 752.6306681632996, 780.8769869804382, 823.161458492279, 854.591404914856, 902.9407353401184, 928.6565337181091, 971.2803392410278, 1013.494390964508, 1089.3139414787292, 1129.7076029777527, 1184.7722826004028, 1209.9026350975037, 1272.5931458473206, 1300.4186506271362, 1329.7318739891052, 1387.6848492622375, 1470.249882698059, 1506.7257871627808, 1540.0930032730103, 1603.2265677452087, 1700.5833892822266, 1754.6904754638672, 1764.8558297157288, 1842.7491002082825, 1885.0699372291565, 1950.745602607727, 1948.0082292556763, 2045.1938834190369, 2033.3942193984985, 2099.990580558777, 2175.1927437782288, 2149.4149718284607, 2211.2493691444397, 2268.4639225006104, 2516.7353506088257, 2507.979569911957, 2537.0913581848145, 2620.048857688904, 3037.2083859443665, 2984.519127845764, 2908.2657861709595, 3578.298375606537, 7209.702259063721, 7352.507396697998, 7483.130750656128, 8292.295099258423]}, {\"mode\": \"markers\", \"name\": \"only\", \"type\": \"scatter\", \"x\": [4, 8, 12, 16, 20, 24, 28, 32, 36, 40, 44, 48, 52, 56, 60, 64, 68, 72, 76, 80, 84, 88, 92, 96, 100, 104, 108, 112, 116, 120, 124, 128, 132, 136, 140, 144, 148, 152, 156, 160, 164, 168, 172, 176, 180, 184, 188, 192, 196, 200, 204, 208, 212, 216, 220, 224, 228, 232, 236, 240, 244, 248, 252, 256], \"y\": [32.904067516326904, 64.90594530105591, 120.23749732971191, 162.18184089660645, 205.61229991912842, 248.79372119903564, 296.9593572616577, 334.9767551422119, 369.95190382003784, 411.13079500198364, 446.80751514434814, 488.5761613845825, 529.0690155029297, 567.6623177528381, 619.942681312561, 652.3046159744263, 686.1951060295105, 746.3553647994995, 781.0262441635132, 830.8481435775757, 883.8982973098755, 918.6253890991211, 973.548505783081, 1019.8832864761353, 1082.6987390518188, 1136.8659572601318, 1230.2051725387573, 1298.0971632003784, 1344.940426826477, 1389.3559126853943, 1425.3924837112427, 1465.8047127723694, 1496.341534614563, 1555.021671295166, 1607.5231528282166, 1664.0238146781921, 1697.9793491363525, 1735.479742050171, 1794.2802019119263, 1869.8718791007996, 1897.5101962089539, 1981.5985198020935, 2026.4848923683167, 2099.595036506653, 2205.746618747711, 2266.878233909607, 2332.732216835022, 2416.169620037079, 2467.046627998352, 2591.3297629356384, 2732.8279190063477, 2916.556736469269, 3011.6523036956787, 3203.710650920868, 3400.7104139328003, 3485.7349581718445, 3649.433491230011, 3814.4200854301453, 4026.7774953842163, 4132.645942687988, 4046.6472272872925, 4173.730701446533, 4403.880835533142, 5089.5149030685425]}],                        {\"template\": {\"data\": {\"bar\": [{\"error_x\": {\"color\": \"#2a3f5f\"}, \"error_y\": {\"color\": \"#2a3f5f\"}, \"marker\": {\"line\": {\"color\": \"#E5ECF6\", \"width\": 0.5}}, \"type\": \"bar\"}], \"barpolar\": [{\"marker\": {\"line\": {\"color\": \"#E5ECF6\", \"width\": 0.5}}, \"type\": \"barpolar\"}], \"carpet\": [{\"aaxis\": {\"endlinecolor\": \"#2a3f5f\", \"gridcolor\": \"white\", \"linecolor\": \"white\", \"minorgridcolor\": \"white\", \"startlinecolor\": \"#2a3f5f\"}, \"baxis\": {\"endlinecolor\": \"#2a3f5f\", \"gridcolor\": \"white\", \"linecolor\": \"white\", \"minorgridcolor\": \"white\", \"startlinecolor\": \"#2a3f5f\"}, \"type\": \"carpet\"}], \"choropleth\": [{\"colorbar\": {\"outlinewidth\": 0, \"ticks\": \"\"}, \"type\": \"choropleth\"}], \"contour\": [{\"colorbar\": {\"outlinewidth\": 0, \"ticks\": \"\"}, \"colorscale\": [[0.0, \"#0d0887\"], [0.1111111111111111, \"#46039f\"], [0.2222222222222222, \"#7201a8\"], [0.3333333333333333, \"#9c179e\"], [0.4444444444444444, \"#bd3786\"], [0.5555555555555556, \"#d8576b\"], [0.6666666666666666, \"#ed7953\"], [0.7777777777777778, \"#fb9f3a\"], [0.8888888888888888, \"#fdca26\"], [1.0, \"#f0f921\"]], \"type\": \"contour\"}], \"contourcarpet\": [{\"colorbar\": {\"outlinewidth\": 0, \"ticks\": \"\"}, \"type\": \"contourcarpet\"}], \"heatmap\": [{\"colorbar\": {\"outlinewidth\": 0, \"ticks\": \"\"}, \"colorscale\": [[0.0, \"#0d0887\"], [0.1111111111111111, \"#46039f\"], [0.2222222222222222, \"#7201a8\"], [0.3333333333333333, \"#9c179e\"], [0.4444444444444444, \"#bd3786\"], [0.5555555555555556, \"#d8576b\"], [0.6666666666666666, \"#ed7953\"], [0.7777777777777778, \"#fb9f3a\"], [0.8888888888888888, \"#fdca26\"], [1.0, \"#f0f921\"]], \"type\": \"heatmap\"}], \"heatmapgl\": [{\"colorbar\": {\"outlinewidth\": 0, \"ticks\": \"\"}, \"colorscale\": [[0.0, \"#0d0887\"], [0.1111111111111111, \"#46039f\"], [0.2222222222222222, \"#7201a8\"], [0.3333333333333333, \"#9c179e\"], [0.4444444444444444, \"#bd3786\"], [0.5555555555555556, \"#d8576b\"], [0.6666666666666666, \"#ed7953\"], [0.7777777777777778, \"#fb9f3a\"], [0.8888888888888888, \"#fdca26\"], [1.0, \"#f0f921\"]], \"type\": \"heatmapgl\"}], \"histogram\": [{\"marker\": {\"colorbar\": {\"outlinewidth\": 0, \"ticks\": \"\"}}, \"type\": \"histogram\"}], \"histogram2d\": [{\"colorbar\": {\"outlinewidth\": 0, \"ticks\": \"\"}, \"colorscale\": [[0.0, \"#0d0887\"], [0.1111111111111111, \"#46039f\"], [0.2222222222222222, \"#7201a8\"], [0.3333333333333333, \"#9c179e\"], [0.4444444444444444, \"#bd3786\"], [0.5555555555555556, \"#d8576b\"], [0.6666666666666666, \"#ed7953\"], [0.7777777777777778, \"#fb9f3a\"], [0.8888888888888888, \"#fdca26\"], [1.0, \"#f0f921\"]], \"type\": \"histogram2d\"}], \"histogram2dcontour\": [{\"colorbar\": {\"outlinewidth\": 0, \"ticks\": \"\"}, \"colorscale\": [[0.0, \"#0d0887\"], [0.1111111111111111, \"#46039f\"], [0.2222222222222222, \"#7201a8\"], [0.3333333333333333, \"#9c179e\"], [0.4444444444444444, \"#bd3786\"], [0.5555555555555556, \"#d8576b\"], [0.6666666666666666, \"#ed7953\"], [0.7777777777777778, \"#fb9f3a\"], [0.8888888888888888, \"#fdca26\"], [1.0, \"#f0f921\"]], \"type\": \"histogram2dcontour\"}], \"mesh3d\": [{\"colorbar\": {\"outlinewidth\": 0, \"ticks\": \"\"}, \"type\": \"mesh3d\"}], \"parcoords\": [{\"line\": {\"colorbar\": {\"outlinewidth\": 0, \"ticks\": \"\"}}, \"type\": \"parcoords\"}], \"pie\": [{\"automargin\": true, \"type\": \"pie\"}], \"scatter\": [{\"marker\": {\"colorbar\": {\"outlinewidth\": 0, \"ticks\": \"\"}}, \"type\": \"scatter\"}], \"scatter3d\": [{\"line\": {\"colorbar\": {\"outlinewidth\": 0, \"ticks\": \"\"}}, \"marker\": {\"colorbar\": {\"outlinewidth\": 0, \"ticks\": \"\"}}, \"type\": \"scatter3d\"}], \"scattercarpet\": [{\"marker\": {\"colorbar\": {\"outlinewidth\": 0, \"ticks\": \"\"}}, \"type\": \"scattercarpet\"}], \"scattergeo\": [{\"marker\": {\"colorbar\": {\"outlinewidth\": 0, \"ticks\": \"\"}}, \"type\": \"scattergeo\"}], \"scattergl\": [{\"marker\": {\"colorbar\": {\"outlinewidth\": 0, \"ticks\": \"\"}}, \"type\": \"scattergl\"}], \"scattermapbox\": [{\"marker\": {\"colorbar\": {\"outlinewidth\": 0, \"ticks\": \"\"}}, \"type\": \"scattermapbox\"}], \"scatterpolar\": [{\"marker\": {\"colorbar\": {\"outlinewidth\": 0, \"ticks\": \"\"}}, \"type\": \"scatterpolar\"}], \"scatterpolargl\": [{\"marker\": {\"colorbar\": {\"outlinewidth\": 0, \"ticks\": \"\"}}, \"type\": \"scatterpolargl\"}], \"scatterternary\": [{\"marker\": {\"colorbar\": {\"outlinewidth\": 0, \"ticks\": \"\"}}, \"type\": \"scatterternary\"}], \"surface\": [{\"colorbar\": {\"outlinewidth\": 0, \"ticks\": \"\"}, \"colorscale\": [[0.0, \"#0d0887\"], [0.1111111111111111, \"#46039f\"], [0.2222222222222222, \"#7201a8\"], [0.3333333333333333, \"#9c179e\"], [0.4444444444444444, \"#bd3786\"], [0.5555555555555556, \"#d8576b\"], [0.6666666666666666, \"#ed7953\"], [0.7777777777777778, \"#fb9f3a\"], [0.8888888888888888, \"#fdca26\"], [1.0, \"#f0f921\"]], \"type\": \"surface\"}], \"table\": [{\"cells\": {\"fill\": {\"color\": \"#EBF0F8\"}, \"line\": {\"color\": \"white\"}}, \"header\": {\"fill\": {\"color\": \"#C8D4E3\"}, \"line\": {\"color\": \"white\"}}, \"type\": \"table\"}]}, \"layout\": {\"annotationdefaults\": {\"arrowcolor\": \"#2a3f5f\", \"arrowhead\": 0, \"arrowwidth\": 1}, \"coloraxis\": {\"colorbar\": {\"outlinewidth\": 0, \"ticks\": \"\"}}, \"colorscale\": {\"diverging\": [[0, \"#8e0152\"], [0.1, \"#c51b7d\"], [0.2, \"#de77ae\"], [0.3, \"#f1b6da\"], [0.4, \"#fde0ef\"], [0.5, \"#f7f7f7\"], [0.6, \"#e6f5d0\"], [0.7, \"#b8e186\"], [0.8, \"#7fbc41\"], [0.9, \"#4d9221\"], [1, \"#276419\"]], \"sequential\": [[0.0, \"#0d0887\"], [0.1111111111111111, \"#46039f\"], [0.2222222222222222, \"#7201a8\"], [0.3333333333333333, \"#9c179e\"], [0.4444444444444444, \"#bd3786\"], [0.5555555555555556, \"#d8576b\"], [0.6666666666666666, \"#ed7953\"], [0.7777777777777778, \"#fb9f3a\"], [0.8888888888888888, \"#fdca26\"], [1.0, \"#f0f921\"]], \"sequentialminus\": [[0.0, \"#0d0887\"], [0.1111111111111111, \"#46039f\"], [0.2222222222222222, \"#7201a8\"], [0.3333333333333333, \"#9c179e\"], [0.4444444444444444, \"#bd3786\"], [0.5555555555555556, \"#d8576b\"], [0.6666666666666666, \"#ed7953\"], [0.7777777777777778, \"#fb9f3a\"], [0.8888888888888888, \"#fdca26\"], [1.0, \"#f0f921\"]]}, \"colorway\": [\"#636efa\", \"#EF553B\", \"#00cc96\", \"#ab63fa\", \"#FFA15A\", \"#19d3f3\", \"#FF6692\", \"#B6E880\", \"#FF97FF\", \"#FECB52\"], \"font\": {\"color\": \"#2a3f5f\"}, \"geo\": {\"bgcolor\": \"white\", \"lakecolor\": \"white\", \"landcolor\": \"#E5ECF6\", \"showlakes\": true, \"showland\": true, \"subunitcolor\": \"white\"}, \"hoverlabel\": {\"align\": \"left\"}, \"hovermode\": \"closest\", \"mapbox\": {\"style\": \"light\"}, \"paper_bgcolor\": \"white\", \"plot_bgcolor\": \"#E5ECF6\", \"polar\": {\"angularaxis\": {\"gridcolor\": \"white\", \"linecolor\": \"white\", \"ticks\": \"\"}, \"bgcolor\": \"#E5ECF6\", \"radialaxis\": {\"gridcolor\": \"white\", \"linecolor\": \"white\", \"ticks\": \"\"}}, \"scene\": {\"xaxis\": {\"backgroundcolor\": \"#E5ECF6\", \"gridcolor\": \"white\", \"gridwidth\": 2, \"linecolor\": \"white\", \"showbackground\": true, \"ticks\": \"\", \"zerolinecolor\": \"white\"}, \"yaxis\": {\"backgroundcolor\": \"#E5ECF6\", \"gridcolor\": \"white\", \"gridwidth\": 2, \"linecolor\": \"white\", \"showbackground\": true, \"ticks\": \"\", \"zerolinecolor\": \"white\"}, \"zaxis\": {\"backgroundcolor\": \"#E5ECF6\", \"gridcolor\": \"white\", \"gridwidth\": 2, \"linecolor\": \"white\", \"showbackground\": true, \"ticks\": \"\", \"zerolinecolor\": \"white\"}}, \"shapedefaults\": {\"line\": {\"color\": \"#2a3f5f\"}}, \"ternary\": {\"aaxis\": {\"gridcolor\": \"white\", \"linecolor\": \"white\", \"ticks\": \"\"}, \"baxis\": {\"gridcolor\": \"white\", \"linecolor\": \"white\", \"ticks\": \"\"}, \"bgcolor\": \"#E5ECF6\", \"caxis\": {\"gridcolor\": \"white\", \"linecolor\": \"white\", \"ticks\": \"\"}}, \"title\": {\"x\": 0.05}, \"xaxis\": {\"automargin\": true, \"gridcolor\": \"white\", \"linecolor\": \"white\", \"ticks\": \"\", \"title\": {\"standoff\": 15}, \"zerolinecolor\": \"white\", \"zerolinewidth\": 2}, \"yaxis\": {\"automargin\": true, \"gridcolor\": \"white\", \"linecolor\": \"white\", \"ticks\": \"\", \"title\": {\"standoff\": 15}, \"zerolinecolor\": \"white\", \"zerolinewidth\": 2}}}, \"xaxis\": {\"title\": {\"font\": {\"size\": 15}, \"text\": \"length (4-90014-B-42)\"}}, \"yaxis\": {\"title\": {\"font\": {\"size\": 15}, \"text\": \"loss (l1)\"}}},                        {\"responsive\": true}                    ).then(function(){\n",
       "                            \n",
       "var gd = document.getElementById('aaedc52e-d113-44ff-8970-b28fc4ec9f81');\n",
       "var x = new MutationObserver(function (mutations, observer) {{\n",
       "        var display = window.getComputedStyle(gd).display;\n",
       "        if (!display || display === 'none') {{\n",
       "            console.log([gd, 'removed!']);\n",
       "            Plotly.purge(gd);\n",
       "            observer.disconnect();\n",
       "        }}\n",
       "}});\n",
       "\n",
       "// Listen for the removal of the full notebook cells\n",
       "var notebookContainer = gd.closest('#notebook-container');\n",
       "if (notebookContainer) {{\n",
       "    x.observe(notebookContainer, {childList: true});\n",
       "}}\n",
       "\n",
       "// Listen for the clearing of the current output cell\n",
       "var outputEl = gd.closest('.output');\n",
       "if (outputEl) {{\n",
       "    x.observe(outputEl, {childList: true});\n",
       "}}\n",
       "\n",
       "                        })                };                });            </script>        </div>"
      ]
     },
     "metadata": {},
     "output_type": "display_data"
    }
   ],
   "source": [
    "# Compare two kinds of\n",
    "set_num = 3\n",
    "constant = 1 # time = 1, square = 0\n",
    "trace01, name01, loss01, mask01 = loss_trace_list[set_num * 2 + constant]\n",
    "trace02, name02, loss02, mask02 = only_loss_trace_list[set_num * 6 + constant]\n",
    "if loss01 == 'mean': loss01 = 'mean L1'\n",
    "print(trace01, name01, loss01, mask01)\n",
    "print(trace02, name02, loss02, mask02)\n",
    "trace_1 = plgo.Scatter(x=area_list, y=trace01, mode='markers', name='audioset')\n",
    "trace_2 = plgo.Scatter(x=area_list, y=trace02, mode='markers', name='only')\n",
    "data = [trace_1, trace_2]\n",
    "layout = plgo.Layout(\n",
    "    xaxis={'title':f'length ({name01})', 'titlefont':{'size':15}},\n",
    "    yaxis={'title':f'loss ({loss01})', 'titlefont':{'size':15}})\n",
    "fig = plgo.Figure(data=data, layout=layout)\n",
    "plp.offline.iplot(fig, filename=loss01)"
   ]
  },
  {
   "cell_type": "code",
   "execution_count": null,
   "metadata": {
    "scrolled": false
   },
   "outputs": [],
   "source": [
    "# Compare to five kinds of models\n",
    "set_num = 10\n",
    "constant = 1 # time = 1, square = 0\n",
    "trace01, name01, loss01, mask01 = loss_trace_list[set_num * 2 + constant]\n",
    "trace02, name02, loss02, mask02 = within_loss_trace_list[set_num * 2 + constant]\n",
    "trace03, name03, loss03, mask03 = only_loss_trace_list[set_num * 2 + constant]\n",
    "trace04, name04, loss04, mask04 = wider_loss_trace_list[set_num * 2 + constant]\n",
    "trace05, name05, loss05, mask05 = wider_l115_loss_trace_list[set_num * 2 + constant]\n",
    "if loss01 == 'mean': loss01 = 'mean L1'\n",
    "print(trace01, name01, loss01, mask01)\n",
    "print(trace02, name02, loss02, mask02)\n",
    "print(trace03, name03, loss03, mask03)\n",
    "print(trace04, name04, loss04, mask04)\n",
    "print(trace05, name05, loss05, mask05)\n",
    "trace_1 = plgo.Scatter(x=area_list, y=trace01, mode='markers', name='rect')\n",
    "trace_2 = plgo.Scatter(x=area_list, y=trace02, mode='markers', name='within')\n",
    "trace_3 = plgo.Scatter(x=area_list, y=trace03, mode='markers', name='time')\n",
    "trace_4 = plgo.Scatter(x=area_list, y=trace04, mode='markers', name='wider')\n",
    "trace_5 = plgo.Scatter(x=area_list, y=trace05, mode='markers', name='widerl1up')\n",
    "data = [trace_1, trace_2, trace_3, trace_4, trace_5]\n",
    "layout = plgo.Layout(\n",
    "    xaxis={'title':f'length ({name01})', 'titlefont':{'size':15}},\n",
    "    yaxis={'title':f'loss ({loss01})', 'titlefont':{'size':15}})\n",
    "fig = plgo.Figure(data=data, layout=layout)\n",
    "plp.offline.iplot(fig, filename=loss01)"
   ]
  },
  {
   "cell_type": "code",
   "execution_count": null,
   "metadata": {},
   "outputs": [],
   "source": [
    "loss_trace_list = err_trace_list # Enable if testing the error on waveform\n",
    "set_num = 10\n",
    "trace01, name01, loss01, mask01 = loss_trace_list[set_num * 2]\n",
    "trace02, name02, loss02, mask02 = loss_trace_list[set_num * 2 + 1]\n",
    "if loss01 == 'mean': loss01 = 'mean L1'\n",
    "print(trace01, name01, loss01, mask01)\n",
    "print(trace02, name02, loss02, mask02)\n",
    "trace_1 = plgo.Scatter(x=area_list, y=trace01, mode='markers', name=mask01)\n",
    "trace_2 = plgo.Scatter(x=area_list, y=trace02, mode='markers', name=mask02)\n",
    "data = [trace_1, trace_2]\n",
    "layout = plgo.Layout(\n",
    "    xaxis={'title':f'length ({name01})', 'titlefont':{'size':15}},\n",
    "    yaxis={'title':f'loss ({loss01})', 'titlefont':{'size':15}})\n",
    "fig = plgo.Figure(data=data, layout=layout)\n",
    "plp.offline.iplot(fig, filename=loss01)"
   ]
  },
  {
   "cell_type": "code",
   "execution_count": null,
   "metadata": {},
   "outputs": [],
   "source": [
    "trace_0 = plgo.Scatter(x=area_list, y=square_l1_1f, mode='markers', name='square mask')\n",
    "trace_1 = plgo.Scatter(x=area_list, y=time_l1_1f, mode='markers', name='time mask')\n",
    "data = [trace_0, trace_1]\n",
    "layout = plgo.Layout(\n",
    "    xaxis={'title':'length', 'titlefont':{'size':20}},\n",
    "    yaxis={'title':'loss (l1)', 'titlefont':{'size':20}})\n",
    "fig = plgo.Figure(data=data, layout=layout)\n",
    "plp.offline.iplot(fig, filename='loss')"
   ]
  },
  {
   "cell_type": "code",
   "execution_count": null,
   "metadata": {},
   "outputs": [],
   "source": [
    "data = np.stack((area_list, time_l1_1f))\n",
    "print(data, data.shape)\n",
    "\n",
    "plt.figure()\n",
    "plt.ylabel('l1loss')\n",
    "plt.xlabel('length')\n",
    "plt.plot(area_list, time_l1_1f, 'k', linestyle='dashed', marker='o')"
   ]
  },
  {
   "cell_type": "code",
   "execution_count": null,
   "metadata": {},
   "outputs": [],
   "source": [
    "data_pth = op.join(proj_pth, 'examples/esc50/mag_seg15_256/')\n",
    "png_pth = op.join(proj_pth, 'examples/esc50/mag_seg15_256/loss_test_time_mask_only/audio/png')\n",
    "shape = ['square', 'time']\n",
    "for filename in sorted(Path(data_pth).glob('*.npy')):\n",
    "    #print(filename)\n",
    "    file = op.basename(filename).split('.')[0]\n",
    "    for anyshape in shape:\n",
    "        #print(file, anyshape)\n",
    "        file_shape = file + '_' + anyshape\n",
    "        print(file_shape)\n",
    "        with imageio.get_writer(op.join(png_pth, f'{file_shape}.gif'), mode='I', duration=0.2) as writer:\n",
    "            for png in tqdm(sorted(Path(png_pth).glob(f'{file_shape}*.png'))):\n",
    "                # print(png)\n",
    "                image = imageio.imread(png)\n",
    "                #plt.figure()\n",
    "                #plt.imshow(image, 'gray')\n",
    "                writer.append_data(image)\n",
    "'''\n",
    "mask_pth = op.join(proj_pth, 'examples/esc50/mag_seg15_256/loss_test_output/png')\n",
    "with imageio.get_writer(op.join(mask_pth, '../mask_square.gif'), mode='I', duration=0.2) as writer:\n",
    "    for png in sorted(Path(mask_pth).glob('mask_square*')):\n",
    "        print(png)\n",
    "        image = imageio.imread(png)\n",
    "        #plt.figure()\n",
    "        #plt.imshow(image, 'gray')\n",
    "        writer.append_data(image)\n",
    "'''"
   ]
  },
  {
   "cell_type": "code",
   "execution_count": 27,
   "metadata": {},
   "outputs": [
    {
     "name": "stderr",
     "output_type": "stream",
     "text": [
      "100%|██████████| 64/64 [00:01<00:00, 51.47it/s]\n",
      "100%|██████████| 64/64 [00:01<00:00, 62.22it/s]\n",
      "100%|██████████| 64/64 [00:00<00:00, 69.32it/s]\n",
      "100%|██████████| 64/64 [00:00<00:00, 72.83it/s]\n",
      "100%|██████████| 64/64 [00:00<00:00, 72.90it/s] \n",
      "100%|██████████| 64/64 [00:00<00:00, 72.03it/s]\n",
      "100%|██████████| 64/64 [00:00<00:00, 76.71it/s]\n",
      "100%|██████████| 64/64 [00:00<00:00, 90.65it/s] \n"
     ]
    },
    {
     "name": "stdout",
     "output_type": "stream",
     "text": [
      "0 /work/r08922a13/generative_inpainting/examples/audioset/mag_seg15/loss_pretrain_esc50/snipped10357_3_square_000.npy\n",
      "1 /work/r08922a13/generative_inpainting/examples/audioset/mag_seg15/loss_pretrain_esc50/snipped10357_3_square_001.npy\n",
      "2 /work/r08922a13/generative_inpainting/examples/audioset/mag_seg15/loss_pretrain_esc50/snipped10357_3_square_002.npy\n",
      "3 /work/r08922a13/generative_inpainting/examples/audioset/mag_seg15/loss_pretrain_esc50/snipped10357_3_square_003.npy\n",
      "4 /work/r08922a13/generative_inpainting/examples/audioset/mag_seg15/loss_pretrain_esc50/snipped10357_3_square_004.npy\n",
      "5 /work/r08922a13/generative_inpainting/examples/audioset/mag_seg15/loss_pretrain_esc50/snipped10357_3_square_005.npy\n",
      "6 /work/r08922a13/generative_inpainting/examples/audioset/mag_seg15/loss_pretrain_esc50/snipped10357_3_square_006.npy\n",
      "7 /work/r08922a13/generative_inpainting/examples/audioset/mag_seg15/loss_pretrain_esc50/snipped10357_3_square_007.npy\n",
      "8 /work/r08922a13/generative_inpainting/examples/audioset/mag_seg15/loss_pretrain_esc50/snipped10357_3_square_008.npy\n",
      "9 /work/r08922a13/generative_inpainting/examples/audioset/mag_seg15/loss_pretrain_esc50/snipped10357_3_square_009.npy\n",
      "10 /work/r08922a13/generative_inpainting/examples/audioset/mag_seg15/loss_pretrain_esc50/snipped10357_3_square_010.npy\n",
      "11 /work/r08922a13/generative_inpainting/examples/audioset/mag_seg15/loss_pretrain_esc50/snipped10357_3_square_011.npy\n",
      "12 /work/r08922a13/generative_inpainting/examples/audioset/mag_seg15/loss_pretrain_esc50/snipped10357_3_square_012.npy\n",
      "13 /work/r08922a13/generative_inpainting/examples/audioset/mag_seg15/loss_pretrain_esc50/snipped10357_3_square_013.npy\n",
      "14 /work/r08922a13/generative_inpainting/examples/audioset/mag_seg15/loss_pretrain_esc50/snipped10357_3_square_014.npy\n",
      "15 /work/r08922a13/generative_inpainting/examples/audioset/mag_seg15/loss_pretrain_esc50/snipped10357_3_square_015.npy\n",
      "16 /work/r08922a13/generative_inpainting/examples/audioset/mag_seg15/loss_pretrain_esc50/snipped10357_3_square_016.npy\n",
      "17 /work/r08922a13/generative_inpainting/examples/audioset/mag_seg15/loss_pretrain_esc50/snipped10357_3_square_017.npy\n",
      "18 /work/r08922a13/generative_inpainting/examples/audioset/mag_seg15/loss_pretrain_esc50/snipped10357_3_square_018.npy\n",
      "19 /work/r08922a13/generative_inpainting/examples/audioset/mag_seg15/loss_pretrain_esc50/snipped10357_3_square_019.npy\n",
      "20 /work/r08922a13/generative_inpainting/examples/audioset/mag_seg15/loss_pretrain_esc50/snipped10357_3_square_020.npy\n",
      "21 /work/r08922a13/generative_inpainting/examples/audioset/mag_seg15/loss_pretrain_esc50/snipped10357_3_square_021.npy\n",
      "22 /work/r08922a13/generative_inpainting/examples/audioset/mag_seg15/loss_pretrain_esc50/snipped10357_3_square_022.npy\n",
      "23 /work/r08922a13/generative_inpainting/examples/audioset/mag_seg15/loss_pretrain_esc50/snipped10357_3_square_023.npy\n",
      "24 /work/r08922a13/generative_inpainting/examples/audioset/mag_seg15/loss_pretrain_esc50/snipped10357_3_square_024.npy\n",
      "25 /work/r08922a13/generative_inpainting/examples/audioset/mag_seg15/loss_pretrain_esc50/snipped10357_3_square_025.npy\n",
      "26 /work/r08922a13/generative_inpainting/examples/audioset/mag_seg15/loss_pretrain_esc50/snipped10357_3_square_026.npy\n",
      "27 /work/r08922a13/generative_inpainting/examples/audioset/mag_seg15/loss_pretrain_esc50/snipped10357_3_square_027.npy\n",
      "28 /work/r08922a13/generative_inpainting/examples/audioset/mag_seg15/loss_pretrain_esc50/snipped10357_3_square_028.npy\n",
      "29 /work/r08922a13/generative_inpainting/examples/audioset/mag_seg15/loss_pretrain_esc50/snipped10357_3_square_029.npy\n",
      "30 /work/r08922a13/generative_inpainting/examples/audioset/mag_seg15/loss_pretrain_esc50/snipped10357_3_square_030.npy\n",
      "31 /work/r08922a13/generative_inpainting/examples/audioset/mag_seg15/loss_pretrain_esc50/snipped10357_3_square_031.npy\n",
      "32 /work/r08922a13/generative_inpainting/examples/audioset/mag_seg15/loss_pretrain_esc50/snipped10357_3_square_032.npy\n",
      "33 /work/r08922a13/generative_inpainting/examples/audioset/mag_seg15/loss_pretrain_esc50/snipped10357_3_square_033.npy\n",
      "34 /work/r08922a13/generative_inpainting/examples/audioset/mag_seg15/loss_pretrain_esc50/snipped10357_3_square_034.npy\n",
      "35 /work/r08922a13/generative_inpainting/examples/audioset/mag_seg15/loss_pretrain_esc50/snipped10357_3_square_035.npy\n",
      "36 /work/r08922a13/generative_inpainting/examples/audioset/mag_seg15/loss_pretrain_esc50/snipped10357_3_square_036.npy\n",
      "37 /work/r08922a13/generative_inpainting/examples/audioset/mag_seg15/loss_pretrain_esc50/snipped10357_3_square_037.npy\n",
      "38 /work/r08922a13/generative_inpainting/examples/audioset/mag_seg15/loss_pretrain_esc50/snipped10357_3_square_038.npy\n",
      "39 /work/r08922a13/generative_inpainting/examples/audioset/mag_seg15/loss_pretrain_esc50/snipped10357_3_square_039.npy\n",
      "40 /work/r08922a13/generative_inpainting/examples/audioset/mag_seg15/loss_pretrain_esc50/snipped10357_3_square_040.npy\n",
      "41 /work/r08922a13/generative_inpainting/examples/audioset/mag_seg15/loss_pretrain_esc50/snipped10357_3_square_041.npy\n",
      "42 /work/r08922a13/generative_inpainting/examples/audioset/mag_seg15/loss_pretrain_esc50/snipped10357_3_square_042.npy\n",
      "43 /work/r08922a13/generative_inpainting/examples/audioset/mag_seg15/loss_pretrain_esc50/snipped10357_3_square_043.npy\n",
      "44 /work/r08922a13/generative_inpainting/examples/audioset/mag_seg15/loss_pretrain_esc50/snipped10357_3_square_044.npy\n",
      "45 /work/r08922a13/generative_inpainting/examples/audioset/mag_seg15/loss_pretrain_esc50/snipped10357_3_square_045.npy\n",
      "46 /work/r08922a13/generative_inpainting/examples/audioset/mag_seg15/loss_pretrain_esc50/snipped10357_3_square_046.npy\n",
      "47 /work/r08922a13/generative_inpainting/examples/audioset/mag_seg15/loss_pretrain_esc50/snipped10357_3_square_047.npy\n",
      "48 /work/r08922a13/generative_inpainting/examples/audioset/mag_seg15/loss_pretrain_esc50/snipped10357_3_square_048.npy\n",
      "49 /work/r08922a13/generative_inpainting/examples/audioset/mag_seg15/loss_pretrain_esc50/snipped10357_3_square_049.npy\n",
      "50 /work/r08922a13/generative_inpainting/examples/audioset/mag_seg15/loss_pretrain_esc50/snipped10357_3_square_050.npy\n",
      "51 /work/r08922a13/generative_inpainting/examples/audioset/mag_seg15/loss_pretrain_esc50/snipped10357_3_square_051.npy\n",
      "52 /work/r08922a13/generative_inpainting/examples/audioset/mag_seg15/loss_pretrain_esc50/snipped10357_3_square_052.npy\n",
      "53 /work/r08922a13/generative_inpainting/examples/audioset/mag_seg15/loss_pretrain_esc50/snipped10357_3_square_053.npy\n",
      "54 /work/r08922a13/generative_inpainting/examples/audioset/mag_seg15/loss_pretrain_esc50/snipped10357_3_square_054.npy\n",
      "55 /work/r08922a13/generative_inpainting/examples/audioset/mag_seg15/loss_pretrain_esc50/snipped10357_3_square_055.npy\n",
      "56 /work/r08922a13/generative_inpainting/examples/audioset/mag_seg15/loss_pretrain_esc50/snipped10357_3_square_056.npy\n",
      "57 /work/r08922a13/generative_inpainting/examples/audioset/mag_seg15/loss_pretrain_esc50/snipped10357_3_square_057.npy\n",
      "58 /work/r08922a13/generative_inpainting/examples/audioset/mag_seg15/loss_pretrain_esc50/snipped10357_3_square_058.npy\n",
      "59 /work/r08922a13/generative_inpainting/examples/audioset/mag_seg15/loss_pretrain_esc50/snipped10357_3_square_059.npy\n",
      "60 /work/r08922a13/generative_inpainting/examples/audioset/mag_seg15/loss_pretrain_esc50/snipped10357_3_square_060.npy\n",
      "61 /work/r08922a13/generative_inpainting/examples/audioset/mag_seg15/loss_pretrain_esc50/snipped10357_3_square_061.npy\n",
      "62 /work/r08922a13/generative_inpainting/examples/audioset/mag_seg15/loss_pretrain_esc50/snipped10357_3_square_062.npy\n",
      "63 /work/r08922a13/generative_inpainting/examples/audioset/mag_seg15/loss_pretrain_esc50/snipped10357_3_square_063.npy\n",
      "64 /work/r08922a13/generative_inpainting/examples/audioset/mag_seg15/loss_pretrain_esc50/snipped10357_3_time_000.npy\n",
      "65 /work/r08922a13/generative_inpainting/examples/audioset/mag_seg15/loss_pretrain_esc50/snipped10357_3_time_001.npy\n",
      "66 /work/r08922a13/generative_inpainting/examples/audioset/mag_seg15/loss_pretrain_esc50/snipped10357_3_time_002.npy\n",
      "67 /work/r08922a13/generative_inpainting/examples/audioset/mag_seg15/loss_pretrain_esc50/snipped10357_3_time_003.npy\n",
      "68 /work/r08922a13/generative_inpainting/examples/audioset/mag_seg15/loss_pretrain_esc50/snipped10357_3_time_004.npy\n",
      "69 /work/r08922a13/generative_inpainting/examples/audioset/mag_seg15/loss_pretrain_esc50/snipped10357_3_time_005.npy\n",
      "70 /work/r08922a13/generative_inpainting/examples/audioset/mag_seg15/loss_pretrain_esc50/snipped10357_3_time_006.npy\n",
      "71 /work/r08922a13/generative_inpainting/examples/audioset/mag_seg15/loss_pretrain_esc50/snipped10357_3_time_007.npy\n",
      "72 /work/r08922a13/generative_inpainting/examples/audioset/mag_seg15/loss_pretrain_esc50/snipped10357_3_time_008.npy\n",
      "73 /work/r08922a13/generative_inpainting/examples/audioset/mag_seg15/loss_pretrain_esc50/snipped10357_3_time_009.npy\n",
      "74 /work/r08922a13/generative_inpainting/examples/audioset/mag_seg15/loss_pretrain_esc50/snipped10357_3_time_010.npy\n",
      "75 /work/r08922a13/generative_inpainting/examples/audioset/mag_seg15/loss_pretrain_esc50/snipped10357_3_time_011.npy\n",
      "76 /work/r08922a13/generative_inpainting/examples/audioset/mag_seg15/loss_pretrain_esc50/snipped10357_3_time_012.npy\n",
      "77 /work/r08922a13/generative_inpainting/examples/audioset/mag_seg15/loss_pretrain_esc50/snipped10357_3_time_013.npy\n"
     ]
    },
    {
     "name": "stdout",
     "output_type": "stream",
     "text": [
      "78 /work/r08922a13/generative_inpainting/examples/audioset/mag_seg15/loss_pretrain_esc50/snipped10357_3_time_014.npy\n",
      "79 /work/r08922a13/generative_inpainting/examples/audioset/mag_seg15/loss_pretrain_esc50/snipped10357_3_time_015.npy\n",
      "80 /work/r08922a13/generative_inpainting/examples/audioset/mag_seg15/loss_pretrain_esc50/snipped10357_3_time_016.npy\n",
      "81 /work/r08922a13/generative_inpainting/examples/audioset/mag_seg15/loss_pretrain_esc50/snipped10357_3_time_017.npy\n",
      "82 /work/r08922a13/generative_inpainting/examples/audioset/mag_seg15/loss_pretrain_esc50/snipped10357_3_time_018.npy\n",
      "83 /work/r08922a13/generative_inpainting/examples/audioset/mag_seg15/loss_pretrain_esc50/snipped10357_3_time_019.npy\n",
      "84 /work/r08922a13/generative_inpainting/examples/audioset/mag_seg15/loss_pretrain_esc50/snipped10357_3_time_020.npy\n",
      "85 /work/r08922a13/generative_inpainting/examples/audioset/mag_seg15/loss_pretrain_esc50/snipped10357_3_time_021.npy\n",
      "86 /work/r08922a13/generative_inpainting/examples/audioset/mag_seg15/loss_pretrain_esc50/snipped10357_3_time_022.npy\n",
      "87 /work/r08922a13/generative_inpainting/examples/audioset/mag_seg15/loss_pretrain_esc50/snipped10357_3_time_023.npy\n",
      "88 /work/r08922a13/generative_inpainting/examples/audioset/mag_seg15/loss_pretrain_esc50/snipped10357_3_time_024.npy\n",
      "89 /work/r08922a13/generative_inpainting/examples/audioset/mag_seg15/loss_pretrain_esc50/snipped10357_3_time_025.npy\n",
      "90 /work/r08922a13/generative_inpainting/examples/audioset/mag_seg15/loss_pretrain_esc50/snipped10357_3_time_026.npy\n",
      "91 /work/r08922a13/generative_inpainting/examples/audioset/mag_seg15/loss_pretrain_esc50/snipped10357_3_time_027.npy\n",
      "92 /work/r08922a13/generative_inpainting/examples/audioset/mag_seg15/loss_pretrain_esc50/snipped10357_3_time_028.npy\n",
      "93 /work/r08922a13/generative_inpainting/examples/audioset/mag_seg15/loss_pretrain_esc50/snipped10357_3_time_029.npy\n",
      "94 /work/r08922a13/generative_inpainting/examples/audioset/mag_seg15/loss_pretrain_esc50/snipped10357_3_time_030.npy\n",
      "95 /work/r08922a13/generative_inpainting/examples/audioset/mag_seg15/loss_pretrain_esc50/snipped10357_3_time_031.npy\n",
      "96 /work/r08922a13/generative_inpainting/examples/audioset/mag_seg15/loss_pretrain_esc50/snipped10357_3_time_032.npy\n",
      "97 /work/r08922a13/generative_inpainting/examples/audioset/mag_seg15/loss_pretrain_esc50/snipped10357_3_time_033.npy\n",
      "98 /work/r08922a13/generative_inpainting/examples/audioset/mag_seg15/loss_pretrain_esc50/snipped10357_3_time_034.npy\n",
      "99 /work/r08922a13/generative_inpainting/examples/audioset/mag_seg15/loss_pretrain_esc50/snipped10357_3_time_035.npy\n",
      "100 /work/r08922a13/generative_inpainting/examples/audioset/mag_seg15/loss_pretrain_esc50/snipped10357_3_time_036.npy\n",
      "101 /work/r08922a13/generative_inpainting/examples/audioset/mag_seg15/loss_pretrain_esc50/snipped10357_3_time_037.npy\n",
      "102 /work/r08922a13/generative_inpainting/examples/audioset/mag_seg15/loss_pretrain_esc50/snipped10357_3_time_038.npy\n",
      "103 /work/r08922a13/generative_inpainting/examples/audioset/mag_seg15/loss_pretrain_esc50/snipped10357_3_time_039.npy\n",
      "104 /work/r08922a13/generative_inpainting/examples/audioset/mag_seg15/loss_pretrain_esc50/snipped10357_3_time_040.npy\n",
      "105 /work/r08922a13/generative_inpainting/examples/audioset/mag_seg15/loss_pretrain_esc50/snipped10357_3_time_041.npy\n",
      "106 /work/r08922a13/generative_inpainting/examples/audioset/mag_seg15/loss_pretrain_esc50/snipped10357_3_time_042.npy\n",
      "107 /work/r08922a13/generative_inpainting/examples/audioset/mag_seg15/loss_pretrain_esc50/snipped10357_3_time_043.npy\n",
      "108 /work/r08922a13/generative_inpainting/examples/audioset/mag_seg15/loss_pretrain_esc50/snipped10357_3_time_044.npy\n",
      "109 /work/r08922a13/generative_inpainting/examples/audioset/mag_seg15/loss_pretrain_esc50/snipped10357_3_time_045.npy\n",
      "110 /work/r08922a13/generative_inpainting/examples/audioset/mag_seg15/loss_pretrain_esc50/snipped10357_3_time_046.npy\n",
      "111 /work/r08922a13/generative_inpainting/examples/audioset/mag_seg15/loss_pretrain_esc50/snipped10357_3_time_047.npy\n",
      "112 /work/r08922a13/generative_inpainting/examples/audioset/mag_seg15/loss_pretrain_esc50/snipped10357_3_time_048.npy\n",
      "113 /work/r08922a13/generative_inpainting/examples/audioset/mag_seg15/loss_pretrain_esc50/snipped10357_3_time_049.npy\n",
      "114 /work/r08922a13/generative_inpainting/examples/audioset/mag_seg15/loss_pretrain_esc50/snipped10357_3_time_050.npy\n",
      "115 /work/r08922a13/generative_inpainting/examples/audioset/mag_seg15/loss_pretrain_esc50/snipped10357_3_time_051.npy\n",
      "116 /work/r08922a13/generative_inpainting/examples/audioset/mag_seg15/loss_pretrain_esc50/snipped10357_3_time_052.npy\n",
      "117 /work/r08922a13/generative_inpainting/examples/audioset/mag_seg15/loss_pretrain_esc50/snipped10357_3_time_053.npy\n",
      "118 /work/r08922a13/generative_inpainting/examples/audioset/mag_seg15/loss_pretrain_esc50/snipped10357_3_time_054.npy\n",
      "119 /work/r08922a13/generative_inpainting/examples/audioset/mag_seg15/loss_pretrain_esc50/snipped10357_3_time_055.npy\n",
      "120 /work/r08922a13/generative_inpainting/examples/audioset/mag_seg15/loss_pretrain_esc50/snipped10357_3_time_056.npy\n",
      "121 /work/r08922a13/generative_inpainting/examples/audioset/mag_seg15/loss_pretrain_esc50/snipped10357_3_time_057.npy\n",
      "122 /work/r08922a13/generative_inpainting/examples/audioset/mag_seg15/loss_pretrain_esc50/snipped10357_3_time_058.npy\n",
      "123 /work/r08922a13/generative_inpainting/examples/audioset/mag_seg15/loss_pretrain_esc50/snipped10357_3_time_059.npy\n",
      "124 /work/r08922a13/generative_inpainting/examples/audioset/mag_seg15/loss_pretrain_esc50/snipped10357_3_time_060.npy\n",
      "125 /work/r08922a13/generative_inpainting/examples/audioset/mag_seg15/loss_pretrain_esc50/snipped10357_3_time_061.npy\n",
      "126 /work/r08922a13/generative_inpainting/examples/audioset/mag_seg15/loss_pretrain_esc50/snipped10357_3_time_062.npy\n",
      "127 /work/r08922a13/generative_inpainting/examples/audioset/mag_seg15/loss_pretrain_esc50/snipped10357_3_time_063.npy\n",
      "128 /work/r08922a13/generative_inpainting/examples/audioset/mag_seg15/loss_pretrain_esc50/snipped3292_2_square_000.npy\n",
      "129 /work/r08922a13/generative_inpainting/examples/audioset/mag_seg15/loss_pretrain_esc50/snipped3292_2_square_001.npy\n",
      "130 /work/r08922a13/generative_inpainting/examples/audioset/mag_seg15/loss_pretrain_esc50/snipped3292_2_square_002.npy\n",
      "131 /work/r08922a13/generative_inpainting/examples/audioset/mag_seg15/loss_pretrain_esc50/snipped3292_2_square_003.npy\n",
      "132 /work/r08922a13/generative_inpainting/examples/audioset/mag_seg15/loss_pretrain_esc50/snipped3292_2_square_004.npy\n",
      "133 /work/r08922a13/generative_inpainting/examples/audioset/mag_seg15/loss_pretrain_esc50/snipped3292_2_square_005.npy\n",
      "134 /work/r08922a13/generative_inpainting/examples/audioset/mag_seg15/loss_pretrain_esc50/snipped3292_2_square_006.npy\n",
      "135 /work/r08922a13/generative_inpainting/examples/audioset/mag_seg15/loss_pretrain_esc50/snipped3292_2_square_007.npy\n",
      "136 /work/r08922a13/generative_inpainting/examples/audioset/mag_seg15/loss_pretrain_esc50/snipped3292_2_square_008.npy\n",
      "137 /work/r08922a13/generative_inpainting/examples/audioset/mag_seg15/loss_pretrain_esc50/snipped3292_2_square_009.npy\n",
      "138 /work/r08922a13/generative_inpainting/examples/audioset/mag_seg15/loss_pretrain_esc50/snipped3292_2_square_010.npy\n",
      "139 /work/r08922a13/generative_inpainting/examples/audioset/mag_seg15/loss_pretrain_esc50/snipped3292_2_square_011.npy\n",
      "140 /work/r08922a13/generative_inpainting/examples/audioset/mag_seg15/loss_pretrain_esc50/snipped3292_2_square_012.npy\n",
      "141 /work/r08922a13/generative_inpainting/examples/audioset/mag_seg15/loss_pretrain_esc50/snipped3292_2_square_013.npy\n",
      "142 /work/r08922a13/generative_inpainting/examples/audioset/mag_seg15/loss_pretrain_esc50/snipped3292_2_square_014.npy\n",
      "143 /work/r08922a13/generative_inpainting/examples/audioset/mag_seg15/loss_pretrain_esc50/snipped3292_2_square_015.npy\n",
      "144 /work/r08922a13/generative_inpainting/examples/audioset/mag_seg15/loss_pretrain_esc50/snipped3292_2_square_016.npy\n",
      "145 /work/r08922a13/generative_inpainting/examples/audioset/mag_seg15/loss_pretrain_esc50/snipped3292_2_square_017.npy\n",
      "146 /work/r08922a13/generative_inpainting/examples/audioset/mag_seg15/loss_pretrain_esc50/snipped3292_2_square_018.npy\n",
      "147 /work/r08922a13/generative_inpainting/examples/audioset/mag_seg15/loss_pretrain_esc50/snipped3292_2_square_019.npy\n",
      "148 /work/r08922a13/generative_inpainting/examples/audioset/mag_seg15/loss_pretrain_esc50/snipped3292_2_square_020.npy\n",
      "149 /work/r08922a13/generative_inpainting/examples/audioset/mag_seg15/loss_pretrain_esc50/snipped3292_2_square_021.npy\n",
      "150 /work/r08922a13/generative_inpainting/examples/audioset/mag_seg15/loss_pretrain_esc50/snipped3292_2_square_022.npy\n",
      "151 /work/r08922a13/generative_inpainting/examples/audioset/mag_seg15/loss_pretrain_esc50/snipped3292_2_square_023.npy\n",
      "152 /work/r08922a13/generative_inpainting/examples/audioset/mag_seg15/loss_pretrain_esc50/snipped3292_2_square_024.npy\n",
      "153 /work/r08922a13/generative_inpainting/examples/audioset/mag_seg15/loss_pretrain_esc50/snipped3292_2_square_025.npy\n",
      "154 /work/r08922a13/generative_inpainting/examples/audioset/mag_seg15/loss_pretrain_esc50/snipped3292_2_square_026.npy\n",
      "155 /work/r08922a13/generative_inpainting/examples/audioset/mag_seg15/loss_pretrain_esc50/snipped3292_2_square_027.npy\n",
      "156 /work/r08922a13/generative_inpainting/examples/audioset/mag_seg15/loss_pretrain_esc50/snipped3292_2_square_028.npy\n",
      "157 /work/r08922a13/generative_inpainting/examples/audioset/mag_seg15/loss_pretrain_esc50/snipped3292_2_square_029.npy\n",
      "158 /work/r08922a13/generative_inpainting/examples/audioset/mag_seg15/loss_pretrain_esc50/snipped3292_2_square_030.npy\n",
      "159 /work/r08922a13/generative_inpainting/examples/audioset/mag_seg15/loss_pretrain_esc50/snipped3292_2_square_031.npy\n",
      "160 /work/r08922a13/generative_inpainting/examples/audioset/mag_seg15/loss_pretrain_esc50/snipped3292_2_square_032.npy\n",
      "161 /work/r08922a13/generative_inpainting/examples/audioset/mag_seg15/loss_pretrain_esc50/snipped3292_2_square_033.npy\n",
      "162 /work/r08922a13/generative_inpainting/examples/audioset/mag_seg15/loss_pretrain_esc50/snipped3292_2_square_034.npy\n",
      "163 /work/r08922a13/generative_inpainting/examples/audioset/mag_seg15/loss_pretrain_esc50/snipped3292_2_square_035.npy\n",
      "164 /work/r08922a13/generative_inpainting/examples/audioset/mag_seg15/loss_pretrain_esc50/snipped3292_2_square_036.npy\n"
     ]
    },
    {
     "name": "stdout",
     "output_type": "stream",
     "text": [
      "165 /work/r08922a13/generative_inpainting/examples/audioset/mag_seg15/loss_pretrain_esc50/snipped3292_2_square_037.npy\n",
      "166 /work/r08922a13/generative_inpainting/examples/audioset/mag_seg15/loss_pretrain_esc50/snipped3292_2_square_038.npy\n",
      "167 /work/r08922a13/generative_inpainting/examples/audioset/mag_seg15/loss_pretrain_esc50/snipped3292_2_square_039.npy\n",
      "168 /work/r08922a13/generative_inpainting/examples/audioset/mag_seg15/loss_pretrain_esc50/snipped3292_2_square_040.npy\n",
      "169 /work/r08922a13/generative_inpainting/examples/audioset/mag_seg15/loss_pretrain_esc50/snipped3292_2_square_041.npy\n",
      "170 /work/r08922a13/generative_inpainting/examples/audioset/mag_seg15/loss_pretrain_esc50/snipped3292_2_square_042.npy\n",
      "171 /work/r08922a13/generative_inpainting/examples/audioset/mag_seg15/loss_pretrain_esc50/snipped3292_2_square_043.npy\n",
      "172 /work/r08922a13/generative_inpainting/examples/audioset/mag_seg15/loss_pretrain_esc50/snipped3292_2_square_044.npy\n",
      "173 /work/r08922a13/generative_inpainting/examples/audioset/mag_seg15/loss_pretrain_esc50/snipped3292_2_square_045.npy\n",
      "174 /work/r08922a13/generative_inpainting/examples/audioset/mag_seg15/loss_pretrain_esc50/snipped3292_2_square_046.npy\n",
      "175 /work/r08922a13/generative_inpainting/examples/audioset/mag_seg15/loss_pretrain_esc50/snipped3292_2_square_047.npy\n",
      "176 /work/r08922a13/generative_inpainting/examples/audioset/mag_seg15/loss_pretrain_esc50/snipped3292_2_square_048.npy\n",
      "177 /work/r08922a13/generative_inpainting/examples/audioset/mag_seg15/loss_pretrain_esc50/snipped3292_2_square_049.npy\n",
      "178 /work/r08922a13/generative_inpainting/examples/audioset/mag_seg15/loss_pretrain_esc50/snipped3292_2_square_050.npy\n",
      "179 /work/r08922a13/generative_inpainting/examples/audioset/mag_seg15/loss_pretrain_esc50/snipped3292_2_square_051.npy\n",
      "180 /work/r08922a13/generative_inpainting/examples/audioset/mag_seg15/loss_pretrain_esc50/snipped3292_2_square_052.npy\n",
      "181 /work/r08922a13/generative_inpainting/examples/audioset/mag_seg15/loss_pretrain_esc50/snipped3292_2_square_053.npy\n",
      "182 /work/r08922a13/generative_inpainting/examples/audioset/mag_seg15/loss_pretrain_esc50/snipped3292_2_square_054.npy\n",
      "183 /work/r08922a13/generative_inpainting/examples/audioset/mag_seg15/loss_pretrain_esc50/snipped3292_2_square_055.npy\n",
      "184 /work/r08922a13/generative_inpainting/examples/audioset/mag_seg15/loss_pretrain_esc50/snipped3292_2_square_056.npy\n",
      "185 /work/r08922a13/generative_inpainting/examples/audioset/mag_seg15/loss_pretrain_esc50/snipped3292_2_square_057.npy\n",
      "186 /work/r08922a13/generative_inpainting/examples/audioset/mag_seg15/loss_pretrain_esc50/snipped3292_2_square_058.npy\n",
      "187 /work/r08922a13/generative_inpainting/examples/audioset/mag_seg15/loss_pretrain_esc50/snipped3292_2_square_059.npy\n",
      "188 /work/r08922a13/generative_inpainting/examples/audioset/mag_seg15/loss_pretrain_esc50/snipped3292_2_square_060.npy\n",
      "189 /work/r08922a13/generative_inpainting/examples/audioset/mag_seg15/loss_pretrain_esc50/snipped3292_2_square_061.npy\n",
      "190 /work/r08922a13/generative_inpainting/examples/audioset/mag_seg15/loss_pretrain_esc50/snipped3292_2_square_062.npy\n",
      "191 /work/r08922a13/generative_inpainting/examples/audioset/mag_seg15/loss_pretrain_esc50/snipped3292_2_square_063.npy\n",
      "192 /work/r08922a13/generative_inpainting/examples/audioset/mag_seg15/loss_pretrain_esc50/snipped3292_2_time_000.npy\n",
      "193 /work/r08922a13/generative_inpainting/examples/audioset/mag_seg15/loss_pretrain_esc50/snipped3292_2_time_001.npy\n",
      "194 /work/r08922a13/generative_inpainting/examples/audioset/mag_seg15/loss_pretrain_esc50/snipped3292_2_time_002.npy\n",
      "195 /work/r08922a13/generative_inpainting/examples/audioset/mag_seg15/loss_pretrain_esc50/snipped3292_2_time_003.npy\n",
      "196 /work/r08922a13/generative_inpainting/examples/audioset/mag_seg15/loss_pretrain_esc50/snipped3292_2_time_004.npy\n",
      "197 /work/r08922a13/generative_inpainting/examples/audioset/mag_seg15/loss_pretrain_esc50/snipped3292_2_time_005.npy\n",
      "198 /work/r08922a13/generative_inpainting/examples/audioset/mag_seg15/loss_pretrain_esc50/snipped3292_2_time_006.npy\n",
      "199 /work/r08922a13/generative_inpainting/examples/audioset/mag_seg15/loss_pretrain_esc50/snipped3292_2_time_007.npy\n",
      "200 /work/r08922a13/generative_inpainting/examples/audioset/mag_seg15/loss_pretrain_esc50/snipped3292_2_time_008.npy\n",
      "201 /work/r08922a13/generative_inpainting/examples/audioset/mag_seg15/loss_pretrain_esc50/snipped3292_2_time_009.npy\n",
      "202 /work/r08922a13/generative_inpainting/examples/audioset/mag_seg15/loss_pretrain_esc50/snipped3292_2_time_010.npy\n",
      "203 /work/r08922a13/generative_inpainting/examples/audioset/mag_seg15/loss_pretrain_esc50/snipped3292_2_time_011.npy\n",
      "204 /work/r08922a13/generative_inpainting/examples/audioset/mag_seg15/loss_pretrain_esc50/snipped3292_2_time_012.npy\n",
      "205 /work/r08922a13/generative_inpainting/examples/audioset/mag_seg15/loss_pretrain_esc50/snipped3292_2_time_013.npy\n",
      "206 /work/r08922a13/generative_inpainting/examples/audioset/mag_seg15/loss_pretrain_esc50/snipped3292_2_time_014.npy\n",
      "207 /work/r08922a13/generative_inpainting/examples/audioset/mag_seg15/loss_pretrain_esc50/snipped3292_2_time_015.npy\n",
      "208 /work/r08922a13/generative_inpainting/examples/audioset/mag_seg15/loss_pretrain_esc50/snipped3292_2_time_016.npy\n",
      "209 /work/r08922a13/generative_inpainting/examples/audioset/mag_seg15/loss_pretrain_esc50/snipped3292_2_time_017.npy\n",
      "210 /work/r08922a13/generative_inpainting/examples/audioset/mag_seg15/loss_pretrain_esc50/snipped3292_2_time_018.npy\n",
      "211 /work/r08922a13/generative_inpainting/examples/audioset/mag_seg15/loss_pretrain_esc50/snipped3292_2_time_019.npy\n",
      "212 /work/r08922a13/generative_inpainting/examples/audioset/mag_seg15/loss_pretrain_esc50/snipped3292_2_time_020.npy\n",
      "213 /work/r08922a13/generative_inpainting/examples/audioset/mag_seg15/loss_pretrain_esc50/snipped3292_2_time_021.npy\n",
      "214 /work/r08922a13/generative_inpainting/examples/audioset/mag_seg15/loss_pretrain_esc50/snipped3292_2_time_022.npy\n",
      "215 /work/r08922a13/generative_inpainting/examples/audioset/mag_seg15/loss_pretrain_esc50/snipped3292_2_time_023.npy\n",
      "216 /work/r08922a13/generative_inpainting/examples/audioset/mag_seg15/loss_pretrain_esc50/snipped3292_2_time_024.npy\n",
      "217 /work/r08922a13/generative_inpainting/examples/audioset/mag_seg15/loss_pretrain_esc50/snipped3292_2_time_025.npy\n",
      "218 /work/r08922a13/generative_inpainting/examples/audioset/mag_seg15/loss_pretrain_esc50/snipped3292_2_time_026.npy\n",
      "219 /work/r08922a13/generative_inpainting/examples/audioset/mag_seg15/loss_pretrain_esc50/snipped3292_2_time_027.npy\n",
      "220 /work/r08922a13/generative_inpainting/examples/audioset/mag_seg15/loss_pretrain_esc50/snipped3292_2_time_028.npy\n",
      "221 /work/r08922a13/generative_inpainting/examples/audioset/mag_seg15/loss_pretrain_esc50/snipped3292_2_time_029.npy\n",
      "222 /work/r08922a13/generative_inpainting/examples/audioset/mag_seg15/loss_pretrain_esc50/snipped3292_2_time_030.npy\n",
      "223 /work/r08922a13/generative_inpainting/examples/audioset/mag_seg15/loss_pretrain_esc50/snipped3292_2_time_031.npy\n",
      "224 /work/r08922a13/generative_inpainting/examples/audioset/mag_seg15/loss_pretrain_esc50/snipped3292_2_time_032.npy\n",
      "225 /work/r08922a13/generative_inpainting/examples/audioset/mag_seg15/loss_pretrain_esc50/snipped3292_2_time_033.npy\n",
      "226 /work/r08922a13/generative_inpainting/examples/audioset/mag_seg15/loss_pretrain_esc50/snipped3292_2_time_034.npy\n",
      "227 /work/r08922a13/generative_inpainting/examples/audioset/mag_seg15/loss_pretrain_esc50/snipped3292_2_time_035.npy\n",
      "228 /work/r08922a13/generative_inpainting/examples/audioset/mag_seg15/loss_pretrain_esc50/snipped3292_2_time_036.npy\n",
      "229 /work/r08922a13/generative_inpainting/examples/audioset/mag_seg15/loss_pretrain_esc50/snipped3292_2_time_037.npy\n",
      "230 /work/r08922a13/generative_inpainting/examples/audioset/mag_seg15/loss_pretrain_esc50/snipped3292_2_time_038.npy\n",
      "231 /work/r08922a13/generative_inpainting/examples/audioset/mag_seg15/loss_pretrain_esc50/snipped3292_2_time_039.npy\n",
      "232 /work/r08922a13/generative_inpainting/examples/audioset/mag_seg15/loss_pretrain_esc50/snipped3292_2_time_040.npy\n",
      "233 /work/r08922a13/generative_inpainting/examples/audioset/mag_seg15/loss_pretrain_esc50/snipped3292_2_time_041.npy\n",
      "234 /work/r08922a13/generative_inpainting/examples/audioset/mag_seg15/loss_pretrain_esc50/snipped3292_2_time_042.npy\n",
      "235 /work/r08922a13/generative_inpainting/examples/audioset/mag_seg15/loss_pretrain_esc50/snipped3292_2_time_043.npy\n",
      "236 /work/r08922a13/generative_inpainting/examples/audioset/mag_seg15/loss_pretrain_esc50/snipped3292_2_time_044.npy\n",
      "237 /work/r08922a13/generative_inpainting/examples/audioset/mag_seg15/loss_pretrain_esc50/snipped3292_2_time_045.npy\n"
     ]
    },
    {
     "name": "stdout",
     "output_type": "stream",
     "text": [
      "238 /work/r08922a13/generative_inpainting/examples/audioset/mag_seg15/loss_pretrain_esc50/snipped3292_2_time_046.npy\n",
      "239 /work/r08922a13/generative_inpainting/examples/audioset/mag_seg15/loss_pretrain_esc50/snipped3292_2_time_047.npy\n",
      "240 /work/r08922a13/generative_inpainting/examples/audioset/mag_seg15/loss_pretrain_esc50/snipped3292_2_time_048.npy\n",
      "241 /work/r08922a13/generative_inpainting/examples/audioset/mag_seg15/loss_pretrain_esc50/snipped3292_2_time_049.npy\n",
      "242 /work/r08922a13/generative_inpainting/examples/audioset/mag_seg15/loss_pretrain_esc50/snipped3292_2_time_050.npy\n",
      "243 /work/r08922a13/generative_inpainting/examples/audioset/mag_seg15/loss_pretrain_esc50/snipped3292_2_time_051.npy\n",
      "244 /work/r08922a13/generative_inpainting/examples/audioset/mag_seg15/loss_pretrain_esc50/snipped3292_2_time_052.npy\n",
      "245 /work/r08922a13/generative_inpainting/examples/audioset/mag_seg15/loss_pretrain_esc50/snipped3292_2_time_053.npy\n",
      "246 /work/r08922a13/generative_inpainting/examples/audioset/mag_seg15/loss_pretrain_esc50/snipped3292_2_time_054.npy\n",
      "247 /work/r08922a13/generative_inpainting/examples/audioset/mag_seg15/loss_pretrain_esc50/snipped3292_2_time_055.npy\n",
      "248 /work/r08922a13/generative_inpainting/examples/audioset/mag_seg15/loss_pretrain_esc50/snipped3292_2_time_056.npy\n",
      "249 /work/r08922a13/generative_inpainting/examples/audioset/mag_seg15/loss_pretrain_esc50/snipped3292_2_time_057.npy\n",
      "250 /work/r08922a13/generative_inpainting/examples/audioset/mag_seg15/loss_pretrain_esc50/snipped3292_2_time_058.npy\n",
      "251 /work/r08922a13/generative_inpainting/examples/audioset/mag_seg15/loss_pretrain_esc50/snipped3292_2_time_059.npy\n",
      "252 /work/r08922a13/generative_inpainting/examples/audioset/mag_seg15/loss_pretrain_esc50/snipped3292_2_time_060.npy\n",
      "253 /work/r08922a13/generative_inpainting/examples/audioset/mag_seg15/loss_pretrain_esc50/snipped3292_2_time_061.npy\n",
      "254 /work/r08922a13/generative_inpainting/examples/audioset/mag_seg15/loss_pretrain_esc50/snipped3292_2_time_062.npy\n",
      "255 /work/r08922a13/generative_inpainting/examples/audioset/mag_seg15/loss_pretrain_esc50/snipped3292_2_time_063.npy\n",
      "256 /work/r08922a13/generative_inpainting/examples/audioset/mag_seg15/loss_pretrain_esc50/snipped6158_4_square_000.npy\n",
      "257 /work/r08922a13/generative_inpainting/examples/audioset/mag_seg15/loss_pretrain_esc50/snipped6158_4_square_001.npy\n",
      "258 /work/r08922a13/generative_inpainting/examples/audioset/mag_seg15/loss_pretrain_esc50/snipped6158_4_square_002.npy\n",
      "259 /work/r08922a13/generative_inpainting/examples/audioset/mag_seg15/loss_pretrain_esc50/snipped6158_4_square_003.npy\n",
      "260 /work/r08922a13/generative_inpainting/examples/audioset/mag_seg15/loss_pretrain_esc50/snipped6158_4_square_004.npy\n",
      "261 /work/r08922a13/generative_inpainting/examples/audioset/mag_seg15/loss_pretrain_esc50/snipped6158_4_square_005.npy\n",
      "262 /work/r08922a13/generative_inpainting/examples/audioset/mag_seg15/loss_pretrain_esc50/snipped6158_4_square_006.npy\n",
      "263 /work/r08922a13/generative_inpainting/examples/audioset/mag_seg15/loss_pretrain_esc50/snipped6158_4_square_007.npy\n",
      "264 /work/r08922a13/generative_inpainting/examples/audioset/mag_seg15/loss_pretrain_esc50/snipped6158_4_square_008.npy\n",
      "265 /work/r08922a13/generative_inpainting/examples/audioset/mag_seg15/loss_pretrain_esc50/snipped6158_4_square_009.npy\n",
      "266 /work/r08922a13/generative_inpainting/examples/audioset/mag_seg15/loss_pretrain_esc50/snipped6158_4_square_010.npy\n",
      "267 /work/r08922a13/generative_inpainting/examples/audioset/mag_seg15/loss_pretrain_esc50/snipped6158_4_square_011.npy\n",
      "268 /work/r08922a13/generative_inpainting/examples/audioset/mag_seg15/loss_pretrain_esc50/snipped6158_4_square_012.npy\n",
      "269 /work/r08922a13/generative_inpainting/examples/audioset/mag_seg15/loss_pretrain_esc50/snipped6158_4_square_013.npy\n",
      "270 /work/r08922a13/generative_inpainting/examples/audioset/mag_seg15/loss_pretrain_esc50/snipped6158_4_square_014.npy\n",
      "271 /work/r08922a13/generative_inpainting/examples/audioset/mag_seg15/loss_pretrain_esc50/snipped6158_4_square_015.npy\n",
      "272 /work/r08922a13/generative_inpainting/examples/audioset/mag_seg15/loss_pretrain_esc50/snipped6158_4_square_016.npy\n",
      "273 /work/r08922a13/generative_inpainting/examples/audioset/mag_seg15/loss_pretrain_esc50/snipped6158_4_square_017.npy\n",
      "274 /work/r08922a13/generative_inpainting/examples/audioset/mag_seg15/loss_pretrain_esc50/snipped6158_4_square_018.npy\n",
      "275 /work/r08922a13/generative_inpainting/examples/audioset/mag_seg15/loss_pretrain_esc50/snipped6158_4_square_019.npy\n",
      "276 /work/r08922a13/generative_inpainting/examples/audioset/mag_seg15/loss_pretrain_esc50/snipped6158_4_square_020.npy\n",
      "277 /work/r08922a13/generative_inpainting/examples/audioset/mag_seg15/loss_pretrain_esc50/snipped6158_4_square_021.npy\n",
      "278 /work/r08922a13/generative_inpainting/examples/audioset/mag_seg15/loss_pretrain_esc50/snipped6158_4_square_022.npy\n",
      "279 /work/r08922a13/generative_inpainting/examples/audioset/mag_seg15/loss_pretrain_esc50/snipped6158_4_square_023.npy\n",
      "280 /work/r08922a13/generative_inpainting/examples/audioset/mag_seg15/loss_pretrain_esc50/snipped6158_4_square_024.npy\n",
      "281 /work/r08922a13/generative_inpainting/examples/audioset/mag_seg15/loss_pretrain_esc50/snipped6158_4_square_025.npy\n",
      "282 /work/r08922a13/generative_inpainting/examples/audioset/mag_seg15/loss_pretrain_esc50/snipped6158_4_square_026.npy\n",
      "283 /work/r08922a13/generative_inpainting/examples/audioset/mag_seg15/loss_pretrain_esc50/snipped6158_4_square_027.npy\n",
      "284 /work/r08922a13/generative_inpainting/examples/audioset/mag_seg15/loss_pretrain_esc50/snipped6158_4_square_028.npy\n",
      "285 /work/r08922a13/generative_inpainting/examples/audioset/mag_seg15/loss_pretrain_esc50/snipped6158_4_square_029.npy\n",
      "286 /work/r08922a13/generative_inpainting/examples/audioset/mag_seg15/loss_pretrain_esc50/snipped6158_4_square_030.npy\n",
      "287 /work/r08922a13/generative_inpainting/examples/audioset/mag_seg15/loss_pretrain_esc50/snipped6158_4_square_031.npy\n",
      "288 /work/r08922a13/generative_inpainting/examples/audioset/mag_seg15/loss_pretrain_esc50/snipped6158_4_square_032.npy\n",
      "289 /work/r08922a13/generative_inpainting/examples/audioset/mag_seg15/loss_pretrain_esc50/snipped6158_4_square_033.npy\n",
      "290 /work/r08922a13/generative_inpainting/examples/audioset/mag_seg15/loss_pretrain_esc50/snipped6158_4_square_034.npy\n",
      "291 /work/r08922a13/generative_inpainting/examples/audioset/mag_seg15/loss_pretrain_esc50/snipped6158_4_square_035.npy\n",
      "292 /work/r08922a13/generative_inpainting/examples/audioset/mag_seg15/loss_pretrain_esc50/snipped6158_4_square_036.npy\n",
      "293 /work/r08922a13/generative_inpainting/examples/audioset/mag_seg15/loss_pretrain_esc50/snipped6158_4_square_037.npy\n",
      "294 /work/r08922a13/generative_inpainting/examples/audioset/mag_seg15/loss_pretrain_esc50/snipped6158_4_square_038.npy\n",
      "295 /work/r08922a13/generative_inpainting/examples/audioset/mag_seg15/loss_pretrain_esc50/snipped6158_4_square_039.npy\n",
      "296 /work/r08922a13/generative_inpainting/examples/audioset/mag_seg15/loss_pretrain_esc50/snipped6158_4_square_040.npy\n",
      "297 /work/r08922a13/generative_inpainting/examples/audioset/mag_seg15/loss_pretrain_esc50/snipped6158_4_square_041.npy\n",
      "298 /work/r08922a13/generative_inpainting/examples/audioset/mag_seg15/loss_pretrain_esc50/snipped6158_4_square_042.npy\n",
      "299 /work/r08922a13/generative_inpainting/examples/audioset/mag_seg15/loss_pretrain_esc50/snipped6158_4_square_043.npy\n",
      "300 /work/r08922a13/generative_inpainting/examples/audioset/mag_seg15/loss_pretrain_esc50/snipped6158_4_square_044.npy\n",
      "301 /work/r08922a13/generative_inpainting/examples/audioset/mag_seg15/loss_pretrain_esc50/snipped6158_4_square_045.npy\n",
      "302 /work/r08922a13/generative_inpainting/examples/audioset/mag_seg15/loss_pretrain_esc50/snipped6158_4_square_046.npy\n",
      "303 /work/r08922a13/generative_inpainting/examples/audioset/mag_seg15/loss_pretrain_esc50/snipped6158_4_square_047.npy\n",
      "304 /work/r08922a13/generative_inpainting/examples/audioset/mag_seg15/loss_pretrain_esc50/snipped6158_4_square_048.npy\n",
      "305 /work/r08922a13/generative_inpainting/examples/audioset/mag_seg15/loss_pretrain_esc50/snipped6158_4_square_049.npy\n",
      "306 /work/r08922a13/generative_inpainting/examples/audioset/mag_seg15/loss_pretrain_esc50/snipped6158_4_square_050.npy\n",
      "307 /work/r08922a13/generative_inpainting/examples/audioset/mag_seg15/loss_pretrain_esc50/snipped6158_4_square_051.npy\n",
      "308 /work/r08922a13/generative_inpainting/examples/audioset/mag_seg15/loss_pretrain_esc50/snipped6158_4_square_052.npy\n",
      "309 /work/r08922a13/generative_inpainting/examples/audioset/mag_seg15/loss_pretrain_esc50/snipped6158_4_square_053.npy\n",
      "310 /work/r08922a13/generative_inpainting/examples/audioset/mag_seg15/loss_pretrain_esc50/snipped6158_4_square_054.npy\n",
      "311 /work/r08922a13/generative_inpainting/examples/audioset/mag_seg15/loss_pretrain_esc50/snipped6158_4_square_055.npy\n",
      "312 /work/r08922a13/generative_inpainting/examples/audioset/mag_seg15/loss_pretrain_esc50/snipped6158_4_square_056.npy\n",
      "313 /work/r08922a13/generative_inpainting/examples/audioset/mag_seg15/loss_pretrain_esc50/snipped6158_4_square_057.npy\n",
      "314 /work/r08922a13/generative_inpainting/examples/audioset/mag_seg15/loss_pretrain_esc50/snipped6158_4_square_058.npy\n"
     ]
    },
    {
     "name": "stdout",
     "output_type": "stream",
     "text": [
      "315 /work/r08922a13/generative_inpainting/examples/audioset/mag_seg15/loss_pretrain_esc50/snipped6158_4_square_059.npy\n",
      "316 /work/r08922a13/generative_inpainting/examples/audioset/mag_seg15/loss_pretrain_esc50/snipped6158_4_square_060.npy\n",
      "317 /work/r08922a13/generative_inpainting/examples/audioset/mag_seg15/loss_pretrain_esc50/snipped6158_4_square_061.npy\n",
      "318 /work/r08922a13/generative_inpainting/examples/audioset/mag_seg15/loss_pretrain_esc50/snipped6158_4_square_062.npy\n",
      "319 /work/r08922a13/generative_inpainting/examples/audioset/mag_seg15/loss_pretrain_esc50/snipped6158_4_square_063.npy\n",
      "320 /work/r08922a13/generative_inpainting/examples/audioset/mag_seg15/loss_pretrain_esc50/snipped6158_4_time_000.npy\n",
      "321 /work/r08922a13/generative_inpainting/examples/audioset/mag_seg15/loss_pretrain_esc50/snipped6158_4_time_001.npy\n",
      "322 /work/r08922a13/generative_inpainting/examples/audioset/mag_seg15/loss_pretrain_esc50/snipped6158_4_time_002.npy\n",
      "323 /work/r08922a13/generative_inpainting/examples/audioset/mag_seg15/loss_pretrain_esc50/snipped6158_4_time_003.npy\n",
      "324 /work/r08922a13/generative_inpainting/examples/audioset/mag_seg15/loss_pretrain_esc50/snipped6158_4_time_004.npy\n",
      "325 /work/r08922a13/generative_inpainting/examples/audioset/mag_seg15/loss_pretrain_esc50/snipped6158_4_time_005.npy\n",
      "326 /work/r08922a13/generative_inpainting/examples/audioset/mag_seg15/loss_pretrain_esc50/snipped6158_4_time_006.npy\n",
      "327 /work/r08922a13/generative_inpainting/examples/audioset/mag_seg15/loss_pretrain_esc50/snipped6158_4_time_007.npy\n",
      "328 /work/r08922a13/generative_inpainting/examples/audioset/mag_seg15/loss_pretrain_esc50/snipped6158_4_time_008.npy\n",
      "329 /work/r08922a13/generative_inpainting/examples/audioset/mag_seg15/loss_pretrain_esc50/snipped6158_4_time_009.npy\n",
      "330 /work/r08922a13/generative_inpainting/examples/audioset/mag_seg15/loss_pretrain_esc50/snipped6158_4_time_010.npy\n",
      "331 /work/r08922a13/generative_inpainting/examples/audioset/mag_seg15/loss_pretrain_esc50/snipped6158_4_time_011.npy\n",
      "332 /work/r08922a13/generative_inpainting/examples/audioset/mag_seg15/loss_pretrain_esc50/snipped6158_4_time_012.npy\n",
      "333 /work/r08922a13/generative_inpainting/examples/audioset/mag_seg15/loss_pretrain_esc50/snipped6158_4_time_013.npy\n",
      "334 /work/r08922a13/generative_inpainting/examples/audioset/mag_seg15/loss_pretrain_esc50/snipped6158_4_time_014.npy\n",
      "335 /work/r08922a13/generative_inpainting/examples/audioset/mag_seg15/loss_pretrain_esc50/snipped6158_4_time_015.npy\n",
      "336 /work/r08922a13/generative_inpainting/examples/audioset/mag_seg15/loss_pretrain_esc50/snipped6158_4_time_016.npy\n",
      "337 /work/r08922a13/generative_inpainting/examples/audioset/mag_seg15/loss_pretrain_esc50/snipped6158_4_time_017.npy\n",
      "338 /work/r08922a13/generative_inpainting/examples/audioset/mag_seg15/loss_pretrain_esc50/snipped6158_4_time_018.npy\n",
      "339 /work/r08922a13/generative_inpainting/examples/audioset/mag_seg15/loss_pretrain_esc50/snipped6158_4_time_019.npy\n",
      "340 /work/r08922a13/generative_inpainting/examples/audioset/mag_seg15/loss_pretrain_esc50/snipped6158_4_time_020.npy\n",
      "341 /work/r08922a13/generative_inpainting/examples/audioset/mag_seg15/loss_pretrain_esc50/snipped6158_4_time_021.npy\n",
      "342 /work/r08922a13/generative_inpainting/examples/audioset/mag_seg15/loss_pretrain_esc50/snipped6158_4_time_022.npy\n",
      "343 /work/r08922a13/generative_inpainting/examples/audioset/mag_seg15/loss_pretrain_esc50/snipped6158_4_time_023.npy\n",
      "344 /work/r08922a13/generative_inpainting/examples/audioset/mag_seg15/loss_pretrain_esc50/snipped6158_4_time_024.npy\n",
      "345 /work/r08922a13/generative_inpainting/examples/audioset/mag_seg15/loss_pretrain_esc50/snipped6158_4_time_025.npy\n",
      "346 /work/r08922a13/generative_inpainting/examples/audioset/mag_seg15/loss_pretrain_esc50/snipped6158_4_time_026.npy\n",
      "347 /work/r08922a13/generative_inpainting/examples/audioset/mag_seg15/loss_pretrain_esc50/snipped6158_4_time_027.npy\n",
      "348 /work/r08922a13/generative_inpainting/examples/audioset/mag_seg15/loss_pretrain_esc50/snipped6158_4_time_028.npy\n",
      "349 /work/r08922a13/generative_inpainting/examples/audioset/mag_seg15/loss_pretrain_esc50/snipped6158_4_time_029.npy\n",
      "350 /work/r08922a13/generative_inpainting/examples/audioset/mag_seg15/loss_pretrain_esc50/snipped6158_4_time_030.npy\n",
      "351 /work/r08922a13/generative_inpainting/examples/audioset/mag_seg15/loss_pretrain_esc50/snipped6158_4_time_031.npy\n",
      "352 /work/r08922a13/generative_inpainting/examples/audioset/mag_seg15/loss_pretrain_esc50/snipped6158_4_time_032.npy\n",
      "353 /work/r08922a13/generative_inpainting/examples/audioset/mag_seg15/loss_pretrain_esc50/snipped6158_4_time_033.npy\n",
      "354 /work/r08922a13/generative_inpainting/examples/audioset/mag_seg15/loss_pretrain_esc50/snipped6158_4_time_034.npy\n",
      "355 /work/r08922a13/generative_inpainting/examples/audioset/mag_seg15/loss_pretrain_esc50/snipped6158_4_time_035.npy\n",
      "356 /work/r08922a13/generative_inpainting/examples/audioset/mag_seg15/loss_pretrain_esc50/snipped6158_4_time_036.npy\n",
      "357 /work/r08922a13/generative_inpainting/examples/audioset/mag_seg15/loss_pretrain_esc50/snipped6158_4_time_037.npy\n",
      "358 /work/r08922a13/generative_inpainting/examples/audioset/mag_seg15/loss_pretrain_esc50/snipped6158_4_time_038.npy\n",
      "359 /work/r08922a13/generative_inpainting/examples/audioset/mag_seg15/loss_pretrain_esc50/snipped6158_4_time_039.npy\n",
      "360 /work/r08922a13/generative_inpainting/examples/audioset/mag_seg15/loss_pretrain_esc50/snipped6158_4_time_040.npy\n",
      "361 /work/r08922a13/generative_inpainting/examples/audioset/mag_seg15/loss_pretrain_esc50/snipped6158_4_time_041.npy\n",
      "362 /work/r08922a13/generative_inpainting/examples/audioset/mag_seg15/loss_pretrain_esc50/snipped6158_4_time_042.npy\n",
      "363 /work/r08922a13/generative_inpainting/examples/audioset/mag_seg15/loss_pretrain_esc50/snipped6158_4_time_043.npy\n",
      "364 /work/r08922a13/generative_inpainting/examples/audioset/mag_seg15/loss_pretrain_esc50/snipped6158_4_time_044.npy\n",
      "365 /work/r08922a13/generative_inpainting/examples/audioset/mag_seg15/loss_pretrain_esc50/snipped6158_4_time_045.npy\n",
      "366 /work/r08922a13/generative_inpainting/examples/audioset/mag_seg15/loss_pretrain_esc50/snipped6158_4_time_046.npy\n",
      "367 /work/r08922a13/generative_inpainting/examples/audioset/mag_seg15/loss_pretrain_esc50/snipped6158_4_time_047.npy\n",
      "368 /work/r08922a13/generative_inpainting/examples/audioset/mag_seg15/loss_pretrain_esc50/snipped6158_4_time_048.npy\n",
      "369 /work/r08922a13/generative_inpainting/examples/audioset/mag_seg15/loss_pretrain_esc50/snipped6158_4_time_049.npy\n",
      "370 /work/r08922a13/generative_inpainting/examples/audioset/mag_seg15/loss_pretrain_esc50/snipped6158_4_time_050.npy\n",
      "371 /work/r08922a13/generative_inpainting/examples/audioset/mag_seg15/loss_pretrain_esc50/snipped6158_4_time_051.npy\n",
      "372 /work/r08922a13/generative_inpainting/examples/audioset/mag_seg15/loss_pretrain_esc50/snipped6158_4_time_052.npy\n",
      "373 /work/r08922a13/generative_inpainting/examples/audioset/mag_seg15/loss_pretrain_esc50/snipped6158_4_time_053.npy\n",
      "374 /work/r08922a13/generative_inpainting/examples/audioset/mag_seg15/loss_pretrain_esc50/snipped6158_4_time_054.npy\n",
      "375 /work/r08922a13/generative_inpainting/examples/audioset/mag_seg15/loss_pretrain_esc50/snipped6158_4_time_055.npy\n",
      "376 /work/r08922a13/generative_inpainting/examples/audioset/mag_seg15/loss_pretrain_esc50/snipped6158_4_time_056.npy\n",
      "377 /work/r08922a13/generative_inpainting/examples/audioset/mag_seg15/loss_pretrain_esc50/snipped6158_4_time_057.npy\n",
      "378 /work/r08922a13/generative_inpainting/examples/audioset/mag_seg15/loss_pretrain_esc50/snipped6158_4_time_058.npy\n",
      "379 /work/r08922a13/generative_inpainting/examples/audioset/mag_seg15/loss_pretrain_esc50/snipped6158_4_time_059.npy\n",
      "380 /work/r08922a13/generative_inpainting/examples/audioset/mag_seg15/loss_pretrain_esc50/snipped6158_4_time_060.npy\n",
      "381 /work/r08922a13/generative_inpainting/examples/audioset/mag_seg15/loss_pretrain_esc50/snipped6158_4_time_061.npy\n",
      "382 /work/r08922a13/generative_inpainting/examples/audioset/mag_seg15/loss_pretrain_esc50/snipped6158_4_time_062.npy\n",
      "383 /work/r08922a13/generative_inpainting/examples/audioset/mag_seg15/loss_pretrain_esc50/snipped6158_4_time_063.npy\n",
      "384 /work/r08922a13/generative_inpainting/examples/audioset/mag_seg15/loss_pretrain_esc50/snipped7266_2_square_000.npy\n",
      "385 /work/r08922a13/generative_inpainting/examples/audioset/mag_seg15/loss_pretrain_esc50/snipped7266_2_square_001.npy\n",
      "386 /work/r08922a13/generative_inpainting/examples/audioset/mag_seg15/loss_pretrain_esc50/snipped7266_2_square_002.npy\n",
      "387 /work/r08922a13/generative_inpainting/examples/audioset/mag_seg15/loss_pretrain_esc50/snipped7266_2_square_003.npy\n",
      "388 /work/r08922a13/generative_inpainting/examples/audioset/mag_seg15/loss_pretrain_esc50/snipped7266_2_square_004.npy\n",
      "389 /work/r08922a13/generative_inpainting/examples/audioset/mag_seg15/loss_pretrain_esc50/snipped7266_2_square_005.npy\n",
      "390 /work/r08922a13/generative_inpainting/examples/audioset/mag_seg15/loss_pretrain_esc50/snipped7266_2_square_006.npy\n",
      "391 /work/r08922a13/generative_inpainting/examples/audioset/mag_seg15/loss_pretrain_esc50/snipped7266_2_square_007.npy\n",
      "392 /work/r08922a13/generative_inpainting/examples/audioset/mag_seg15/loss_pretrain_esc50/snipped7266_2_square_008.npy\n",
      "393 /work/r08922a13/generative_inpainting/examples/audioset/mag_seg15/loss_pretrain_esc50/snipped7266_2_square_009.npy\n"
     ]
    },
    {
     "name": "stdout",
     "output_type": "stream",
     "text": [
      "394 /work/r08922a13/generative_inpainting/examples/audioset/mag_seg15/loss_pretrain_esc50/snipped7266_2_square_010.npy\n",
      "395 /work/r08922a13/generative_inpainting/examples/audioset/mag_seg15/loss_pretrain_esc50/snipped7266_2_square_011.npy\n",
      "396 /work/r08922a13/generative_inpainting/examples/audioset/mag_seg15/loss_pretrain_esc50/snipped7266_2_square_012.npy\n",
      "397 /work/r08922a13/generative_inpainting/examples/audioset/mag_seg15/loss_pretrain_esc50/snipped7266_2_square_013.npy\n",
      "398 /work/r08922a13/generative_inpainting/examples/audioset/mag_seg15/loss_pretrain_esc50/snipped7266_2_square_014.npy\n",
      "399 /work/r08922a13/generative_inpainting/examples/audioset/mag_seg15/loss_pretrain_esc50/snipped7266_2_square_015.npy\n",
      "400 /work/r08922a13/generative_inpainting/examples/audioset/mag_seg15/loss_pretrain_esc50/snipped7266_2_square_016.npy\n",
      "401 /work/r08922a13/generative_inpainting/examples/audioset/mag_seg15/loss_pretrain_esc50/snipped7266_2_square_017.npy\n",
      "402 /work/r08922a13/generative_inpainting/examples/audioset/mag_seg15/loss_pretrain_esc50/snipped7266_2_square_018.npy\n",
      "403 /work/r08922a13/generative_inpainting/examples/audioset/mag_seg15/loss_pretrain_esc50/snipped7266_2_square_019.npy\n",
      "404 /work/r08922a13/generative_inpainting/examples/audioset/mag_seg15/loss_pretrain_esc50/snipped7266_2_square_020.npy\n",
      "405 /work/r08922a13/generative_inpainting/examples/audioset/mag_seg15/loss_pretrain_esc50/snipped7266_2_square_021.npy\n",
      "406 /work/r08922a13/generative_inpainting/examples/audioset/mag_seg15/loss_pretrain_esc50/snipped7266_2_square_022.npy\n",
      "407 /work/r08922a13/generative_inpainting/examples/audioset/mag_seg15/loss_pretrain_esc50/snipped7266_2_square_023.npy\n",
      "408 /work/r08922a13/generative_inpainting/examples/audioset/mag_seg15/loss_pretrain_esc50/snipped7266_2_square_024.npy\n",
      "409 /work/r08922a13/generative_inpainting/examples/audioset/mag_seg15/loss_pretrain_esc50/snipped7266_2_square_025.npy\n",
      "410 /work/r08922a13/generative_inpainting/examples/audioset/mag_seg15/loss_pretrain_esc50/snipped7266_2_square_026.npy\n",
      "411 /work/r08922a13/generative_inpainting/examples/audioset/mag_seg15/loss_pretrain_esc50/snipped7266_2_square_027.npy\n",
      "412 /work/r08922a13/generative_inpainting/examples/audioset/mag_seg15/loss_pretrain_esc50/snipped7266_2_square_028.npy\n",
      "413 /work/r08922a13/generative_inpainting/examples/audioset/mag_seg15/loss_pretrain_esc50/snipped7266_2_square_029.npy\n",
      "414 /work/r08922a13/generative_inpainting/examples/audioset/mag_seg15/loss_pretrain_esc50/snipped7266_2_square_030.npy\n",
      "415 /work/r08922a13/generative_inpainting/examples/audioset/mag_seg15/loss_pretrain_esc50/snipped7266_2_square_031.npy\n",
      "416 /work/r08922a13/generative_inpainting/examples/audioset/mag_seg15/loss_pretrain_esc50/snipped7266_2_square_032.npy\n",
      "417 /work/r08922a13/generative_inpainting/examples/audioset/mag_seg15/loss_pretrain_esc50/snipped7266_2_square_033.npy\n",
      "418 /work/r08922a13/generative_inpainting/examples/audioset/mag_seg15/loss_pretrain_esc50/snipped7266_2_square_034.npy\n",
      "419 /work/r08922a13/generative_inpainting/examples/audioset/mag_seg15/loss_pretrain_esc50/snipped7266_2_square_035.npy\n",
      "420 /work/r08922a13/generative_inpainting/examples/audioset/mag_seg15/loss_pretrain_esc50/snipped7266_2_square_036.npy\n",
      "421 /work/r08922a13/generative_inpainting/examples/audioset/mag_seg15/loss_pretrain_esc50/snipped7266_2_square_037.npy\n",
      "422 /work/r08922a13/generative_inpainting/examples/audioset/mag_seg15/loss_pretrain_esc50/snipped7266_2_square_038.npy\n",
      "423 /work/r08922a13/generative_inpainting/examples/audioset/mag_seg15/loss_pretrain_esc50/snipped7266_2_square_039.npy\n",
      "424 /work/r08922a13/generative_inpainting/examples/audioset/mag_seg15/loss_pretrain_esc50/snipped7266_2_square_040.npy\n",
      "425 /work/r08922a13/generative_inpainting/examples/audioset/mag_seg15/loss_pretrain_esc50/snipped7266_2_square_041.npy\n",
      "426 /work/r08922a13/generative_inpainting/examples/audioset/mag_seg15/loss_pretrain_esc50/snipped7266_2_square_042.npy\n",
      "427 /work/r08922a13/generative_inpainting/examples/audioset/mag_seg15/loss_pretrain_esc50/snipped7266_2_square_043.npy\n",
      "428 /work/r08922a13/generative_inpainting/examples/audioset/mag_seg15/loss_pretrain_esc50/snipped7266_2_square_044.npy\n",
      "429 /work/r08922a13/generative_inpainting/examples/audioset/mag_seg15/loss_pretrain_esc50/snipped7266_2_square_045.npy\n",
      "430 /work/r08922a13/generative_inpainting/examples/audioset/mag_seg15/loss_pretrain_esc50/snipped7266_2_square_046.npy\n",
      "431 /work/r08922a13/generative_inpainting/examples/audioset/mag_seg15/loss_pretrain_esc50/snipped7266_2_square_047.npy\n",
      "432 /work/r08922a13/generative_inpainting/examples/audioset/mag_seg15/loss_pretrain_esc50/snipped7266_2_square_048.npy\n",
      "433 /work/r08922a13/generative_inpainting/examples/audioset/mag_seg15/loss_pretrain_esc50/snipped7266_2_square_049.npy\n",
      "434 /work/r08922a13/generative_inpainting/examples/audioset/mag_seg15/loss_pretrain_esc50/snipped7266_2_square_050.npy\n",
      "435 /work/r08922a13/generative_inpainting/examples/audioset/mag_seg15/loss_pretrain_esc50/snipped7266_2_square_051.npy\n",
      "436 /work/r08922a13/generative_inpainting/examples/audioset/mag_seg15/loss_pretrain_esc50/snipped7266_2_square_052.npy\n",
      "437 /work/r08922a13/generative_inpainting/examples/audioset/mag_seg15/loss_pretrain_esc50/snipped7266_2_square_053.npy\n",
      "438 /work/r08922a13/generative_inpainting/examples/audioset/mag_seg15/loss_pretrain_esc50/snipped7266_2_square_054.npy\n",
      "439 /work/r08922a13/generative_inpainting/examples/audioset/mag_seg15/loss_pretrain_esc50/snipped7266_2_square_055.npy\n",
      "440 /work/r08922a13/generative_inpainting/examples/audioset/mag_seg15/loss_pretrain_esc50/snipped7266_2_square_056.npy\n",
      "441 /work/r08922a13/generative_inpainting/examples/audioset/mag_seg15/loss_pretrain_esc50/snipped7266_2_square_057.npy\n",
      "442 /work/r08922a13/generative_inpainting/examples/audioset/mag_seg15/loss_pretrain_esc50/snipped7266_2_square_058.npy\n",
      "443 /work/r08922a13/generative_inpainting/examples/audioset/mag_seg15/loss_pretrain_esc50/snipped7266_2_square_059.npy\n",
      "444 /work/r08922a13/generative_inpainting/examples/audioset/mag_seg15/loss_pretrain_esc50/snipped7266_2_square_060.npy\n",
      "445 /work/r08922a13/generative_inpainting/examples/audioset/mag_seg15/loss_pretrain_esc50/snipped7266_2_square_061.npy\n",
      "446 /work/r08922a13/generative_inpainting/examples/audioset/mag_seg15/loss_pretrain_esc50/snipped7266_2_square_062.npy\n",
      "447 /work/r08922a13/generative_inpainting/examples/audioset/mag_seg15/loss_pretrain_esc50/snipped7266_2_square_063.npy\n",
      "448 /work/r08922a13/generative_inpainting/examples/audioset/mag_seg15/loss_pretrain_esc50/snipped7266_2_time_000.npy\n",
      "449 /work/r08922a13/generative_inpainting/examples/audioset/mag_seg15/loss_pretrain_esc50/snipped7266_2_time_001.npy\n",
      "450 /work/r08922a13/generative_inpainting/examples/audioset/mag_seg15/loss_pretrain_esc50/snipped7266_2_time_002.npy\n",
      "451 /work/r08922a13/generative_inpainting/examples/audioset/mag_seg15/loss_pretrain_esc50/snipped7266_2_time_003.npy\n",
      "452 /work/r08922a13/generative_inpainting/examples/audioset/mag_seg15/loss_pretrain_esc50/snipped7266_2_time_004.npy\n",
      "453 /work/r08922a13/generative_inpainting/examples/audioset/mag_seg15/loss_pretrain_esc50/snipped7266_2_time_005.npy\n",
      "454 /work/r08922a13/generative_inpainting/examples/audioset/mag_seg15/loss_pretrain_esc50/snipped7266_2_time_006.npy\n",
      "455 /work/r08922a13/generative_inpainting/examples/audioset/mag_seg15/loss_pretrain_esc50/snipped7266_2_time_007.npy\n",
      "456 /work/r08922a13/generative_inpainting/examples/audioset/mag_seg15/loss_pretrain_esc50/snipped7266_2_time_008.npy\n",
      "457 /work/r08922a13/generative_inpainting/examples/audioset/mag_seg15/loss_pretrain_esc50/snipped7266_2_time_009.npy\n",
      "458 /work/r08922a13/generative_inpainting/examples/audioset/mag_seg15/loss_pretrain_esc50/snipped7266_2_time_010.npy\n",
      "459 /work/r08922a13/generative_inpainting/examples/audioset/mag_seg15/loss_pretrain_esc50/snipped7266_2_time_011.npy\n",
      "460 /work/r08922a13/generative_inpainting/examples/audioset/mag_seg15/loss_pretrain_esc50/snipped7266_2_time_012.npy\n",
      "461 /work/r08922a13/generative_inpainting/examples/audioset/mag_seg15/loss_pretrain_esc50/snipped7266_2_time_013.npy\n",
      "462 /work/r08922a13/generative_inpainting/examples/audioset/mag_seg15/loss_pretrain_esc50/snipped7266_2_time_014.npy\n",
      "463 /work/r08922a13/generative_inpainting/examples/audioset/mag_seg15/loss_pretrain_esc50/snipped7266_2_time_015.npy\n",
      "464 /work/r08922a13/generative_inpainting/examples/audioset/mag_seg15/loss_pretrain_esc50/snipped7266_2_time_016.npy\n",
      "465 /work/r08922a13/generative_inpainting/examples/audioset/mag_seg15/loss_pretrain_esc50/snipped7266_2_time_017.npy\n",
      "466 /work/r08922a13/generative_inpainting/examples/audioset/mag_seg15/loss_pretrain_esc50/snipped7266_2_time_018.npy\n",
      "467 /work/r08922a13/generative_inpainting/examples/audioset/mag_seg15/loss_pretrain_esc50/snipped7266_2_time_019.npy\n",
      "468 /work/r08922a13/generative_inpainting/examples/audioset/mag_seg15/loss_pretrain_esc50/snipped7266_2_time_020.npy\n",
      "469 /work/r08922a13/generative_inpainting/examples/audioset/mag_seg15/loss_pretrain_esc50/snipped7266_2_time_021.npy\n",
      "470 /work/r08922a13/generative_inpainting/examples/audioset/mag_seg15/loss_pretrain_esc50/snipped7266_2_time_022.npy\n",
      "471 /work/r08922a13/generative_inpainting/examples/audioset/mag_seg15/loss_pretrain_esc50/snipped7266_2_time_023.npy\n",
      "472 /work/r08922a13/generative_inpainting/examples/audioset/mag_seg15/loss_pretrain_esc50/snipped7266_2_time_024.npy\n",
      "473 /work/r08922a13/generative_inpainting/examples/audioset/mag_seg15/loss_pretrain_esc50/snipped7266_2_time_025.npy\n",
      "474 /work/r08922a13/generative_inpainting/examples/audioset/mag_seg15/loss_pretrain_esc50/snipped7266_2_time_026.npy\n",
      "475 /work/r08922a13/generative_inpainting/examples/audioset/mag_seg15/loss_pretrain_esc50/snipped7266_2_time_027.npy\n"
     ]
    },
    {
     "name": "stdout",
     "output_type": "stream",
     "text": [
      "476 /work/r08922a13/generative_inpainting/examples/audioset/mag_seg15/loss_pretrain_esc50/snipped7266_2_time_028.npy\n",
      "477 /work/r08922a13/generative_inpainting/examples/audioset/mag_seg15/loss_pretrain_esc50/snipped7266_2_time_029.npy\n",
      "478 /work/r08922a13/generative_inpainting/examples/audioset/mag_seg15/loss_pretrain_esc50/snipped7266_2_time_030.npy\n",
      "479 /work/r08922a13/generative_inpainting/examples/audioset/mag_seg15/loss_pretrain_esc50/snipped7266_2_time_031.npy\n",
      "480 /work/r08922a13/generative_inpainting/examples/audioset/mag_seg15/loss_pretrain_esc50/snipped7266_2_time_032.npy\n",
      "481 /work/r08922a13/generative_inpainting/examples/audioset/mag_seg15/loss_pretrain_esc50/snipped7266_2_time_033.npy\n",
      "482 /work/r08922a13/generative_inpainting/examples/audioset/mag_seg15/loss_pretrain_esc50/snipped7266_2_time_034.npy\n",
      "483 /work/r08922a13/generative_inpainting/examples/audioset/mag_seg15/loss_pretrain_esc50/snipped7266_2_time_035.npy\n",
      "484 /work/r08922a13/generative_inpainting/examples/audioset/mag_seg15/loss_pretrain_esc50/snipped7266_2_time_036.npy\n",
      "485 /work/r08922a13/generative_inpainting/examples/audioset/mag_seg15/loss_pretrain_esc50/snipped7266_2_time_037.npy\n",
      "486 /work/r08922a13/generative_inpainting/examples/audioset/mag_seg15/loss_pretrain_esc50/snipped7266_2_time_038.npy\n",
      "487 /work/r08922a13/generative_inpainting/examples/audioset/mag_seg15/loss_pretrain_esc50/snipped7266_2_time_039.npy\n",
      "488 /work/r08922a13/generative_inpainting/examples/audioset/mag_seg15/loss_pretrain_esc50/snipped7266_2_time_040.npy\n",
      "489 /work/r08922a13/generative_inpainting/examples/audioset/mag_seg15/loss_pretrain_esc50/snipped7266_2_time_041.npy\n",
      "490 /work/r08922a13/generative_inpainting/examples/audioset/mag_seg15/loss_pretrain_esc50/snipped7266_2_time_042.npy\n",
      "491 /work/r08922a13/generative_inpainting/examples/audioset/mag_seg15/loss_pretrain_esc50/snipped7266_2_time_043.npy\n",
      "492 /work/r08922a13/generative_inpainting/examples/audioset/mag_seg15/loss_pretrain_esc50/snipped7266_2_time_044.npy\n",
      "493 /work/r08922a13/generative_inpainting/examples/audioset/mag_seg15/loss_pretrain_esc50/snipped7266_2_time_045.npy\n",
      "494 /work/r08922a13/generative_inpainting/examples/audioset/mag_seg15/loss_pretrain_esc50/snipped7266_2_time_046.npy\n",
      "495 /work/r08922a13/generative_inpainting/examples/audioset/mag_seg15/loss_pretrain_esc50/snipped7266_2_time_047.npy\n",
      "496 /work/r08922a13/generative_inpainting/examples/audioset/mag_seg15/loss_pretrain_esc50/snipped7266_2_time_048.npy\n",
      "497 /work/r08922a13/generative_inpainting/examples/audioset/mag_seg15/loss_pretrain_esc50/snipped7266_2_time_049.npy\n",
      "498 /work/r08922a13/generative_inpainting/examples/audioset/mag_seg15/loss_pretrain_esc50/snipped7266_2_time_050.npy\n",
      "499 /work/r08922a13/generative_inpainting/examples/audioset/mag_seg15/loss_pretrain_esc50/snipped7266_2_time_051.npy\n",
      "500 /work/r08922a13/generative_inpainting/examples/audioset/mag_seg15/loss_pretrain_esc50/snipped7266_2_time_052.npy\n",
      "501 /work/r08922a13/generative_inpainting/examples/audioset/mag_seg15/loss_pretrain_esc50/snipped7266_2_time_053.npy\n",
      "502 /work/r08922a13/generative_inpainting/examples/audioset/mag_seg15/loss_pretrain_esc50/snipped7266_2_time_054.npy\n",
      "503 /work/r08922a13/generative_inpainting/examples/audioset/mag_seg15/loss_pretrain_esc50/snipped7266_2_time_055.npy\n",
      "504 /work/r08922a13/generative_inpainting/examples/audioset/mag_seg15/loss_pretrain_esc50/snipped7266_2_time_056.npy\n",
      "505 /work/r08922a13/generative_inpainting/examples/audioset/mag_seg15/loss_pretrain_esc50/snipped7266_2_time_057.npy\n",
      "506 /work/r08922a13/generative_inpainting/examples/audioset/mag_seg15/loss_pretrain_esc50/snipped7266_2_time_058.npy\n",
      "507 /work/r08922a13/generative_inpainting/examples/audioset/mag_seg15/loss_pretrain_esc50/snipped7266_2_time_059.npy\n",
      "508 /work/r08922a13/generative_inpainting/examples/audioset/mag_seg15/loss_pretrain_esc50/snipped7266_2_time_060.npy\n",
      "509 /work/r08922a13/generative_inpainting/examples/audioset/mag_seg15/loss_pretrain_esc50/snipped7266_2_time_061.npy\n",
      "510 /work/r08922a13/generative_inpainting/examples/audioset/mag_seg15/loss_pretrain_esc50/snipped7266_2_time_062.npy\n"
     ]
    },
    {
     "name": "stderr",
     "output_type": "stream",
     "text": [
      " 20%|██        | 13/64 [00:00<00:00, 128.32it/s]"
     ]
    },
    {
     "name": "stdout",
     "output_type": "stream",
     "text": [
      "511 /work/r08922a13/generative_inpainting/examples/audioset/mag_seg15/loss_pretrain_esc50/snipped7266_2_time_063.npy\n",
      "snipped10357_3_square\n"
     ]
    },
    {
     "name": "stderr",
     "output_type": "stream",
     "text": [
      "100%|██████████| 64/64 [00:00<00:00, 129.40it/s]\n",
      " 20%|██        | 13/64 [00:00<00:00, 128.00it/s]"
     ]
    },
    {
     "name": "stdout",
     "output_type": "stream",
     "text": [
      "snipped10357_3_time\n"
     ]
    },
    {
     "name": "stderr",
     "output_type": "stream",
     "text": [
      "100%|██████████| 64/64 [00:00<00:00, 127.69it/s]\n",
      " 28%|██▊       | 18/64 [00:00<00:00, 174.00it/s]"
     ]
    },
    {
     "name": "stdout",
     "output_type": "stream",
     "text": [
      "snipped3292_2_square\n"
     ]
    },
    {
     "name": "stderr",
     "output_type": "stream",
     "text": [
      "100%|██████████| 64/64 [00:00<00:00, 154.20it/s]\n",
      " 28%|██▊       | 18/64 [00:00<00:00, 173.57it/s]"
     ]
    },
    {
     "name": "stdout",
     "output_type": "stream",
     "text": [
      "snipped3292_2_time\n"
     ]
    },
    {
     "name": "stderr",
     "output_type": "stream",
     "text": [
      "100%|██████████| 64/64 [00:00<00:00, 163.71it/s]\n",
      " 22%|██▏       | 14/64 [00:00<00:00, 132.43it/s]"
     ]
    },
    {
     "name": "stdout",
     "output_type": "stream",
     "text": [
      "snipped6158_4_square\n"
     ]
    },
    {
     "name": "stderr",
     "output_type": "stream",
     "text": [
      "100%|██████████| 64/64 [00:00<00:00, 131.04it/s]\n",
      " 22%|██▏       | 14/64 [00:00<00:00, 130.32it/s]"
     ]
    },
    {
     "name": "stdout",
     "output_type": "stream",
     "text": [
      "snipped6158_4_time\n"
     ]
    },
    {
     "name": "stderr",
     "output_type": "stream",
     "text": [
      "100%|██████████| 64/64 [00:00<00:00, 127.13it/s]\n",
      " 22%|██▏       | 14/64 [00:00<00:00, 132.80it/s]"
     ]
    },
    {
     "name": "stdout",
     "output_type": "stream",
     "text": [
      "snipped7266_2_square\n"
     ]
    },
    {
     "name": "stderr",
     "output_type": "stream",
     "text": [
      "100%|██████████| 64/64 [00:00<00:00, 130.19it/s]\n",
      " 22%|██▏       | 14/64 [00:00<00:00, 132.83it/s]"
     ]
    },
    {
     "name": "stdout",
     "output_type": "stream",
     "text": [
      "snipped7266_2_time\n"
     ]
    },
    {
     "name": "stderr",
     "output_type": "stream",
     "text": [
      "100%|██████████| 64/64 [00:00<00:00, 131.84it/s]\n"
     ]
    }
   ],
   "source": [
    "# diff -> png -> gif\n",
    "data_pth = op.join(proj_pth, 'examples/audioset/mag_seg15')\n",
    "output_pth = op.join(proj_pth, 'examples/audioset/mag_seg15/loss_pretrain_esc50')\n",
    "diff_pth = op.join(output_pth, 'diff_output')\n",
    "if op.isdir(diff_pth) is False:\n",
    "    os.mkdir(diff_pth)\n",
    "shape = ['square', 'time']\n",
    "for filename in sorted(Path(data_pth).glob('*.npy')):\n",
    "    origin = np.load(filename)\n",
    "    file = op.basename(filename).split('.')[0]\n",
    "    for anyshape in shape:\n",
    "        file_shape = file + '_' + anyshape\n",
    "        for output in tqdm(sorted(Path(output_pth).glob(f'{file_shape}*.npy'))):\n",
    "            #print(output)\n",
    "            inpainted = np.load(output)\n",
    "            diff = abs(inpainted - origin)\n",
    "            diff_output = op.join(diff_pth, op.basename(output))\n",
    "            #print(diff_output)\n",
    "            np.save(diff_output, diff)\n",
    "\n",
    "png_pth = op.join(diff_pth, 'png')\n",
    "if op.isdir(png_pth) is False:\n",
    "    os.mkdir(png_pth)\n",
    "for i, filename in enumerate(sorted(Path(output_pth).glob('*.npy'))):\n",
    "    print(i, filename)\n",
    "    \n",
    "    spec = np.load(filename)\n",
    "    h, w, _ = spec.shape\n",
    "    spec = spec.reshape((h, w))\n",
    "    \n",
    "    png_filename = op.basename(filename).split('.')[0] + '.png'\n",
    "    png_filename = op.join(png_pth, png_filename)\n",
    "    \n",
    "    # First save the spec to png with force try.\n",
    "    plt.imsave(png_filename, spec, cmap='gray')\n",
    "\n",
    "\n",
    "for filename in sorted(Path(data_pth).glob('*.npy')):\n",
    "    #print(filename)\n",
    "    file = op.basename(filename).split('.')[0]\n",
    "    for anyshape in shape:\n",
    "        #print(file, anyshape)\n",
    "        file_shape = file + '_' + anyshape\n",
    "        print(file_shape)\n",
    "        with imageio.get_writer(op.join(png_pth, f'{file_shape}.gif'), mode='I', duration=0.2) as writer:\n",
    "            for png in tqdm(sorted(Path(png_pth).glob(f'{file_shape}*.png'))):\n",
    "                # print(png)\n",
    "                image = imageio.imread(png)\n",
    "                #plt.figure()\n",
    "                #plt.imshow(image, 'gray')\n",
    "                writer.append_data(image)"
   ]
  },
  {
   "cell_type": "code",
   "execution_count": null,
   "metadata": {},
   "outputs": [],
   "source": [
    "# diff -> png -> gif\n",
    "data_pth = op.join(proj_pth, 'examples/esc50/mag_seg15_256/')\n",
    "output_pth = op.join(proj_pth, 'examples/esc50/mag_seg15_256/loss_test_time_wider_l115')\n",
    "png_pth = op.join(output_pth, 'png')\n",
    "shape = ['square', 'time']\n",
    "if op.isdir(png_pth) is False:\n",
    "    os.mkdir(png_pth)\n",
    "for i, filename in tqdm(enumerate(sorted(Path(output_pth).glob('*.npy')))):\n",
    "    # print(i, filename)\n",
    "    \n",
    "    spec = np.load(filename)\n",
    "    h, w, _ = spec.shape\n",
    "    spec = spec.reshape((h, w))\n",
    "    \n",
    "    png_filename = op.basename(filename).split('.')[0] + '.png'\n",
    "    png_filename = op.join(png_pth, png_filename)\n",
    "    \n",
    "    # First save the spec to png with force try.\n",
    "    plt.imsave(png_filename, spec, cmap='gray')\n",
    "\n",
    "\n",
    "for filename in sorted(Path(data_pth).glob('*.npy')):\n",
    "    #print(filename)\n",
    "    file = op.basename(filename).split('.')[0]\n",
    "    for anyshape in shape:\n",
    "        #print(file, anyshape)\n",
    "        file_shape = file + '_' + anyshape\n",
    "        # print(file_shape)\n",
    "        with imageio.get_writer(op.join(png_pth, f'{file_shape}.gif'), mode='I', duration=0.2) as writer:\n",
    "            for png in tqdm(sorted(Path(png_pth).glob(f'{file_shape}*.png'))):\n",
    "                # print(png)\n",
    "                image = imageio.imread(png)\n",
    "                #plt.figure()\n",
    "                #plt.imshow(image, 'gray')\n",
    "                writer.append_data(image)"
   ]
  },
  {
   "cell_type": "code",
   "execution_count": null,
   "metadata": {
    "scrolled": true
   },
   "outputs": [],
   "source": [
    "data_pth = op.join(proj_pth, 'examples/esc50/mag_seg15_256/')\n",
    "wav_pth = op.join(proj_pth, 'examples/esc50/mag_seg15_256/loss_test_time_mask_only/audio')\n",
    "output_pth = op.join(wav_pth, 'loss')\n",
    "if op.isdir(output_pth) is False:\n",
    "    os.mkdir(output_pth)\n",
    "png_pth = op.join(wav_pth, 'png')\n",
    "if op.isdir(png_pth) is False:\n",
    "    os.mkdir(png_pth)\n",
    "shape = ['square', 'time']\n",
    "for filename in sorted(Path(data_pth).glob('*_res.wav')):\n",
    "    #print(filename)\n",
    "    origin_waveform, sr = torchaudio.load(filename, normalization=True)\n",
    "    #print(\"Min: {}\\nMax: {}\\nMean: {}\".format(origin_waveform.min(), origin_waveform.max(), origin_waveform.mean()))\n",
    "    #plt.figure()\n",
    "    #plt.plot(origin_waveform[0])\n",
    "    file = op.basename(filename).split('.')[0].split('_origin')[0]\n",
    "    for anyshape in shape:\n",
    "        #print(file, anyshape)\n",
    "        file_shape = file + '_' + anyshape\n",
    "        #print(file_shape)\n",
    "        error_list = []\n",
    "        for output in tqdm(sorted(Path(wav_pth).glob(f'{file_shape}*.wav'))):\n",
    "            #print(output)\n",
    "            inpainted_waveform, sr = torchaudio.load(output, normalization=True)\n",
    "            #print(\"Min: {}\\nMax: {}\\nMean: {}\".format(inpainted_waveform.min(), inpainted_waveform.max(), inpainted_waveform.mean()))\n",
    "            #plt.figure()\n",
    "            #plt.plot(inpainted_waveform[0])\n",
    "            #print(inpainted_waveform.shape, _, l)\n",
    "            diff = torch.mean(abs(inpainted_waveform - origin_waveform))\n",
    "            # err = ((origin_waveform-inpainted_waveform).abs() / origin_waveform.abs()).median()\n",
    "            err_value = diff.item()\n",
    "            error_list.append(err_value)\n",
    "            # print(diff, err)\n",
    "            \n",
    "            wave_pack = np.concatenate((origin_waveform, inpainted_waveform), axis=0)\n",
    "            # print(wave_pack.shape)\n",
    "            \n",
    "            plt.figure()\n",
    "            plt.ylim(-0.5, 0.5)\n",
    "            plt.plot(wave_pack[0], 'b', wave_pack[1], 'r')\n",
    "            png_name = op.basename(output).split('.')[0] + '.png'\n",
    "            png_name = op.join(png_pth, png_name)\n",
    "            plt.savefig(png_name)\n",
    "        error_filename = op.join(output_pth, f'{file_shape}_mean-l1.txt')\n",
    "        with open(error_filename, 'w') as f:\n",
    "            for index in error_list:\n",
    "                f.write(str(index)+'\\n')"
   ]
  },
  {
   "cell_type": "code",
   "execution_count": null,
   "metadata": {},
   "outputs": [],
   "source": [
    "test_file_list = '/work/r08922a13/generative_inpainting/data/esc50/spec_15seg/validation_static_view.flist'\n",
    "train_file_list = '/work/r08922a13/generative_inpainting/data/esc50/spec_15seg/train_shuffled.flist'\n",
    "\n",
    "with open(test_file_list, 'r') as f:\n",
    "    file_list = f.read().splitlines()\n",
    "    '''\n",
    "    for line in tqdm(f.readlines()):\n",
    "        print(line)\n",
    "        filename = op.basename(line)\n",
    "        print(filename)\n",
    "        break\n",
    "    '''\n",
    "dict_category_list = dict()\n",
    "for filename in sorted(file_list):\n",
    "    print(filename)\n",
    "    file_basename = op.basename(filename)\n",
    "    category = file_basename.split('.')[0].split('_')[0].split('-')[-1]\n",
    "    print(category)\n",
    "    if int(category) < 10:\n",
    "        category = '0' + category\n",
    "    if dict_category_list.get(category) is None:\n",
    "        dict_category_list[category] = []\n",
    "    dict_category_list[category].append(5)\n",
    "    #spec = np.load(file_list[0])"
   ]
  },
  {
   "cell_type": "code",
   "execution_count": null,
   "metadata": {},
   "outputs": [],
   "source": [
    "print(dict_category_list['19'])\n",
    "print(len(dict_category_list['19']))\n",
    "arr = np.array(dict_category_list['19'])\n",
    "print(arr)\n",
    "print(arr.mean())"
   ]
  },
  {
   "cell_type": "code",
   "execution_count": null,
   "metadata": {},
   "outputs": [],
   "source": [
    "test_file = '/work/r08922a13/generative_inpainting/scripts/testFile.txt'\n",
    "with open(test_file, 'w') as f:\n",
    "    # f.write(\"#list_id min, max mean percentile\\n\")\n",
    "    for a_list in sorted(dict_category_list):\n",
    "        print(a_list, dict_category_list[a_list])\n",
    "        f.write(f'{dict_category_list[a_list]}\\n')"
   ]
  },
  {
   "cell_type": "code",
   "execution_count": null,
   "metadata": {
    "scrolled": true
   },
   "outputs": [],
   "source": [
    "print(origin_waveform, inpainted_waveform)\n",
    "print(abs(origin_waveform - inpainted_waveform))\n",
    "print(torch.mean(abs(origin_waveform - inpainted_waveform)))"
   ]
  },
  {
   "cell_type": "code",
   "execution_count": null,
   "metadata": {},
   "outputs": [],
   "source": []
  },
  {
   "cell_type": "code",
   "execution_count": null,
   "metadata": {},
   "outputs": [],
   "source": [
    "test_waveform = torch.tensor([[1., -1., .5, .5, .2, .1, 1.]])\n",
    "test2_waveform = torch.tensor([[1.5, -1.5, 1.5, .5, .2, .1, 1.]])\n",
    "print(test_waveform.shape, test2_waveform.shape)\n",
    "print((test_waveform - test2_waveform).abs())\n",
    "print(test_waveform.abs())\n",
    "print((test_waveform - test2_waveform).abs() / test_waveform.abs())\n",
    "print(((test_waveform - test2_waveform).abs() / test_waveform.abs()).median())\n",
    "print(test_waveform.median())"
   ]
  },
  {
   "cell_type": "code",
   "execution_count": null,
   "metadata": {},
   "outputs": [],
   "source": [
    "test_waveform = torch.tensor([[1., -1., .5, .5, .2, .1, 1.]])\n",
    "test2_waveform = torch.tensor([[1.5, -1.5, 1.5, .5, .2, .1, 1.]])\n",
    "print(test_waveform.shape, test2_waveform.shape)\n",
    "print(abs(test_waveform - test2_waveform))\n",
    "print(torch.mean(abs(test_waveform - test2_waveform)))"
   ]
  },
  {
   "cell_type": "code",
   "execution_count": 63,
   "metadata": {},
   "outputs": [
    {
     "name": "stdout",
     "output_type": "stream",
     "text": [
      "/work/r08922a13/generative_inpainting/examples/esc50/mag_seg15_256_all/test_m52/loss/m52_mean_l1_loss.txt\n",
      "mean m52\n"
     ]
    }
   ],
   "source": [
    "#test_file = '/work/r08922a13/generative_inpainting/scripts/testFile.txt'\n",
    "loss_pth = '/work/r08922a13/generative_inpainting/examples/esc50/mag_seg15_256_all/test_m52/loss'\n",
    "loss_trace_list = []\n",
    "for filename in sorted(Path(loss_pth).glob('*.txt')):\n",
    "    print(filename)\n",
    "    loss_type = op.basename(filename).split('.')[0].split('_')[1]\n",
    "    mask_type = op.basename(filename).split('.')[0].split('_')[0]\n",
    "    print(loss_type, mask_type)\n",
    "    with open(filename, 'r') as f:\n",
    "        for line in f.readlines():\n",
    "            line = line.lstrip('[').rstrip(']\\n')\n",
    "            f_line = [float(num) for num in line.split(', ')]\n",
    "            #print(line)\n",
    "            loss_trace_list.append(f_line)\n",
    "        #loss_list = f.read().lstrip('[').rstrip(']').splitlines()\n",
    "        #loss_list_float = [float(i) for i in loss_list]\n",
    "        #loss_trace_list.append([loss_list_float, loss_type, mask_type])"
   ]
  },
  {
   "cell_type": "code",
   "execution_count": 70,
   "metadata": {},
   "outputs": [
    {
     "data": {
      "text/plain": [
       "[[0.0064245705,\n",
       "  0.0033346356,\n",
       "  0.0047537764,\n",
       "  0.020071296,\n",
       "  0.01659973,\n",
       "  8.1627604e-07,\n",
       "  0.0076527977,\n",
       "  0.007851947,\n",
       "  0.009265197,\n",
       "  0.011011861],\n",
       " [8.162715e-07,\n",
       "  0.010931686,\n",
       "  0.009527192,\n",
       "  2.579352e-06,\n",
       "  0.013795293,\n",
       "  0.01960781,\n",
       "  0.0022106562,\n",
       "  0.0113936085,\n",
       "  0.005202623,\n",
       "  0.00018346205],\n",
       " [0.013110839,\n",
       "  0.012068396,\n",
       "  0.013803527,\n",
       "  0.014106583,\n",
       "  0.014039881,\n",
       "  0.014704479,\n",
       "  0.01985508,\n",
       "  0.006903335,\n",
       "  0.0063950205,\n",
       "  0.016696049,\n",
       "  0.0140954135,\n",
       "  8.1627013e-07],\n",
       " [0.00091672386,\n",
       "  8.162724e-07,\n",
       "  1.2949754e-06,\n",
       "  7.934295e-06,\n",
       "  8.162756e-07,\n",
       "  8.162742e-07,\n",
       "  0.012443895,\n",
       "  0.0075241514,\n",
       "  0.012738287,\n",
       "  0.01094146,\n",
       "  0.01176311,\n",
       "  0.010095586,\n",
       "  0.0110093765,\n",
       "  0.014148445,\n",
       "  0.013996058],\n",
       " [0.012793736,\n",
       "  0.016273744,\n",
       "  0.010035902,\n",
       "  0.010659179,\n",
       "  0.013529443,\n",
       "  0.011955367,\n",
       "  0.01275805,\n",
       "  0.0025566544,\n",
       "  0.0042699366,\n",
       "  0.0044491985,\n",
       "  0.0016268785,\n",
       "  0.012038682,\n",
       "  0.0006476981],\n",
       " [0.012000773,\n",
       "  0.0074747163,\n",
       "  0.006679482,\n",
       "  0.0071120537,\n",
       "  0.014431472,\n",
       "  8.162742e-07,\n",
       "  0.009943429,\n",
       "  0.007671757,\n",
       "  0.010946888,\n",
       "  0.009912885,\n",
       "  0.012144817,\n",
       "  0.01755601,\n",
       "  0.013069976,\n",
       "  0.0036612595,\n",
       "  8.1627604e-07],\n",
       " [0.014598415,\n",
       "  0.012339784,\n",
       "  0.012822255,\n",
       "  0.012393242,\n",
       "  0.0101357475,\n",
       "  0.01233466,\n",
       "  0.0138947815,\n",
       "  0.012555083,\n",
       "  2.1043734e-05,\n",
       "  0.012843007,\n",
       "  0.014047714,\n",
       "  0.014514239,\n",
       "  0.014599673],\n",
       " [0.011972921,\n",
       "  0.0133486865,\n",
       "  0.012295728,\n",
       "  0.0072086873,\n",
       "  0.011999058,\n",
       "  0.011816025,\n",
       "  0.015681058,\n",
       "  0.012831161,\n",
       "  0.013089038,\n",
       "  0.013199913,\n",
       "  0.01242253],\n",
       " [0.0077530583,\n",
       "  0.012326108,\n",
       "  0.012314716,\n",
       "  0.015906507,\n",
       "  0.011583836,\n",
       "  0.012668813,\n",
       "  0.014378341,\n",
       "  0.013012437,\n",
       "  0.0010325608,\n",
       "  0.01222675,\n",
       "  0.012013597],\n",
       " [0.005247902,\n",
       "  0.00011501656,\n",
       "  0.012419902,\n",
       "  0.012165039,\n",
       "  0.0121654775,\n",
       "  0.011595016,\n",
       "  0.011200443,\n",
       "  0.0123053035,\n",
       "  0.012180554],\n",
       " [0.013583323,\n",
       "  0.012294673,\n",
       "  0.013233802,\n",
       "  0.013372486,\n",
       "  0.013482353,\n",
       "  0.015732218,\n",
       "  0.012098504,\n",
       "  0.0126732625,\n",
       "  0.013540948,\n",
       "  0.013291293,\n",
       "  0.013159512,\n",
       "  0.013518291,\n",
       "  0.01318229,\n",
       "  0.01345417,\n",
       "  0.013213928,\n",
       "  0.013382754,\n",
       "  0.013321352,\n",
       "  0.016825974,\n",
       "  0.013726342],\n",
       " [0.012888471,\n",
       "  0.012924131,\n",
       "  0.0125408545,\n",
       "  0.0130226035,\n",
       "  0.013324088,\n",
       "  0.014012009,\n",
       "  0.01346156,\n",
       "  0.012811931,\n",
       "  0.012720842,\n",
       "  0.0018077156,\n",
       "  0.01323348,\n",
       "  0.012968563,\n",
       "  0.012466278,\n",
       "  0.012621932],\n",
       " [0.01372127,\n",
       "  0.009272531,\n",
       "  0.012576221,\n",
       "  0.014281452,\n",
       "  0.013310008,\n",
       "  0.016517518,\n",
       "  0.01178435,\n",
       "  0.013356896,\n",
       "  0.015489707,\n",
       "  0.014981941,\n",
       "  0.012594274,\n",
       "  0.012529427],\n",
       " [0.012051295,\n",
       "  0.014652861,\n",
       "  0.012279626,\n",
       "  0.026606437,\n",
       "  0.0030638746,\n",
       "  1.6119366e-06,\n",
       "  0.013806542,\n",
       "  0.013838567,\n",
       "  0.016357359,\n",
       "  0.012968515,\n",
       "  0.009113255,\n",
       "  0.009786953,\n",
       "  0.012094004,\n",
       "  0.01182313],\n",
       " [0.012143352,\n",
       "  0.0024496403,\n",
       "  0.012687048,\n",
       "  0.012370251,\n",
       "  0.0057474347,\n",
       "  0.006306448,\n",
       "  0.0064953794],\n",
       " [0.009491406,\n",
       "  0.009479061,\n",
       "  0.0011272571,\n",
       "  0.009367121,\n",
       "  0.0021275245,\n",
       "  0.0015940589,\n",
       "  0.01235579],\n",
       " [0.012620003,\n",
       "  0.01274818,\n",
       "  0.013147648,\n",
       "  0.011230561,\n",
       "  0.011858521,\n",
       "  0.00952191,\n",
       "  0.011976362],\n",
       " [0.017373266,\n",
       "  0.017016768,\n",
       "  0.0141746905,\n",
       "  0.01404735,\n",
       "  0.016923003,\n",
       "  0.013946688,\n",
       "  0.012640795,\n",
       "  0.019795831],\n",
       " [0.01433696,\n",
       "  0.01359319,\n",
       "  0.012852798,\n",
       "  0.015092466,\n",
       "  0.014242129,\n",
       "  0.013522023,\n",
       "  0.01230466,\n",
       "  0.013576233,\n",
       "  0.0135702565,\n",
       "  0.012618648,\n",
       "  0.009709369,\n",
       "  0.01417453,\n",
       "  0.008983858,\n",
       "  0.013087688,\n",
       "  0.013811976,\n",
       "  0.013589472],\n",
       " [0.006267776,\n",
       "  0.0054857787,\n",
       "  0.0015216055,\n",
       "  0.011480818,\n",
       "  0.002035958,\n",
       "  0.0018550984,\n",
       "  0.006343933,\n",
       "  0.00039070385,\n",
       "  0.00021427654,\n",
       "  0.0066053052,\n",
       "  0.008359055],\n",
       " [0.015030514,\n",
       "  0.021864533,\n",
       "  0.016820762,\n",
       "  0.014351856,\n",
       "  0.01698553,\n",
       "  0.025920244,\n",
       "  0.0100645665,\n",
       "  0.014284069,\n",
       "  0.013174808,\n",
       "  0.013900941,\n",
       "  0.015297817],\n",
       " [8.162765e-07,\n",
       "  8.162765e-07,\n",
       "  0.00040241002,\n",
       "  7.1056234e-06,\n",
       "  0.015517821,\n",
       "  8.1627513e-07,\n",
       "  9.3436574e-07,\n",
       "  1.0364709e-05,\n",
       "  0.016577555,\n",
       "  7.937233e-07,\n",
       "  8.1627513e-07,\n",
       "  9.881146e-07,\n",
       "  8.1627513e-07,\n",
       "  8.162747e-07],\n",
       " [0.010456558,\n",
       "  0.012825174,\n",
       "  0.020772664,\n",
       "  0.013275489,\n",
       "  8.162783e-07,\n",
       "  0.013562502,\n",
       "  0.0133785,\n",
       "  0.01366517,\n",
       "  0.0061442275,\n",
       "  0.003422994,\n",
       "  0.012872685],\n",
       " [0.0057149455,\n",
       "  0.008682577,\n",
       "  1.1794041e-06,\n",
       "  8.1627377e-07,\n",
       "  8.162724e-07,\n",
       "  0.012264185,\n",
       "  0.010823964,\n",
       "  0.012728871,\n",
       "  0.011266859,\n",
       "  0.013319818,\n",
       "  0.006927924,\n",
       "  0.012470328,\n",
       "  0.013518009,\n",
       "  0.014829825,\n",
       "  0.0019920303,\n",
       "  0.00095748476],\n",
       " [0.007823134,\n",
       "  0.008361702,\n",
       "  0.014883087,\n",
       "  8.7199776e-05,\n",
       "  8.1627195e-07,\n",
       "  8.1627377e-07,\n",
       "  3.2534049e-06,\n",
       "  8.1627286e-07,\n",
       "  8.1627286e-07,\n",
       "  0.00019115533,\n",
       "  0.008629226],\n",
       " [0.012204668,\n",
       "  0.014052781,\n",
       "  0.013175156,\n",
       "  0.013854848,\n",
       "  0.01329227,\n",
       "  0.014213665,\n",
       "  0.014634336,\n",
       "  0.009834215,\n",
       "  0.012525054,\n",
       "  0.011228876,\n",
       "  0.014096078,\n",
       "  0.013147429,\n",
       "  8.162765e-07,\n",
       "  0.010247281],\n",
       " [0.012970528,\n",
       "  0.01439158,\n",
       "  0.011582397,\n",
       "  0.009082161,\n",
       "  0.014495479,\n",
       "  0.012421675,\n",
       "  0.010858127,\n",
       "  0.013717491,\n",
       "  0.0154051725,\n",
       "  0.0007968387,\n",
       "  0.01082928,\n",
       "  0.012151173,\n",
       "  0.016591389,\n",
       "  0.017669102,\n",
       "  0.015461462,\n",
       "  0.013504938],\n",
       " [0.014418017,\n",
       "  0.014242606,\n",
       "  0.020114029,\n",
       "  0.01685293,\n",
       "  0.012693306,\n",
       "  0.01313283,\n",
       "  0.01595843,\n",
       "  0.013505501,\n",
       "  0.01685711,\n",
       "  0.0137641365],\n",
       " [0.012291767,\n",
       "  0.012171684,\n",
       "  0.0002877213,\n",
       "  0.014557898,\n",
       "  5.922052e-07,\n",
       "  0.012418622,\n",
       "  0.017472133,\n",
       "  0.007396934,\n",
       "  0.004010467,\n",
       "  0.0006737495],\n",
       " [0.011182502,\n",
       "  0.005630376,\n",
       "  0.01496159,\n",
       "  0.0108516365,\n",
       "  0.011741983,\n",
       "  8.1627195e-07,\n",
       "  8.1627513e-07,\n",
       "  1.2176361e-05,\n",
       "  0.004169598,\n",
       "  0.00021963543,\n",
       "  0.013087549,\n",
       "  0.011600718,\n",
       "  0.014032776,\n",
       "  0.008790966],\n",
       " [8.162742e-07,\n",
       "  0.015581305,\n",
       "  8.446143e-06,\n",
       "  0.0047314377,\n",
       "  0.00454949,\n",
       "  0.0039805262,\n",
       "  2.0035104e-06,\n",
       "  8.180773e-07,\n",
       "  0.0010603828,\n",
       "  8.1627695e-07,\n",
       "  0.0022037001],\n",
       " [0.0060819634,\n",
       "  0.012293546,\n",
       "  1.2955379e-06,\n",
       "  0.00023248214,\n",
       "  7.4891295e-07,\n",
       "  0.00010711318,\n",
       "  0.0069235223,\n",
       "  0.00036216082,\n",
       "  0.0148325665,\n",
       "  8.1627286e-07,\n",
       "  0.009556362,\n",
       "  0.0076767886,\n",
       "  0.0102203395,\n",
       "  0.011029692,\n",
       "  0.008186688],\n",
       " [0.003803302,\n",
       "  0.008801293,\n",
       "  0.011532091,\n",
       "  0.016354444,\n",
       "  0.0014548645,\n",
       "  0.002019235,\n",
       "  0.007552798,\n",
       "  0.005890041,\n",
       "  0.00110174,\n",
       "  0.014686137,\n",
       "  0.008576691,\n",
       "  0.010175783,\n",
       "  0.012793412,\n",
       "  0.017777685,\n",
       "  0.008575341],\n",
       " [0.020638192,\n",
       "  0.01192599,\n",
       "  0.00015504163,\n",
       "  0.017606994,\n",
       "  0.013221701,\n",
       "  0.0006202868,\n",
       "  0.013856413,\n",
       "  0.014249806,\n",
       "  0.01571776,\n",
       "  0.0080084,\n",
       "  0.011711007,\n",
       "  0.010223124,\n",
       "  0.01760719,\n",
       "  5.8890422e-05,\n",
       "  0.0155682415],\n",
       " [0.013076797,\n",
       "  8.162733e-07,\n",
       "  8.1627513e-07,\n",
       "  8.1627286e-07,\n",
       "  8.1627104e-07,\n",
       "  0.011987259,\n",
       "  0.010392876,\n",
       "  0.011701373,\n",
       "  0.0018924859,\n",
       "  0.011640793,\n",
       "  8.1627513e-07],\n",
       " [0.01307018,\n",
       "  1.0510012e-06,\n",
       "  0.012677921,\n",
       "  0.0148065975,\n",
       "  0.011287059,\n",
       "  0.013070183,\n",
       "  0.01278281,\n",
       "  0.013290329],\n",
       " [0.012963861, 0.012269233, 0.012624431, 0.013365963, 0.013364457],\n",
       " [8.351262e-06,\n",
       "  0.007513761,\n",
       "  0.0007148201,\n",
       "  0.022222115,\n",
       "  0.017450362,\n",
       "  0.008927405,\n",
       "  0.015141543],\n",
       " [0.012525224,\n",
       "  0.0006098684,\n",
       "  0.0071207485,\n",
       "  0.006764967,\n",
       "  3.4036922e-05,\n",
       "  0.0023428916,\n",
       "  0.0041164556,\n",
       "  0.0044992953,\n",
       "  0.006543021,\n",
       "  0.0051344708,\n",
       "  0.0063251453,\n",
       "  0.006861282,\n",
       "  0.012336476,\n",
       "  0.007152403,\n",
       "  0.0067753196,\n",
       "  0.0026119573,\n",
       "  3.0386242e-05],\n",
       " [0.015478244,\n",
       "  1.1987968e-06,\n",
       "  0.0073813507,\n",
       "  8.162742e-07,\n",
       "  0.007980685,\n",
       "  0.012093635,\n",
       "  8.1627695e-07,\n",
       "  8.1627377e-07,\n",
       "  8.1627604e-07,\n",
       "  8.1627286e-07,\n",
       "  8.162742e-07,\n",
       "  8.593129e-07,\n",
       "  8.162756e-07,\n",
       "  8.162747e-07,\n",
       "  8.1627513e-07],\n",
       " [0.014582213,\n",
       "  0.014282782,\n",
       "  0.0025040957,\n",
       "  0.00419023,\n",
       "  0.011519365,\n",
       "  0.012528938,\n",
       "  0.00943522,\n",
       "  0.010038231,\n",
       "  8.162742e-07,\n",
       "  0.004697933,\n",
       "  0.011093469,\n",
       "  0.012429141,\n",
       "  1.929638e-06,\n",
       "  0.008510295,\n",
       "  0.015644591,\n",
       "  0.013223141],\n",
       " [0.014634539,\n",
       "  0.018258026,\n",
       "  0.012961037,\n",
       "  0.01347062,\n",
       "  0.012729469,\n",
       "  0.0123759955,\n",
       "  0.014106901,\n",
       "  0.013665929,\n",
       "  0.012725222,\n",
       "  0.005598204,\n",
       "  0.012927683,\n",
       "  0.013238529,\n",
       "  0.014031795],\n",
       " [0.012358848,\n",
       "  0.014040402,\n",
       "  0.01456444,\n",
       "  0.011964949,\n",
       "  0.009046555,\n",
       "  0.017595768,\n",
       "  0.014116638,\n",
       "  0.006941611,\n",
       "  0.010030236],\n",
       " [8.212337e-07,\n",
       "  0.012182346,\n",
       "  0.0153810335,\n",
       "  0.013125124,\n",
       "  8.1627286e-07,\n",
       "  0.021193905,\n",
       "  8.162733e-07,\n",
       "  0.011181465,\n",
       "  0.01244719,\n",
       "  0.0024904017,\n",
       "  0.012184648,\n",
       "  0.012241805,\n",
       "  0.013485029],\n",
       " [0.0065688733,\n",
       "  8.162733e-07,\n",
       "  0.015029281,\n",
       "  0.009324214,\n",
       "  0.012289211,\n",
       "  0.021278817,\n",
       "  0.015607537,\n",
       "  0.016969258,\n",
       "  0.015807288,\n",
       "  0.013354843],\n",
       " [0.013943409,\n",
       "  0.013182459,\n",
       "  0.012790432,\n",
       "  0.0116643505,\n",
       "  0.012930554,\n",
       "  0.010715351,\n",
       "  0.012772368,\n",
       "  0.014706124,\n",
       "  0.010329088,\n",
       "  0.011670401,\n",
       "  0.012446764],\n",
       " [0.011959147,\n",
       "  0.0058486317,\n",
       "  0.006616956,\n",
       "  0.0045404765,\n",
       "  0.01012064,\n",
       "  0.011429703,\n",
       "  0.010603048,\n",
       "  0.0076785674,\n",
       "  0.01085079,\n",
       "  2.6868653e-05,\n",
       "  0.01034119,\n",
       "  0.012677335,\n",
       "  0.011975011],\n",
       " [0.01279535,\n",
       "  0.010258783,\n",
       "  0.0010340109,\n",
       "  0.0044896123,\n",
       "  0.01146308,\n",
       "  4.0246446e-06,\n",
       "  4.2957704e-06,\n",
       "  0.008526653,\n",
       "  0.010629326,\n",
       "  0.0111493785,\n",
       "  0.011159862,\n",
       "  8.0438236e-05],\n",
       " [0.006748912,\n",
       "  0.0031050474,\n",
       "  0.0003249111,\n",
       "  1.3216363e-06,\n",
       "  0.0010182783,\n",
       "  0.004367652,\n",
       "  0.011166908,\n",
       "  0.0025239273,\n",
       "  0.009289815],\n",
       " [0.015108251,\n",
       "  0.016125495,\n",
       "  0.013693389,\n",
       "  0.015969748,\n",
       "  0.014106108,\n",
       "  0.013759831,\n",
       "  0.013688754,\n",
       "  0.014735876,\n",
       "  0.014077913,\n",
       "  0.015309374,\n",
       "  0.0171941,\n",
       "  0.014717983,\n",
       "  0.015841523,\n",
       "  0.015380763]]"
      ]
     },
     "execution_count": 70,
     "metadata": {},
     "output_type": "execute_result"
    }
   ],
   "source": [
    "loss_trace_list"
   ]
  },
  {
   "cell_type": "code",
   "execution_count": 66,
   "metadata": {},
   "outputs": [
    {
     "name": "stdout",
     "output_type": "stream",
     "text": [
      "['0', '1', '2', '3', '4', '5', '6', '7', '8', '9', '10', '11', '12', '13', '14', '15', '16', '17', '18', '19', '20', '21', '22', '23', '24', '25', '26', '27', '28', '29', '30', '31', '32', '33', '34', '35', '36', '37', '38', '39', '40', '41', '42', '43', '44', '45', '46', '47', '48', '49']\n"
     ]
    }
   ],
   "source": [
    "N = 50\n",
    "x_data = ['dog', 'rooster', 'pig', 'cow', 'frog',\n",
    "          'cat', 'hen', 'insects', 'sheep', 'crow',\n",
    "          'rain', 'sea_waves', 'crackling_fire', 'crickets', 'chirping_birds',\n",
    "          'water_drops', 'wind', 'pouring_water', 'toilet_flush', 'thunderstorm',\n",
    "          'crying_baby', 'sneezing', 'clapping', 'breathing', 'coughing',\n",
    "          'footsteps', 'laughing', 'brushing_teeth', 'snoring', 'drinking_sipping',\n",
    "          'door_wood_knock', 'mouse_click', 'keyboard_typing', 'door_wood_creaks', 'can_opening',\n",
    "          'washing_machine', 'vacuum_cleaner', 'clock_alarm', 'clock_tick', 'glass_breaking',\n",
    "          'helicopter', 'chainsaw', 'siren', 'car_horn', 'engine',\n",
    "          'train', 'church_bells', 'airplane', 'fireworks', 'hand_saw']\n",
    "x_data_id = [str(i) for i in range(N)]\n",
    "print(x_data_id)"
   ]
  },
  {
   "cell_type": "code",
   "execution_count": 75,
   "metadata": {},
   "outputs": [
    {
     "data": {
      "application/vnd.plotly.v1+json": {
       "config": {
        "plotlyServerURL": "https://plot.ly"
       },
       "data": [
        {
         "boxpoints": "outliers",
         "fillcolor": "hsl(0.0,50%,50%)",
         "jitter": 0.5,
         "line": {
          "width": 1
         },
         "marker": {
          "size": 2
         },
         "name": "dog",
         "type": "box",
         "whiskerwidth": 0.2,
         "y": [
          0.0064245705,
          0.0033346356,
          0.0047537764,
          0.020071296,
          0.01659973,
          8.1627604e-07,
          0.0076527977,
          0.007851947,
          0.009265197,
          0.011011861
         ]
        },
        {
         "boxpoints": "outliers",
         "fillcolor": "hsl(7.346938775510204,50%,50%)",
         "jitter": 0.5,
         "line": {
          "width": 1
         },
         "marker": {
          "size": 2
         },
         "name": "rooster",
         "type": "box",
         "whiskerwidth": 0.2,
         "y": [
          8.162715e-07,
          0.010931686,
          0.009527192,
          2.579352e-06,
          0.013795293,
          0.01960781,
          0.0022106562,
          0.0113936085,
          0.005202623,
          0.00018346205
         ]
        },
        {
         "boxpoints": "outliers",
         "fillcolor": "hsl(14.693877551020408,50%,50%)",
         "jitter": 0.5,
         "line": {
          "width": 1
         },
         "marker": {
          "size": 2
         },
         "name": "pig",
         "type": "box",
         "whiskerwidth": 0.2,
         "y": [
          0.013110839,
          0.012068396,
          0.013803527,
          0.014106583,
          0.014039881,
          0.014704479,
          0.01985508,
          0.006903335,
          0.0063950205,
          0.016696049,
          0.0140954135,
          8.1627013e-07
         ]
        },
        {
         "boxpoints": "outliers",
         "fillcolor": "hsl(22.040816326530614,50%,50%)",
         "jitter": 0.5,
         "line": {
          "width": 1
         },
         "marker": {
          "size": 2
         },
         "name": "cow",
         "type": "box",
         "whiskerwidth": 0.2,
         "y": [
          0.00091672386,
          8.162724e-07,
          1.2949754e-06,
          7.934295e-06,
          8.162756e-07,
          8.162742e-07,
          0.012443895,
          0.0075241514,
          0.012738287,
          0.01094146,
          0.01176311,
          0.010095586,
          0.0110093765,
          0.014148445,
          0.013996058
         ]
        },
        {
         "boxpoints": "outliers",
         "fillcolor": "hsl(29.387755102040817,50%,50%)",
         "jitter": 0.5,
         "line": {
          "width": 1
         },
         "marker": {
          "size": 2
         },
         "name": "frog",
         "type": "box",
         "whiskerwidth": 0.2,
         "y": [
          0.012793736,
          0.016273744,
          0.010035902,
          0.010659179,
          0.013529443,
          0.011955367,
          0.01275805,
          0.0025566544,
          0.0042699366,
          0.0044491985,
          0.0016268785,
          0.012038682,
          0.0006476981
         ]
        },
        {
         "boxpoints": "outliers",
         "fillcolor": "hsl(36.734693877551024,50%,50%)",
         "jitter": 0.5,
         "line": {
          "width": 1
         },
         "marker": {
          "size": 2
         },
         "name": "cat",
         "type": "box",
         "whiskerwidth": 0.2,
         "y": [
          0.012000773,
          0.0074747163,
          0.006679482,
          0.0071120537,
          0.014431472,
          8.162742e-07,
          0.009943429,
          0.007671757,
          0.010946888,
          0.009912885,
          0.012144817,
          0.01755601,
          0.013069976,
          0.0036612595,
          8.1627604e-07
         ]
        },
        {
         "boxpoints": "outliers",
         "fillcolor": "hsl(44.08163265306123,50%,50%)",
         "jitter": 0.5,
         "line": {
          "width": 1
         },
         "marker": {
          "size": 2
         },
         "name": "hen",
         "type": "box",
         "whiskerwidth": 0.2,
         "y": [
          0.014598415,
          0.012339784,
          0.012822255,
          0.012393242,
          0.0101357475,
          0.01233466,
          0.0138947815,
          0.012555083,
          2.1043734e-05,
          0.012843007,
          0.014047714,
          0.014514239,
          0.014599673
         ]
        },
        {
         "boxpoints": "outliers",
         "fillcolor": "hsl(51.42857142857143,50%,50%)",
         "jitter": 0.5,
         "line": {
          "width": 1
         },
         "marker": {
          "size": 2
         },
         "name": "insects",
         "type": "box",
         "whiskerwidth": 0.2,
         "y": [
          0.011972921,
          0.0133486865,
          0.012295728,
          0.0072086873,
          0.011999058,
          0.011816025,
          0.015681058,
          0.012831161,
          0.013089038,
          0.013199913,
          0.01242253
         ]
        },
        {
         "boxpoints": "outliers",
         "fillcolor": "hsl(58.775510204081634,50%,50%)",
         "jitter": 0.5,
         "line": {
          "width": 1
         },
         "marker": {
          "size": 2
         },
         "name": "sheep",
         "type": "box",
         "whiskerwidth": 0.2,
         "y": [
          0.0077530583,
          0.012326108,
          0.012314716,
          0.015906507,
          0.011583836,
          0.012668813,
          0.014378341,
          0.013012437,
          0.0010325608,
          0.01222675,
          0.012013597
         ]
        },
        {
         "boxpoints": "outliers",
         "fillcolor": "hsl(66.12244897959184,50%,50%)",
         "jitter": 0.5,
         "line": {
          "width": 1
         },
         "marker": {
          "size": 2
         },
         "name": "crow",
         "type": "box",
         "whiskerwidth": 0.2,
         "y": [
          0.005247902,
          0.00011501656,
          0.012419902,
          0.012165039,
          0.0121654775,
          0.011595016,
          0.011200443,
          0.0123053035,
          0.012180554
         ]
        },
        {
         "boxpoints": "outliers",
         "fillcolor": "hsl(73.46938775510205,50%,50%)",
         "jitter": 0.5,
         "line": {
          "width": 1
         },
         "marker": {
          "size": 2
         },
         "name": "rain",
         "type": "box",
         "whiskerwidth": 0.2,
         "y": [
          0.013583323,
          0.012294673,
          0.013233802,
          0.013372486,
          0.013482353,
          0.015732218,
          0.012098504,
          0.0126732625,
          0.013540948,
          0.013291293,
          0.013159512,
          0.013518291,
          0.01318229,
          0.01345417,
          0.013213928,
          0.013382754,
          0.013321352,
          0.016825974,
          0.013726342
         ]
        },
        {
         "boxpoints": "outliers",
         "fillcolor": "hsl(80.81632653061224,50%,50%)",
         "jitter": 0.5,
         "line": {
          "width": 1
         },
         "marker": {
          "size": 2
         },
         "name": "sea_waves",
         "type": "box",
         "whiskerwidth": 0.2,
         "y": [
          0.012888471,
          0.012924131,
          0.0125408545,
          0.0130226035,
          0.013324088,
          0.014012009,
          0.01346156,
          0.012811931,
          0.012720842,
          0.0018077156,
          0.01323348,
          0.012968563,
          0.012466278,
          0.012621932
         ]
        },
        {
         "boxpoints": "outliers",
         "fillcolor": "hsl(88.16326530612245,50%,50%)",
         "jitter": 0.5,
         "line": {
          "width": 1
         },
         "marker": {
          "size": 2
         },
         "name": "crackling_fire",
         "type": "box",
         "whiskerwidth": 0.2,
         "y": [
          0.01372127,
          0.009272531,
          0.012576221,
          0.014281452,
          0.013310008,
          0.016517518,
          0.01178435,
          0.013356896,
          0.015489707,
          0.014981941,
          0.012594274,
          0.012529427
         ]
        },
        {
         "boxpoints": "outliers",
         "fillcolor": "hsl(95.51020408163265,50%,50%)",
         "jitter": 0.5,
         "line": {
          "width": 1
         },
         "marker": {
          "size": 2
         },
         "name": "crickets",
         "type": "box",
         "whiskerwidth": 0.2,
         "y": [
          0.012051295,
          0.014652861,
          0.012279626,
          0.026606437,
          0.0030638746,
          1.6119366e-06,
          0.013806542,
          0.013838567,
          0.016357359,
          0.012968515,
          0.009113255,
          0.009786953,
          0.012094004,
          0.01182313
         ]
        },
        {
         "boxpoints": "outliers",
         "fillcolor": "hsl(102.85714285714286,50%,50%)",
         "jitter": 0.5,
         "line": {
          "width": 1
         },
         "marker": {
          "size": 2
         },
         "name": "chirping_birds",
         "type": "box",
         "whiskerwidth": 0.2,
         "y": [
          0.012143352,
          0.0024496403,
          0.012687048,
          0.012370251,
          0.0057474347,
          0.006306448,
          0.0064953794
         ]
        },
        {
         "boxpoints": "outliers",
         "fillcolor": "hsl(110.20408163265306,50%,50%)",
         "jitter": 0.5,
         "line": {
          "width": 1
         },
         "marker": {
          "size": 2
         },
         "name": "water_drops",
         "type": "box",
         "whiskerwidth": 0.2,
         "y": [
          0.009491406,
          0.009479061,
          0.0011272571,
          0.009367121,
          0.0021275245,
          0.0015940589,
          0.01235579
         ]
        },
        {
         "boxpoints": "outliers",
         "fillcolor": "hsl(117.55102040816327,50%,50%)",
         "jitter": 0.5,
         "line": {
          "width": 1
         },
         "marker": {
          "size": 2
         },
         "name": "wind",
         "type": "box",
         "whiskerwidth": 0.2,
         "y": [
          0.012620003,
          0.01274818,
          0.013147648,
          0.011230561,
          0.011858521,
          0.00952191,
          0.011976362
         ]
        },
        {
         "boxpoints": "outliers",
         "fillcolor": "hsl(124.89795918367348,50%,50%)",
         "jitter": 0.5,
         "line": {
          "width": 1
         },
         "marker": {
          "size": 2
         },
         "name": "pouring_water",
         "type": "box",
         "whiskerwidth": 0.2,
         "y": [
          0.017373266,
          0.017016768,
          0.0141746905,
          0.01404735,
          0.016923003,
          0.013946688,
          0.012640795,
          0.019795831
         ]
        },
        {
         "boxpoints": "outliers",
         "fillcolor": "hsl(132.24489795918367,50%,50%)",
         "jitter": 0.5,
         "line": {
          "width": 1
         },
         "marker": {
          "size": 2
         },
         "name": "toilet_flush",
         "type": "box",
         "whiskerwidth": 0.2,
         "y": [
          0.01433696,
          0.01359319,
          0.012852798,
          0.015092466,
          0.014242129,
          0.013522023,
          0.01230466,
          0.013576233,
          0.0135702565,
          0.012618648,
          0.009709369,
          0.01417453,
          0.008983858,
          0.013087688,
          0.013811976,
          0.013589472
         ]
        },
        {
         "boxpoints": "outliers",
         "fillcolor": "hsl(139.59183673469389,50%,50%)",
         "jitter": 0.5,
         "line": {
          "width": 1
         },
         "marker": {
          "size": 2
         },
         "name": "thunderstorm",
         "type": "box",
         "whiskerwidth": 0.2,
         "y": [
          0.006267776,
          0.0054857787,
          0.0015216055,
          0.011480818,
          0.002035958,
          0.0018550984,
          0.006343933,
          0.00039070385,
          0.00021427654,
          0.0066053052,
          0.008359055
         ]
        },
        {
         "boxpoints": "outliers",
         "fillcolor": "hsl(146.9387755102041,50%,50%)",
         "jitter": 0.5,
         "line": {
          "width": 1
         },
         "marker": {
          "size": 2
         },
         "name": "crying_baby",
         "type": "box",
         "whiskerwidth": 0.2,
         "y": [
          0.015030514,
          0.021864533,
          0.016820762,
          0.014351856,
          0.01698553,
          0.025920244,
          0.0100645665,
          0.014284069,
          0.013174808,
          0.013900941,
          0.015297817
         ]
        },
        {
         "boxpoints": "outliers",
         "fillcolor": "hsl(154.28571428571428,50%,50%)",
         "jitter": 0.5,
         "line": {
          "width": 1
         },
         "marker": {
          "size": 2
         },
         "name": "sneezing",
         "type": "box",
         "whiskerwidth": 0.2,
         "y": [
          8.162765e-07,
          8.162765e-07,
          0.00040241002,
          7.1056234e-06,
          0.015517821,
          8.1627513e-07,
          9.3436574e-07,
          1.0364709e-05,
          0.016577555,
          7.937233e-07,
          8.1627513e-07,
          9.881146e-07,
          8.1627513e-07,
          8.162747e-07
         ]
        },
        {
         "boxpoints": "outliers",
         "fillcolor": "hsl(161.6326530612245,50%,50%)",
         "jitter": 0.5,
         "line": {
          "width": 1
         },
         "marker": {
          "size": 2
         },
         "name": "clapping",
         "type": "box",
         "whiskerwidth": 0.2,
         "y": [
          0.010456558,
          0.012825174,
          0.020772664,
          0.013275489,
          8.162783e-07,
          0.013562502,
          0.0133785,
          0.01366517,
          0.0061442275,
          0.003422994,
          0.012872685
         ]
        },
        {
         "boxpoints": "outliers",
         "fillcolor": "hsl(168.9795918367347,50%,50%)",
         "jitter": 0.5,
         "line": {
          "width": 1
         },
         "marker": {
          "size": 2
         },
         "name": "breathing",
         "type": "box",
         "whiskerwidth": 0.2,
         "y": [
          0.0057149455,
          0.008682577,
          1.1794041e-06,
          8.1627377e-07,
          8.162724e-07,
          0.012264185,
          0.010823964,
          0.012728871,
          0.011266859,
          0.013319818,
          0.006927924,
          0.012470328,
          0.013518009,
          0.014829825,
          0.0019920303,
          0.00095748476
         ]
        },
        {
         "boxpoints": "outliers",
         "fillcolor": "hsl(176.3265306122449,50%,50%)",
         "jitter": 0.5,
         "line": {
          "width": 1
         },
         "marker": {
          "size": 2
         },
         "name": "coughing",
         "type": "box",
         "whiskerwidth": 0.2,
         "y": [
          0.007823134,
          0.008361702,
          0.014883087,
          8.7199776e-05,
          8.1627195e-07,
          8.1627377e-07,
          3.2534049e-06,
          8.1627286e-07,
          8.1627286e-07,
          0.00019115533,
          0.008629226
         ]
        },
        {
         "boxpoints": "outliers",
         "fillcolor": "hsl(183.67346938775512,50%,50%)",
         "jitter": 0.5,
         "line": {
          "width": 1
         },
         "marker": {
          "size": 2
         },
         "name": "footsteps",
         "type": "box",
         "whiskerwidth": 0.2,
         "y": [
          0.012204668,
          0.014052781,
          0.013175156,
          0.013854848,
          0.01329227,
          0.014213665,
          0.014634336,
          0.009834215,
          0.012525054,
          0.011228876,
          0.014096078,
          0.013147429,
          8.162765e-07,
          0.010247281
         ]
        },
        {
         "boxpoints": "outliers",
         "fillcolor": "hsl(191.0204081632653,50%,50%)",
         "jitter": 0.5,
         "line": {
          "width": 1
         },
         "marker": {
          "size": 2
         },
         "name": "laughing",
         "type": "box",
         "whiskerwidth": 0.2,
         "y": [
          0.012970528,
          0.01439158,
          0.011582397,
          0.009082161,
          0.014495479,
          0.012421675,
          0.010858127,
          0.013717491,
          0.0154051725,
          0.0007968387,
          0.01082928,
          0.012151173,
          0.016591389,
          0.017669102,
          0.015461462,
          0.013504938
         ]
        },
        {
         "boxpoints": "outliers",
         "fillcolor": "hsl(198.3673469387755,50%,50%)",
         "jitter": 0.5,
         "line": {
          "width": 1
         },
         "marker": {
          "size": 2
         },
         "name": "brushing_teeth",
         "type": "box",
         "whiskerwidth": 0.2,
         "y": [
          0.014418017,
          0.014242606,
          0.020114029,
          0.01685293,
          0.012693306,
          0.01313283,
          0.01595843,
          0.013505501,
          0.01685711,
          0.0137641365
         ]
        },
        {
         "boxpoints": "outliers",
         "fillcolor": "hsl(205.71428571428572,50%,50%)",
         "jitter": 0.5,
         "line": {
          "width": 1
         },
         "marker": {
          "size": 2
         },
         "name": "snoring",
         "type": "box",
         "whiskerwidth": 0.2,
         "y": [
          0.012291767,
          0.012171684,
          0.0002877213,
          0.014557898,
          5.922052e-07,
          0.012418622,
          0.017472133,
          0.007396934,
          0.004010467,
          0.0006737495
         ]
        },
        {
         "boxpoints": "outliers",
         "fillcolor": "hsl(213.06122448979593,50%,50%)",
         "jitter": 0.5,
         "line": {
          "width": 1
         },
         "marker": {
          "size": 2
         },
         "name": "drinking_sipping",
         "type": "box",
         "whiskerwidth": 0.2,
         "y": [
          0.011182502,
          0.005630376,
          0.01496159,
          0.0108516365,
          0.011741983,
          8.1627195e-07,
          8.1627513e-07,
          1.2176361e-05,
          0.004169598,
          0.00021963543,
          0.013087549,
          0.011600718,
          0.014032776,
          0.008790966
         ]
        },
        {
         "boxpoints": "outliers",
         "fillcolor": "hsl(220.40816326530611,50%,50%)",
         "jitter": 0.5,
         "line": {
          "width": 1
         },
         "marker": {
          "size": 2
         },
         "name": "door_wood_knock",
         "type": "box",
         "whiskerwidth": 0.2,
         "y": [
          8.162742e-07,
          0.015581305,
          8.446143e-06,
          0.0047314377,
          0.00454949,
          0.0039805262,
          2.0035104e-06,
          8.180773e-07,
          0.0010603828,
          8.1627695e-07,
          0.0022037001
         ]
        },
        {
         "boxpoints": "outliers",
         "fillcolor": "hsl(227.75510204081633,50%,50%)",
         "jitter": 0.5,
         "line": {
          "width": 1
         },
         "marker": {
          "size": 2
         },
         "name": "mouse_click",
         "type": "box",
         "whiskerwidth": 0.2,
         "y": [
          0.0060819634,
          0.012293546,
          1.2955379e-06,
          0.00023248214,
          7.4891295e-07,
          0.00010711318,
          0.0069235223,
          0.00036216082,
          0.0148325665,
          8.1627286e-07,
          0.009556362,
          0.0076767886,
          0.0102203395,
          0.011029692,
          0.008186688
         ]
        },
        {
         "boxpoints": "outliers",
         "fillcolor": "hsl(235.10204081632654,50%,50%)",
         "jitter": 0.5,
         "line": {
          "width": 1
         },
         "marker": {
          "size": 2
         },
         "name": "keyboard_typing",
         "type": "box",
         "whiskerwidth": 0.2,
         "y": [
          0.003803302,
          0.008801293,
          0.011532091,
          0.016354444,
          0.0014548645,
          0.002019235,
          0.007552798,
          0.005890041,
          0.00110174,
          0.014686137,
          0.008576691,
          0.010175783,
          0.012793412,
          0.017777685,
          0.008575341
         ]
        },
        {
         "boxpoints": "outliers",
         "fillcolor": "hsl(242.44897959183675,50%,50%)",
         "jitter": 0.5,
         "line": {
          "width": 1
         },
         "marker": {
          "size": 2
         },
         "name": "door_wood_creaks",
         "type": "box",
         "whiskerwidth": 0.2,
         "y": [
          0.020638192,
          0.01192599,
          0.00015504163,
          0.017606994,
          0.013221701,
          0.0006202868,
          0.013856413,
          0.014249806,
          0.01571776,
          0.0080084,
          0.011711007,
          0.010223124,
          0.01760719,
          5.8890422e-05,
          0.0155682415
         ]
        },
        {
         "boxpoints": "outliers",
         "fillcolor": "hsl(249.79591836734696,50%,50%)",
         "jitter": 0.5,
         "line": {
          "width": 1
         },
         "marker": {
          "size": 2
         },
         "name": "can_opening",
         "type": "box",
         "whiskerwidth": 0.2,
         "y": [
          0.013076797,
          8.162733e-07,
          8.1627513e-07,
          8.1627286e-07,
          8.1627104e-07,
          0.011987259,
          0.010392876,
          0.011701373,
          0.0018924859,
          0.011640793,
          8.1627513e-07
         ]
        },
        {
         "boxpoints": "outliers",
         "fillcolor": "hsl(257.14285714285717,50%,50%)",
         "jitter": 0.5,
         "line": {
          "width": 1
         },
         "marker": {
          "size": 2
         },
         "name": "washing_machine",
         "type": "box",
         "whiskerwidth": 0.2,
         "y": [
          0.01307018,
          1.0510012e-06,
          0.012677921,
          0.0148065975,
          0.011287059,
          0.013070183,
          0.01278281,
          0.013290329
         ]
        },
        {
         "boxpoints": "outliers",
         "fillcolor": "hsl(264.48979591836735,50%,50%)",
         "jitter": 0.5,
         "line": {
          "width": 1
         },
         "marker": {
          "size": 2
         },
         "name": "vacuum_cleaner",
         "type": "box",
         "whiskerwidth": 0.2,
         "y": [
          0.012963861,
          0.012269233,
          0.012624431,
          0.013365963,
          0.013364457
         ]
        },
        {
         "boxpoints": "outliers",
         "fillcolor": "hsl(271.83673469387753,50%,50%)",
         "jitter": 0.5,
         "line": {
          "width": 1
         },
         "marker": {
          "size": 2
         },
         "name": "clock_alarm",
         "type": "box",
         "whiskerwidth": 0.2,
         "y": [
          8.351262e-06,
          0.007513761,
          0.0007148201,
          0.022222115,
          0.017450362,
          0.008927405,
          0.015141543
         ]
        },
        {
         "boxpoints": "outliers",
         "fillcolor": "hsl(279.18367346938777,50%,50%)",
         "jitter": 0.5,
         "line": {
          "width": 1
         },
         "marker": {
          "size": 2
         },
         "name": "clock_tick",
         "type": "box",
         "whiskerwidth": 0.2,
         "y": [
          0.012525224,
          0.0006098684,
          0.0071207485,
          0.006764967,
          3.4036922e-05,
          0.0023428916,
          0.0041164556,
          0.0044992953,
          0.006543021,
          0.0051344708,
          0.0063251453,
          0.006861282,
          0.012336476,
          0.007152403,
          0.0067753196,
          0.0026119573,
          3.0386242e-05
         ]
        },
        {
         "boxpoints": "outliers",
         "fillcolor": "hsl(286.53061224489795,50%,50%)",
         "jitter": 0.5,
         "line": {
          "width": 1
         },
         "marker": {
          "size": 2
         },
         "name": "glass_breaking",
         "type": "box",
         "whiskerwidth": 0.2,
         "y": [
          0.015478244,
          1.1987968e-06,
          0.0073813507,
          8.162742e-07,
          0.007980685,
          0.012093635,
          8.1627695e-07,
          8.1627377e-07,
          8.1627604e-07,
          8.1627286e-07,
          8.162742e-07,
          8.593129e-07,
          8.162756e-07,
          8.162747e-07,
          8.1627513e-07
         ]
        },
        {
         "boxpoints": "outliers",
         "fillcolor": "hsl(293.8775510204082,50%,50%)",
         "jitter": 0.5,
         "line": {
          "width": 1
         },
         "marker": {
          "size": 2
         },
         "name": "helicopter",
         "type": "box",
         "whiskerwidth": 0.2,
         "y": [
          0.014582213,
          0.014282782,
          0.0025040957,
          0.00419023,
          0.011519365,
          0.012528938,
          0.00943522,
          0.010038231,
          8.162742e-07,
          0.004697933,
          0.011093469,
          0.012429141,
          1.929638e-06,
          0.008510295,
          0.015644591,
          0.013223141
         ]
        },
        {
         "boxpoints": "outliers",
         "fillcolor": "hsl(301.2244897959184,50%,50%)",
         "jitter": 0.5,
         "line": {
          "width": 1
         },
         "marker": {
          "size": 2
         },
         "name": "chainsaw",
         "type": "box",
         "whiskerwidth": 0.2,
         "y": [
          0.014634539,
          0.018258026,
          0.012961037,
          0.01347062,
          0.012729469,
          0.0123759955,
          0.014106901,
          0.013665929,
          0.012725222,
          0.005598204,
          0.012927683,
          0.013238529,
          0.014031795
         ]
        },
        {
         "boxpoints": "outliers",
         "fillcolor": "hsl(308.57142857142856,50%,50%)",
         "jitter": 0.5,
         "line": {
          "width": 1
         },
         "marker": {
          "size": 2
         },
         "name": "siren",
         "type": "box",
         "whiskerwidth": 0.2,
         "y": [
          0.012358848,
          0.014040402,
          0.01456444,
          0.011964949,
          0.009046555,
          0.017595768,
          0.014116638,
          0.006941611,
          0.010030236
         ]
        },
        {
         "boxpoints": "outliers",
         "fillcolor": "hsl(315.9183673469388,50%,50%)",
         "jitter": 0.5,
         "line": {
          "width": 1
         },
         "marker": {
          "size": 2
         },
         "name": "car_horn",
         "type": "box",
         "whiskerwidth": 0.2,
         "y": [
          8.212337e-07,
          0.012182346,
          0.0153810335,
          0.013125124,
          8.1627286e-07,
          0.021193905,
          8.162733e-07,
          0.011181465,
          0.01244719,
          0.0024904017,
          0.012184648,
          0.012241805,
          0.013485029
         ]
        },
        {
         "boxpoints": "outliers",
         "fillcolor": "hsl(323.265306122449,50%,50%)",
         "jitter": 0.5,
         "line": {
          "width": 1
         },
         "marker": {
          "size": 2
         },
         "name": "engine",
         "type": "box",
         "whiskerwidth": 0.2,
         "y": [
          0.0065688733,
          8.162733e-07,
          0.015029281,
          0.009324214,
          0.012289211,
          0.021278817,
          0.015607537,
          0.016969258,
          0.015807288,
          0.013354843
         ]
        },
        {
         "boxpoints": "outliers",
         "fillcolor": "hsl(330.6122448979592,50%,50%)",
         "jitter": 0.5,
         "line": {
          "width": 1
         },
         "marker": {
          "size": 2
         },
         "name": "train",
         "type": "box",
         "whiskerwidth": 0.2,
         "y": [
          0.013943409,
          0.013182459,
          0.012790432,
          0.0116643505,
          0.012930554,
          0.010715351,
          0.012772368,
          0.014706124,
          0.010329088,
          0.011670401,
          0.012446764
         ]
        },
        {
         "boxpoints": "outliers",
         "fillcolor": "hsl(337.9591836734694,50%,50%)",
         "jitter": 0.5,
         "line": {
          "width": 1
         },
         "marker": {
          "size": 2
         },
         "name": "church_bells",
         "type": "box",
         "whiskerwidth": 0.2,
         "y": [
          0.011959147,
          0.0058486317,
          0.006616956,
          0.0045404765,
          0.01012064,
          0.011429703,
          0.010603048,
          0.0076785674,
          0.01085079,
          2.6868653e-05,
          0.01034119,
          0.012677335,
          0.011975011
         ]
        },
        {
         "boxpoints": "outliers",
         "fillcolor": "hsl(345.3061224489796,50%,50%)",
         "jitter": 0.5,
         "line": {
          "width": 1
         },
         "marker": {
          "size": 2
         },
         "name": "airplane",
         "type": "box",
         "whiskerwidth": 0.2,
         "y": [
          0.01279535,
          0.010258783,
          0.0010340109,
          0.0044896123,
          0.01146308,
          4.0246446e-06,
          4.2957704e-06,
          0.008526653,
          0.010629326,
          0.0111493785,
          0.011159862,
          8.0438236e-05
         ]
        },
        {
         "boxpoints": "outliers",
         "fillcolor": "hsl(352.6530612244898,50%,50%)",
         "jitter": 0.5,
         "line": {
          "width": 1
         },
         "marker": {
          "size": 2
         },
         "name": "fireworks",
         "type": "box",
         "whiskerwidth": 0.2,
         "y": [
          0.006748912,
          0.0031050474,
          0.0003249111,
          1.3216363e-06,
          0.0010182783,
          0.004367652,
          0.011166908,
          0.0025239273,
          0.009289815
         ]
        },
        {
         "boxpoints": "outliers",
         "fillcolor": "hsl(360.0,50%,50%)",
         "jitter": 0.5,
         "line": {
          "width": 1
         },
         "marker": {
          "size": 2
         },
         "name": "hand_saw",
         "type": "box",
         "whiskerwidth": 0.2,
         "y": [
          0.015108251,
          0.016125495,
          0.013693389,
          0.015969748,
          0.014106108,
          0.013759831,
          0.013688754,
          0.014735876,
          0.014077913,
          0.015309374,
          0.0171941,
          0.014717983,
          0.015841523,
          0.015380763
         ]
        }
       ],
       "layout": {
        "margin": {
         "b": 80,
         "l": 40,
         "r": 30,
         "t": 100
        },
        "paper_bgcolor": "rgb(243, 243, 243)",
        "plot_bgcolor": "rgb(243, 243, 243)",
        "showlegend": false,
        "template": {
         "data": {
          "bar": [
           {
            "error_x": {
             "color": "#2a3f5f"
            },
            "error_y": {
             "color": "#2a3f5f"
            },
            "marker": {
             "line": {
              "color": "#E5ECF6",
              "width": 0.5
             }
            },
            "type": "bar"
           }
          ],
          "barpolar": [
           {
            "marker": {
             "line": {
              "color": "#E5ECF6",
              "width": 0.5
             }
            },
            "type": "barpolar"
           }
          ],
          "carpet": [
           {
            "aaxis": {
             "endlinecolor": "#2a3f5f",
             "gridcolor": "white",
             "linecolor": "white",
             "minorgridcolor": "white",
             "startlinecolor": "#2a3f5f"
            },
            "baxis": {
             "endlinecolor": "#2a3f5f",
             "gridcolor": "white",
             "linecolor": "white",
             "minorgridcolor": "white",
             "startlinecolor": "#2a3f5f"
            },
            "type": "carpet"
           }
          ],
          "choropleth": [
           {
            "colorbar": {
             "outlinewidth": 0,
             "ticks": ""
            },
            "type": "choropleth"
           }
          ],
          "contour": [
           {
            "colorbar": {
             "outlinewidth": 0,
             "ticks": ""
            },
            "colorscale": [
             [
              0,
              "#0d0887"
             ],
             [
              0.1111111111111111,
              "#46039f"
             ],
             [
              0.2222222222222222,
              "#7201a8"
             ],
             [
              0.3333333333333333,
              "#9c179e"
             ],
             [
              0.4444444444444444,
              "#bd3786"
             ],
             [
              0.5555555555555556,
              "#d8576b"
             ],
             [
              0.6666666666666666,
              "#ed7953"
             ],
             [
              0.7777777777777778,
              "#fb9f3a"
             ],
             [
              0.8888888888888888,
              "#fdca26"
             ],
             [
              1,
              "#f0f921"
             ]
            ],
            "type": "contour"
           }
          ],
          "contourcarpet": [
           {
            "colorbar": {
             "outlinewidth": 0,
             "ticks": ""
            },
            "type": "contourcarpet"
           }
          ],
          "heatmap": [
           {
            "colorbar": {
             "outlinewidth": 0,
             "ticks": ""
            },
            "colorscale": [
             [
              0,
              "#0d0887"
             ],
             [
              0.1111111111111111,
              "#46039f"
             ],
             [
              0.2222222222222222,
              "#7201a8"
             ],
             [
              0.3333333333333333,
              "#9c179e"
             ],
             [
              0.4444444444444444,
              "#bd3786"
             ],
             [
              0.5555555555555556,
              "#d8576b"
             ],
             [
              0.6666666666666666,
              "#ed7953"
             ],
             [
              0.7777777777777778,
              "#fb9f3a"
             ],
             [
              0.8888888888888888,
              "#fdca26"
             ],
             [
              1,
              "#f0f921"
             ]
            ],
            "type": "heatmap"
           }
          ],
          "heatmapgl": [
           {
            "colorbar": {
             "outlinewidth": 0,
             "ticks": ""
            },
            "colorscale": [
             [
              0,
              "#0d0887"
             ],
             [
              0.1111111111111111,
              "#46039f"
             ],
             [
              0.2222222222222222,
              "#7201a8"
             ],
             [
              0.3333333333333333,
              "#9c179e"
             ],
             [
              0.4444444444444444,
              "#bd3786"
             ],
             [
              0.5555555555555556,
              "#d8576b"
             ],
             [
              0.6666666666666666,
              "#ed7953"
             ],
             [
              0.7777777777777778,
              "#fb9f3a"
             ],
             [
              0.8888888888888888,
              "#fdca26"
             ],
             [
              1,
              "#f0f921"
             ]
            ],
            "type": "heatmapgl"
           }
          ],
          "histogram": [
           {
            "marker": {
             "colorbar": {
              "outlinewidth": 0,
              "ticks": ""
             }
            },
            "type": "histogram"
           }
          ],
          "histogram2d": [
           {
            "colorbar": {
             "outlinewidth": 0,
             "ticks": ""
            },
            "colorscale": [
             [
              0,
              "#0d0887"
             ],
             [
              0.1111111111111111,
              "#46039f"
             ],
             [
              0.2222222222222222,
              "#7201a8"
             ],
             [
              0.3333333333333333,
              "#9c179e"
             ],
             [
              0.4444444444444444,
              "#bd3786"
             ],
             [
              0.5555555555555556,
              "#d8576b"
             ],
             [
              0.6666666666666666,
              "#ed7953"
             ],
             [
              0.7777777777777778,
              "#fb9f3a"
             ],
             [
              0.8888888888888888,
              "#fdca26"
             ],
             [
              1,
              "#f0f921"
             ]
            ],
            "type": "histogram2d"
           }
          ],
          "histogram2dcontour": [
           {
            "colorbar": {
             "outlinewidth": 0,
             "ticks": ""
            },
            "colorscale": [
             [
              0,
              "#0d0887"
             ],
             [
              0.1111111111111111,
              "#46039f"
             ],
             [
              0.2222222222222222,
              "#7201a8"
             ],
             [
              0.3333333333333333,
              "#9c179e"
             ],
             [
              0.4444444444444444,
              "#bd3786"
             ],
             [
              0.5555555555555556,
              "#d8576b"
             ],
             [
              0.6666666666666666,
              "#ed7953"
             ],
             [
              0.7777777777777778,
              "#fb9f3a"
             ],
             [
              0.8888888888888888,
              "#fdca26"
             ],
             [
              1,
              "#f0f921"
             ]
            ],
            "type": "histogram2dcontour"
           }
          ],
          "mesh3d": [
           {
            "colorbar": {
             "outlinewidth": 0,
             "ticks": ""
            },
            "type": "mesh3d"
           }
          ],
          "parcoords": [
           {
            "line": {
             "colorbar": {
              "outlinewidth": 0,
              "ticks": ""
             }
            },
            "type": "parcoords"
           }
          ],
          "pie": [
           {
            "automargin": true,
            "type": "pie"
           }
          ],
          "scatter": [
           {
            "marker": {
             "colorbar": {
              "outlinewidth": 0,
              "ticks": ""
             }
            },
            "type": "scatter"
           }
          ],
          "scatter3d": [
           {
            "line": {
             "colorbar": {
              "outlinewidth": 0,
              "ticks": ""
             }
            },
            "marker": {
             "colorbar": {
              "outlinewidth": 0,
              "ticks": ""
             }
            },
            "type": "scatter3d"
           }
          ],
          "scattercarpet": [
           {
            "marker": {
             "colorbar": {
              "outlinewidth": 0,
              "ticks": ""
             }
            },
            "type": "scattercarpet"
           }
          ],
          "scattergeo": [
           {
            "marker": {
             "colorbar": {
              "outlinewidth": 0,
              "ticks": ""
             }
            },
            "type": "scattergeo"
           }
          ],
          "scattergl": [
           {
            "marker": {
             "colorbar": {
              "outlinewidth": 0,
              "ticks": ""
             }
            },
            "type": "scattergl"
           }
          ],
          "scattermapbox": [
           {
            "marker": {
             "colorbar": {
              "outlinewidth": 0,
              "ticks": ""
             }
            },
            "type": "scattermapbox"
           }
          ],
          "scatterpolar": [
           {
            "marker": {
             "colorbar": {
              "outlinewidth": 0,
              "ticks": ""
             }
            },
            "type": "scatterpolar"
           }
          ],
          "scatterpolargl": [
           {
            "marker": {
             "colorbar": {
              "outlinewidth": 0,
              "ticks": ""
             }
            },
            "type": "scatterpolargl"
           }
          ],
          "scatterternary": [
           {
            "marker": {
             "colorbar": {
              "outlinewidth": 0,
              "ticks": ""
             }
            },
            "type": "scatterternary"
           }
          ],
          "surface": [
           {
            "colorbar": {
             "outlinewidth": 0,
             "ticks": ""
            },
            "colorscale": [
             [
              0,
              "#0d0887"
             ],
             [
              0.1111111111111111,
              "#46039f"
             ],
             [
              0.2222222222222222,
              "#7201a8"
             ],
             [
              0.3333333333333333,
              "#9c179e"
             ],
             [
              0.4444444444444444,
              "#bd3786"
             ],
             [
              0.5555555555555556,
              "#d8576b"
             ],
             [
              0.6666666666666666,
              "#ed7953"
             ],
             [
              0.7777777777777778,
              "#fb9f3a"
             ],
             [
              0.8888888888888888,
              "#fdca26"
             ],
             [
              1,
              "#f0f921"
             ]
            ],
            "type": "surface"
           }
          ],
          "table": [
           {
            "cells": {
             "fill": {
              "color": "#EBF0F8"
             },
             "line": {
              "color": "white"
             }
            },
            "header": {
             "fill": {
              "color": "#C8D4E3"
             },
             "line": {
              "color": "white"
             }
            },
            "type": "table"
           }
          ]
         },
         "layout": {
          "annotationdefaults": {
           "arrowcolor": "#2a3f5f",
           "arrowhead": 0,
           "arrowwidth": 1
          },
          "coloraxis": {
           "colorbar": {
            "outlinewidth": 0,
            "ticks": ""
           }
          },
          "colorscale": {
           "diverging": [
            [
             0,
             "#8e0152"
            ],
            [
             0.1,
             "#c51b7d"
            ],
            [
             0.2,
             "#de77ae"
            ],
            [
             0.3,
             "#f1b6da"
            ],
            [
             0.4,
             "#fde0ef"
            ],
            [
             0.5,
             "#f7f7f7"
            ],
            [
             0.6,
             "#e6f5d0"
            ],
            [
             0.7,
             "#b8e186"
            ],
            [
             0.8,
             "#7fbc41"
            ],
            [
             0.9,
             "#4d9221"
            ],
            [
             1,
             "#276419"
            ]
           ],
           "sequential": [
            [
             0,
             "#0d0887"
            ],
            [
             0.1111111111111111,
             "#46039f"
            ],
            [
             0.2222222222222222,
             "#7201a8"
            ],
            [
             0.3333333333333333,
             "#9c179e"
            ],
            [
             0.4444444444444444,
             "#bd3786"
            ],
            [
             0.5555555555555556,
             "#d8576b"
            ],
            [
             0.6666666666666666,
             "#ed7953"
            ],
            [
             0.7777777777777778,
             "#fb9f3a"
            ],
            [
             0.8888888888888888,
             "#fdca26"
            ],
            [
             1,
             "#f0f921"
            ]
           ],
           "sequentialminus": [
            [
             0,
             "#0d0887"
            ],
            [
             0.1111111111111111,
             "#46039f"
            ],
            [
             0.2222222222222222,
             "#7201a8"
            ],
            [
             0.3333333333333333,
             "#9c179e"
            ],
            [
             0.4444444444444444,
             "#bd3786"
            ],
            [
             0.5555555555555556,
             "#d8576b"
            ],
            [
             0.6666666666666666,
             "#ed7953"
            ],
            [
             0.7777777777777778,
             "#fb9f3a"
            ],
            [
             0.8888888888888888,
             "#fdca26"
            ],
            [
             1,
             "#f0f921"
            ]
           ]
          },
          "colorway": [
           "#636efa",
           "#EF553B",
           "#00cc96",
           "#ab63fa",
           "#FFA15A",
           "#19d3f3",
           "#FF6692",
           "#B6E880",
           "#FF97FF",
           "#FECB52"
          ],
          "font": {
           "color": "#2a3f5f"
          },
          "geo": {
           "bgcolor": "white",
           "lakecolor": "white",
           "landcolor": "#E5ECF6",
           "showlakes": true,
           "showland": true,
           "subunitcolor": "white"
          },
          "hoverlabel": {
           "align": "left"
          },
          "hovermode": "closest",
          "mapbox": {
           "style": "light"
          },
          "paper_bgcolor": "white",
          "plot_bgcolor": "#E5ECF6",
          "polar": {
           "angularaxis": {
            "gridcolor": "white",
            "linecolor": "white",
            "ticks": ""
           },
           "bgcolor": "#E5ECF6",
           "radialaxis": {
            "gridcolor": "white",
            "linecolor": "white",
            "ticks": ""
           }
          },
          "scene": {
           "xaxis": {
            "backgroundcolor": "#E5ECF6",
            "gridcolor": "white",
            "gridwidth": 2,
            "linecolor": "white",
            "showbackground": true,
            "ticks": "",
            "zerolinecolor": "white"
           },
           "yaxis": {
            "backgroundcolor": "#E5ECF6",
            "gridcolor": "white",
            "gridwidth": 2,
            "linecolor": "white",
            "showbackground": true,
            "ticks": "",
            "zerolinecolor": "white"
           },
           "zaxis": {
            "backgroundcolor": "#E5ECF6",
            "gridcolor": "white",
            "gridwidth": 2,
            "linecolor": "white",
            "showbackground": true,
            "ticks": "",
            "zerolinecolor": "white"
           }
          },
          "shapedefaults": {
           "line": {
            "color": "#2a3f5f"
           }
          },
          "ternary": {
           "aaxis": {
            "gridcolor": "white",
            "linecolor": "white",
            "ticks": ""
           },
           "baxis": {
            "gridcolor": "white",
            "linecolor": "white",
            "ticks": ""
           },
           "bgcolor": "#E5ECF6",
           "caxis": {
            "gridcolor": "white",
            "linecolor": "white",
            "ticks": ""
           }
          },
          "title": {
           "x": 0.05
          },
          "xaxis": {
           "automargin": true,
           "gridcolor": "white",
           "linecolor": "white",
           "ticks": "",
           "title": {
            "standoff": 15
           },
           "zerolinecolor": "white",
           "zerolinewidth": 2
          },
          "yaxis": {
           "automargin": true,
           "gridcolor": "white",
           "linecolor": "white",
           "ticks": "",
           "title": {
            "standoff": 15
           },
           "zerolinecolor": "white",
           "zerolinewidth": 2
          }
         }
        },
        "title": {
         "text": "Mean-l1 loss on Esc-50 test data"
        },
        "yaxis": {
         "autorange": true,
         "dtick": 5,
         "gridcolor": "rgb(255, 255, 255)",
         "gridwidth": 1,
         "showgrid": true,
         "zeroline": true,
         "zerolinecolor": "rgb(255, 255, 255)",
         "zerolinewidth": 2
        }
       }
      },
      "text/html": [
       "<div>                            <div id=\"ad7f2ee8-5fb8-483e-ab41-c331f39c3ec0\" class=\"plotly-graph-div\" style=\"height:525px; width:100%;\"></div>            <script type=\"text/javascript\">                require([\"plotly\"], function(Plotly) {                    window.PLOTLYENV=window.PLOTLYENV || {};                                    if (document.getElementById(\"ad7f2ee8-5fb8-483e-ab41-c331f39c3ec0\")) {                    Plotly.newPlot(                        \"ad7f2ee8-5fb8-483e-ab41-c331f39c3ec0\",                        [{\"boxpoints\": \"outliers\", \"fillcolor\": \"hsl(0.0,50%,50%)\", \"jitter\": 0.5, \"line\": {\"width\": 1}, \"marker\": {\"size\": 2}, \"name\": \"dog\", \"type\": \"box\", \"whiskerwidth\": 0.2, \"y\": [0.0064245705, 0.0033346356, 0.0047537764, 0.020071296, 0.01659973, 8.1627604e-07, 0.0076527977, 0.007851947, 0.009265197, 0.011011861]}, {\"boxpoints\": \"outliers\", \"fillcolor\": \"hsl(7.346938775510204,50%,50%)\", \"jitter\": 0.5, \"line\": {\"width\": 1}, \"marker\": {\"size\": 2}, \"name\": \"rooster\", \"type\": \"box\", \"whiskerwidth\": 0.2, \"y\": [8.162715e-07, 0.010931686, 0.009527192, 2.579352e-06, 0.013795293, 0.01960781, 0.0022106562, 0.0113936085, 0.005202623, 0.00018346205]}, {\"boxpoints\": \"outliers\", \"fillcolor\": \"hsl(14.693877551020408,50%,50%)\", \"jitter\": 0.5, \"line\": {\"width\": 1}, \"marker\": {\"size\": 2}, \"name\": \"pig\", \"type\": \"box\", \"whiskerwidth\": 0.2, \"y\": [0.013110839, 0.012068396, 0.013803527, 0.014106583, 0.014039881, 0.014704479, 0.01985508, 0.006903335, 0.0063950205, 0.016696049, 0.0140954135, 8.1627013e-07]}, {\"boxpoints\": \"outliers\", \"fillcolor\": \"hsl(22.040816326530614,50%,50%)\", \"jitter\": 0.5, \"line\": {\"width\": 1}, \"marker\": {\"size\": 2}, \"name\": \"cow\", \"type\": \"box\", \"whiskerwidth\": 0.2, \"y\": [0.00091672386, 8.162724e-07, 1.2949754e-06, 7.934295e-06, 8.162756e-07, 8.162742e-07, 0.012443895, 0.0075241514, 0.012738287, 0.01094146, 0.01176311, 0.010095586, 0.0110093765, 0.014148445, 0.013996058]}, {\"boxpoints\": \"outliers\", \"fillcolor\": \"hsl(29.387755102040817,50%,50%)\", \"jitter\": 0.5, \"line\": {\"width\": 1}, \"marker\": {\"size\": 2}, \"name\": \"frog\", \"type\": \"box\", \"whiskerwidth\": 0.2, \"y\": [0.012793736, 0.016273744, 0.010035902, 0.010659179, 0.013529443, 0.011955367, 0.01275805, 0.0025566544, 0.0042699366, 0.0044491985, 0.0016268785, 0.012038682, 0.0006476981]}, {\"boxpoints\": \"outliers\", \"fillcolor\": \"hsl(36.734693877551024,50%,50%)\", \"jitter\": 0.5, \"line\": {\"width\": 1}, \"marker\": {\"size\": 2}, \"name\": \"cat\", \"type\": \"box\", \"whiskerwidth\": 0.2, \"y\": [0.012000773, 0.0074747163, 0.006679482, 0.0071120537, 0.014431472, 8.162742e-07, 0.009943429, 0.007671757, 0.010946888, 0.009912885, 0.012144817, 0.01755601, 0.013069976, 0.0036612595, 8.1627604e-07]}, {\"boxpoints\": \"outliers\", \"fillcolor\": \"hsl(44.08163265306123,50%,50%)\", \"jitter\": 0.5, \"line\": {\"width\": 1}, \"marker\": {\"size\": 2}, \"name\": \"hen\", \"type\": \"box\", \"whiskerwidth\": 0.2, \"y\": [0.014598415, 0.012339784, 0.012822255, 0.012393242, 0.0101357475, 0.01233466, 0.0138947815, 0.012555083, 2.1043734e-05, 0.012843007, 0.014047714, 0.014514239, 0.014599673]}, {\"boxpoints\": \"outliers\", \"fillcolor\": \"hsl(51.42857142857143,50%,50%)\", \"jitter\": 0.5, \"line\": {\"width\": 1}, \"marker\": {\"size\": 2}, \"name\": \"insects\", \"type\": \"box\", \"whiskerwidth\": 0.2, \"y\": [0.011972921, 0.0133486865, 0.012295728, 0.0072086873, 0.011999058, 0.011816025, 0.015681058, 0.012831161, 0.013089038, 0.013199913, 0.01242253]}, {\"boxpoints\": \"outliers\", \"fillcolor\": \"hsl(58.775510204081634,50%,50%)\", \"jitter\": 0.5, \"line\": {\"width\": 1}, \"marker\": {\"size\": 2}, \"name\": \"sheep\", \"type\": \"box\", \"whiskerwidth\": 0.2, \"y\": [0.0077530583, 0.012326108, 0.012314716, 0.015906507, 0.011583836, 0.012668813, 0.014378341, 0.013012437, 0.0010325608, 0.01222675, 0.012013597]}, {\"boxpoints\": \"outliers\", \"fillcolor\": \"hsl(66.12244897959184,50%,50%)\", \"jitter\": 0.5, \"line\": {\"width\": 1}, \"marker\": {\"size\": 2}, \"name\": \"crow\", \"type\": \"box\", \"whiskerwidth\": 0.2, \"y\": [0.005247902, 0.00011501656, 0.012419902, 0.012165039, 0.0121654775, 0.011595016, 0.011200443, 0.0123053035, 0.012180554]}, {\"boxpoints\": \"outliers\", \"fillcolor\": \"hsl(73.46938775510205,50%,50%)\", \"jitter\": 0.5, \"line\": {\"width\": 1}, \"marker\": {\"size\": 2}, \"name\": \"rain\", \"type\": \"box\", \"whiskerwidth\": 0.2, \"y\": [0.013583323, 0.012294673, 0.013233802, 0.013372486, 0.013482353, 0.015732218, 0.012098504, 0.0126732625, 0.013540948, 0.013291293, 0.013159512, 0.013518291, 0.01318229, 0.01345417, 0.013213928, 0.013382754, 0.013321352, 0.016825974, 0.013726342]}, {\"boxpoints\": \"outliers\", \"fillcolor\": \"hsl(80.81632653061224,50%,50%)\", \"jitter\": 0.5, \"line\": {\"width\": 1}, \"marker\": {\"size\": 2}, \"name\": \"sea_waves\", \"type\": \"box\", \"whiskerwidth\": 0.2, \"y\": [0.012888471, 0.012924131, 0.0125408545, 0.0130226035, 0.013324088, 0.014012009, 0.01346156, 0.012811931, 0.012720842, 0.0018077156, 0.01323348, 0.012968563, 0.012466278, 0.012621932]}, {\"boxpoints\": \"outliers\", \"fillcolor\": \"hsl(88.16326530612245,50%,50%)\", \"jitter\": 0.5, \"line\": {\"width\": 1}, \"marker\": {\"size\": 2}, \"name\": \"crackling_fire\", \"type\": \"box\", \"whiskerwidth\": 0.2, \"y\": [0.01372127, 0.009272531, 0.012576221, 0.014281452, 0.013310008, 0.016517518, 0.01178435, 0.013356896, 0.015489707, 0.014981941, 0.012594274, 0.012529427]}, {\"boxpoints\": \"outliers\", \"fillcolor\": \"hsl(95.51020408163265,50%,50%)\", \"jitter\": 0.5, \"line\": {\"width\": 1}, \"marker\": {\"size\": 2}, \"name\": \"crickets\", \"type\": \"box\", \"whiskerwidth\": 0.2, \"y\": [0.012051295, 0.014652861, 0.012279626, 0.026606437, 0.0030638746, 1.6119366e-06, 0.013806542, 0.013838567, 0.016357359, 0.012968515, 0.009113255, 0.009786953, 0.012094004, 0.01182313]}, {\"boxpoints\": \"outliers\", \"fillcolor\": \"hsl(102.85714285714286,50%,50%)\", \"jitter\": 0.5, \"line\": {\"width\": 1}, \"marker\": {\"size\": 2}, \"name\": \"chirping_birds\", \"type\": \"box\", \"whiskerwidth\": 0.2, \"y\": [0.012143352, 0.0024496403, 0.012687048, 0.012370251, 0.0057474347, 0.006306448, 0.0064953794]}, {\"boxpoints\": \"outliers\", \"fillcolor\": \"hsl(110.20408163265306,50%,50%)\", \"jitter\": 0.5, \"line\": {\"width\": 1}, \"marker\": {\"size\": 2}, \"name\": \"water_drops\", \"type\": \"box\", \"whiskerwidth\": 0.2, \"y\": [0.009491406, 0.009479061, 0.0011272571, 0.009367121, 0.0021275245, 0.0015940589, 0.01235579]}, {\"boxpoints\": \"outliers\", \"fillcolor\": \"hsl(117.55102040816327,50%,50%)\", \"jitter\": 0.5, \"line\": {\"width\": 1}, \"marker\": {\"size\": 2}, \"name\": \"wind\", \"type\": \"box\", \"whiskerwidth\": 0.2, \"y\": [0.012620003, 0.01274818, 0.013147648, 0.011230561, 0.011858521, 0.00952191, 0.011976362]}, {\"boxpoints\": \"outliers\", \"fillcolor\": \"hsl(124.89795918367348,50%,50%)\", \"jitter\": 0.5, \"line\": {\"width\": 1}, \"marker\": {\"size\": 2}, \"name\": \"pouring_water\", \"type\": \"box\", \"whiskerwidth\": 0.2, \"y\": [0.017373266, 0.017016768, 0.0141746905, 0.01404735, 0.016923003, 0.013946688, 0.012640795, 0.019795831]}, {\"boxpoints\": \"outliers\", \"fillcolor\": \"hsl(132.24489795918367,50%,50%)\", \"jitter\": 0.5, \"line\": {\"width\": 1}, \"marker\": {\"size\": 2}, \"name\": \"toilet_flush\", \"type\": \"box\", \"whiskerwidth\": 0.2, \"y\": [0.01433696, 0.01359319, 0.012852798, 0.015092466, 0.014242129, 0.013522023, 0.01230466, 0.013576233, 0.0135702565, 0.012618648, 0.009709369, 0.01417453, 0.008983858, 0.013087688, 0.013811976, 0.013589472]}, {\"boxpoints\": \"outliers\", \"fillcolor\": \"hsl(139.59183673469389,50%,50%)\", \"jitter\": 0.5, \"line\": {\"width\": 1}, \"marker\": {\"size\": 2}, \"name\": \"thunderstorm\", \"type\": \"box\", \"whiskerwidth\": 0.2, \"y\": [0.006267776, 0.0054857787, 0.0015216055, 0.011480818, 0.002035958, 0.0018550984, 0.006343933, 0.00039070385, 0.00021427654, 0.0066053052, 0.008359055]}, {\"boxpoints\": \"outliers\", \"fillcolor\": \"hsl(146.9387755102041,50%,50%)\", \"jitter\": 0.5, \"line\": {\"width\": 1}, \"marker\": {\"size\": 2}, \"name\": \"crying_baby\", \"type\": \"box\", \"whiskerwidth\": 0.2, \"y\": [0.015030514, 0.021864533, 0.016820762, 0.014351856, 0.01698553, 0.025920244, 0.0100645665, 0.014284069, 0.013174808, 0.013900941, 0.015297817]}, {\"boxpoints\": \"outliers\", \"fillcolor\": \"hsl(154.28571428571428,50%,50%)\", \"jitter\": 0.5, \"line\": {\"width\": 1}, \"marker\": {\"size\": 2}, \"name\": \"sneezing\", \"type\": \"box\", \"whiskerwidth\": 0.2, \"y\": [8.162765e-07, 8.162765e-07, 0.00040241002, 7.1056234e-06, 0.015517821, 8.1627513e-07, 9.3436574e-07, 1.0364709e-05, 0.016577555, 7.937233e-07, 8.1627513e-07, 9.881146e-07, 8.1627513e-07, 8.162747e-07]}, {\"boxpoints\": \"outliers\", \"fillcolor\": \"hsl(161.6326530612245,50%,50%)\", \"jitter\": 0.5, \"line\": {\"width\": 1}, \"marker\": {\"size\": 2}, \"name\": \"clapping\", \"type\": \"box\", \"whiskerwidth\": 0.2, \"y\": [0.010456558, 0.012825174, 0.020772664, 0.013275489, 8.162783e-07, 0.013562502, 0.0133785, 0.01366517, 0.0061442275, 0.003422994, 0.012872685]}, {\"boxpoints\": \"outliers\", \"fillcolor\": \"hsl(168.9795918367347,50%,50%)\", \"jitter\": 0.5, \"line\": {\"width\": 1}, \"marker\": {\"size\": 2}, \"name\": \"breathing\", \"type\": \"box\", \"whiskerwidth\": 0.2, \"y\": [0.0057149455, 0.008682577, 1.1794041e-06, 8.1627377e-07, 8.162724e-07, 0.012264185, 0.010823964, 0.012728871, 0.011266859, 0.013319818, 0.006927924, 0.012470328, 0.013518009, 0.014829825, 0.0019920303, 0.00095748476]}, {\"boxpoints\": \"outliers\", \"fillcolor\": \"hsl(176.3265306122449,50%,50%)\", \"jitter\": 0.5, \"line\": {\"width\": 1}, \"marker\": {\"size\": 2}, \"name\": \"coughing\", \"type\": \"box\", \"whiskerwidth\": 0.2, \"y\": [0.007823134, 0.008361702, 0.014883087, 8.7199776e-05, 8.1627195e-07, 8.1627377e-07, 3.2534049e-06, 8.1627286e-07, 8.1627286e-07, 0.00019115533, 0.008629226]}, {\"boxpoints\": \"outliers\", \"fillcolor\": \"hsl(183.67346938775512,50%,50%)\", \"jitter\": 0.5, \"line\": {\"width\": 1}, \"marker\": {\"size\": 2}, \"name\": \"footsteps\", \"type\": \"box\", \"whiskerwidth\": 0.2, \"y\": [0.012204668, 0.014052781, 0.013175156, 0.013854848, 0.01329227, 0.014213665, 0.014634336, 0.009834215, 0.012525054, 0.011228876, 0.014096078, 0.013147429, 8.162765e-07, 0.010247281]}, {\"boxpoints\": \"outliers\", \"fillcolor\": \"hsl(191.0204081632653,50%,50%)\", \"jitter\": 0.5, \"line\": {\"width\": 1}, \"marker\": {\"size\": 2}, \"name\": \"laughing\", \"type\": \"box\", \"whiskerwidth\": 0.2, \"y\": [0.012970528, 0.01439158, 0.011582397, 0.009082161, 0.014495479, 0.012421675, 0.010858127, 0.013717491, 0.0154051725, 0.0007968387, 0.01082928, 0.012151173, 0.016591389, 0.017669102, 0.015461462, 0.013504938]}, {\"boxpoints\": \"outliers\", \"fillcolor\": \"hsl(198.3673469387755,50%,50%)\", \"jitter\": 0.5, \"line\": {\"width\": 1}, \"marker\": {\"size\": 2}, \"name\": \"brushing_teeth\", \"type\": \"box\", \"whiskerwidth\": 0.2, \"y\": [0.014418017, 0.014242606, 0.020114029, 0.01685293, 0.012693306, 0.01313283, 0.01595843, 0.013505501, 0.01685711, 0.0137641365]}, {\"boxpoints\": \"outliers\", \"fillcolor\": \"hsl(205.71428571428572,50%,50%)\", \"jitter\": 0.5, \"line\": {\"width\": 1}, \"marker\": {\"size\": 2}, \"name\": \"snoring\", \"type\": \"box\", \"whiskerwidth\": 0.2, \"y\": [0.012291767, 0.012171684, 0.0002877213, 0.014557898, 5.922052e-07, 0.012418622, 0.017472133, 0.007396934, 0.004010467, 0.0006737495]}, {\"boxpoints\": \"outliers\", \"fillcolor\": \"hsl(213.06122448979593,50%,50%)\", \"jitter\": 0.5, \"line\": {\"width\": 1}, \"marker\": {\"size\": 2}, \"name\": \"drinking_sipping\", \"type\": \"box\", \"whiskerwidth\": 0.2, \"y\": [0.011182502, 0.005630376, 0.01496159, 0.0108516365, 0.011741983, 8.1627195e-07, 8.1627513e-07, 1.2176361e-05, 0.004169598, 0.00021963543, 0.013087549, 0.011600718, 0.014032776, 0.008790966]}, {\"boxpoints\": \"outliers\", \"fillcolor\": \"hsl(220.40816326530611,50%,50%)\", \"jitter\": 0.5, \"line\": {\"width\": 1}, \"marker\": {\"size\": 2}, \"name\": \"door_wood_knock\", \"type\": \"box\", \"whiskerwidth\": 0.2, \"y\": [8.162742e-07, 0.015581305, 8.446143e-06, 0.0047314377, 0.00454949, 0.0039805262, 2.0035104e-06, 8.180773e-07, 0.0010603828, 8.1627695e-07, 0.0022037001]}, {\"boxpoints\": \"outliers\", \"fillcolor\": \"hsl(227.75510204081633,50%,50%)\", \"jitter\": 0.5, \"line\": {\"width\": 1}, \"marker\": {\"size\": 2}, \"name\": \"mouse_click\", \"type\": \"box\", \"whiskerwidth\": 0.2, \"y\": [0.0060819634, 0.012293546, 1.2955379e-06, 0.00023248214, 7.4891295e-07, 0.00010711318, 0.0069235223, 0.00036216082, 0.0148325665, 8.1627286e-07, 0.009556362, 0.0076767886, 0.0102203395, 0.011029692, 0.008186688]}, {\"boxpoints\": \"outliers\", \"fillcolor\": \"hsl(235.10204081632654,50%,50%)\", \"jitter\": 0.5, \"line\": {\"width\": 1}, \"marker\": {\"size\": 2}, \"name\": \"keyboard_typing\", \"type\": \"box\", \"whiskerwidth\": 0.2, \"y\": [0.003803302, 0.008801293, 0.011532091, 0.016354444, 0.0014548645, 0.002019235, 0.007552798, 0.005890041, 0.00110174, 0.014686137, 0.008576691, 0.010175783, 0.012793412, 0.017777685, 0.008575341]}, {\"boxpoints\": \"outliers\", \"fillcolor\": \"hsl(242.44897959183675,50%,50%)\", \"jitter\": 0.5, \"line\": {\"width\": 1}, \"marker\": {\"size\": 2}, \"name\": \"door_wood_creaks\", \"type\": \"box\", \"whiskerwidth\": 0.2, \"y\": [0.020638192, 0.01192599, 0.00015504163, 0.017606994, 0.013221701, 0.0006202868, 0.013856413, 0.014249806, 0.01571776, 0.0080084, 0.011711007, 0.010223124, 0.01760719, 5.8890422e-05, 0.0155682415]}, {\"boxpoints\": \"outliers\", \"fillcolor\": \"hsl(249.79591836734696,50%,50%)\", \"jitter\": 0.5, \"line\": {\"width\": 1}, \"marker\": {\"size\": 2}, \"name\": \"can_opening\", \"type\": \"box\", \"whiskerwidth\": 0.2, \"y\": [0.013076797, 8.162733e-07, 8.1627513e-07, 8.1627286e-07, 8.1627104e-07, 0.011987259, 0.010392876, 0.011701373, 0.0018924859, 0.011640793, 8.1627513e-07]}, {\"boxpoints\": \"outliers\", \"fillcolor\": \"hsl(257.14285714285717,50%,50%)\", \"jitter\": 0.5, \"line\": {\"width\": 1}, \"marker\": {\"size\": 2}, \"name\": \"washing_machine\", \"type\": \"box\", \"whiskerwidth\": 0.2, \"y\": [0.01307018, 1.0510012e-06, 0.012677921, 0.0148065975, 0.011287059, 0.013070183, 0.01278281, 0.013290329]}, {\"boxpoints\": \"outliers\", \"fillcolor\": \"hsl(264.48979591836735,50%,50%)\", \"jitter\": 0.5, \"line\": {\"width\": 1}, \"marker\": {\"size\": 2}, \"name\": \"vacuum_cleaner\", \"type\": \"box\", \"whiskerwidth\": 0.2, \"y\": [0.012963861, 0.012269233, 0.012624431, 0.013365963, 0.013364457]}, {\"boxpoints\": \"outliers\", \"fillcolor\": \"hsl(271.83673469387753,50%,50%)\", \"jitter\": 0.5, \"line\": {\"width\": 1}, \"marker\": {\"size\": 2}, \"name\": \"clock_alarm\", \"type\": \"box\", \"whiskerwidth\": 0.2, \"y\": [8.351262e-06, 0.007513761, 0.0007148201, 0.022222115, 0.017450362, 0.008927405, 0.015141543]}, {\"boxpoints\": \"outliers\", \"fillcolor\": \"hsl(279.18367346938777,50%,50%)\", \"jitter\": 0.5, \"line\": {\"width\": 1}, \"marker\": {\"size\": 2}, \"name\": \"clock_tick\", \"type\": \"box\", \"whiskerwidth\": 0.2, \"y\": [0.012525224, 0.0006098684, 0.0071207485, 0.006764967, 3.4036922e-05, 0.0023428916, 0.0041164556, 0.0044992953, 0.006543021, 0.0051344708, 0.0063251453, 0.006861282, 0.012336476, 0.007152403, 0.0067753196, 0.0026119573, 3.0386242e-05]}, {\"boxpoints\": \"outliers\", \"fillcolor\": \"hsl(286.53061224489795,50%,50%)\", \"jitter\": 0.5, \"line\": {\"width\": 1}, \"marker\": {\"size\": 2}, \"name\": \"glass_breaking\", \"type\": \"box\", \"whiskerwidth\": 0.2, \"y\": [0.015478244, 1.1987968e-06, 0.0073813507, 8.162742e-07, 0.007980685, 0.012093635, 8.1627695e-07, 8.1627377e-07, 8.1627604e-07, 8.1627286e-07, 8.162742e-07, 8.593129e-07, 8.162756e-07, 8.162747e-07, 8.1627513e-07]}, {\"boxpoints\": \"outliers\", \"fillcolor\": \"hsl(293.8775510204082,50%,50%)\", \"jitter\": 0.5, \"line\": {\"width\": 1}, \"marker\": {\"size\": 2}, \"name\": \"helicopter\", \"type\": \"box\", \"whiskerwidth\": 0.2, \"y\": [0.014582213, 0.014282782, 0.0025040957, 0.00419023, 0.011519365, 0.012528938, 0.00943522, 0.010038231, 8.162742e-07, 0.004697933, 0.011093469, 0.012429141, 1.929638e-06, 0.008510295, 0.015644591, 0.013223141]}, {\"boxpoints\": \"outliers\", \"fillcolor\": \"hsl(301.2244897959184,50%,50%)\", \"jitter\": 0.5, \"line\": {\"width\": 1}, \"marker\": {\"size\": 2}, \"name\": \"chainsaw\", \"type\": \"box\", \"whiskerwidth\": 0.2, \"y\": [0.014634539, 0.018258026, 0.012961037, 0.01347062, 0.012729469, 0.0123759955, 0.014106901, 0.013665929, 0.012725222, 0.005598204, 0.012927683, 0.013238529, 0.014031795]}, {\"boxpoints\": \"outliers\", \"fillcolor\": \"hsl(308.57142857142856,50%,50%)\", \"jitter\": 0.5, \"line\": {\"width\": 1}, \"marker\": {\"size\": 2}, \"name\": \"siren\", \"type\": \"box\", \"whiskerwidth\": 0.2, \"y\": [0.012358848, 0.014040402, 0.01456444, 0.011964949, 0.009046555, 0.017595768, 0.014116638, 0.006941611, 0.010030236]}, {\"boxpoints\": \"outliers\", \"fillcolor\": \"hsl(315.9183673469388,50%,50%)\", \"jitter\": 0.5, \"line\": {\"width\": 1}, \"marker\": {\"size\": 2}, \"name\": \"car_horn\", \"type\": \"box\", \"whiskerwidth\": 0.2, \"y\": [8.212337e-07, 0.012182346, 0.0153810335, 0.013125124, 8.1627286e-07, 0.021193905, 8.162733e-07, 0.011181465, 0.01244719, 0.0024904017, 0.012184648, 0.012241805, 0.013485029]}, {\"boxpoints\": \"outliers\", \"fillcolor\": \"hsl(323.265306122449,50%,50%)\", \"jitter\": 0.5, \"line\": {\"width\": 1}, \"marker\": {\"size\": 2}, \"name\": \"engine\", \"type\": \"box\", \"whiskerwidth\": 0.2, \"y\": [0.0065688733, 8.162733e-07, 0.015029281, 0.009324214, 0.012289211, 0.021278817, 0.015607537, 0.016969258, 0.015807288, 0.013354843]}, {\"boxpoints\": \"outliers\", \"fillcolor\": \"hsl(330.6122448979592,50%,50%)\", \"jitter\": 0.5, \"line\": {\"width\": 1}, \"marker\": {\"size\": 2}, \"name\": \"train\", \"type\": \"box\", \"whiskerwidth\": 0.2, \"y\": [0.013943409, 0.013182459, 0.012790432, 0.0116643505, 0.012930554, 0.010715351, 0.012772368, 0.014706124, 0.010329088, 0.011670401, 0.012446764]}, {\"boxpoints\": \"outliers\", \"fillcolor\": \"hsl(337.9591836734694,50%,50%)\", \"jitter\": 0.5, \"line\": {\"width\": 1}, \"marker\": {\"size\": 2}, \"name\": \"church_bells\", \"type\": \"box\", \"whiskerwidth\": 0.2, \"y\": [0.011959147, 0.0058486317, 0.006616956, 0.0045404765, 0.01012064, 0.011429703, 0.010603048, 0.0076785674, 0.01085079, 2.6868653e-05, 0.01034119, 0.012677335, 0.011975011]}, {\"boxpoints\": \"outliers\", \"fillcolor\": \"hsl(345.3061224489796,50%,50%)\", \"jitter\": 0.5, \"line\": {\"width\": 1}, \"marker\": {\"size\": 2}, \"name\": \"airplane\", \"type\": \"box\", \"whiskerwidth\": 0.2, \"y\": [0.01279535, 0.010258783, 0.0010340109, 0.0044896123, 0.01146308, 4.0246446e-06, 4.2957704e-06, 0.008526653, 0.010629326, 0.0111493785, 0.011159862, 8.0438236e-05]}, {\"boxpoints\": \"outliers\", \"fillcolor\": \"hsl(352.6530612244898,50%,50%)\", \"jitter\": 0.5, \"line\": {\"width\": 1}, \"marker\": {\"size\": 2}, \"name\": \"fireworks\", \"type\": \"box\", \"whiskerwidth\": 0.2, \"y\": [0.006748912, 0.0031050474, 0.0003249111, 1.3216363e-06, 0.0010182783, 0.004367652, 0.011166908, 0.0025239273, 0.009289815]}, {\"boxpoints\": \"outliers\", \"fillcolor\": \"hsl(360.0,50%,50%)\", \"jitter\": 0.5, \"line\": {\"width\": 1}, \"marker\": {\"size\": 2}, \"name\": \"hand_saw\", \"type\": \"box\", \"whiskerwidth\": 0.2, \"y\": [0.015108251, 0.016125495, 0.013693389, 0.015969748, 0.014106108, 0.013759831, 0.013688754, 0.014735876, 0.014077913, 0.015309374, 0.0171941, 0.014717983, 0.015841523, 0.015380763]}],                        {\"margin\": {\"b\": 80, \"l\": 40, \"r\": 30, \"t\": 100}, \"paper_bgcolor\": \"rgb(243, 243, 243)\", \"plot_bgcolor\": \"rgb(243, 243, 243)\", \"showlegend\": false, \"template\": {\"data\": {\"bar\": [{\"error_x\": {\"color\": \"#2a3f5f\"}, \"error_y\": {\"color\": \"#2a3f5f\"}, \"marker\": {\"line\": {\"color\": \"#E5ECF6\", \"width\": 0.5}}, \"type\": \"bar\"}], \"barpolar\": [{\"marker\": {\"line\": {\"color\": \"#E5ECF6\", \"width\": 0.5}}, \"type\": \"barpolar\"}], \"carpet\": [{\"aaxis\": {\"endlinecolor\": \"#2a3f5f\", \"gridcolor\": \"white\", \"linecolor\": \"white\", \"minorgridcolor\": \"white\", \"startlinecolor\": \"#2a3f5f\"}, \"baxis\": {\"endlinecolor\": \"#2a3f5f\", \"gridcolor\": \"white\", \"linecolor\": \"white\", \"minorgridcolor\": \"white\", \"startlinecolor\": \"#2a3f5f\"}, \"type\": \"carpet\"}], \"choropleth\": [{\"colorbar\": {\"outlinewidth\": 0, \"ticks\": \"\"}, \"type\": \"choropleth\"}], \"contour\": [{\"colorbar\": {\"outlinewidth\": 0, \"ticks\": \"\"}, \"colorscale\": [[0.0, \"#0d0887\"], [0.1111111111111111, \"#46039f\"], [0.2222222222222222, \"#7201a8\"], [0.3333333333333333, \"#9c179e\"], [0.4444444444444444, \"#bd3786\"], [0.5555555555555556, \"#d8576b\"], [0.6666666666666666, \"#ed7953\"], [0.7777777777777778, \"#fb9f3a\"], [0.8888888888888888, \"#fdca26\"], [1.0, \"#f0f921\"]], \"type\": \"contour\"}], \"contourcarpet\": [{\"colorbar\": {\"outlinewidth\": 0, \"ticks\": \"\"}, \"type\": \"contourcarpet\"}], \"heatmap\": [{\"colorbar\": {\"outlinewidth\": 0, \"ticks\": \"\"}, \"colorscale\": [[0.0, \"#0d0887\"], [0.1111111111111111, \"#46039f\"], [0.2222222222222222, \"#7201a8\"], [0.3333333333333333, \"#9c179e\"], [0.4444444444444444, \"#bd3786\"], [0.5555555555555556, \"#d8576b\"], [0.6666666666666666, \"#ed7953\"], [0.7777777777777778, \"#fb9f3a\"], [0.8888888888888888, \"#fdca26\"], [1.0, \"#f0f921\"]], \"type\": \"heatmap\"}], \"heatmapgl\": [{\"colorbar\": {\"outlinewidth\": 0, \"ticks\": \"\"}, \"colorscale\": [[0.0, \"#0d0887\"], [0.1111111111111111, \"#46039f\"], [0.2222222222222222, \"#7201a8\"], [0.3333333333333333, \"#9c179e\"], [0.4444444444444444, \"#bd3786\"], [0.5555555555555556, \"#d8576b\"], [0.6666666666666666, \"#ed7953\"], [0.7777777777777778, \"#fb9f3a\"], [0.8888888888888888, \"#fdca26\"], [1.0, \"#f0f921\"]], \"type\": \"heatmapgl\"}], \"histogram\": [{\"marker\": {\"colorbar\": {\"outlinewidth\": 0, \"ticks\": \"\"}}, \"type\": \"histogram\"}], \"histogram2d\": [{\"colorbar\": {\"outlinewidth\": 0, \"ticks\": \"\"}, \"colorscale\": [[0.0, \"#0d0887\"], [0.1111111111111111, \"#46039f\"], [0.2222222222222222, \"#7201a8\"], [0.3333333333333333, \"#9c179e\"], [0.4444444444444444, \"#bd3786\"], [0.5555555555555556, \"#d8576b\"], [0.6666666666666666, \"#ed7953\"], [0.7777777777777778, \"#fb9f3a\"], [0.8888888888888888, \"#fdca26\"], [1.0, \"#f0f921\"]], \"type\": \"histogram2d\"}], \"histogram2dcontour\": [{\"colorbar\": {\"outlinewidth\": 0, \"ticks\": \"\"}, \"colorscale\": [[0.0, \"#0d0887\"], [0.1111111111111111, \"#46039f\"], [0.2222222222222222, \"#7201a8\"], [0.3333333333333333, \"#9c179e\"], [0.4444444444444444, \"#bd3786\"], [0.5555555555555556, \"#d8576b\"], [0.6666666666666666, \"#ed7953\"], [0.7777777777777778, \"#fb9f3a\"], [0.8888888888888888, \"#fdca26\"], [1.0, \"#f0f921\"]], \"type\": \"histogram2dcontour\"}], \"mesh3d\": [{\"colorbar\": {\"outlinewidth\": 0, \"ticks\": \"\"}, \"type\": \"mesh3d\"}], \"parcoords\": [{\"line\": {\"colorbar\": {\"outlinewidth\": 0, \"ticks\": \"\"}}, \"type\": \"parcoords\"}], \"pie\": [{\"automargin\": true, \"type\": \"pie\"}], \"scatter\": [{\"marker\": {\"colorbar\": {\"outlinewidth\": 0, \"ticks\": \"\"}}, \"type\": \"scatter\"}], \"scatter3d\": [{\"line\": {\"colorbar\": {\"outlinewidth\": 0, \"ticks\": \"\"}}, \"marker\": {\"colorbar\": {\"outlinewidth\": 0, \"ticks\": \"\"}}, \"type\": \"scatter3d\"}], \"scattercarpet\": [{\"marker\": {\"colorbar\": {\"outlinewidth\": 0, \"ticks\": \"\"}}, \"type\": \"scattercarpet\"}], \"scattergeo\": [{\"marker\": {\"colorbar\": {\"outlinewidth\": 0, \"ticks\": \"\"}}, \"type\": \"scattergeo\"}], \"scattergl\": [{\"marker\": {\"colorbar\": {\"outlinewidth\": 0, \"ticks\": \"\"}}, \"type\": \"scattergl\"}], \"scattermapbox\": [{\"marker\": {\"colorbar\": {\"outlinewidth\": 0, \"ticks\": \"\"}}, \"type\": \"scattermapbox\"}], \"scatterpolar\": [{\"marker\": {\"colorbar\": {\"outlinewidth\": 0, \"ticks\": \"\"}}, \"type\": \"scatterpolar\"}], \"scatterpolargl\": [{\"marker\": {\"colorbar\": {\"outlinewidth\": 0, \"ticks\": \"\"}}, \"type\": \"scatterpolargl\"}], \"scatterternary\": [{\"marker\": {\"colorbar\": {\"outlinewidth\": 0, \"ticks\": \"\"}}, \"type\": \"scatterternary\"}], \"surface\": [{\"colorbar\": {\"outlinewidth\": 0, \"ticks\": \"\"}, \"colorscale\": [[0.0, \"#0d0887\"], [0.1111111111111111, \"#46039f\"], [0.2222222222222222, \"#7201a8\"], [0.3333333333333333, \"#9c179e\"], [0.4444444444444444, \"#bd3786\"], [0.5555555555555556, \"#d8576b\"], [0.6666666666666666, \"#ed7953\"], [0.7777777777777778, \"#fb9f3a\"], [0.8888888888888888, \"#fdca26\"], [1.0, \"#f0f921\"]], \"type\": \"surface\"}], \"table\": [{\"cells\": {\"fill\": {\"color\": \"#EBF0F8\"}, \"line\": {\"color\": \"white\"}}, \"header\": {\"fill\": {\"color\": \"#C8D4E3\"}, \"line\": {\"color\": \"white\"}}, \"type\": \"table\"}]}, \"layout\": {\"annotationdefaults\": {\"arrowcolor\": \"#2a3f5f\", \"arrowhead\": 0, \"arrowwidth\": 1}, \"coloraxis\": {\"colorbar\": {\"outlinewidth\": 0, \"ticks\": \"\"}}, \"colorscale\": {\"diverging\": [[0, \"#8e0152\"], [0.1, \"#c51b7d\"], [0.2, \"#de77ae\"], [0.3, \"#f1b6da\"], [0.4, \"#fde0ef\"], [0.5, \"#f7f7f7\"], [0.6, \"#e6f5d0\"], [0.7, \"#b8e186\"], [0.8, \"#7fbc41\"], [0.9, \"#4d9221\"], [1, \"#276419\"]], \"sequential\": [[0.0, \"#0d0887\"], [0.1111111111111111, \"#46039f\"], [0.2222222222222222, \"#7201a8\"], [0.3333333333333333, \"#9c179e\"], [0.4444444444444444, \"#bd3786\"], [0.5555555555555556, \"#d8576b\"], [0.6666666666666666, \"#ed7953\"], [0.7777777777777778, \"#fb9f3a\"], [0.8888888888888888, \"#fdca26\"], [1.0, \"#f0f921\"]], \"sequentialminus\": [[0.0, \"#0d0887\"], [0.1111111111111111, \"#46039f\"], [0.2222222222222222, \"#7201a8\"], [0.3333333333333333, \"#9c179e\"], [0.4444444444444444, \"#bd3786\"], [0.5555555555555556, \"#d8576b\"], [0.6666666666666666, \"#ed7953\"], [0.7777777777777778, \"#fb9f3a\"], [0.8888888888888888, \"#fdca26\"], [1.0, \"#f0f921\"]]}, \"colorway\": [\"#636efa\", \"#EF553B\", \"#00cc96\", \"#ab63fa\", \"#FFA15A\", \"#19d3f3\", \"#FF6692\", \"#B6E880\", \"#FF97FF\", \"#FECB52\"], \"font\": {\"color\": \"#2a3f5f\"}, \"geo\": {\"bgcolor\": \"white\", \"lakecolor\": \"white\", \"landcolor\": \"#E5ECF6\", \"showlakes\": true, \"showland\": true, \"subunitcolor\": \"white\"}, \"hoverlabel\": {\"align\": \"left\"}, \"hovermode\": \"closest\", \"mapbox\": {\"style\": \"light\"}, \"paper_bgcolor\": \"white\", \"plot_bgcolor\": \"#E5ECF6\", \"polar\": {\"angularaxis\": {\"gridcolor\": \"white\", \"linecolor\": \"white\", \"ticks\": \"\"}, \"bgcolor\": \"#E5ECF6\", \"radialaxis\": {\"gridcolor\": \"white\", \"linecolor\": \"white\", \"ticks\": \"\"}}, \"scene\": {\"xaxis\": {\"backgroundcolor\": \"#E5ECF6\", \"gridcolor\": \"white\", \"gridwidth\": 2, \"linecolor\": \"white\", \"showbackground\": true, \"ticks\": \"\", \"zerolinecolor\": \"white\"}, \"yaxis\": {\"backgroundcolor\": \"#E5ECF6\", \"gridcolor\": \"white\", \"gridwidth\": 2, \"linecolor\": \"white\", \"showbackground\": true, \"ticks\": \"\", \"zerolinecolor\": \"white\"}, \"zaxis\": {\"backgroundcolor\": \"#E5ECF6\", \"gridcolor\": \"white\", \"gridwidth\": 2, \"linecolor\": \"white\", \"showbackground\": true, \"ticks\": \"\", \"zerolinecolor\": \"white\"}}, \"shapedefaults\": {\"line\": {\"color\": \"#2a3f5f\"}}, \"ternary\": {\"aaxis\": {\"gridcolor\": \"white\", \"linecolor\": \"white\", \"ticks\": \"\"}, \"baxis\": {\"gridcolor\": \"white\", \"linecolor\": \"white\", \"ticks\": \"\"}, \"bgcolor\": \"#E5ECF6\", \"caxis\": {\"gridcolor\": \"white\", \"linecolor\": \"white\", \"ticks\": \"\"}}, \"title\": {\"x\": 0.05}, \"xaxis\": {\"automargin\": true, \"gridcolor\": \"white\", \"linecolor\": \"white\", \"ticks\": \"\", \"title\": {\"standoff\": 15}, \"zerolinecolor\": \"white\", \"zerolinewidth\": 2}, \"yaxis\": {\"automargin\": true, \"gridcolor\": \"white\", \"linecolor\": \"white\", \"ticks\": \"\", \"title\": {\"standoff\": 15}, \"zerolinecolor\": \"white\", \"zerolinewidth\": 2}}}, \"title\": {\"text\": \"Mean-l1 loss on Esc-50 test data\"}, \"yaxis\": {\"autorange\": true, \"dtick\": 5, \"gridcolor\": \"rgb(255, 255, 255)\", \"gridwidth\": 1, \"showgrid\": true, \"zeroline\": true, \"zerolinecolor\": \"rgb(255, 255, 255)\", \"zerolinewidth\": 2}},                        {\"responsive\": true}                    ).then(function(){\n",
       "                            \n",
       "var gd = document.getElementById('ad7f2ee8-5fb8-483e-ab41-c331f39c3ec0');\n",
       "var x = new MutationObserver(function (mutations, observer) {{\n",
       "        var display = window.getComputedStyle(gd).display;\n",
       "        if (!display || display === 'none') {{\n",
       "            console.log([gd, 'removed!']);\n",
       "            Plotly.purge(gd);\n",
       "            observer.disconnect();\n",
       "        }}\n",
       "}});\n",
       "\n",
       "// Listen for the removal of the full notebook cells\n",
       "var notebookContainer = gd.closest('#notebook-container');\n",
       "if (notebookContainer) {{\n",
       "    x.observe(notebookContainer, {childList: true});\n",
       "}}\n",
       "\n",
       "// Listen for the clearing of the current output cell\n",
       "var outputEl = gd.closest('.output');\n",
       "if (outputEl) {{\n",
       "    x.observe(outputEl, {childList: true});\n",
       "}}\n",
       "\n",
       "                        })                };                });            </script>        </div>"
      ]
     },
     "metadata": {},
     "output_type": "display_data"
    }
   ],
   "source": [
    "y_data = loss_trace_list\n",
    "\n",
    "colors = ['hsl('+str(h)+',50%'+',50%)' for h in np.linspace(0, 360, N)]\n",
    "\n",
    "fig = plgo.Figure()\n",
    "for xd, yd, cls in zip(x_data, y_data, colors):\n",
    "    fig.add_trace(plgo.Box(\n",
    "        y=yd,\n",
    "        name=xd,\n",
    "        boxpoints='outliers', # False, 'all', 'suspectedoutliers', 'outliers'\n",
    "        jitter=0.5,\n",
    "        whiskerwidth=0.2,\n",
    "        fillcolor=cls,\n",
    "        marker_size=2,\n",
    "        line_width=1)\n",
    "    )\n",
    "fig.update_layout(\n",
    "    title='Mean-l1 loss on Esc-50 test data',\n",
    "    yaxis=dict(\n",
    "        autorange=True,\n",
    "        showgrid=True,\n",
    "        zeroline=True,\n",
    "        dtick=5,\n",
    "        gridcolor='rgb(255, 255, 255)',\n",
    "        gridwidth=1,\n",
    "        zerolinecolor='rgb(255, 255, 255)',\n",
    "        zerolinewidth=2,\n",
    "    ),\n",
    "    margin=dict(\n",
    "        l=40,\n",
    "        r=30,\n",
    "        b=80,\n",
    "        t=100,\n",
    "    ),\n",
    "    paper_bgcolor='rgb(243, 243, 243)',\n",
    "    plot_bgcolor='rgb(243, 243, 243)',\n",
    "    showlegend=False\n",
    ")\n",
    "\n",
    "fig.show()"
   ]
  },
  {
   "cell_type": "code",
   "execution_count": null,
   "metadata": {},
   "outputs": [],
   "source": []
  }
 ],
 "metadata": {
  "kernelspec": {
   "display_name": "Python 3",
   "language": "python",
   "name": "python3"
  },
  "language_info": {
   "codemirror_mode": {
    "name": "ipython",
    "version": 3
   },
   "file_extension": ".py",
   "mimetype": "text/x-python",
   "name": "python",
   "nbconvert_exporter": "python",
   "pygments_lexer": "ipython3",
   "version": "3.6.10"
  }
 },
 "nbformat": 4,
 "nbformat_minor": 2
}
